{
 "cells": [
  {
   "cell_type": "markdown",
   "metadata": {
    "collapsed": true
   },
   "source": [
    "# Tutorial 5 - Bayesian Knowledge Tracing (BKT) and Variants \n",
    "\n",
    "This tutorial is partially based on the pyBKT model tutorial and the Jupyter notebooks available on GitHub at [https://github.com/CAHLR/pyBKT](https://github.com/CAHLR/pyBKT). "
   ]
  },
  {
   "cell_type": "markdown",
   "metadata": {},
   "source": [
    "One notable application of machine learning in education is represented **knowledge inference models**, which aim to understand how well a student is learning concepts or skills. Being able to monitor this knowledge makes it possible to improve and personalize online learning platforms or intelligent tutoring systems, by focusing on areas the student is weak in and accelerating learning of certain concepts.\n",
    "\n",
    "In this tutorial, we study a range of popular models for modelling students' knowledge based on **Bayesian Knowledge Tracing (BKT)**. BKT was introduced in 1995 as a means to model students' knowledge as a **latent variable** in online learning environments. Specifically, the environment can maintain an estimate of the **probability that the student has learned a set of skills**, which is statistically equivalent to a 2-node dynamic Bayesian network. \n",
    "\n",
    "For this tutorial, we will rely on a Python implementation of the Bayesian Knowledge Tracing algorithm and more recent variants, estimating student cognitive mastery from problem solving sequences, known under the name of **pyBKT**. This package can be used to define and fit many BKT variants. \n",
    "\n",
    "These variants are derived from a range of papers published in the educational data mining literature and, in this tutorial, we will provide you with the main notions and implementation details needed to investigate BKT models in practice.  \n",
    "\n",
    "**Expected Tasks**\n",
    "\n",
    "- Follow the pyBKT getting started showcase.\n",
    "- Solve a range of exercises on BKT models. \n",
    "\n",
    "**Learning Objectives**\n",
    "\n",
    "- Instantiate and run a pipeline on BKT models. \n",
    "- Conduct fine-grained analyses on specific learning skills. \n",
    "- Understand and experiment with different variants of BKT.\n",
    "- Compare the performance of BKT setups under different evaluation methods. \n",
    "- Inspect the influence of a BKT variant on the internal BKT parameters.\n",
    "\n",
    "More information on the PyBKT is provided in the corresponding [Github repository](https://github.com/CAHLR/pyBKT). "
   ]
  },
  {
   "cell_type": "code",
   "execution_count": 1,
   "metadata": {},
   "outputs": [],
   "source": [
    "# Traditional packages\n",
    "import matplotlib.pyplot as plt\n",
    "import seaborn as sns\n",
    "import pandas as pd\n",
    "import numpy as np\n",
    "import math\n",
    "\n",
    "%matplotlib inline"
   ]
  },
  {
   "cell_type": "markdown",
   "metadata": {},
   "source": [
    "## Introduction\n",
    "---\n",
    "\n",
    "BKT models operationalize the learning of a student as a **Markov process**, building upon the idea that, while students interact with an educational environment, their skill in a given concept improves. To move the theory behind BKT into practice, variables related to forgetting, learning, guessing, slipping, and so on need to be modelled, controlling for instance how fast and how well learning is happening for the student. \n",
    "\n",
    "The BKT model assumes that the student’s knowledge can be estimated by means of standardized questions, which can be answered correctly or incorrectly, on a concept or combination of concepts. BKT also assumes that initially a student may not know about a concept, but their knowledge gets better with learning and practice related to that concept. The following concepts will be \n",
    "\n",
    "- $P_0$ is the initial probability of mastering that concept (skill). \n",
    "- $P_{\\text{F}}$ is the probability that the student forgot something previously learned on the concept (skill). \n",
    "- $P_{\\text{L}}$ is the probability that the student has learned something that was previous not known on the concept (skill). \n",
    "- $P_{\\text{S}}$ is the probability that the student gave a wrong answer even though they had learned the concept (skill).\n",
    "- $P_{\\text{G}}$ is the probability that the student guessed the right answer while not knowing the concept (skill). \n",
    "\n",
    "In this tutorial, we will use a dataset of the student’s responses to questions in a test, along with whether they answered correctly or incorrectly, and we will use a BKT model to find the values of the above probabilities."
   ]
  },
  {
   "cell_type": "markdown",
   "metadata": {},
   "source": [
    "## The ASSISTments data set\n",
    "---\n",
    "\n",
    "ASSISTments is a free tool for assigning and assessing math problems and homework. Teachers can select and assign problem sets. Once they get an assignment, students can complete it at their own pace and with the help of hints, multiple chances, and immediate feedback. Teachers get instant results broken down by individual student or for the whole class. Please, find more information on the platform [here](https://www.commonsense.org/education/website/assistments). \n",
    "\n",
    "In this tutorial, we will play with a simplified version of a dataset collected from the ASSISTments tool, saved on a CSV files with the following columns:  \n",
    "\n",
    "- user_id: The ID of the student doing the problem.\n",
    "- template_id: The ID of the template in ASSISTment (assistments with the same template ID have similar questions).\n",
    "- assistment_id: The ID of the ASSISTment (an assistment consists of one or more problems).\n",
    "- order_id: These IDs are chronological and refer to the id of the original problem log.\n",
    "- problem_id: The ID of the problem.\n",
    "- skill_name: Skill name associated with the problem.\n",
    "- correct: 1 if correct on the first attempt, 0 if incorrect on the first attempt or asked for help.\n",
    "- ms_first_response: The time in milliseconds for the student's first response.\n",
    "- attempt_count: Number of student attempts on this problem.\n",
    "- hint_count: Number of student hints asked by the student on this problem.\n",
    "- hint_total: Number of possible hints to be asked on this problem."
   ]
  },
  {
   "cell_type": "code",
   "execution_count": 2,
   "metadata": {},
   "outputs": [],
   "source": [
    "as_data = pd.read_csv('./Data/as.csv', encoding='latin', low_memory=False)"
   ]
  },
  {
   "cell_type": "code",
   "execution_count": 3,
   "metadata": {},
   "outputs": [
    {
     "data": {
      "text/html": [
       "<div>\n",
       "<style scoped>\n",
       "    .dataframe tbody tr th:only-of-type {\n",
       "        vertical-align: middle;\n",
       "    }\n",
       "\n",
       "    .dataframe tbody tr th {\n",
       "        vertical-align: top;\n",
       "    }\n",
       "\n",
       "    .dataframe thead th {\n",
       "        text-align: right;\n",
       "    }\n",
       "</style>\n",
       "<table border=\"1\" class=\"dataframe\">\n",
       "  <thead>\n",
       "    <tr style=\"text-align: right;\">\n",
       "      <th></th>\n",
       "      <th>user_id</th>\n",
       "      <th>template_id</th>\n",
       "      <th>assistment_id</th>\n",
       "      <th>order_id</th>\n",
       "      <th>problem_id</th>\n",
       "      <th>skill_name</th>\n",
       "      <th>correct</th>\n",
       "      <th>ms_first_response</th>\n",
       "      <th>attempt_count</th>\n",
       "      <th>hint_count</th>\n",
       "      <th>hint_total</th>\n",
       "    </tr>\n",
       "  </thead>\n",
       "  <tbody>\n",
       "    <tr>\n",
       "      <th>0</th>\n",
       "      <td>64525</td>\n",
       "      <td>30799</td>\n",
       "      <td>33139</td>\n",
       "      <td>33022537</td>\n",
       "      <td>51424</td>\n",
       "      <td>Box and Whisker</td>\n",
       "      <td>1</td>\n",
       "      <td>32454</td>\n",
       "      <td>1</td>\n",
       "      <td>0</td>\n",
       "      <td>3</td>\n",
       "    </tr>\n",
       "    <tr>\n",
       "      <th>1</th>\n",
       "      <td>64525</td>\n",
       "      <td>30799</td>\n",
       "      <td>33150</td>\n",
       "      <td>33022709</td>\n",
       "      <td>51435</td>\n",
       "      <td>Box and Whisker</td>\n",
       "      <td>1</td>\n",
       "      <td>4922</td>\n",
       "      <td>1</td>\n",
       "      <td>0</td>\n",
       "      <td>3</td>\n",
       "    </tr>\n",
       "    <tr>\n",
       "      <th>2</th>\n",
       "      <td>70363</td>\n",
       "      <td>30799</td>\n",
       "      <td>33159</td>\n",
       "      <td>35450204</td>\n",
       "      <td>51444</td>\n",
       "      <td>Box and Whisker</td>\n",
       "      <td>0</td>\n",
       "      <td>25390</td>\n",
       "      <td>2</td>\n",
       "      <td>0</td>\n",
       "      <td>3</td>\n",
       "    </tr>\n",
       "    <tr>\n",
       "      <th>3</th>\n",
       "      <td>70363</td>\n",
       "      <td>30059</td>\n",
       "      <td>33110</td>\n",
       "      <td>35450295</td>\n",
       "      <td>51395</td>\n",
       "      <td>Box and Whisker</td>\n",
       "      <td>1</td>\n",
       "      <td>4859</td>\n",
       "      <td>1</td>\n",
       "      <td>0</td>\n",
       "      <td>3</td>\n",
       "    </tr>\n",
       "    <tr>\n",
       "      <th>4</th>\n",
       "      <td>70363</td>\n",
       "      <td>30060</td>\n",
       "      <td>33196</td>\n",
       "      <td>35450311</td>\n",
       "      <td>51481</td>\n",
       "      <td>Box and Whisker</td>\n",
       "      <td>0</td>\n",
       "      <td>19813</td>\n",
       "      <td>14</td>\n",
       "      <td>3</td>\n",
       "      <td>4</td>\n",
       "    </tr>\n",
       "    <tr>\n",
       "      <th>5</th>\n",
       "      <td>70363</td>\n",
       "      <td>30060</td>\n",
       "      <td>33172</td>\n",
       "      <td>35450555</td>\n",
       "      <td>51457</td>\n",
       "      <td>Box and Whisker</td>\n",
       "      <td>1</td>\n",
       "      <td>16031</td>\n",
       "      <td>1</td>\n",
       "      <td>0</td>\n",
       "      <td>4</td>\n",
       "    </tr>\n",
       "    <tr>\n",
       "      <th>6</th>\n",
       "      <td>70363</td>\n",
       "      <td>30060</td>\n",
       "      <td>33174</td>\n",
       "      <td>35450573</td>\n",
       "      <td>51459</td>\n",
       "      <td>Box and Whisker</td>\n",
       "      <td>1</td>\n",
       "      <td>15047</td>\n",
       "      <td>1</td>\n",
       "      <td>0</td>\n",
       "      <td>4</td>\n",
       "    </tr>\n",
       "    <tr>\n",
       "      <th>7</th>\n",
       "      <td>70363</td>\n",
       "      <td>30059</td>\n",
       "      <td>33123</td>\n",
       "      <td>35480603</td>\n",
       "      <td>51408</td>\n",
       "      <td>Box and Whisker</td>\n",
       "      <td>1</td>\n",
       "      <td>10732</td>\n",
       "      <td>1</td>\n",
       "      <td>0</td>\n",
       "      <td>3</td>\n",
       "    </tr>\n",
       "    <tr>\n",
       "      <th>8</th>\n",
       "      <td>70677</td>\n",
       "      <td>30060</td>\n",
       "      <td>33168</td>\n",
       "      <td>33140811</td>\n",
       "      <td>51453</td>\n",
       "      <td>Box and Whisker</td>\n",
       "      <td>1</td>\n",
       "      <td>23241</td>\n",
       "      <td>1</td>\n",
       "      <td>0</td>\n",
       "      <td>4</td>\n",
       "    </tr>\n",
       "    <tr>\n",
       "      <th>9</th>\n",
       "      <td>70677</td>\n",
       "      <td>30059</td>\n",
       "      <td>33112</td>\n",
       "      <td>33140919</td>\n",
       "      <td>51397</td>\n",
       "      <td>Box and Whisker</td>\n",
       "      <td>1</td>\n",
       "      <td>11512</td>\n",
       "      <td>1</td>\n",
       "      <td>0</td>\n",
       "      <td>2</td>\n",
       "    </tr>\n",
       "  </tbody>\n",
       "</table>\n",
       "</div>"
      ],
      "text/plain": [
       "   user_id  template_id  assistment_id  order_id  problem_id       skill_name  \\\n",
       "0    64525        30799          33139  33022537       51424  Box and Whisker   \n",
       "1    64525        30799          33150  33022709       51435  Box and Whisker   \n",
       "2    70363        30799          33159  35450204       51444  Box and Whisker   \n",
       "3    70363        30059          33110  35450295       51395  Box and Whisker   \n",
       "4    70363        30060          33196  35450311       51481  Box and Whisker   \n",
       "5    70363        30060          33172  35450555       51457  Box and Whisker   \n",
       "6    70363        30060          33174  35450573       51459  Box and Whisker   \n",
       "7    70363        30059          33123  35480603       51408  Box and Whisker   \n",
       "8    70677        30060          33168  33140811       51453  Box and Whisker   \n",
       "9    70677        30059          33112  33140919       51397  Box and Whisker   \n",
       "\n",
       "   correct  ms_first_response  attempt_count  hint_count  hint_total  \n",
       "0        1              32454              1           0           3  \n",
       "1        1               4922              1           0           3  \n",
       "2        0              25390              2           0           3  \n",
       "3        1               4859              1           0           3  \n",
       "4        0              19813             14           3           4  \n",
       "5        1              16031              1           0           4  \n",
       "6        1              15047              1           0           4  \n",
       "7        1              10732              1           0           3  \n",
       "8        1              23241              1           0           4  \n",
       "9        1              11512              1           0           2  "
      ]
     },
     "execution_count": 3,
     "metadata": {},
     "output_type": "execute_result"
    }
   ],
   "source": [
    "as_data.head(10)"
   ]
  },
  {
   "cell_type": "markdown",
   "metadata": {},
   "source": [
    "Before delving into the pyBKT description and showcase, we invite you to spend some time to explore the toy dataset presented in this tutorial, e.g., how many students/problems/skills are included, examine the skills in more detail etc. Here, you could therefore add one or more cells to perform your exploration.    "
   ]
  },
  {
   "cell_type": "markdown",
   "metadata": {},
   "source": [
    "## The pyBKT Package\n",
    "---\n",
    "\n",
    "In this tutorial, we use the pyBKT package, a Python implementation of the Bayesian Knowledge Tracing algorithm and variants, estimating student cognitive mastery from problem solving sequences. First, we install the package:"
   ]
  },
  {
   "cell_type": "code",
   "execution_count": 4,
   "metadata": {},
   "outputs": [
    {
     "name": "stdout",
     "output_type": "stream",
     "text": [
      "Requirement already satisfied: pyBKT in c:\\users\\mirko\\dvet\\lib\\site-packages (1.2.1)\n",
      "Requirement already satisfied: pandas in c:\\users\\mirko\\appdata\\local\\programs\\python\\python36\\lib\\site-packages (from pyBKT) (1.1.2)\n",
      "Requirement already satisfied: sklearn in c:\\users\\mirko\\appdata\\local\\programs\\python\\python36\\lib\\site-packages (from pyBKT) (0.0)\n",
      "Requirement already satisfied: numpy in c:\\users\\mirko\\appdata\\local\\programs\\python\\python36\\lib\\site-packages (from pyBKT) (1.19.2)\n",
      "Requirement already satisfied: python-dateutil>=2.7.3 in c:\\users\\mirko\\appdata\\local\\programs\\python\\python36\\lib\\site-packages (from pandas->pyBKT) (2.8.1)\n",
      "Requirement already satisfied: pytz>=2017.2 in c:\\users\\mirko\\appdata\\local\\programs\\python\\python36\\lib\\site-packages (from pandas->pyBKT) (2020.1)\n",
      "Requirement already satisfied: scikit-learn in c:\\users\\mirko\\appdata\\local\\programs\\python\\python36\\lib\\site-packages (from sklearn->pyBKT) (0.23.2)\n",
      "Requirement already satisfied: six>=1.5 in c:\\users\\mirko\\appdata\\local\\programs\\python\\python36\\lib\\site-packages (from python-dateutil>=2.7.3->pandas->pyBKT) (1.15.0)\n",
      "Requirement already satisfied: joblib>=0.11 in c:\\users\\mirko\\appdata\\local\\programs\\python\\python36\\lib\\site-packages (from scikit-learn->sklearn->pyBKT) (0.17.0)\n",
      "Requirement already satisfied: threadpoolctl>=2.0.0 in c:\\users\\mirko\\appdata\\local\\programs\\python\\python36\\lib\\site-packages (from scikit-learn->sklearn->pyBKT) (2.1.0)\n",
      "Requirement already satisfied: scipy>=0.19.1 in c:\\users\\mirko\\appdata\\local\\programs\\python\\python36\\lib\\site-packages (from scikit-learn->sklearn->pyBKT) (1.5.2)\n",
      "Note: you may need to restart the kernel to use updated packages.\n"
     ]
    },
    {
     "name": "stderr",
     "output_type": "stream",
     "text": [
      "You are using pip version 18.1, however version 21.0.1 is available.\n",
      "You should consider upgrading via the 'python -m pip install --upgrade pip' command.\n"
     ]
    }
   ],
   "source": [
    "%pip install pyBKT"
   ]
  },
  {
   "cell_type": "markdown",
   "metadata": {},
   "source": [
    "Then, we can import the core class provided by the package, that is Model."
   ]
  },
  {
   "cell_type": "code",
   "execution_count": 5,
   "metadata": {},
   "outputs": [],
   "source": [
    "from pyBKT.models import Model"
   ]
  },
  {
   "cell_type": "markdown",
   "metadata": {},
   "source": [
    "The first step is to construct a BKT model. To be instantiated, a BKT model requires a series of parameters, whose default value and meaning is provided below (e.g., num_fits, seed, defaults, and any model variant(s) that may be used). Each parameter can be modified during fit/crossvalidation time too.\n",
    "\n",
    "- **Defaults generic parameters**: \n",
    "    - num_fits (5) is the number of initialization fits used for the BKT model.\n",
    "    - defaults (None) is a dictionary that can be used to pass values different than the default ones during initialization.\n",
    "    - parallel (True) indicates whether the computation will use multi-threading.\n",
    "    - skills ('.\\*') is a regular expression used to indicate the skills the BKT model will be run on.  \n",
    "    - seed (random.randint(0, 1e8)) is a seed that can be setup to enable reproducible experiments. \n",
    "    - folds (5) is the number of folds used in case of cross-validation.\n",
    "    - forgets (False) indicates whether the model will consider that the student may give a wrong answer even though they had learned the concept. \n",
    "    \n",
    "- **Defaults additional parameters**:\n",
    "    - order_id ('order_id') is the name of the CSV column for the chronological IDs that refer to the original problem log. \n",
    "    - skill_name ('skill_name') is the name of the CSV column for the skill name associated with the problem.\n",
    "    - correct ('correct') is the name of the CSV column for the correct / incorrect label on the first attempt.\n",
    "    - user_id ('user_id') is the name of the CSV column for the ID of the student doing the problem. \n",
    "    - multilearn ('template_id') is the name of the column for checking whether there is a multi-skill object. \n",
    "    - multiprior ('correct') is the name of the CSV column for mapping multi-prior knowledge.  \n",
    "    - multigs ('template_id') is the name of the CSV column corresponding to the desired guess/slip classes. \n",
    "\n",
    "- **Initializers for learnable parameters**: \n",
    "    - 'prior' (None, no inizialization) is the initial probability of answering the question correct.\n",
    "    - 'learns' (None, no inizialization) is the probability that the student has learned something that was previous not known.\n",
    "    - 'guesses' (None, no inizialization) is the probability that the student guessed the right answer while not knowing the concept. \n",
    "    - 'slips' (None, no inizialization) is the probability that the student gave a wrong answer even though they had learned the concept.\n",
    "    - 'forgets' (None, no inizialization) is the probability that the student forgot something previously learned.\n",
    "    \n",
    "If you have doubts on the meaning of certain parameters, please ask to TAs or move on the next examples (they will help you understand). "
   ]
  },
  {
   "cell_type": "code",
   "execution_count": 6,
   "metadata": {},
   "outputs": [
    {
     "data": {
      "text/plain": [
       "Model(parallel=True, num_fits=5, seed=0, defaults=None)"
      ]
     },
     "execution_count": 6,
     "metadata": {},
     "output_type": "execute_result"
    }
   ],
   "source": [
    "model = Model(seed=0)\n",
    "model"
   ]
  },
  {
   "cell_type": "markdown",
   "metadata": {},
   "source": [
    "The Model class is inspired by scikit-learn and, therefore, provides a range of methods a model can be called with:\n",
    "- The **fit** method fits a BKT model given model and data information. Takes arguments skills, number of initialization fits, default column names (i.e. correct, skill_name), parallelization, and model types.\n",
    "- The **predict** method predicts using the trained BKT model and test data information. Takes test data path or DataFrame as arguments. Returns a dictionary mapping skills to predicted values for those skills. Note that the predicted values are a tuple of (correct_predictions, state_predictions).\n",
    "- The **evaluate** method evaluates a BKT model given model and data information. Takes a metric and data path or DataFrame as arguments. Returns the value of the metric for the given trained model tested on the given data.\n",
    "- The **crossvalidate** method crossvalidates (trains and evaluates) the BKT model. Takes the data, metric, and any arguments that would be passed to the fit function (skills, number of initialization fits, default column names, parallelization, and model types) as arguments. \n",
    "\n",
    "We will show a range of examples for each of the above methods. "
   ]
  },
  {
   "cell_type": "markdown",
   "metadata": {},
   "source": [
    "### Fitting and evaluating a model"
   ]
  },
  {
   "cell_type": "code",
   "execution_count": 7,
   "metadata": {},
   "outputs": [
    {
     "name": "stdout",
     "output_type": "stream",
     "text": [
      "Wall time: 1min 42s\n",
      "Wall time: 1.72 s\n"
     ]
    },
    {
     "data": {
      "text/plain": [
       "0.6430627588907283"
      ]
     },
     "execution_count": 7,
     "metadata": {},
     "output_type": "execute_result"
    }
   ],
   "source": [
    "model = Model(seed=0)\n",
    "%time model.fit(data=as_data, skills='Box and Whisker') \n",
    "%time model.evaluate(data=as_data, metric='auc') "
   ]
  },
  {
   "cell_type": "markdown",
   "metadata": {},
   "source": [
    "First, we have fitted a BKT model on the 'Box and Whisker' skill and, then, evaluate the corresponding **training AUC** (0.64). Note that we have run the BKT fitting process on the full dataset, to understand how well the BKT model can fit the data. Evaluation methods like cross-validation will be presented later in this notebook. Furthermore, the default metric displayed is RMSE, but pyBKT supports AUC ('auc'), RMSE ('rmse'), and accuracy ('accuracy') as metrics. We will also see how to add other metrics. "
   ]
  },
  {
   "cell_type": "markdown",
   "metadata": {},
   "source": [
    "For each skill, you can get the learned parameters for 'prior', 'learns', 'guesses', 'slips', and 'forgets'. Specifically:\n",
    "- **prior** ($P_0)$ the prior probability of \"knowing\".\n",
    "- **forgets** ($P_{\\text{F}})$: the probability of transitioning to the \"not knowing\" state given \"known\".\n",
    "- **learns** ($P_{\\text{L}}$): the probability of transitioning to the \"knowing\" state given \"not known\".\n",
    "- **slips** ($P_{\\text{S}}$): the probability of picking incorrect answer, given \"knowing\" state.\n",
    "- **guesses** ($P_{\\text{G}}$): the probability of guessing correctly, given \"not knowing\" state."
   ]
  },
  {
   "cell_type": "code",
   "execution_count": 8,
   "metadata": {},
   "outputs": [
    {
     "data": {
      "text/plain": [
       "{'Box and Whisker': {'prior': 0.7441515093898561,\n",
       "  'learns': array([0.12762339]),\n",
       "  'guesses': array([0.36123448]),\n",
       "  'slips': array([0.15867963]),\n",
       "  'forgets': array([0.])}}"
      ]
     },
     "execution_count": 8,
     "metadata": {},
     "output_type": "execute_result"
    }
   ],
   "source": [
    "model.coef_"
   ]
  },
  {
   "cell_type": "code",
   "execution_count": 9,
   "metadata": {},
   "outputs": [
    {
     "data": {
      "text/html": [
       "<div>\n",
       "<style scoped>\n",
       "    .dataframe tbody tr th:only-of-type {\n",
       "        vertical-align: middle;\n",
       "    }\n",
       "\n",
       "    .dataframe tbody tr th {\n",
       "        vertical-align: top;\n",
       "    }\n",
       "\n",
       "    .dataframe thead th {\n",
       "        text-align: right;\n",
       "    }\n",
       "</style>\n",
       "<table border=\"1\" class=\"dataframe\">\n",
       "  <thead>\n",
       "    <tr style=\"text-align: right;\">\n",
       "      <th></th>\n",
       "      <th></th>\n",
       "      <th></th>\n",
       "      <th>value</th>\n",
       "    </tr>\n",
       "    <tr>\n",
       "      <th>skill</th>\n",
       "      <th>param</th>\n",
       "      <th>class</th>\n",
       "      <th></th>\n",
       "    </tr>\n",
       "  </thead>\n",
       "  <tbody>\n",
       "    <tr>\n",
       "      <th rowspan=\"5\" valign=\"top\">Box and Whisker</th>\n",
       "      <th>prior</th>\n",
       "      <th>default</th>\n",
       "      <td>0.74415</td>\n",
       "    </tr>\n",
       "    <tr>\n",
       "      <th>learns</th>\n",
       "      <th>default</th>\n",
       "      <td>0.12762</td>\n",
       "    </tr>\n",
       "    <tr>\n",
       "      <th>guesses</th>\n",
       "      <th>default</th>\n",
       "      <td>0.36123</td>\n",
       "    </tr>\n",
       "    <tr>\n",
       "      <th>slips</th>\n",
       "      <th>default</th>\n",
       "      <td>0.15868</td>\n",
       "    </tr>\n",
       "    <tr>\n",
       "      <th>forgets</th>\n",
       "      <th>default</th>\n",
       "      <td>0.00000</td>\n",
       "    </tr>\n",
       "  </tbody>\n",
       "</table>\n",
       "</div>"
      ],
      "text/plain": [
       "                                  value\n",
       "skill           param   class          \n",
       "Box and Whisker prior   default 0.74415\n",
       "                learns  default 0.12762\n",
       "                guesses default 0.36123\n",
       "                slips   default 0.15868\n",
       "                forgets default 0.00000"
      ]
     },
     "execution_count": 9,
     "metadata": {},
     "output_type": "execute_result"
    }
   ],
   "source": [
    "model.params()"
   ]
  },
  {
   "cell_type": "markdown",
   "metadata": {},
   "source": [
    "We could initialize the prior knowledge to $1e-40$ for Box and Whisker, before fitting the model. "
   ]
  },
  {
   "cell_type": "code",
   "execution_count": 14,
   "metadata": {},
   "outputs": [
    {
     "data": {
      "text/plain": [
       "{'Box and Whisker': {'prior': 1e-40}}"
      ]
     },
     "execution_count": 14,
     "metadata": {},
     "output_type": "execute_result"
    }
   ],
   "source": [
    "model = Model(seed=0)\n",
    "\n",
    "model.coef_ = {'Box and Whisker': {'prior': 1e-40}}\n",
    "model.coef_"
   ]
  },
  {
   "cell_type": "markdown",
   "metadata": {},
   "source": [
    "Then, we can fit the model and observe the resulting AUC score. How does it compares to the AUC score of the previous model. "
   ]
  },
  {
   "cell_type": "code",
   "execution_count": 15,
   "metadata": {},
   "outputs": [
    {
     "name": "stdout",
     "output_type": "stream",
     "text": [
      "Wall time: 2min 28s\n",
      "Wall time: 1.58 s\n"
     ]
    },
    {
     "data": {
      "text/plain": [
       "0.6036452501494096"
      ]
     },
     "execution_count": 15,
     "metadata": {},
     "output_type": "execute_result"
    }
   ],
   "source": [
    "%time model.fit(data=as_data, skills='Box and Whisker') \n",
    "%time model.evaluate(data=as_data, metric='auc') "
   ]
  },
  {
   "cell_type": "code",
   "execution_count": 16,
   "metadata": {},
   "outputs": [
    {
     "data": {
      "text/html": [
       "<div>\n",
       "<style scoped>\n",
       "    .dataframe tbody tr th:only-of-type {\n",
       "        vertical-align: middle;\n",
       "    }\n",
       "\n",
       "    .dataframe tbody tr th {\n",
       "        vertical-align: top;\n",
       "    }\n",
       "\n",
       "    .dataframe thead th {\n",
       "        text-align: right;\n",
       "    }\n",
       "</style>\n",
       "<table border=\"1\" class=\"dataframe\">\n",
       "  <thead>\n",
       "    <tr style=\"text-align: right;\">\n",
       "      <th></th>\n",
       "      <th></th>\n",
       "      <th></th>\n",
       "      <th>value</th>\n",
       "    </tr>\n",
       "    <tr>\n",
       "      <th>skill</th>\n",
       "      <th>param</th>\n",
       "      <th>class</th>\n",
       "      <th></th>\n",
       "    </tr>\n",
       "  </thead>\n",
       "  <tbody>\n",
       "    <tr>\n",
       "      <th rowspan=\"5\" valign=\"top\">Box and Whisker</th>\n",
       "      <th>prior</th>\n",
       "      <th>default</th>\n",
       "      <td>0.00000</td>\n",
       "    </tr>\n",
       "    <tr>\n",
       "      <th>learns</th>\n",
       "      <th>default</th>\n",
       "      <td>0.10910</td>\n",
       "    </tr>\n",
       "    <tr>\n",
       "      <th>guesses</th>\n",
       "      <th>default</th>\n",
       "      <td>0.66321</td>\n",
       "    </tr>\n",
       "    <tr>\n",
       "      <th>slips</th>\n",
       "      <th>default</th>\n",
       "      <td>0.08506</td>\n",
       "    </tr>\n",
       "    <tr>\n",
       "      <th>forgets</th>\n",
       "      <th>default</th>\n",
       "      <td>0.00000</td>\n",
       "    </tr>\n",
       "  </tbody>\n",
       "</table>\n",
       "</div>"
      ],
      "text/plain": [
       "                                  value\n",
       "skill           param   class          \n",
       "Box and Whisker prior   default 0.00000\n",
       "                learns  default 0.10910\n",
       "                guesses default 0.66321\n",
       "                slips   default 0.08506\n",
       "                forgets default 0.00000"
      ]
     },
     "execution_count": 16,
     "metadata": {},
     "output_type": "execute_result"
    }
   ],
   "source": [
    "model.params()"
   ]
  },
  {
   "cell_type": "markdown",
   "metadata": {},
   "source": [
    "You can also train simple BKT models on different skills in the data set."
   ]
  },
  {
   "cell_type": "code",
   "execution_count": 17,
   "metadata": {},
   "outputs": [
    {
     "name": "stdout",
     "output_type": "stream",
     "text": [
      "Wall time: 3min 30s\n",
      "Wall time: 1.91 s\n"
     ]
    },
    {
     "data": {
      "text/plain": [
       "0.6930513347315557"
      ]
     },
     "execution_count": 17,
     "metadata": {},
     "output_type": "execute_result"
    }
   ],
   "source": [
    "model = Model(seed=0)\n",
    "%time model.fit(data=as_data, skills=['Box and Whisker', 'Scatter Plot']) \n",
    "%time model.evaluate(data=as_data, metric='auc') "
   ]
  },
  {
   "cell_type": "markdown",
   "metadata": {},
   "source": [
    "And, then, observed the learned parameters for each skill. Note that, when multiple skills are passed to fit, the method will run a fitting procedure for each skill, separately (in this case, we will have two BKT models). "
   ]
  },
  {
   "cell_type": "code",
   "execution_count": 18,
   "metadata": {},
   "outputs": [
    {
     "data": {
      "text/html": [
       "<div>\n",
       "<style scoped>\n",
       "    .dataframe tbody tr th:only-of-type {\n",
       "        vertical-align: middle;\n",
       "    }\n",
       "\n",
       "    .dataframe tbody tr th {\n",
       "        vertical-align: top;\n",
       "    }\n",
       "\n",
       "    .dataframe thead th {\n",
       "        text-align: right;\n",
       "    }\n",
       "</style>\n",
       "<table border=\"1\" class=\"dataframe\">\n",
       "  <thead>\n",
       "    <tr style=\"text-align: right;\">\n",
       "      <th></th>\n",
       "      <th></th>\n",
       "      <th></th>\n",
       "      <th>value</th>\n",
       "    </tr>\n",
       "    <tr>\n",
       "      <th>skill</th>\n",
       "      <th>param</th>\n",
       "      <th>class</th>\n",
       "      <th></th>\n",
       "    </tr>\n",
       "  </thead>\n",
       "  <tbody>\n",
       "    <tr>\n",
       "      <th rowspan=\"5\" valign=\"top\">Scatter Plot</th>\n",
       "      <th>prior</th>\n",
       "      <th>default</th>\n",
       "      <td>0.65911</td>\n",
       "    </tr>\n",
       "    <tr>\n",
       "      <th>learns</th>\n",
       "      <th>default</th>\n",
       "      <td>0.42832</td>\n",
       "    </tr>\n",
       "    <tr>\n",
       "      <th>guesses</th>\n",
       "      <th>default</th>\n",
       "      <td>0.34277</td>\n",
       "    </tr>\n",
       "    <tr>\n",
       "      <th>slips</th>\n",
       "      <th>default</th>\n",
       "      <td>0.05079</td>\n",
       "    </tr>\n",
       "    <tr>\n",
       "      <th>forgets</th>\n",
       "      <th>default</th>\n",
       "      <td>0.00000</td>\n",
       "    </tr>\n",
       "    <tr>\n",
       "      <th rowspan=\"5\" valign=\"top\">Box and Whisker</th>\n",
       "      <th>prior</th>\n",
       "      <th>default</th>\n",
       "      <td>0.74666</td>\n",
       "    </tr>\n",
       "    <tr>\n",
       "      <th>learns</th>\n",
       "      <th>default</th>\n",
       "      <td>0.12658</td>\n",
       "    </tr>\n",
       "    <tr>\n",
       "      <th>guesses</th>\n",
       "      <th>default</th>\n",
       "      <td>0.36067</td>\n",
       "    </tr>\n",
       "    <tr>\n",
       "      <th>slips</th>\n",
       "      <th>default</th>\n",
       "      <td>0.15902</td>\n",
       "    </tr>\n",
       "    <tr>\n",
       "      <th>forgets</th>\n",
       "      <th>default</th>\n",
       "      <td>0.00000</td>\n",
       "    </tr>\n",
       "  </tbody>\n",
       "</table>\n",
       "</div>"
      ],
      "text/plain": [
       "                                  value\n",
       "skill           param   class          \n",
       "Scatter Plot    prior   default 0.65911\n",
       "                learns  default 0.42832\n",
       "                guesses default 0.34277\n",
       "                slips   default 0.05079\n",
       "                forgets default 0.00000\n",
       "Box and Whisker prior   default 0.74666\n",
       "                learns  default 0.12658\n",
       "                guesses default 0.36067\n",
       "                slips   default 0.15902\n",
       "                forgets default 0.00000"
      ]
     },
     "execution_count": 18,
     "metadata": {},
     "output_type": "execute_result"
    }
   ],
   "source": [
    "model.params()"
   ]
  },
  {
   "cell_type": "markdown",
   "metadata": {},
   "source": [
    "You can also enable forgetting, by setting the corresponding parameter in the fit method. "
   ]
  },
  {
   "cell_type": "code",
   "execution_count": 19,
   "metadata": {},
   "outputs": [
    {
     "name": "stdout",
     "output_type": "stream",
     "text": [
      "Wall time: 4min 50s\n",
      "Wall time: 1.32 s\n"
     ]
    },
    {
     "data": {
      "text/plain": [
       "0.6569032375509196"
      ]
     },
     "execution_count": 19,
     "metadata": {},
     "output_type": "execute_result"
    }
   ],
   "source": [
    "model = Model(seed=0)\n",
    "%time model.fit(data=as_data, skills='Box and Whisker', forgets=True) \n",
    "%time model.evaluate(data=as_data, metric='auc') "
   ]
  },
  {
   "cell_type": "code",
   "execution_count": 20,
   "metadata": {},
   "outputs": [
    {
     "data": {
      "text/html": [
       "<div>\n",
       "<style scoped>\n",
       "    .dataframe tbody tr th:only-of-type {\n",
       "        vertical-align: middle;\n",
       "    }\n",
       "\n",
       "    .dataframe tbody tr th {\n",
       "        vertical-align: top;\n",
       "    }\n",
       "\n",
       "    .dataframe thead th {\n",
       "        text-align: right;\n",
       "    }\n",
       "</style>\n",
       "<table border=\"1\" class=\"dataframe\">\n",
       "  <thead>\n",
       "    <tr style=\"text-align: right;\">\n",
       "      <th></th>\n",
       "      <th></th>\n",
       "      <th></th>\n",
       "      <th>value</th>\n",
       "    </tr>\n",
       "    <tr>\n",
       "      <th>skill</th>\n",
       "      <th>param</th>\n",
       "      <th>class</th>\n",
       "      <th></th>\n",
       "    </tr>\n",
       "  </thead>\n",
       "  <tbody>\n",
       "    <tr>\n",
       "      <th rowspan=\"5\" valign=\"top\">Box and Whisker</th>\n",
       "      <th>prior</th>\n",
       "      <th>default</th>\n",
       "      <td>0.70064</td>\n",
       "    </tr>\n",
       "    <tr>\n",
       "      <th>learns</th>\n",
       "      <th>default</th>\n",
       "      <td>0.24296</td>\n",
       "    </tr>\n",
       "    <tr>\n",
       "      <th>guesses</th>\n",
       "      <th>default</th>\n",
       "      <td>0.28348</td>\n",
       "    </tr>\n",
       "    <tr>\n",
       "      <th>slips</th>\n",
       "      <th>default</th>\n",
       "      <td>0.13207</td>\n",
       "    </tr>\n",
       "    <tr>\n",
       "      <th>forgets</th>\n",
       "      <th>default</th>\n",
       "      <td>0.02522</td>\n",
       "    </tr>\n",
       "  </tbody>\n",
       "</table>\n",
       "</div>"
      ],
      "text/plain": [
       "                                  value\n",
       "skill           param   class          \n",
       "Box and Whisker prior   default 0.70064\n",
       "                learns  default 0.24296\n",
       "                guesses default 0.28348\n",
       "                slips   default 0.13207\n",
       "                forgets default 0.02522"
      ]
     },
     "execution_count": 20,
     "metadata": {},
     "output_type": "execute_result"
    }
   ],
   "source": [
    "model.params()"
   ]
  },
  {
   "cell_type": "markdown",
   "metadata": {},
   "source": [
    "Or train a multiguess and slip BKT model on the same skills in the data set. The **multigs** model fits a different guess/slip rate for each class. Note that, with *multigs=True*, the guess and slip classes will be specified by the *template_id*. You can specify a custom column mapping by doing *multigs='column_name'*."
   ]
  },
  {
   "cell_type": "code",
   "execution_count": 21,
   "metadata": {},
   "outputs": [
    {
     "name": "stdout",
     "output_type": "stream",
     "text": [
      "Wall time: 1min 58s\n",
      "Wall time: 1.24 s\n"
     ]
    },
    {
     "data": {
      "text/plain": [
       "0.6984997217890682"
      ]
     },
     "execution_count": 21,
     "metadata": {},
     "output_type": "execute_result"
    }
   ],
   "source": [
    "model = Model(seed=0)\n",
    "%time model.fit(data=as_data, skills=['Box and Whisker'], multigs=True) \n",
    "%time model.evaluate(data=as_data, metric='auc') "
   ]
  },
  {
   "cell_type": "markdown",
   "metadata": {},
   "source": [
    "And finally, we show the BKT paramaters. By enabling *multigs*, the guess and slip classes will be specified by the template_id and, by setting *multigs=True*, the guess and slip classes will be specified by default by the template_id classes. Note that assistments with the same template ID have similar questions. What could you observe by looking at the different learned guesses and slips values below?"
   ]
  },
  {
   "cell_type": "code",
   "execution_count": 22,
   "metadata": {},
   "outputs": [
    {
     "data": {
      "text/html": [
       "<div>\n",
       "<style scoped>\n",
       "    .dataframe tbody tr th:only-of-type {\n",
       "        vertical-align: middle;\n",
       "    }\n",
       "\n",
       "    .dataframe tbody tr th {\n",
       "        vertical-align: top;\n",
       "    }\n",
       "\n",
       "    .dataframe thead th {\n",
       "        text-align: right;\n",
       "    }\n",
       "</style>\n",
       "<table border=\"1\" class=\"dataframe\">\n",
       "  <thead>\n",
       "    <tr style=\"text-align: right;\">\n",
       "      <th></th>\n",
       "      <th></th>\n",
       "      <th></th>\n",
       "      <th>value</th>\n",
       "    </tr>\n",
       "    <tr>\n",
       "      <th>skill</th>\n",
       "      <th>param</th>\n",
       "      <th>class</th>\n",
       "      <th></th>\n",
       "    </tr>\n",
       "  </thead>\n",
       "  <tbody>\n",
       "    <tr>\n",
       "      <th rowspan=\"15\" valign=\"top\">Box and Whisker</th>\n",
       "      <th>prior</th>\n",
       "      <th>default</th>\n",
       "      <td>0.72207</td>\n",
       "    </tr>\n",
       "    <tr>\n",
       "      <th>learns</th>\n",
       "      <th>default</th>\n",
       "      <td>0.15261</td>\n",
       "    </tr>\n",
       "    <tr>\n",
       "      <th rowspan=\"6\" valign=\"top\">guesses</th>\n",
       "      <th>30799</th>\n",
       "      <td>0.07137</td>\n",
       "    </tr>\n",
       "    <tr>\n",
       "      <th>30059</th>\n",
       "      <td>0.44319</td>\n",
       "    </tr>\n",
       "    <tr>\n",
       "      <th>30060</th>\n",
       "      <td>0.45953</td>\n",
       "    </tr>\n",
       "    <tr>\n",
       "      <th>63448</th>\n",
       "      <td>0.58549</td>\n",
       "    </tr>\n",
       "    <tr>\n",
       "      <th>63447</th>\n",
       "      <td>0.11841</td>\n",
       "    </tr>\n",
       "    <tr>\n",
       "      <th>63446</th>\n",
       "      <td>0.46264</td>\n",
       "    </tr>\n",
       "    <tr>\n",
       "      <th rowspan=\"6\" valign=\"top\">slips</th>\n",
       "      <th>30799</th>\n",
       "      <td>0.12486</td>\n",
       "    </tr>\n",
       "    <tr>\n",
       "      <th>30059</th>\n",
       "      <td>0.09015</td>\n",
       "    </tr>\n",
       "    <tr>\n",
       "      <th>30060</th>\n",
       "      <td>0.27001</td>\n",
       "    </tr>\n",
       "    <tr>\n",
       "      <th>63448</th>\n",
       "      <td>0.14707</td>\n",
       "    </tr>\n",
       "    <tr>\n",
       "      <th>63447</th>\n",
       "      <td>0.15892</td>\n",
       "    </tr>\n",
       "    <tr>\n",
       "      <th>63446</th>\n",
       "      <td>0.15082</td>\n",
       "    </tr>\n",
       "    <tr>\n",
       "      <th>forgets</th>\n",
       "      <th>default</th>\n",
       "      <td>0.00000</td>\n",
       "    </tr>\n",
       "  </tbody>\n",
       "</table>\n",
       "</div>"
      ],
      "text/plain": [
       "                                  value\n",
       "skill           param   class          \n",
       "Box and Whisker prior   default 0.72207\n",
       "                learns  default 0.15261\n",
       "                guesses 30799   0.07137\n",
       "                        30059   0.44319\n",
       "                        30060   0.45953\n",
       "                        63448   0.58549\n",
       "                        63447   0.11841\n",
       "                        63446   0.46264\n",
       "                slips   30799   0.12486\n",
       "                        30059   0.09015\n",
       "                        30060   0.27001\n",
       "                        63448   0.14707\n",
       "                        63447   0.15892\n",
       "                        63446   0.15082\n",
       "                forgets default 0.00000"
      ]
     },
     "execution_count": 22,
     "metadata": {},
     "output_type": "execute_result"
    }
   ],
   "source": [
    "model.params()"
   ]
  },
  {
   "cell_type": "markdown",
   "metadata": {},
   "source": [
    "The **multilearn** model fits a different learn rate (and forget rate if enabled) rate for each class specified. Note that, with multilearn=True, the learn classes are specified by the *template_id*. You can specify a custom column mapping by doing *multilearn='column_name'*."
   ]
  },
  {
   "cell_type": "code",
   "execution_count": 23,
   "metadata": {},
   "outputs": [
    {
     "name": "stdout",
     "output_type": "stream",
     "text": [
      "Wall time: 2min 22s\n",
      "Wall time: 1.21 s\n"
     ]
    },
    {
     "data": {
      "text/plain": [
       "0.6434033096796796"
      ]
     },
     "execution_count": 23,
     "metadata": {},
     "output_type": "execute_result"
    }
   ],
   "source": [
    "model = Model(seed=0)\n",
    "%time model.fit(data=as_data, skills=['Box and Whisker'], multilearn=True) \n",
    "%time model.evaluate(data=as_data, metric='auc') "
   ]
  },
  {
   "cell_type": "markdown",
   "metadata": {},
   "source": [
    "Looking at the parameters, we will observe a 'leanrs' score for each template_id (the class column in the paras dataframe). In this case, what could you observe by looking at the different leanrs values below?    "
   ]
  },
  {
   "cell_type": "code",
   "execution_count": 24,
   "metadata": {},
   "outputs": [
    {
     "data": {
      "text/html": [
       "<div>\n",
       "<style scoped>\n",
       "    .dataframe tbody tr th:only-of-type {\n",
       "        vertical-align: middle;\n",
       "    }\n",
       "\n",
       "    .dataframe tbody tr th {\n",
       "        vertical-align: top;\n",
       "    }\n",
       "\n",
       "    .dataframe thead th {\n",
       "        text-align: right;\n",
       "    }\n",
       "</style>\n",
       "<table border=\"1\" class=\"dataframe\">\n",
       "  <thead>\n",
       "    <tr style=\"text-align: right;\">\n",
       "      <th></th>\n",
       "      <th></th>\n",
       "      <th></th>\n",
       "      <th>value</th>\n",
       "    </tr>\n",
       "    <tr>\n",
       "      <th>skill</th>\n",
       "      <th>param</th>\n",
       "      <th>class</th>\n",
       "      <th></th>\n",
       "    </tr>\n",
       "  </thead>\n",
       "  <tbody>\n",
       "    <tr>\n",
       "      <th rowspan=\"15\" valign=\"top\">Box and Whisker</th>\n",
       "      <th>prior</th>\n",
       "      <th>default</th>\n",
       "      <td>0.73949</td>\n",
       "    </tr>\n",
       "    <tr>\n",
       "      <th rowspan=\"6\" valign=\"top\">learns</th>\n",
       "      <th>30799</th>\n",
       "      <td>0.04824</td>\n",
       "    </tr>\n",
       "    <tr>\n",
       "      <th>30059</th>\n",
       "      <td>0.22924</td>\n",
       "    </tr>\n",
       "    <tr>\n",
       "      <th>30060</th>\n",
       "      <td>0.30135</td>\n",
       "    </tr>\n",
       "    <tr>\n",
       "      <th>63448</th>\n",
       "      <td>0.10028</td>\n",
       "    </tr>\n",
       "    <tr>\n",
       "      <th>63447</th>\n",
       "      <td>0.07009</td>\n",
       "    </tr>\n",
       "    <tr>\n",
       "      <th>63446</th>\n",
       "      <td>0.00006</td>\n",
       "    </tr>\n",
       "    <tr>\n",
       "      <th>guesses</th>\n",
       "      <th>default</th>\n",
       "      <td>0.33489</td>\n",
       "    </tr>\n",
       "    <tr>\n",
       "      <th>slips</th>\n",
       "      <th>default</th>\n",
       "      <td>0.16301</td>\n",
       "    </tr>\n",
       "    <tr>\n",
       "      <th rowspan=\"6\" valign=\"top\">forgets</th>\n",
       "      <th>30799</th>\n",
       "      <td>0.00000</td>\n",
       "    </tr>\n",
       "    <tr>\n",
       "      <th>30059</th>\n",
       "      <td>0.00000</td>\n",
       "    </tr>\n",
       "    <tr>\n",
       "      <th>30060</th>\n",
       "      <td>0.00000</td>\n",
       "    </tr>\n",
       "    <tr>\n",
       "      <th>63448</th>\n",
       "      <td>0.00000</td>\n",
       "    </tr>\n",
       "    <tr>\n",
       "      <th>63447</th>\n",
       "      <td>0.00000</td>\n",
       "    </tr>\n",
       "    <tr>\n",
       "      <th>63446</th>\n",
       "      <td>0.00000</td>\n",
       "    </tr>\n",
       "  </tbody>\n",
       "</table>\n",
       "</div>"
      ],
      "text/plain": [
       "                                  value\n",
       "skill           param   class          \n",
       "Box and Whisker prior   default 0.73949\n",
       "                learns  30799   0.04824\n",
       "                        30059   0.22924\n",
       "                        30060   0.30135\n",
       "                        63448   0.10028\n",
       "                        63447   0.07009\n",
       "                        63446   0.00006\n",
       "                guesses default 0.33489\n",
       "                slips   default 0.16301\n",
       "                forgets 30799   0.00000\n",
       "                        30059   0.00000\n",
       "                        30060   0.00000\n",
       "                        63448   0.00000\n",
       "                        63447   0.00000\n",
       "                        63446   0.00000"
      ]
     },
     "execution_count": 24,
     "metadata": {},
     "output_type": "execute_result"
    }
   ],
   "source": [
    "model.params()"
   ]
  },
  {
   "cell_type": "markdown",
   "metadata": {},
   "source": [
    "You can also combine multiple variants, and use a different column to specify the different learn and forget classes. In this case, we use user_id, assuming that we are interested in learning the parameters for each student, and we also enable forgetting. "
   ]
  },
  {
   "cell_type": "code",
   "execution_count": 25,
   "metadata": {},
   "outputs": [
    {
     "name": "stdout",
     "output_type": "stream",
     "text": [
      "Wall time: 5min 35s\n",
      "Wall time: 1.21 s\n"
     ]
    },
    {
     "data": {
      "text/plain": [
       "0.8259198134269404"
      ]
     },
     "execution_count": 25,
     "metadata": {},
     "output_type": "execute_result"
    }
   ],
   "source": [
    "model = Model(seed=0)\n",
    "%time model.fit(data=as_data, skills=['Box and Whisker'], forgets=True, multilearn='user_id') \n",
    "%time model.evaluate(data=as_data, metric='auc') "
   ]
  },
  {
   "cell_type": "markdown",
   "metadata": {},
   "source": [
    "Once we run a BKT model with *forgets=True* and *multilearn='user_id'*, we will observe individual scores for each student, as shown below. "
   ]
  },
  {
   "cell_type": "code",
   "execution_count": 33,
   "metadata": {},
   "outputs": [
    {
     "data": {
      "text/html": [
       "<div>\n",
       "<style scoped>\n",
       "    .dataframe tbody tr th:only-of-type {\n",
       "        vertical-align: middle;\n",
       "    }\n",
       "\n",
       "    .dataframe tbody tr th {\n",
       "        vertical-align: top;\n",
       "    }\n",
       "\n",
       "    .dataframe thead th {\n",
       "        text-align: right;\n",
       "    }\n",
       "</style>\n",
       "<table border=\"1\" class=\"dataframe\">\n",
       "  <thead>\n",
       "    <tr style=\"text-align: right;\">\n",
       "      <th></th>\n",
       "      <th></th>\n",
       "      <th></th>\n",
       "      <th>value</th>\n",
       "    </tr>\n",
       "    <tr>\n",
       "      <th>skill</th>\n",
       "      <th>param</th>\n",
       "      <th>class</th>\n",
       "      <th></th>\n",
       "    </tr>\n",
       "  </thead>\n",
       "  <tbody>\n",
       "    <tr>\n",
       "      <th rowspan=\"11\" valign=\"top\">Box and Whisker</th>\n",
       "      <th>prior</th>\n",
       "      <th>default</th>\n",
       "      <td>0.64024</td>\n",
       "    </tr>\n",
       "    <tr>\n",
       "      <th rowspan=\"4\" valign=\"top\">learns</th>\n",
       "      <th>64525</th>\n",
       "      <td>1.00000</td>\n",
       "    </tr>\n",
       "    <tr>\n",
       "      <th>70363</th>\n",
       "      <td>1.00000</td>\n",
       "    </tr>\n",
       "    <tr>\n",
       "      <th>70677</th>\n",
       "      <td>1.00000</td>\n",
       "    </tr>\n",
       "    <tr>\n",
       "      <th>70695</th>\n",
       "      <td>1.00000</td>\n",
       "    </tr>\n",
       "    <tr>\n",
       "      <th>...</th>\n",
       "      <th>...</th>\n",
       "      <td>...</td>\n",
       "    </tr>\n",
       "    <tr>\n",
       "      <th rowspan=\"5\" valign=\"top\">forgets</th>\n",
       "      <th>96294</th>\n",
       "      <td>0.13619</td>\n",
       "    </tr>\n",
       "    <tr>\n",
       "      <th>96295</th>\n",
       "      <td>0.13619</td>\n",
       "    </tr>\n",
       "    <tr>\n",
       "      <th>96296</th>\n",
       "      <td>0.14247</td>\n",
       "    </tr>\n",
       "    <tr>\n",
       "      <th>96297</th>\n",
       "      <td>0.12099</td>\n",
       "    </tr>\n",
       "    <tr>\n",
       "      <th>96298</th>\n",
       "      <td>0.00000</td>\n",
       "    </tr>\n",
       "  </tbody>\n",
       "</table>\n",
       "<p>1013 rows × 1 columns</p>\n",
       "</div>"
      ],
      "text/plain": [
       "                                  value\n",
       "skill           param   class          \n",
       "Box and Whisker prior   default 0.64024\n",
       "                learns  64525   1.00000\n",
       "                        70363   1.00000\n",
       "                        70677   1.00000\n",
       "                        70695   1.00000\n",
       "...                                 ...\n",
       "                forgets 96294   0.13619\n",
       "                        96295   0.13619\n",
       "                        96296   0.14247\n",
       "                        96297   0.12099\n",
       "                        96298   0.00000\n",
       "\n",
       "[1013 rows x 1 columns]"
      ]
     },
     "execution_count": 33,
     "metadata": {},
     "output_type": "execute_result"
    }
   ],
   "source": [
    "model.params()"
   ]
  },
  {
   "cell_type": "markdown",
   "metadata": {},
   "source": [
    "The best performing models are typically those that combine several useful variants, such as the multilearn and multiguess/slip class variants. After this lab session, you might be interested in testing with other skills and see whether this observations is true for other skills as well."
   ]
  },
  {
   "cell_type": "markdown",
   "metadata": {},
   "source": [
    "### Make predictions\n",
    "\n",
    "As we said, the predict method can be executed on the trained BKT model, obtaining a dictionary mapping skills to predicted\n",
    "values for those skills, namely correct_predictions (each score is between 0 and 1 that measures the extent to which the model thinks that the student will answer correctly to that question) and state_predictions (each score between 0 and 1 that measures the extent to which the student has mastered that skill, after that question).\n",
    "        \n",
    "        \n",
    "Note that, in the example below, we have run the BKT fitting process on the full dataset, to understand how well the BKT model can fit the data. Evaluation methods like cross-validation will be presented slightly after in this notebook."
   ]
  },
  {
   "cell_type": "code",
   "execution_count": 34,
   "metadata": {},
   "outputs": [
    {
     "name": "stdout",
     "output_type": "stream",
     "text": [
      "Wall time: 1min 42s\n",
      "Wall time: 1.15 s\n",
      "Wall time: 1.2 s\n"
     ]
    }
   ],
   "source": [
    "model = Model(seed=0)\n",
    "%time model.fit(data=as_data, skills='Box and Whisker') \n",
    "%time model.evaluate(data=as_data, metric='auc') \n",
    "%time preds = model.predict(data=as_data)"
   ]
  },
  {
   "cell_type": "code",
   "execution_count": 35,
   "metadata": {},
   "outputs": [
    {
     "data": {
      "text/html": [
       "<div>\n",
       "<style scoped>\n",
       "    .dataframe tbody tr th:only-of-type {\n",
       "        vertical-align: middle;\n",
       "    }\n",
       "\n",
       "    .dataframe tbody tr th {\n",
       "        vertical-align: top;\n",
       "    }\n",
       "\n",
       "    .dataframe thead th {\n",
       "        text-align: right;\n",
       "    }\n",
       "</style>\n",
       "<table border=\"1\" class=\"dataframe\">\n",
       "  <thead>\n",
       "    <tr style=\"text-align: right;\">\n",
       "      <th></th>\n",
       "      <th>user_id</th>\n",
       "      <th>correct</th>\n",
       "      <th>correct_predictions</th>\n",
       "      <th>state_predictions</th>\n",
       "    </tr>\n",
       "  </thead>\n",
       "  <tbody>\n",
       "    <tr>\n",
       "      <th>0</th>\n",
       "      <td>64525</td>\n",
       "      <td>1</td>\n",
       "      <td>0.71902</td>\n",
       "      <td>0.25438</td>\n",
       "    </tr>\n",
       "    <tr>\n",
       "      <th>1</th>\n",
       "      <td>64525</td>\n",
       "      <td>1</td>\n",
       "      <td>0.78759</td>\n",
       "      <td>0.11153</td>\n",
       "    </tr>\n",
       "    <tr>\n",
       "      <th>2</th>\n",
       "      <td>70363</td>\n",
       "      <td>0</td>\n",
       "      <td>0.71902</td>\n",
       "      <td>0.25438</td>\n",
       "    </tr>\n",
       "    <tr>\n",
       "      <th>3</th>\n",
       "      <td>70363</td>\n",
       "      <td>1</td>\n",
       "      <td>0.59868</td>\n",
       "      <td>0.50504</td>\n",
       "    </tr>\n",
       "    <tr>\n",
       "      <th>4</th>\n",
       "      <td>70363</td>\n",
       "      <td>0</td>\n",
       "      <td>0.71347</td>\n",
       "      <td>0.26594</td>\n",
       "    </tr>\n",
       "    <tr>\n",
       "      <th>...</th>\n",
       "      <td>...</td>\n",
       "      <td>...</td>\n",
       "      <td>...</td>\n",
       "      <td>...</td>\n",
       "    </tr>\n",
       "    <tr>\n",
       "      <th>3952</th>\n",
       "      <td>96297</td>\n",
       "      <td>1</td>\n",
       "      <td>0.84056</td>\n",
       "      <td>0.00119</td>\n",
       "    </tr>\n",
       "    <tr>\n",
       "      <th>3953</th>\n",
       "      <td>96297</td>\n",
       "      <td>1</td>\n",
       "      <td>0.84092</td>\n",
       "      <td>0.00045</td>\n",
       "    </tr>\n",
       "    <tr>\n",
       "      <th>3954</th>\n",
       "      <td>96297</td>\n",
       "      <td>1</td>\n",
       "      <td>0.84106</td>\n",
       "      <td>0.00017</td>\n",
       "    </tr>\n",
       "    <tr>\n",
       "      <th>3955</th>\n",
       "      <td>96298</td>\n",
       "      <td>1</td>\n",
       "      <td>0.71902</td>\n",
       "      <td>0.25438</td>\n",
       "    </tr>\n",
       "    <tr>\n",
       "      <th>3956</th>\n",
       "      <td>96298</td>\n",
       "      <td>1</td>\n",
       "      <td>0.78759</td>\n",
       "      <td>0.11153</td>\n",
       "    </tr>\n",
       "  </tbody>\n",
       "</table>\n",
       "<p>3957 rows × 4 columns</p>\n",
       "</div>"
      ],
      "text/plain": [
       "      user_id  correct  correct_predictions  state_predictions\n",
       "0       64525        1              0.71902            0.25438\n",
       "1       64525        1              0.78759            0.11153\n",
       "2       70363        0              0.71902            0.25438\n",
       "3       70363        1              0.59868            0.50504\n",
       "4       70363        0              0.71347            0.26594\n",
       "...       ...      ...                  ...                ...\n",
       "3952    96297        1              0.84056            0.00119\n",
       "3953    96297        1              0.84092            0.00045\n",
       "3954    96297        1              0.84106            0.00017\n",
       "3955    96298        1              0.71902            0.25438\n",
       "3956    96298        1              0.78759            0.11153\n",
       "\n",
       "[3957 rows x 4 columns]"
      ]
     },
     "execution_count": 35,
     "metadata": {},
     "output_type": "execute_result"
    }
   ],
   "source": [
    "preds[preds['skill_name']=='Box and Whisker'][['user_id', 'correct', 'correct_predictions', 'state_predictions']]"
   ]
  },
  {
   "cell_type": "markdown",
   "metadata": {},
   "source": [
    "Note that, if the BKT model is asked to predict on skills not included in the training set, the output predictions for that skills will be a best effort guess of 0.5 for both the correct and state predictions."
   ]
  },
  {
   "cell_type": "markdown",
   "metadata": {},
   "source": [
    "### Extend the evaluation\n",
    "\n",
    "The pyBKT package makes also possible to extend the range of metrics you can compute while evaluating a BKT model. To this end, you need to define a custom function that, given true_vals (true values for the correct target) and pred_vals (the predicted values for the correct target), computes and returns the score corresponding to the desired metric.  "
   ]
  },
  {
   "cell_type": "code",
   "execution_count": 36,
   "metadata": {},
   "outputs": [
    {
     "name": "stdout",
     "output_type": "stream",
     "text": [
      "Wall time: 1.07 s\n"
     ]
    },
    {
     "data": {
      "text/plain": [
       "0.34839801157570804"
      ]
     },
     "execution_count": 36,
     "metadata": {},
     "output_type": "execute_result"
    }
   ],
   "source": [
    "def mae(true_vals, pred_vals):\n",
    "    return np.mean(np.abs(true_vals - pred_vals))\n",
    "\n",
    "%time model.evaluate(data=as_data, metric=mae)"
   ]
  },
  {
   "cell_type": "markdown",
   "metadata": {},
   "source": [
    "### Perform cross validation\n",
    "\n",
    "Finally, the pyBKT package offers also a cross-validation method. You can specify the number of folds, a seed, and a metric (one of the three default ones, namely 'rmse', 'auc' or 'accuracy', or a custom Python function as we have see above). Furthermore, simialrly to the fit method, arguments for cross-validation a BKT variant and for defining the data path/data and skill names are accepted.  "
   ]
  },
  {
   "cell_type": "code",
   "execution_count": 37,
   "metadata": {},
   "outputs": [
    {
     "name": "stdout",
     "output_type": "stream",
     "text": [
      "Wall time: 10min 14s\n"
     ]
    },
    {
     "data": {
      "text/html": [
       "<div>\n",
       "<style scoped>\n",
       "    .dataframe tbody tr th:only-of-type {\n",
       "        vertical-align: middle;\n",
       "    }\n",
       "\n",
       "    .dataframe tbody tr th {\n",
       "        vertical-align: top;\n",
       "    }\n",
       "\n",
       "    .dataframe thead th {\n",
       "        text-align: right;\n",
       "    }\n",
       "</style>\n",
       "<table border=\"1\" class=\"dataframe\">\n",
       "  <thead>\n",
       "    <tr style=\"text-align: right;\">\n",
       "      <th></th>\n",
       "      <th>auc</th>\n",
       "    </tr>\n",
       "    <tr>\n",
       "      <th>skill</th>\n",
       "      <th></th>\n",
       "    </tr>\n",
       "  </thead>\n",
       "  <tbody>\n",
       "    <tr>\n",
       "      <th>Box and Whisker</th>\n",
       "      <td>0.62933</td>\n",
       "    </tr>\n",
       "  </tbody>\n",
       "</table>\n",
       "</div>"
      ],
      "text/plain": [
       "                    auc\n",
       "skill                  \n",
       "Box and Whisker 0.62933"
      ]
     },
     "execution_count": 37,
     "metadata": {},
     "output_type": "execute_result"
    }
   ],
   "source": [
    "model = Model(seed=0)\n",
    "%time model.crossvalidate(data=as_data, skills='Box and Whisker', folds=5, metric='auc')"
   ]
  },
  {
   "cell_type": "markdown",
   "metadata": {},
   "source": [
    "In this showcase, we just opted to five folds due to the time constraints. In the other cases, you need to select an appropriate number of folds based on the data you are dealing with, as discussed in the lectures.  "
   ]
  },
  {
   "cell_type": "markdown",
   "metadata": {},
   "source": [
    "## Exercises\n",
    "---\n",
    "\n",
    "That's your turn! We ask you to complete the following exercises. In case you do not finish them during the lab session, please feel free to complete later, at your earliest convenience. TAs are happy to address any question or doubts you might have.\n",
    "\n",
    "Kindly note that the following exercises have the goal of supporting you in getting familiar with the library functions, and may not fully represent the sequences of steps and the design choices made in a real-world or homework scenario. Elements concerning the latter scenarios will be discussed during the session. Furthermore, due to running time constraints, the following exercises will be run in a train-test split or full data set mode, while we leave the opportunity to run them under a cross-validation setting after this lab session.     \n",
    "\n",
    "In all your models, we ask you to set the *seed* to 0, to let you reproduce the same results across different runs.\n",
    "\n",
    "Note that the expected running time may vary according to the device or environment. "
   ]
  },
  {
   "cell_type": "markdown",
   "metadata": {},
   "source": [
    "#### Question 1 [expected total time for BKT fitting: 2 mins]\n",
    "\n",
    "- Fit a BKT model with default parameters on the full data set, only for the skill 'Addition and Subtraction Integers'. \n",
    "- Compute the correct predictions from the BKT model, by using the predict method of the Model class. \n",
    "- Manually calculate the RMSE between the true correct value and the predicted correct value (refer to Slide 51 of Lecture 4 to get the RMSE formula). \n",
    "- Compare with the RMSE returned by the evaluate method of the BKT model. "
   ]
  },
  {
   "cell_type": "code",
   "execution_count": 39,
   "metadata": {},
   "outputs": [
    {
     "name": "stdout",
     "output_type": "stream",
     "text": [
      "Wall time: 2min 16s\n",
      "Manual RMSE: 0.40484019656377424\n",
      "pyBKT RMSE: 0.4048401965637748\n"
     ]
    }
   ],
   "source": [
    "### EXERCISE CELL ###\n",
    "def rmse(y_true, y_pred):\n",
    "    return np.sqrt(np.mean((y_true - y_pred) ** 2))\n",
    "\n",
    "model = Model(seed=0)\n",
    "%time model.fit(data=as_data, skills='Addition and Subtraction Integers') \n",
    "preds = model.predict(data=as_data)\n",
    "\n",
    "preds_filtered = preds[preds['skill_name'].str.contains('Addition and Subtraction Integers')]\n",
    "manual_training_rmse = rmse(preds_filtered['correct'], preds_filtered['correct_predictions'])\n",
    "\n",
    "print('Manual RMSE:', manual_training_rmse)\n",
    "print('pyBKT RMSE:', model.evaluate(data=as_data, metric='rmse'))"
   ]
  },
  {
   "cell_type": "markdown",
   "metadata": {},
   "source": [
    "#### Question 2 [expected total time for BKT fitting: 7 mins]\n",
    "- Perform a user-based train-test split of the data, with 20% of the users in the test set.\n",
    "- Fit the two BKT model variants on the training set, only for the skill 'Addition and Subtraction Integers'. \n",
    "    - default;\n",
    "    - forgets=True;\n",
    "- Which model variant listed below has the highest test AUC for 'Addition and Subtraction Integers' in the test set?"
   ]
  },
  {
   "cell_type": "code",
   "execution_count": 40,
   "metadata": {},
   "outputs": [
    {
     "name": "stdout",
     "output_type": "stream",
     "text": [
      "Wall time: 2min 5s\n",
      "Wall time: 4min 53s\n"
     ]
    },
    {
     "data": {
      "text/html": [
       "<div>\n",
       "<style scoped>\n",
       "    .dataframe tbody tr th:only-of-type {\n",
       "        vertical-align: middle;\n",
       "    }\n",
       "\n",
       "    .dataframe tbody tr th {\n",
       "        vertical-align: top;\n",
       "    }\n",
       "\n",
       "    .dataframe thead th {\n",
       "        text-align: right;\n",
       "    }\n",
       "</style>\n",
       "<table border=\"1\" class=\"dataframe\">\n",
       "  <thead>\n",
       "    <tr style=\"text-align: right;\">\n",
       "      <th></th>\n",
       "      <th>AUC</th>\n",
       "    </tr>\n",
       "    <tr>\n",
       "      <th>Model Type</th>\n",
       "      <th></th>\n",
       "    </tr>\n",
       "  </thead>\n",
       "  <tbody>\n",
       "    <tr>\n",
       "      <th>simple</th>\n",
       "      <td>0.82258</td>\n",
       "    </tr>\n",
       "    <tr>\n",
       "      <th>forgets</th>\n",
       "      <td>0.89958</td>\n",
       "    </tr>\n",
       "  </tbody>\n",
       "</table>\n",
       "</div>"
      ],
      "text/plain": [
       "               AUC\n",
       "Model Type        \n",
       "simple     0.82258\n",
       "forgets    0.89958"
      ]
     },
     "execution_count": 40,
     "metadata": {},
     "output_type": "execute_result"
    }
   ],
   "source": [
    "### EXERCISE CELL ###\n",
    "users = as_data['user_id'].unique()\n",
    "users_train = list(np.random.choice(users, int(len(users) * 0.8), replace=False))\n",
    "users_test = list(set(users) - set(users_train))\n",
    "\n",
    "X_train, X_test = as_data[as_data['user_id'].isin(users_train)], as_data[as_data['user_id'].isin(users_test)]\n",
    "\n",
    "models = {}\n",
    "\n",
    "model = Model(seed=0, num_fits=1)\n",
    "%time model.fit(data=X_train, skills='Addition and Subtraction Integers')\n",
    "models['simple'] = model.evaluate(data=X_test, metric='auc')\n",
    "\n",
    "model = Model(seed=0, num_fits=1)\n",
    "%time model.fit(data=X_train, skills='Addition and Subtraction Integers', forgets=True)\n",
    "models['forgets'] = model.evaluate(data=X_test, metric='auc')\n",
    "\n",
    "df = pd.DataFrame(models.items())\n",
    "df.columns = ['Model Type', 'AUC']\n",
    "df.set_index('Model Type')"
   ]
  },
  {
   "cell_type": "markdown",
   "metadata": {},
   "source": [
    "#### Question 3  [expected total time for BKT fitting: 3 mins]\n",
    "- Bin values in the ms_first_response column in *as_data* to categories ('less than 10s', 'less than 20s', 'less than 30s','less than 40s', 'less than 50s', 'other'). \n",
    "- Fit BKT models with different learn rates, according to the ms_first_response categories above, on the full data set, only for the skill 'Addition and Subtraction Integers'. You need to play with the multilearn parameter of the BKT fit method.\n",
    "- Create a bar plot to show the $P_{\\text{L}}$ (learns) value for each ms_first_response category above. You basically need to play with the dataframe returned by model.params(), to prepare the data to be shown in the plot.\n",
    "- Does binned response time influence the $P_{\\text{L}}$ parameter for the skill 'Addition and Subtraction Integers'? Which bin result in the highest $P_{\\text{L}}$ scores?"
   ]
  },
  {
   "cell_type": "code",
   "execution_count": 41,
   "metadata": {},
   "outputs": [
    {
     "name": "stdout",
     "output_type": "stream",
     "text": [
      "Wall time: 3min\n"
     ]
    },
    {
     "data": {
      "text/html": [
       "<div>\n",
       "<style scoped>\n",
       "    .dataframe tbody tr th:only-of-type {\n",
       "        vertical-align: middle;\n",
       "    }\n",
       "\n",
       "    .dataframe tbody tr th {\n",
       "        vertical-align: top;\n",
       "    }\n",
       "\n",
       "    .dataframe thead th {\n",
       "        text-align: right;\n",
       "    }\n",
       "</style>\n",
       "<table border=\"1\" class=\"dataframe\">\n",
       "  <thead>\n",
       "    <tr style=\"text-align: right;\">\n",
       "      <th></th>\n",
       "      <th>skill</th>\n",
       "      <th>param</th>\n",
       "      <th>class</th>\n",
       "      <th>value</th>\n",
       "    </tr>\n",
       "  </thead>\n",
       "  <tbody>\n",
       "    <tr>\n",
       "      <th>0</th>\n",
       "      <td>Addition and Subtraction Integers</td>\n",
       "      <td>prior</td>\n",
       "      <td>default</td>\n",
       "      <td>0.53126</td>\n",
       "    </tr>\n",
       "    <tr>\n",
       "      <th>1</th>\n",
       "      <td>Addition and Subtraction Integers</td>\n",
       "      <td>learns</td>\n",
       "      <td>less than 10s</td>\n",
       "      <td>0.00200</td>\n",
       "    </tr>\n",
       "    <tr>\n",
       "      <th>2</th>\n",
       "      <td>Addition and Subtraction Integers</td>\n",
       "      <td>learns</td>\n",
       "      <td>less than 20s</td>\n",
       "      <td>0.01870</td>\n",
       "    </tr>\n",
       "    <tr>\n",
       "      <th>3</th>\n",
       "      <td>Addition and Subtraction Integers</td>\n",
       "      <td>learns</td>\n",
       "      <td>other</td>\n",
       "      <td>0.01001</td>\n",
       "    </tr>\n",
       "    <tr>\n",
       "      <th>4</th>\n",
       "      <td>Addition and Subtraction Integers</td>\n",
       "      <td>learns</td>\n",
       "      <td>less than 30s</td>\n",
       "      <td>0.02175</td>\n",
       "    </tr>\n",
       "    <tr>\n",
       "      <th>5</th>\n",
       "      <td>Addition and Subtraction Integers</td>\n",
       "      <td>learns</td>\n",
       "      <td>less than 40s</td>\n",
       "      <td>0.03979</td>\n",
       "    </tr>\n",
       "    <tr>\n",
       "      <th>6</th>\n",
       "      <td>Addition and Subtraction Integers</td>\n",
       "      <td>learns</td>\n",
       "      <td>less than 50s</td>\n",
       "      <td>0.00000</td>\n",
       "    </tr>\n",
       "    <tr>\n",
       "      <th>7</th>\n",
       "      <td>Addition and Subtraction Integers</td>\n",
       "      <td>guesses</td>\n",
       "      <td>default</td>\n",
       "      <td>0.43333</td>\n",
       "    </tr>\n",
       "    <tr>\n",
       "      <th>8</th>\n",
       "      <td>Addition and Subtraction Integers</td>\n",
       "      <td>slips</td>\n",
       "      <td>default</td>\n",
       "      <td>0.07821</td>\n",
       "    </tr>\n",
       "    <tr>\n",
       "      <th>9</th>\n",
       "      <td>Addition and Subtraction Integers</td>\n",
       "      <td>forgets</td>\n",
       "      <td>less than 10s</td>\n",
       "      <td>0.00000</td>\n",
       "    </tr>\n",
       "    <tr>\n",
       "      <th>10</th>\n",
       "      <td>Addition and Subtraction Integers</td>\n",
       "      <td>forgets</td>\n",
       "      <td>less than 20s</td>\n",
       "      <td>0.00000</td>\n",
       "    </tr>\n",
       "    <tr>\n",
       "      <th>11</th>\n",
       "      <td>Addition and Subtraction Integers</td>\n",
       "      <td>forgets</td>\n",
       "      <td>other</td>\n",
       "      <td>0.00000</td>\n",
       "    </tr>\n",
       "    <tr>\n",
       "      <th>12</th>\n",
       "      <td>Addition and Subtraction Integers</td>\n",
       "      <td>forgets</td>\n",
       "      <td>less than 30s</td>\n",
       "      <td>0.00000</td>\n",
       "    </tr>\n",
       "    <tr>\n",
       "      <th>13</th>\n",
       "      <td>Addition and Subtraction Integers</td>\n",
       "      <td>forgets</td>\n",
       "      <td>less than 40s</td>\n",
       "      <td>0.00000</td>\n",
       "    </tr>\n",
       "    <tr>\n",
       "      <th>14</th>\n",
       "      <td>Addition and Subtraction Integers</td>\n",
       "      <td>forgets</td>\n",
       "      <td>less than 50s</td>\n",
       "      <td>0.00000</td>\n",
       "    </tr>\n",
       "  </tbody>\n",
       "</table>\n",
       "</div>"
      ],
      "text/plain": [
       "                                skill    param          class   value\n",
       "0   Addition and Subtraction Integers    prior        default 0.53126\n",
       "1   Addition and Subtraction Integers   learns  less than 10s 0.00200\n",
       "2   Addition and Subtraction Integers   learns  less than 20s 0.01870\n",
       "3   Addition and Subtraction Integers   learns          other 0.01001\n",
       "4   Addition and Subtraction Integers   learns  less than 30s 0.02175\n",
       "5   Addition and Subtraction Integers   learns  less than 40s 0.03979\n",
       "6   Addition and Subtraction Integers   learns  less than 50s 0.00000\n",
       "7   Addition and Subtraction Integers  guesses        default 0.43333\n",
       "8   Addition and Subtraction Integers    slips        default 0.07821\n",
       "9   Addition and Subtraction Integers  forgets  less than 10s 0.00000\n",
       "10  Addition and Subtraction Integers  forgets  less than 20s 0.00000\n",
       "11  Addition and Subtraction Integers  forgets          other 0.00000\n",
       "12  Addition and Subtraction Integers  forgets  less than 30s 0.00000\n",
       "13  Addition and Subtraction Integers  forgets  less than 40s 0.00000\n",
       "14  Addition and Subtraction Integers  forgets  less than 50s 0.00000"
      ]
     },
     "execution_count": 41,
     "metadata": {},
     "output_type": "execute_result"
    }
   ],
   "source": [
    "### EXERCISE CELL ###\n",
    "\n",
    "skill = 'Addition and Subtraction Integers'\n",
    "\n",
    "# Binning\n",
    "learn_maps = {0: 'less than 10s', 1: 'less than 20s', 2: 'less than 30s', 3: 'less than 40s', 4: 'less than 50s'}\n",
    "as_data['bin_s_first_response'] = (as_data['ms_first_response'] // (10 * 1000)).map(learn_maps).fillna('other')\n",
    "\n",
    "# Modelling\n",
    "model = Model(seed=0, num_fits=1)\n",
    "%time model.fit(data=as_data, skills=skill, multilearn='bin_s_first_response')\n",
    "params = model.params().reset_index()\n",
    "\n",
    "params"
   ]
  },
  {
   "cell_type": "code",
   "execution_count": 48,
   "metadata": {},
   "outputs": [
    {
     "data": {
      "image/png": "[encoded data removed]",
      "text/plain": [
       "<Figure size 864x432 with 1 Axes>"
      ]
     },
     "metadata": {
      "needs_background": "light"
     },
     "output_type": "display_data"
    }
   ],
   "source": [
    "plt.figure(figsize = (12, 6))\n",
    "plt.title(r'$P_{L}$ per response time')\n",
    "params_learns = params[params['param'] == 'learns'].sort_values(by='class').copy()\n",
    "labels = params_learns['class']\n",
    "values = params_learns['value']\n",
    "plt.bar(labels, values, width=0.4)\n",
    "plt.ylabel(r'$P_{L}$')\n",
    "plt.xlabel('Response Time')\n",
    "plt.ylim([0, .1])\n",
    "plt.grid(axis='y')\n",
    "plt.show()"
   ]
  },
  {
   "cell_type": "markdown",
   "metadata": {},
   "source": [
    "#### Question 4 [expected total time for BKT fitting: 8 mins]\n",
    "- Use the same bins ms_first_response to categories ('less than 10s', 'less than 20s', 'less than 30s','less than 40s', 'less than 50s', 'other').\n",
    "- Fit a BKT model with template-id multilearn (default), on the full data set, only for the skill 'Addition and Subtraction Integers'.\n",
    "- Fit a BKT model with binned-response-time-based multilearn, on the full data set, only for the skill 'Addition and Subtraction Integers'.\n",
    "- Does the binned-response-time-based multilearn improve the AUC of the model compared to the default template_id-based multilearn?"
   ]
  },
  {
   "cell_type": "code",
   "execution_count": 44,
   "metadata": {},
   "outputs": [
    {
     "name": "stdout",
     "output_type": "stream",
     "text": [
      "Wall time: 4min 2s\n",
      "Wall time: 4min 35s\n"
     ]
    },
    {
     "data": {
      "text/plain": [
       "('AUC Improvement using Response Time:', 0.002993537586127526)"
      ]
     },
     "execution_count": 44,
     "metadata": {},
     "output_type": "execute_result"
    }
   ],
   "source": [
    "### EXERCISE CELL ###\n",
    "skill = 'Addition and Subtraction Integers'\n",
    "\n",
    "model = Model(seed=0, num_fits=1)\n",
    "%time model.fit(data=as_data, skills=skill, multilearn=True)\n",
    "default_multilearn_auc = model.evaluate(data=as_data, metric='auc')\n",
    "\n",
    "model = Model(seed=0, num_fits=1)\n",
    "%time model.fit(data=as_data, skills=skill, multilearn='bin_s_first_response')\n",
    "time_multilearn_auc = model.evaluate(data=as_data, metric='auc')\n",
    "\n",
    "'AUC Improvement using Response Time:', time_multilearn_auc - default_multilearn_auc"
   ]
  },
  {
   "cell_type": "markdown",
   "metadata": {},
   "source": [
    "## Summary\n",
    "---\n",
    "\n",
    "In this tutorial, we have seen several important aspects of Bayesian Knowledge Tracing (BKT). We have shown how a typical data set for knowledge tracing should look like. We have illustrated how BKT models can be trained on different skills. We have shown how different variants of BKT can help you improve the goodness of your model. Many of the ideas described in this tutorial can be adapted to other data sets and projects. Finally, we have shown some examples of predictions and evaluations, covering also cross-validation. If you are interested in the implementation details of the different variants, we invite you to explore the codebase stored in the pyBKT Github repository. "
   ]
  }
 ],
 "metadata": {
  "kernelspec": {
   "display_name": "Python 3",
   "language": "python",
   "name": "python3"
  },
  "language_info": {
   "codemirror_mode": {
    "name": "ipython",
    "version": 3
   },
   "file_extension": ".py",
   "mimetype": "text/x-python",
   "name": "python",
   "nbconvert_exporter": "python",
   "pygments_lexer": "ipython3",
   "version": "3.6.8"
  }
 },
 "nbformat": 4,
 "nbformat_minor": 1
}
