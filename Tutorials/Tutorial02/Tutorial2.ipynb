{
 "cells": [
  {
   "cell_type": "markdown",
   "metadata": {
    "_cell_guid": "5e3fd420-a605-4f83-891a-8eed9a1a3687",
    "_uuid": "3d5ca6f1f32bc5c00d0820a1668c998544851c17"
   },
   "source": [
    "# Tutorial 2 - Trending YouTube Videos Part 2\n",
    "---"
   ]
  },
  {
   "cell_type": "markdown",
   "metadata": {},
   "source": [
    "<img src=\"images/trending_videos_header.png\" />"
   ]
  },
  {
   "cell_type": "markdown",
   "metadata": {},
   "source": [
    "<i>This tutorial is based on these Kaggle notebooks: [Extensive USA Youtube](https://www.kaggle.com/kabure/extensive-usa-youtube-eda), [YouTube Trending Videos Analysis](https://www.kaggle.com/ammar111/youtube-trending-videos-analysis).</i>\n",
    "\n",
    "In the last tutorial, we provided you with clean datasets - however, in reality, this is not always the case. Raw data can often be messy and requires some cleaning before being ready for the analyses. In this context, knowing how to visualize data can further help you with [exploratory data analysis (EDA)](https://towardsdatascience.com/exploratory-data-analysis-8fc1cb20fd15). \n",
    "\n",
    "In this tutorial, we will continue with the [Trending YouTube Video Statistics dataset](https://www.kaggle.com/datasnaek/youtube-new) to illustrate how to do perform data handing. Please note that the described steps are just an example procedure for this specific dataset. While you can adapt many of these steps to your own projects, keep in mind that the methods that you apply need to be selected and adjusted based on the characteristics of your specific dataset.\n",
    "\n",
    "Focusing on data handling and visualization, we will illustrate:\n",
    "- How to do a first inspection of a dataset\n",
    "- How to remove missing data\n",
    "- How to import data from a JSON file\n",
    "- How to impute missing data\n",
    "- How to use a log transformation\n",
    "- How to use visualizations to study relationships between variables\n",
    "\n",
    "Through this notebook we will analyse: \n",
    "- Which type of YouTube videos receive how many views, likes, dislikes and comments\n",
    "- How the different measures are related to one another\n"
   ]
  },
  {
   "cell_type": "markdown",
   "metadata": {},
   "source": [
    "## Your tasks\n",
    "---\n",
    "1. __First part__: Import the Canadian dataset (CAvideos_mlbd.csv) and perform a first inspection.\n",
    "2. __Second part__: Remove unimportant missing data from the dataset.\n",
    "3. __Third part__: Parse a JSON file to add additional information to the dataframe\n",
    "4. __Fourth part__: Impute missing data\n",
    "5. __Fifth part__: Visualize data to study relations between measured variables\n",
    "\n"
   ]
  },
  {
   "cell_type": "markdown",
   "metadata": {
    "_cell_guid": "28a6526f-d9d1-4f7b-9894-9383fb570b07",
    "_uuid": "449477506ccff5337a64f342c4c5e03aa7555137"
   },
   "source": [
    "## Import Python libraries\n",
    "---\n",
    "You can find the official documentation of each library here: [Pandas](https://pandas.pydata.org/pandas-docs/stable/), [Numpy](https://numpy.org/doc/), [Seaborn](https://seaborn.pydata.org/), [Matplotlib](https://matplotlib.org/stable/index.html), [JSON](https://docs.python.org/3/library/json.html), [random](https://docs.python.org/3/library/random.html), [missingno](https://coderzcolumn.com/tutorials/data-science/missingno-visualize-missing-data-in-python)\n",
    "\n"
   ]
  },
  {
   "cell_type": "code",
   "execution_count": 1,
   "metadata": {
    "_cell_guid": "79c7e3d0-c299-4dcb-8224-4455121ee9b0",
    "_uuid": "d629ff2d2480ee46fbb7e2d37f6b5fab8052498a"
   },
   "outputs": [],
   "source": [
    "import pandas as pd\n",
    "import numpy as np\n",
    "import seaborn as sns\n",
    "import matplotlib.pyplot as plt\n",
    "import json\n",
    "import random\n",
    "import missingno"
   ]
  },
  {
   "cell_type": "markdown",
   "metadata": {},
   "source": [
    "## Data import and first inspection\n",
    "---\n",
    "In the last tutorial, our initial datasets (US and GB) were already clean. Therefore we did not have to do any data cleaning before our analyses. In this tutorial, we will work with the Canadian dataset (CA). \n",
    "\n",
    "Work through the following cells to import the data and perform a first inspection."
   ]
  },
  {
   "cell_type": "code",
   "execution_count": 2,
   "metadata": {
    "_cell_guid": "9e56b11f-6d35-43eb-be32-582dc06d98f6",
    "_uuid": "16b0901fa8513f638c3328d58a24aee2b09c9ce4"
   },
   "outputs": [
    {
     "ename": "SyntaxError",
     "evalue": "invalid syntax (<ipython-input-2-cc57dacf7ec0>, line 4)",
     "output_type": "error",
     "traceback": [
      "\u001b[0;36m  File \u001b[0;32m\"<ipython-input-2-cc57dacf7ec0>\"\u001b[0;36m, line \u001b[0;32m4\u001b[0m\n\u001b[0;31m    df_yout = #----put your code here----\u001b[0m\n\u001b[0m                                         ^\u001b[0m\n\u001b[0;31mSyntaxError\u001b[0m\u001b[0;31m:\u001b[0m invalid syntax\n"
     ]
    }
   ],
   "source": [
    "### EXERCISE CELL ###\n",
    "\n",
    "# Import data from \"CAvideos_mlbd.csv\" to pandas dataframe \"df_yout\"\n",
    "df_yout = #----put your code here----"
   ]
  },
  {
   "cell_type": "code",
   "execution_count": 3,
   "metadata": {
    "_cell_guid": "da26ca13-554b-41fb-a832-4b4813650224",
    "_uuid": "7302a37fcfceeb8296b06096c6f28abe0d1107f4"
   },
   "outputs": [],
   "source": [
    "### EXERCISE CELL ###\n",
    "\n",
    "# Examine first rows of the dataframe\n",
    "#----put your code here----"
   ]
  },
  {
   "cell_type": "code",
   "execution_count": 4,
   "metadata": {
    "_cell_guid": "eaf6757f-0315-4199-b44b-9850ff1750c9",
    "_uuid": "a0fdd30e11cd9a43db4c6c7b2e4cb2f4de395468"
   },
   "outputs": [],
   "source": [
    "### EXERCISE CELL ###\n",
    "\n",
    "# Use a pandas function to output a summary of the dataframe describing the columns, datatypes and non-null values of each column\n",
    "#----put your code here----"
   ]
  },
  {
   "cell_type": "code",
   "execution_count": 5,
   "metadata": {},
   "outputs": [],
   "source": [
    "### EXERCISE CELL ###\n",
    "\n",
    "# Use a pandas function to output some descriptive statistics about the data (mean, std, min, max, quartiles etc.)\n",
    "#----put your code here----"
   ]
  },
  {
   "cell_type": "markdown",
   "metadata": {},
   "source": [
    "__Question:__ Based on a first inspection of the above cells, do we need to do some data cleaning? If yes, why? If no, why not?\n",
    "\n",
    "Put your answer in the cell below."
   ]
  },
  {
   "cell_type": "code",
   "execution_count": 6,
   "metadata": {},
   "outputs": [],
   "source": [
    "### EXERCISE CELL ###\n",
    "\n",
    "#----put your answe here----"
   ]
  },
  {
   "cell_type": "markdown",
   "metadata": {},
   "source": [
    "## Removing data\n",
    "---\n",
    "\n",
    "The \"easiest way\" to deal with missing data is to remove them. However, before doing so, it should be investigated whether it is reasonable to remove this data. Often, removing is not the best choice because it will reduce statistical power of the data set and potentially introduce a bias. Nevertheless, in some cases, data can be removed without issues. In the following, we will present some of these cases."
   ]
  },
  {
   "cell_type": "markdown",
   "metadata": {},
   "source": [
    "### Videos flagged as having errors or have been removed\n",
    "\n",
    "Let's first look at the videos that are already flagged to have issues by the dataset itself (column video_error_or removed)."
   ]
  },
  {
   "cell_type": "code",
   "execution_count": 7,
   "metadata": {},
   "outputs": [
    {
     "ename": "NameError",
     "evalue": "name 'df_yout' is not defined",
     "output_type": "error",
     "traceback": [
      "\u001b[0;31m---------------------------------------------------------------------------\u001b[0m",
      "\u001b[0;31mNameError\u001b[0m                                 Traceback (most recent call last)",
      "\u001b[0;32m<ipython-input-7-f56a89dc085f>\u001b[0m in \u001b[0;36m<module>\u001b[0;34m\u001b[0m\n\u001b[1;32m      1\u001b[0m \u001b[0;31m# Display all the videos that had errors or were removed\u001b[0m\u001b[0;34m\u001b[0m\u001b[0;34m\u001b[0m\u001b[0;34m\u001b[0m\u001b[0m\n\u001b[0;32m----> 2\u001b[0;31m \u001b[0mdf_yout\u001b[0m\u001b[0;34m[\u001b[0m\u001b[0mdf_yout\u001b[0m\u001b[0;34m[\u001b[0m\u001b[0;34m'video_error_or_removed'\u001b[0m\u001b[0;34m]\u001b[0m \u001b[0;34m==\u001b[0m \u001b[0;36m1\u001b[0m\u001b[0;34m]\u001b[0m\u001b[0;34m\u001b[0m\u001b[0;34m\u001b[0m\u001b[0m\n\u001b[0m",
      "\u001b[0;31mNameError\u001b[0m: name 'df_yout' is not defined"
     ]
    }
   ],
   "source": [
    "# Display all the videos that had errors or were removed\n",
    "df_yout[df_yout['video_error_or_removed'] == 1]"
   ]
  },
  {
   "cell_type": "markdown",
   "metadata": {},
   "source": [
    "We can see there is a small number of entries that were flagged with having errors or being removed. Some of them don't even have proper video titles. We don't know exactly why these videos were flagged, but to be safe and given that this subset is considerably small with respect to the entire set, we can remove these entries. Let's do this.\n",
    "\n",
    "__Hint:__ Use pandas drop function. "
   ]
  },
  {
   "cell_type": "code",
   "execution_count": 13,
   "metadata": {},
   "outputs": [],
   "source": [
    "### EXERCISE CELL ###\n",
    "\n",
    "# Remove flagged videos from the dataset\n",
    "\n",
    "#----put your code here----"
   ]
  },
  {
   "cell_type": "code",
   "execution_count": 9,
   "metadata": {},
   "outputs": [
    {
     "ename": "NameError",
     "evalue": "name 'df_yout' is not defined",
     "output_type": "error",
     "traceback": [
      "\u001b[0;31m---------------------------------------------------------------------------\u001b[0m",
      "\u001b[0;31mNameError\u001b[0m                                 Traceback (most recent call last)",
      "\u001b[0;32m<ipython-input-9-e0b2cc96522a>\u001b[0m in \u001b[0;36m<module>\u001b[0;34m\u001b[0m\n\u001b[1;32m      1\u001b[0m \u001b[0;31m# Check if videos were sucessfully removed\u001b[0m\u001b[0;34m\u001b[0m\u001b[0;34m\u001b[0m\u001b[0;34m\u001b[0m\u001b[0m\n\u001b[0;32m----> 2\u001b[0;31m \u001b[0mdf_yout\u001b[0m\u001b[0;34m[\u001b[0m\u001b[0mdf_yout\u001b[0m\u001b[0;34m[\u001b[0m\u001b[0;34m'video_error_or_removed'\u001b[0m\u001b[0;34m]\u001b[0m \u001b[0;34m==\u001b[0m \u001b[0;36m1\u001b[0m\u001b[0;34m]\u001b[0m\u001b[0;34m\u001b[0m\u001b[0;34m\u001b[0m\u001b[0m\n\u001b[0m",
      "\u001b[0;31mNameError\u001b[0m: name 'df_yout' is not defined"
     ]
    }
   ],
   "source": [
    "# Check if videos were sucessfully removed\n",
    "df_yout[df_yout['video_error_or_removed'] == 1]"
   ]
  },
  {
   "cell_type": "markdown",
   "metadata": {},
   "source": [
    "### Visualizing missing data\n",
    "\n",
    "Next, let's have a closer look at the missing data in our dataset. Using the info() function we have seen that the columns sometimes contain empty values. To facilitate the anaylsis of this missing data, we will use the [missingno](https://coderzcolumn.com/tutorials/data-science/missingno-visualize-missing-data-in-python) library, that provides us with a very useful way to visualize missing data."
   ]
  },
  {
   "cell_type": "code",
   "execution_count": 10,
   "metadata": {},
   "outputs": [
    {
     "ename": "NameError",
     "evalue": "name 'df_yout' is not defined",
     "output_type": "error",
     "traceback": [
      "\u001b[0;31m---------------------------------------------------------------------------\u001b[0m",
      "\u001b[0;31mNameError\u001b[0m                                 Traceback (most recent call last)",
      "\u001b[0;32m<ipython-input-10-dd16c871e1d4>\u001b[0m in \u001b[0;36m<module>\u001b[0;34m\u001b[0m\n\u001b[1;32m      1\u001b[0m \u001b[0;31m# Use missingno library to visualize empty cells in the dataframe\u001b[0m\u001b[0;34m\u001b[0m\u001b[0;34m\u001b[0m\u001b[0;34m\u001b[0m\u001b[0m\n\u001b[0;32m----> 2\u001b[0;31m \u001b[0mmissingno\u001b[0m\u001b[0;34m.\u001b[0m\u001b[0mmatrix\u001b[0m\u001b[0;34m(\u001b[0m\u001b[0mdf_yout\u001b[0m\u001b[0;34m,\u001b[0m\u001b[0mfigsize\u001b[0m\u001b[0;34m=\u001b[0m\u001b[0;34m(\u001b[0m\u001b[0;36m20\u001b[0m\u001b[0;34m,\u001b[0m\u001b[0;36m20\u001b[0m\u001b[0;34m)\u001b[0m\u001b[0;34m,\u001b[0m \u001b[0mfontsize\u001b[0m\u001b[0;34m=\u001b[0m\u001b[0;36m12\u001b[0m\u001b[0;34m)\u001b[0m\u001b[0;34m\u001b[0m\u001b[0;34m\u001b[0m\u001b[0m\n\u001b[0m",
      "\u001b[0;31mNameError\u001b[0m: name 'df_yout' is not defined"
     ]
    }
   ],
   "source": [
    "# Use missingno library to visualize empty cells in the dataframe\n",
    "missingno.matrix(df_yout,figsize=(20,20), fontsize=12)"
   ]
  },
  {
   "cell_type": "markdown",
   "metadata": {},
   "source": [
    "__Question:__ From the missingno graph, which \"types\" of missing data can you identify?\n",
    "\n",
    "Put your answer in the cell below."
   ]
  },
  {
   "cell_type": "code",
   "execution_count": 11,
   "metadata": {},
   "outputs": [],
   "source": [
    "### EXERCISE CELL ###\n",
    "\n",
    "#----put your answer here----"
   ]
  },
  {
   "cell_type": "markdown",
   "metadata": {},
   "source": [
    "### Empty rows\n",
    "\n",
    "Let's now have a look at the rows with only empty values."
   ]
  },
  {
   "cell_type": "code",
   "execution_count": 12,
   "metadata": {},
   "outputs": [
    {
     "ename": "NameError",
     "evalue": "name 'df_yout' is not defined",
     "output_type": "error",
     "traceback": [
      "\u001b[0;31m---------------------------------------------------------------------------\u001b[0m",
      "\u001b[0;31mNameError\u001b[0m                                 Traceback (most recent call last)",
      "\u001b[0;32m<ipython-input-12-01d3baffc175>\u001b[0m in \u001b[0;36m<module>\u001b[0;34m\u001b[0m\n\u001b[1;32m      1\u001b[0m \u001b[0;31m# Display rows with all empty values\u001b[0m\u001b[0;34m\u001b[0m\u001b[0;34m\u001b[0m\u001b[0;34m\u001b[0m\u001b[0m\n\u001b[0;32m----> 2\u001b[0;31m \u001b[0mdf_yout\u001b[0m\u001b[0;34m[\u001b[0m\u001b[0mdf_yout\u001b[0m\u001b[0;34m.\u001b[0m\u001b[0misna\u001b[0m\u001b[0;34m(\u001b[0m\u001b[0;34m)\u001b[0m\u001b[0;34m.\u001b[0m\u001b[0mall\u001b[0m\u001b[0;34m(\u001b[0m\u001b[0maxis\u001b[0m\u001b[0;34m=\u001b[0m\u001b[0;36m1\u001b[0m\u001b[0;34m)\u001b[0m\u001b[0;34m]\u001b[0m\u001b[0;34m\u001b[0m\u001b[0;34m\u001b[0m\u001b[0m\n\u001b[0m",
      "\u001b[0;31mNameError\u001b[0m: name 'df_yout' is not defined"
     ]
    }
   ],
   "source": [
    "# Display rows with all empty values\n",
    "df_yout[df_yout.isna().all(axis=1)]"
   ]
  },
  {
   "cell_type": "markdown",
   "metadata": {},
   "source": [
    "We can see that there are 2123 rows that are completely empty. For this kind of data, there is no problem with removing it. Let's do this.\n",
    "\n",
    "__Hint:__ Use pandas dropna() function, but be careful to specify the correct parameters."
   ]
  },
  {
   "cell_type": "code",
   "execution_count": 47,
   "metadata": {},
   "outputs": [],
   "source": [
    "### EXERCISE CELL ###\n",
    "\n",
    "# Remove rows with these indices from the dataframe\n",
    "#----put your code here----"
   ]
  },
  {
   "cell_type": "code",
   "execution_count": 14,
   "metadata": {},
   "outputs": [
    {
     "ename": "NameError",
     "evalue": "name 'df_yout' is not defined",
     "output_type": "error",
     "traceback": [
      "\u001b[0;31m---------------------------------------------------------------------------\u001b[0m",
      "\u001b[0;31mNameError\u001b[0m                                 Traceback (most recent call last)",
      "\u001b[0;32m<ipython-input-14-b2f6aa964a45>\u001b[0m in \u001b[0;36m<module>\u001b[0;34m\u001b[0m\n\u001b[1;32m      1\u001b[0m \u001b[0;31m# Check if completely empty rows were removed\u001b[0m\u001b[0;34m\u001b[0m\u001b[0;34m\u001b[0m\u001b[0;34m\u001b[0m\u001b[0m\n\u001b[0;32m----> 2\u001b[0;31m \u001b[0mdf_yout\u001b[0m\u001b[0;34m[\u001b[0m\u001b[0mdf_yout\u001b[0m\u001b[0;34m.\u001b[0m\u001b[0misna\u001b[0m\u001b[0;34m(\u001b[0m\u001b[0;34m)\u001b[0m\u001b[0;34m.\u001b[0m\u001b[0mall\u001b[0m\u001b[0;34m(\u001b[0m\u001b[0maxis\u001b[0m\u001b[0;34m=\u001b[0m\u001b[0;36m1\u001b[0m\u001b[0;34m)\u001b[0m\u001b[0;34m]\u001b[0m\u001b[0;34m\u001b[0m\u001b[0;34m\u001b[0m\u001b[0m\n\u001b[0m",
      "\u001b[0;31mNameError\u001b[0m: name 'df_yout' is not defined"
     ]
    }
   ],
   "source": [
    "# Check if completely empty rows were removed \n",
    "df_yout[df_yout.isna().all(axis=1)]"
   ]
  },
  {
   "cell_type": "markdown",
   "metadata": {},
   "source": [
    "### Rows with only video_id\n",
    "\n",
    "Let's now have a look at the rows with only values for video_id and empty values for all other columns."
   ]
  },
  {
   "cell_type": "code",
   "execution_count": 15,
   "metadata": {},
   "outputs": [
    {
     "ename": "NameError",
     "evalue": "name 'df_yout' is not defined",
     "output_type": "error",
     "traceback": [
      "\u001b[0;31m---------------------------------------------------------------------------\u001b[0m",
      "\u001b[0;31mNameError\u001b[0m                                 Traceback (most recent call last)",
      "\u001b[0;32m<ipython-input-15-200e4bb01903>\u001b[0m in \u001b[0;36m<module>\u001b[0;34m\u001b[0m\n\u001b[1;32m      1\u001b[0m \u001b[0;31m# Display rows with empty values for treding_date\u001b[0m\u001b[0;34m\u001b[0m\u001b[0;34m\u001b[0m\u001b[0;34m\u001b[0m\u001b[0m\n\u001b[0;32m----> 2\u001b[0;31m \u001b[0mdf_yout\u001b[0m\u001b[0;34m[\u001b[0m\u001b[0mdf_yout\u001b[0m\u001b[0;34m[\u001b[0m\u001b[0;34m'trending_date'\u001b[0m\u001b[0;34m]\u001b[0m\u001b[0;34m.\u001b[0m\u001b[0misna\u001b[0m\u001b[0;34m(\u001b[0m\u001b[0;34m)\u001b[0m\u001b[0;34m]\u001b[0m\u001b[0;34m\u001b[0m\u001b[0;34m\u001b[0m\u001b[0m\n\u001b[0m",
      "\u001b[0;31mNameError\u001b[0m: name 'df_yout' is not defined"
     ]
    }
   ],
   "source": [
    "# Display rows with empty values for treding_date\n",
    "df_yout[df_yout['trending_date'].isna()]"
   ]
  },
  {
   "cell_type": "markdown",
   "metadata": {},
   "source": [
    "We can see that there are another 320 rows where data is missing for all columns except for video_id. But also the video_id column does not look meaningful. It seems that with these rows there was something wrong during the data collection. Therefore, we can also remove this data."
   ]
  },
  {
   "cell_type": "code",
   "execution_count": 16,
   "metadata": {},
   "outputs": [],
   "source": [
    "### EXERCISE CELL ###\n",
    "\n",
    "# Remove videos with only video_ids\n",
    "\n",
    "#----put your code here----"
   ]
  },
  {
   "cell_type": "code",
   "execution_count": 17,
   "metadata": {},
   "outputs": [
    {
     "ename": "NameError",
     "evalue": "name 'df_yout' is not defined",
     "output_type": "error",
     "traceback": [
      "\u001b[0;31m---------------------------------------------------------------------------\u001b[0m",
      "\u001b[0;31mNameError\u001b[0m                                 Traceback (most recent call last)",
      "\u001b[0;32m<ipython-input-17-f1bea8698d78>\u001b[0m in \u001b[0;36m<module>\u001b[0;34m\u001b[0m\n\u001b[1;32m      1\u001b[0m \u001b[0;31m# Check if data was removed\u001b[0m\u001b[0;34m\u001b[0m\u001b[0;34m\u001b[0m\u001b[0;34m\u001b[0m\u001b[0m\n\u001b[0;32m----> 2\u001b[0;31m \u001b[0mdf_yout\u001b[0m\u001b[0;34m[\u001b[0m\u001b[0mdf_yout\u001b[0m\u001b[0;34m[\u001b[0m\u001b[0;34m'trending_date'\u001b[0m\u001b[0;34m]\u001b[0m\u001b[0;34m.\u001b[0m\u001b[0misna\u001b[0m\u001b[0;34m(\u001b[0m\u001b[0;34m)\u001b[0m\u001b[0;34m]\u001b[0m\u001b[0;34m\u001b[0m\u001b[0;34m\u001b[0m\u001b[0m\n\u001b[0m",
      "\u001b[0;31mNameError\u001b[0m: name 'df_yout' is not defined"
     ]
    }
   ],
   "source": [
    "# Check if data was removed\n",
    "df_yout[df_yout['trending_date'].isna()]"
   ]
  },
  {
   "cell_type": "code",
   "execution_count": 18,
   "metadata": {},
   "outputs": [
    {
     "ename": "NameError",
     "evalue": "name 'df_yout' is not defined",
     "output_type": "error",
     "traceback": [
      "\u001b[0;31m---------------------------------------------------------------------------\u001b[0m",
      "\u001b[0;31mNameError\u001b[0m                                 Traceback (most recent call last)",
      "\u001b[0;32m<ipython-input-18-b3337a5cf594>\u001b[0m in \u001b[0;36m<module>\u001b[0;34m\u001b[0m\n\u001b[1;32m      1\u001b[0m \u001b[0;31m# Final check if there are still empty cells in the dataset\u001b[0m\u001b[0;34m\u001b[0m\u001b[0;34m\u001b[0m\u001b[0;34m\u001b[0m\u001b[0m\n\u001b[0;32m----> 2\u001b[0;31m \u001b[0mdf_yout\u001b[0m\u001b[0;34m.\u001b[0m\u001b[0minfo\u001b[0m\u001b[0;34m(\u001b[0m\u001b[0;34m)\u001b[0m\u001b[0;34m\u001b[0m\u001b[0;34m\u001b[0m\u001b[0m\n\u001b[0m\u001b[1;32m      3\u001b[0m \u001b[0mmissingno\u001b[0m\u001b[0;34m.\u001b[0m\u001b[0mmatrix\u001b[0m\u001b[0;34m(\u001b[0m\u001b[0mdf_yout\u001b[0m\u001b[0;34m,\u001b[0m\u001b[0mfigsize\u001b[0m\u001b[0;34m=\u001b[0m\u001b[0;34m(\u001b[0m\u001b[0;36m20\u001b[0m\u001b[0;34m,\u001b[0m\u001b[0;36m20\u001b[0m\u001b[0;34m)\u001b[0m\u001b[0;34m,\u001b[0m \u001b[0mfontsize\u001b[0m\u001b[0;34m=\u001b[0m\u001b[0;36m12\u001b[0m\u001b[0;34m)\u001b[0m\u001b[0;34m\u001b[0m\u001b[0;34m\u001b[0m\u001b[0m\n",
      "\u001b[0;31mNameError\u001b[0m: name 'df_yout' is not defined"
     ]
    }
   ],
   "source": [
    "# Final check if there are still empty cells in the dataset\n",
    "df_yout.info()\n",
    "missingno.matrix(df_yout,figsize=(20,20), fontsize=12)"
   ]
  },
  {
   "cell_type": "markdown",
   "metadata": {},
   "source": [
    "Now we're left only with rows that have values in all columns. The only exeception is the description column, but here it is possible to have a few empty values, since not all YouTube videos always include a description."
   ]
  },
  {
   "cell_type": "markdown",
   "metadata": {},
   "source": [
    "## Adding category names from JSON files\n",
    "---\n",
    "Before we continue with the data cleaning, let's add the category names to the dataframe - doing this will facilitate the next steps.\n",
    "\n",
    "If you remember well, in the last tutorial we added the category names by manually assigning them to the dataframe. In this tutorial we would like to illustrate how we can do the same by parsing the information from the JSON file supporting the dataset.\n",
    "Before you dive into the code, try to open the JSON file to get a feeling of how it is structured. There are many offline and online JSON viewers available. A list of examples can be found [here](https://prowebscraper.com/blog/best-json-viewer-tools-compared-for-developers/). In Noto, you can also view the file by just doubleclicking on it. \n",
    "\n",
    "Knowing how to parse data from JSON files is useful, because in many cases your main dataset can also be stored as JSON files.\n",
    "\n",
    "In the following, we will use a [dictionary](https://www.w3schools.com/python/python_dictionaries.asp), a Python data structure which often can be quite helpful."
   ]
  },
  {
   "cell_type": "code",
   "execution_count": 19,
   "metadata": {
    "_cell_guid": "c2d20c5c-a239-413b-9880-744fd8da2d64",
    "_kg_hide-input": false,
    "_uuid": "57b70543d2b3e486a62deab1d3e9c88edb13f459"
   },
   "outputs": [
    {
     "data": {
      "text/plain": [
       "{'1': 'Film & Animation',\n",
       " '2': 'Autos & Vehicles',\n",
       " '10': 'Music',\n",
       " '15': 'Pets & Animals',\n",
       " '17': 'Sports',\n",
       " '18': 'Short Movies',\n",
       " '19': 'Travel & Events',\n",
       " '20': 'Gaming',\n",
       " '21': 'Videoblogging',\n",
       " '22': 'People & Blogs',\n",
       " '23': 'Comedy',\n",
       " '24': 'Entertainment',\n",
       " '25': 'News & Politics',\n",
       " '26': 'Howto & Style',\n",
       " '27': 'Education',\n",
       " '28': 'Science & Technology',\n",
       " '30': 'Movies',\n",
       " '31': 'Anime/Animation',\n",
       " '32': 'Action/Adventure',\n",
       " '33': 'Classics',\n",
       " '34': 'Comedy',\n",
       " '35': 'Documentary',\n",
       " '36': 'Drama',\n",
       " '37': 'Family',\n",
       " '38': 'Foreign',\n",
       " '39': 'Horror',\n",
       " '40': 'Sci-Fi/Fantasy',\n",
       " '41': 'Thriller',\n",
       " '42': 'Shorts',\n",
       " '43': 'Shows',\n",
       " '44': 'Trailers'}"
      ]
     },
     "execution_count": 19,
     "metadata": {},
     "output_type": "execute_result"
    }
   ],
   "source": [
    "# Create an empty dictionary\n",
    "category_id = {}\n",
    "\n",
    "# Open supporting JSON file\n",
    "with open('CA_category_id.json', 'r') as f:\n",
    "    data = json.load(f)\n",
    "    # Fill dictionary with relevant information from the JSON file\n",
    "    for category in data['items']:\n",
    "        category_id[category['id']] = category['snippet']['title']\n",
    "        \n",
    "category_id"
   ]
  },
  {
   "cell_type": "markdown",
   "metadata": {},
   "source": [
    "As you can see, we created a dictionary associating the category_id with the corresponding category names based on the information from the JSON. Now we just need to integrate that information in our dataframe. \n",
    "\n",
    "__Hint 1:__ Use pandas map() function\n",
    "\n",
    "__Hint 2:__ Note that the numbers from the dictionary don't have decimals, while our category_id column has. In this case the mapping will not work. Therefore, we will first convert category_id to int to remove the decimals.\n",
    "\n"
   ]
  },
  {
   "cell_type": "code",
   "execution_count": 54,
   "metadata": {},
   "outputs": [],
   "source": [
    "### EXERCISE CELL ###\n",
    "\n",
    "#----put your code here----"
   ]
  },
  {
   "cell_type": "code",
   "execution_count": 20,
   "metadata": {},
   "outputs": [
    {
     "ename": "NameError",
     "evalue": "name 'df_yout' is not defined",
     "output_type": "error",
     "traceback": [
      "\u001b[0;31m---------------------------------------------------------------------------\u001b[0m",
      "\u001b[0;31mNameError\u001b[0m                                 Traceback (most recent call last)",
      "\u001b[0;32m<ipython-input-20-00d35fc61778>\u001b[0m in \u001b[0;36m<module>\u001b[0;34m\u001b[0m\n\u001b[1;32m      1\u001b[0m \u001b[0;31m# Check if category_name column was inserted correctly\u001b[0m\u001b[0;34m\u001b[0m\u001b[0;34m\u001b[0m\u001b[0;34m\u001b[0m\u001b[0m\n\u001b[0;32m----> 2\u001b[0;31m \u001b[0mdf_yout\u001b[0m\u001b[0;34m.\u001b[0m\u001b[0mhead\u001b[0m\u001b[0;34m(\u001b[0m\u001b[0;36m3\u001b[0m\u001b[0;34m)\u001b[0m\u001b[0;34m\u001b[0m\u001b[0;34m\u001b[0m\u001b[0m\n\u001b[0m",
      "\u001b[0;31mNameError\u001b[0m: name 'df_yout' is not defined"
     ]
    }
   ],
   "source": [
    "# Check if category_name column was inserted correctly\n",
    "df_yout.head(3)"
   ]
  },
  {
   "cell_type": "markdown",
   "metadata": {},
   "source": [
    "## Data imputation\n",
    "---\n",
    "\n",
    "Let's now continue with the data cleaning and investigate why the minimum of the views was indicated as -100. Negative values for views don't make sense, so let's see how we can replace them with more reasonable values."
   ]
  },
  {
   "cell_type": "markdown",
   "metadata": {},
   "source": [
    "### Imputation of missing views data\n",
    "\n",
    "Let's first take a look at the concerned rows of videos that are missing the views data."
   ]
  },
  {
   "cell_type": "code",
   "execution_count": 21,
   "metadata": {},
   "outputs": [],
   "source": [
    "### EXERCISE CELL ###\n",
    "\n",
    "# Display all rows with negative values for views \n",
    "#----put your code here----"
   ]
  },
  {
   "cell_type": "markdown",
   "metadata": {},
   "source": [
    "It seems that we have 499 rows for which the data for views is invalid. How should we handle these values? Since all the other columns seem to contain valuable data, it would not make sense to just delete the rows like we did before. Instead, we could try to find ways to replace these invalid values by more resonable ones. This process is called __imputation__ and there are multiple ways to this. A summary of different methods can for instance, be found [here](https://www.researchgate.net/publication/49660163_Best_Practices_for_Missing_Data_Management_in_Counseling_Psychology).\n",
    "\n",
    "Note that there is not ONE optimal method for data imputation. Which method to apply, strongly depends on your data. Therefore, it is crucial to gain as much knowledge as possible about the missing data in order to select appropriate methods.\n",
    "\n",
    "In the following, we will perform different analyses to find out, what could be a meaningful way to impute missing data _for this specific dataset_. With respect to the methods in the above-mentioned reference, the method applied here can be classified as a mix of pattern-matching imputation and regression substitution.\n",
    "\n",
    "Let's check if the subset of data with missing views is substantially different from the rest."
   ]
  },
  {
   "cell_type": "code",
   "execution_count": 22,
   "metadata": {},
   "outputs": [
    {
     "ename": "NameError",
     "evalue": "name 'df_yout' is not defined",
     "output_type": "error",
     "traceback": [
      "\u001b[0;31m---------------------------------------------------------------------------\u001b[0m",
      "\u001b[0;31mNameError\u001b[0m                                 Traceback (most recent call last)",
      "\u001b[0;32m<ipython-input-22-dce73aafc2a3>\u001b[0m in \u001b[0;36m<module>\u001b[0;34m\u001b[0m\n\u001b[1;32m      1\u001b[0m \u001b[0;31m# Extract subset with negative values for views\u001b[0m\u001b[0;34m\u001b[0m\u001b[0;34m\u001b[0m\u001b[0;34m\u001b[0m\u001b[0m\n\u001b[0;32m----> 2\u001b[0;31m \u001b[0mdf_negatives\u001b[0m \u001b[0;34m=\u001b[0m \u001b[0mdf_yout\u001b[0m\u001b[0;34m[\u001b[0m\u001b[0mdf_yout\u001b[0m\u001b[0;34m[\u001b[0m\u001b[0;34m'views'\u001b[0m\u001b[0;34m]\u001b[0m \u001b[0;34m<\u001b[0m \u001b[0;36m0\u001b[0m\u001b[0;34m]\u001b[0m\u001b[0;34m\u001b[0m\u001b[0;34m\u001b[0m\u001b[0m\n\u001b[0m\u001b[1;32m      3\u001b[0m \u001b[0;31m# Extract subset without negative values for views\u001b[0m\u001b[0;34m\u001b[0m\u001b[0;34m\u001b[0m\u001b[0;34m\u001b[0m\u001b[0m\n\u001b[1;32m      4\u001b[0m \u001b[0mdf_rest\u001b[0m \u001b[0;34m=\u001b[0m \u001b[0mdf_yout\u001b[0m\u001b[0;34m[\u001b[0m\u001b[0mdf_yout\u001b[0m\u001b[0;34m[\u001b[0m\u001b[0;34m'views'\u001b[0m\u001b[0;34m]\u001b[0m \u001b[0;34m>=\u001b[0m \u001b[0;36m0\u001b[0m\u001b[0;34m]\u001b[0m\u001b[0;34m\u001b[0m\u001b[0;34m\u001b[0m\u001b[0m\n",
      "\u001b[0;31mNameError\u001b[0m: name 'df_yout' is not defined"
     ]
    }
   ],
   "source": [
    "# Extract subset with negative values for views\n",
    "df_negatives = df_yout[df_yout['views'] < 0]\n",
    "# Extract subset without negative values for views\n",
    "df_rest = df_yout[df_yout['views'] >= 0]"
   ]
  },
  {
   "cell_type": "code",
   "execution_count": 23,
   "metadata": {},
   "outputs": [
    {
     "ename": "NameError",
     "evalue": "name 'df_negatives' is not defined",
     "output_type": "error",
     "traceback": [
      "\u001b[0;31m---------------------------------------------------------------------------\u001b[0m",
      "\u001b[0;31mNameError\u001b[0m                                 Traceback (most recent call last)",
      "\u001b[0;32m<ipython-input-23-74ac9590dc80>\u001b[0m in \u001b[0;36m<module>\u001b[0;34m\u001b[0m\n\u001b[1;32m      1\u001b[0m \u001b[0;31m# Display descriptive statistics for df_negatives\u001b[0m\u001b[0;34m\u001b[0m\u001b[0;34m\u001b[0m\u001b[0;34m\u001b[0m\u001b[0m\n\u001b[0;32m----> 2\u001b[0;31m \u001b[0mdf_negatives\u001b[0m\u001b[0;34m.\u001b[0m\u001b[0mdescribe\u001b[0m\u001b[0;34m(\u001b[0m\u001b[0;34m)\u001b[0m\u001b[0;34m\u001b[0m\u001b[0;34m\u001b[0m\u001b[0m\n\u001b[0m",
      "\u001b[0;31mNameError\u001b[0m: name 'df_negatives' is not defined"
     ]
    }
   ],
   "source": [
    "# Display descriptive statistics for df_negatives\n",
    "df_negatives.describe()"
   ]
  },
  {
   "cell_type": "code",
   "execution_count": 24,
   "metadata": {},
   "outputs": [
    {
     "ename": "NameError",
     "evalue": "name 'df_rest' is not defined",
     "output_type": "error",
     "traceback": [
      "\u001b[0;31m---------------------------------------------------------------------------\u001b[0m",
      "\u001b[0;31mNameError\u001b[0m                                 Traceback (most recent call last)",
      "\u001b[0;32m<ipython-input-24-a371d90557fc>\u001b[0m in \u001b[0;36m<module>\u001b[0;34m\u001b[0m\n\u001b[1;32m      1\u001b[0m \u001b[0;31m# Display descriptive statistics for df_rest\u001b[0m\u001b[0;34m\u001b[0m\u001b[0;34m\u001b[0m\u001b[0;34m\u001b[0m\u001b[0m\n\u001b[0;32m----> 2\u001b[0;31m \u001b[0mdf_rest\u001b[0m\u001b[0;34m.\u001b[0m\u001b[0mdescribe\u001b[0m\u001b[0;34m(\u001b[0m\u001b[0;34m)\u001b[0m\u001b[0;34m\u001b[0m\u001b[0;34m\u001b[0m\u001b[0m\n\u001b[0m",
      "\u001b[0;31mNameError\u001b[0m: name 'df_rest' is not defined"
     ]
    }
   ],
   "source": [
    "# Display descriptive statistics for df_rest\n",
    "df_rest.describe()"
   ]
  },
  {
   "cell_type": "code",
   "execution_count": 25,
   "metadata": {},
   "outputs": [
    {
     "ename": "NameError",
     "evalue": "name 'df_negatives' is not defined",
     "output_type": "error",
     "traceback": [
      "\u001b[0;31m---------------------------------------------------------------------------\u001b[0m",
      "\u001b[0;31mNameError\u001b[0m                                 Traceback (most recent call last)",
      "\u001b[0;32m<ipython-input-25-e097158f3d18>\u001b[0m in \u001b[0;36m<module>\u001b[0;34m\u001b[0m\n\u001b[1;32m      6\u001b[0m \u001b[0;34m\u001b[0m\u001b[0m\n\u001b[1;32m      7\u001b[0m \u001b[0mplt\u001b[0m\u001b[0;34m.\u001b[0m\u001b[0msubplot\u001b[0m\u001b[0;34m(\u001b[0m\u001b[0;36m121\u001b[0m\u001b[0;34m)\u001b[0m\u001b[0;34m\u001b[0m\u001b[0;34m\u001b[0m\u001b[0m\n\u001b[0;32m----> 8\u001b[0;31m \u001b[0mg\u001b[0m \u001b[0;34m=\u001b[0m \u001b[0msns\u001b[0m\u001b[0;34m.\u001b[0m\u001b[0mcountplot\u001b[0m\u001b[0;34m(\u001b[0m\u001b[0mx\u001b[0m\u001b[0;34m=\u001b[0m\u001b[0mdf_negatives\u001b[0m\u001b[0;34m[\u001b[0m\u001b[0;34m'category_name'\u001b[0m\u001b[0;34m]\u001b[0m\u001b[0;34m,\u001b[0m \u001b[0mpalette\u001b[0m\u001b[0;34m=\u001b[0m\u001b[0;34m\"Set2\"\u001b[0m\u001b[0;34m,\u001b[0m \u001b[0morder\u001b[0m\u001b[0;34m=\u001b[0m\u001b[0morder_categories\u001b[0m\u001b[0;34m)\u001b[0m\u001b[0;34m\u001b[0m\u001b[0;34m\u001b[0m\u001b[0m\n\u001b[0m\u001b[1;32m      9\u001b[0m \u001b[0mg\u001b[0m\u001b[0;34m.\u001b[0m\u001b[0mset_xticklabels\u001b[0m\u001b[0;34m(\u001b[0m\u001b[0mg\u001b[0m\u001b[0;34m.\u001b[0m\u001b[0mget_xticklabels\u001b[0m\u001b[0;34m(\u001b[0m\u001b[0;34m)\u001b[0m\u001b[0;34m,\u001b[0m\u001b[0mrotation\u001b[0m\u001b[0;34m=\u001b[0m\u001b[0;36m90\u001b[0m\u001b[0;34m)\u001b[0m\u001b[0;34m\u001b[0m\u001b[0;34m\u001b[0m\u001b[0m\n\u001b[1;32m     10\u001b[0m \u001b[0mg\u001b[0m\u001b[0;34m.\u001b[0m\u001b[0mset_title\u001b[0m\u001b[0;34m(\u001b[0m\u001b[0;34m\"Counts by video category CA (missing views)\"\u001b[0m\u001b[0;34m,\u001b[0m \u001b[0mfontsize\u001b[0m\u001b[0;34m=\u001b[0m\u001b[0;36m15\u001b[0m\u001b[0;34m)\u001b[0m\u001b[0;34m\u001b[0m\u001b[0;34m\u001b[0m\u001b[0m\n",
      "\u001b[0;31mNameError\u001b[0m: name 'df_negatives' is not defined"
     ]
    },
    {
     "data": {
      "image/png": "[encoded data removed]",
      "text/plain": [
       "<Figure size 2016x432 with 1 Axes>"
      ]
     },
     "metadata": {
      "needs_background": "light"
     },
     "output_type": "display_data"
    }
   ],
   "source": [
    "# Plot distribution of video categories for both subsets (taken from Tutorial 1.2)\n",
    "\n",
    "plt.figure(figsize = (28,6))\n",
    "\n",
    "order_categories = category_id.values()\n",
    "\n",
    "plt.subplot(121)\n",
    "g = sns.countplot(x=df_negatives['category_name'], palette=\"Set2\", order=order_categories)\n",
    "g.set_xticklabels(g.get_xticklabels(),rotation=90)\n",
    "g.set_title(\"Counts by video category CA (missing views)\", fontsize=15)\n",
    "g.set_xlabel(\"\", fontsize=12)\n",
    "g.set_ylabel(\"Count\", fontsize=12)\n",
    "#g.set(ylim=(0, 15000))\n",
    "\n",
    "plt.subplot(122)\n",
    "g = sns.countplot(x=df_rest['category_name'], palette=\"Set2\", order=order_categories)\n",
    "g.set_xticklabels(g.get_xticklabels(),rotation=90)\n",
    "g.set_title(\"Counts by video category CA (rest)\", fontsize=15)\n",
    "g.set_xlabel(\"\", fontsize=12)\n",
    "g.set_ylabel(\"Count\", fontsize=12)\n",
    "#g.set(ylim=(0, 15000))\n",
    "\n",
    "plt.show()\n"
   ]
  },
  {
   "cell_type": "markdown",
   "metadata": {},
   "source": [
    "The descriptive statistics for both subgroups show some differences - however, given that the samples in both subsets are very different (499 vs 38232), it is difficult to draw some conclusions. The distribution of categories in both subsets are overall similar, with the difference that the music category is much higher presented in the subset with missing views. Removing this data could therefore introduce a bias. But as mentioned before, the subset with missing views is much smaller than the other subset, therefore, it is hard to conclude if there is some pattern in the missing data. Nevertheless, we can still try to find out how to impute the missing data. \n",
    "\n",
    "To select a proper imputation methos. let's take a closer look at the subset of videos with missing views. Are the videos all different?"
   ]
  },
  {
   "cell_type": "code",
   "execution_count": 26,
   "metadata": {},
   "outputs": [
    {
     "ename": "NameError",
     "evalue": "name 'df_negatives' is not defined",
     "output_type": "error",
     "traceback": [
      "\u001b[0;31m---------------------------------------------------------------------------\u001b[0m",
      "\u001b[0;31mNameError\u001b[0m                                 Traceback (most recent call last)",
      "\u001b[0;32m<ipython-input-26-430c1e1ae9f7>\u001b[0m in \u001b[0;36m<module>\u001b[0;34m\u001b[0m\n\u001b[1;32m      1\u001b[0m \u001b[0;31m# Use the nunique function to determine if the videos in df_negatives are all different\u001b[0m\u001b[0;34m\u001b[0m\u001b[0;34m\u001b[0m\u001b[0;34m\u001b[0m\u001b[0m\n\u001b[0;32m----> 2\u001b[0;31m \u001b[0mdf_negatives\u001b[0m\u001b[0;34m.\u001b[0m\u001b[0mnunique\u001b[0m\u001b[0;34m(\u001b[0m\u001b[0;34m)\u001b[0m\u001b[0;34m\u001b[0m\u001b[0;34m\u001b[0m\u001b[0m\n\u001b[0m",
      "\u001b[0;31mNameError\u001b[0m: name 'df_negatives' is not defined"
     ]
    }
   ],
   "source": [
    "# Use the nunique function to determine if the videos in df_negatives are all different\n",
    "df_negatives.nunique()"
   ]
  },
  {
   "cell_type": "markdown",
   "metadata": {},
   "source": [
    "It can be observed that from the 499 rows, we have 499 unique video_ids, i.e. the videos with missing views are all different. Remember that from the last tutorial we observed that most videos are trending for multiple days. Maybe we can infer the missing data from the other trending days of the same video? Let's look at the all the entries for a random video in df_negatives."
   ]
  },
  {
   "cell_type": "code",
   "execution_count": 27,
   "metadata": {},
   "outputs": [
    {
     "ename": "NameError",
     "evalue": "name 'df_yout' is not defined",
     "output_type": "error",
     "traceback": [
      "\u001b[0;31m---------------------------------------------------------------------------\u001b[0m",
      "\u001b[0;31mNameError\u001b[0m                                 Traceback (most recent call last)",
      "\u001b[0;32m<ipython-input-27-f6728a6b8ae6>\u001b[0m in \u001b[0;36m<module>\u001b[0;34m\u001b[0m\n\u001b[1;32m      1\u001b[0m \u001b[0;31m# Choose one video from df_negatives at random and display all entries of this video in df_yout - implemented in a way such that it can easily be rerun it for several videos one after the other.\u001b[0m\u001b[0;34m\u001b[0m\u001b[0;34m\u001b[0m\u001b[0;34m\u001b[0m\u001b[0m\n\u001b[0;32m----> 2\u001b[0;31m \u001b[0mdf_example\u001b[0m \u001b[0;34m=\u001b[0m \u001b[0mdf_yout\u001b[0m\u001b[0;34m[\u001b[0m\u001b[0mdf_yout\u001b[0m\u001b[0;34m.\u001b[0m\u001b[0mvideo_id\u001b[0m \u001b[0;34m==\u001b[0m \u001b[0mdf_negatives\u001b[0m\u001b[0;34m.\u001b[0m\u001b[0miloc\u001b[0m\u001b[0;34m[\u001b[0m\u001b[0mrandom\u001b[0m\u001b[0;34m.\u001b[0m\u001b[0mrandint\u001b[0m\u001b[0;34m(\u001b[0m\u001b[0;36m1\u001b[0m\u001b[0;34m,\u001b[0m\u001b[0;36m500\u001b[0m\u001b[0;34m)\u001b[0m\u001b[0;34m]\u001b[0m\u001b[0;34m[\u001b[0m\u001b[0;34m'video_id'\u001b[0m\u001b[0;34m]\u001b[0m\u001b[0;34m]\u001b[0m\u001b[0;34m.\u001b[0m\u001b[0mreset_index\u001b[0m\u001b[0;34m(\u001b[0m\u001b[0;34m)\u001b[0m\u001b[0;34m\u001b[0m\u001b[0;34m\u001b[0m\u001b[0m\n\u001b[0m\u001b[1;32m      3\u001b[0m \u001b[0mdisplay\u001b[0m\u001b[0;34m(\u001b[0m\u001b[0mdf_example\u001b[0m\u001b[0;34m)\u001b[0m\u001b[0;34m\u001b[0m\u001b[0;34m\u001b[0m\u001b[0m\n",
      "\u001b[0;31mNameError\u001b[0m: name 'df_yout' is not defined"
     ]
    }
   ],
   "source": [
    "# Choose one video from df_negatives at random and display all entries of this video in df_yout - implemented in a way such that it can easily be rerun it for several videos one after the other.\n",
    "df_example = df_yout[df_yout.video_id == df_negatives.iloc[random.randint(1,500)]['video_id']].reset_index()\n",
    "display(df_example)"
   ]
  },
  {
   "cell_type": "markdown",
   "metadata": {},
   "source": [
    "If you run the above cell multiple times for different videos, you can see that for all videos, there are multiple entries in df_yout. It is always the first one (earliest date) that is missing the views, while the subsequent ones all have meaningful values. Maybe we can use these values to infer the one that is missing? Let's try to visualize the views for the example chosen above:"
   ]
  },
  {
   "cell_type": "code",
   "execution_count": 28,
   "metadata": {},
   "outputs": [],
   "source": [
    "### EXERCISE CELL ###\n",
    "\n",
    "# Plot the values for views for all entries of the video except the first one\n",
    "#----put your code here----"
   ]
  },
  {
   "cell_type": "markdown",
   "metadata": {},
   "source": [
    "If you have plotted the views for several examples, you can see that views are increasing with their trending days (which is quite logical). So we know that the missing value for the first entry is probably lower than all the others. How can we estimate that value? As it can be observed from the graphs, one reasonable method could be linear regression. In Python, this can be very easily implemented using the [scikit-learn library](https://scikit-learn.org/stable/index.html).\n",
    "\n",
    "The following steps can also be found this basic tutorial: https://realpython.com/linear-regression-in-python/"
   ]
  },
  {
   "cell_type": "code",
   "execution_count": 29,
   "metadata": {},
   "outputs": [],
   "source": [
    "# Import linear regression models from scikit-learn\n",
    "from sklearn.linear_model import LinearRegression"
   ]
  },
  {
   "cell_type": "code",
   "execution_count": 30,
   "metadata": {},
   "outputs": [
    {
     "ename": "NameError",
     "evalue": "name 'df_example' is not defined",
     "output_type": "error",
     "traceback": [
      "\u001b[0;31m---------------------------------------------------------------------------\u001b[0m",
      "\u001b[0;31mNameError\u001b[0m                                 Traceback (most recent call last)",
      "\u001b[0;32m<ipython-input-30-02ae2cff2089>\u001b[0m in \u001b[0;36m<module>\u001b[0;34m\u001b[0m\n\u001b[1;32m      1\u001b[0m \u001b[0;31m# Define regressors x and predictors y based on data from example video\u001b[0m\u001b[0;34m\u001b[0m\u001b[0;34m\u001b[0m\u001b[0;34m\u001b[0m\u001b[0m\n\u001b[0;32m----> 2\u001b[0;31m \u001b[0mx\u001b[0m \u001b[0;34m=\u001b[0m \u001b[0mnp\u001b[0m\u001b[0;34m.\u001b[0m\u001b[0marange\u001b[0m\u001b[0;34m(\u001b[0m\u001b[0;36m1\u001b[0m\u001b[0;34m,\u001b[0m\u001b[0mdf_example\u001b[0m\u001b[0;34m.\u001b[0m\u001b[0mshape\u001b[0m\u001b[0;34m[\u001b[0m\u001b[0;36m0\u001b[0m\u001b[0;34m]\u001b[0m\u001b[0;34m)\u001b[0m\u001b[0;34m.\u001b[0m\u001b[0mreshape\u001b[0m\u001b[0;34m(\u001b[0m\u001b[0;34m(\u001b[0m\u001b[0;34m-\u001b[0m\u001b[0;36m1\u001b[0m\u001b[0;34m,\u001b[0m \u001b[0;36m1\u001b[0m\u001b[0;34m)\u001b[0m\u001b[0;34m)\u001b[0m\u001b[0;34m\u001b[0m\u001b[0;34m\u001b[0m\u001b[0m\n\u001b[0m\u001b[1;32m      3\u001b[0m \u001b[0my\u001b[0m \u001b[0;34m=\u001b[0m \u001b[0mnp\u001b[0m\u001b[0;34m.\u001b[0m\u001b[0marray\u001b[0m\u001b[0;34m(\u001b[0m\u001b[0mdf_example\u001b[0m\u001b[0;34m.\u001b[0m\u001b[0miloc\u001b[0m\u001b[0;34m[\u001b[0m\u001b[0;36m1\u001b[0m\u001b[0;34m:\u001b[0m\u001b[0;34m,\u001b[0m\u001b[0;36m8\u001b[0m\u001b[0;34m]\u001b[0m\u001b[0;34m)\u001b[0m\u001b[0;34m\u001b[0m\u001b[0;34m\u001b[0m\u001b[0m\n\u001b[1;32m      4\u001b[0m \u001b[0;34m\u001b[0m\u001b[0m\n\u001b[1;32m      5\u001b[0m \u001b[0;31m# Define model\u001b[0m\u001b[0;34m\u001b[0m\u001b[0;34m\u001b[0m\u001b[0;34m\u001b[0m\u001b[0m\n",
      "\u001b[0;31mNameError\u001b[0m: name 'df_example' is not defined"
     ]
    }
   ],
   "source": [
    "# Define regressors x and predictors y based on data from example video\n",
    "x = np.arange(1,df_example.shape[0]).reshape((-1, 1))\n",
    "y = np.array(df_example.iloc[1:,8])\n",
    "\n",
    "# Define model\n",
    "model = LinearRegression().fit(x, y)\n",
    "\n",
    "# Output model parameters\n",
    "print('coefficient of determination:', model.score(x, y))\n",
    "print('intercept:', model.intercept_)\n",
    "print('slope:', model.coef_)\n",
    "\n",
    "# Estimate missing views value (of course we could have also just directly use the value of model.intercept, since we are estimating the value at 0)\n",
    "views_est = model.predict(np.array([0]).reshape((-1, 1)))\n",
    "print('estimate for missing views value:', views_est)"
   ]
  },
  {
   "cell_type": "markdown",
   "metadata": {},
   "source": [
    "Now that we have found a reasonable solution to imputate the missing views data, we just have to implement it for all the videos with missing views values in df_yout."
   ]
  },
  {
   "cell_type": "code",
   "execution_count": 31,
   "metadata": {},
   "outputs": [],
   "source": [
    "### EXERCISE CELL ###\n",
    "\n",
    "# Iterate over all rows of df_negatives and impute values\n",
    "#----put your code here----"
   ]
  },
  {
   "cell_type": "markdown",
   "metadata": {},
   "source": [
    "Now let's check if our manipulations worked:"
   ]
  },
  {
   "cell_type": "code",
   "execution_count": 32,
   "metadata": {},
   "outputs": [
    {
     "ename": "NameError",
     "evalue": "name 'df_yout' is not defined",
     "output_type": "error",
     "traceback": [
      "\u001b[0;31m---------------------------------------------------------------------------\u001b[0m",
      "\u001b[0;31mNameError\u001b[0m                                 Traceback (most recent call last)",
      "\u001b[0;32m<ipython-input-32-fce3e6c063fd>\u001b[0m in \u001b[0;36m<module>\u001b[0;34m\u001b[0m\n\u001b[1;32m      1\u001b[0m \u001b[0;31m# Display all rows with views smaller than 0\u001b[0m\u001b[0;34m\u001b[0m\u001b[0;34m\u001b[0m\u001b[0;34m\u001b[0m\u001b[0m\n\u001b[0;32m----> 2\u001b[0;31m \u001b[0mdf_yout\u001b[0m\u001b[0;34m.\u001b[0m\u001b[0mloc\u001b[0m\u001b[0;34m[\u001b[0m\u001b[0mdf_yout\u001b[0m\u001b[0;34m[\u001b[0m\u001b[0;34m'views'\u001b[0m\u001b[0;34m]\u001b[0m \u001b[0;34m<\u001b[0m \u001b[0;36m0\u001b[0m\u001b[0;34m]\u001b[0m\u001b[0;34m\u001b[0m\u001b[0;34m\u001b[0m\u001b[0m\n\u001b[0m",
      "\u001b[0;31mNameError\u001b[0m: name 'df_yout' is not defined"
     ]
    }
   ],
   "source": [
    "# Display all rows with views smaller than 0\n",
    "df_yout.loc[df_yout['views'] < 0]"
   ]
  },
  {
   "cell_type": "code",
   "execution_count": 33,
   "metadata": {},
   "outputs": [
    {
     "ename": "NameError",
     "evalue": "name 'df_yout' is not defined",
     "output_type": "error",
     "traceback": [
      "\u001b[0;31m---------------------------------------------------------------------------\u001b[0m",
      "\u001b[0;31mNameError\u001b[0m                                 Traceback (most recent call last)",
      "\u001b[0;32m<ipython-input-33-09fe22e68337>\u001b[0m in \u001b[0;36m<module>\u001b[0;34m\u001b[0m\n\u001b[1;32m      1\u001b[0m \u001b[0;31m# Display descriptive statistics for clean dataset\u001b[0m\u001b[0;34m\u001b[0m\u001b[0;34m\u001b[0m\u001b[0;34m\u001b[0m\u001b[0m\n\u001b[0;32m----> 2\u001b[0;31m \u001b[0mdf_yout\u001b[0m\u001b[0;34m.\u001b[0m\u001b[0mdescribe\u001b[0m\u001b[0;34m(\u001b[0m\u001b[0;34m)\u001b[0m\u001b[0;34m\u001b[0m\u001b[0;34m\u001b[0m\u001b[0m\n\u001b[0m",
      "\u001b[0;31mNameError\u001b[0m: name 'df_yout' is not defined"
     ]
    }
   ],
   "source": [
    "# Display descriptive statistics for clean dataset\n",
    "df_yout.describe()"
   ]
  },
  {
   "cell_type": "markdown",
   "metadata": {},
   "source": [
    "There are no rows with negative entries views left and the minimums for the views columns now also seems to be reasonable. \n",
    "\n",
    "We can now move on the the last part of this tutorial."
   ]
  },
  {
   "cell_type": "markdown",
   "metadata": {},
   "source": [
    "## Data visualizations\n",
    "---\n",
    "Let's now analyze the clean dataset by looking at the overall distributions of views, likes, dislikes and comments. \n",
    "\n",
    "### Distribution of views, likes, dislikes and comments"
   ]
  },
  {
   "cell_type": "code",
   "execution_count": 34,
   "metadata": {},
   "outputs": [
    {
     "ename": "NameError",
     "evalue": "name 'df_yout' is not defined",
     "output_type": "error",
     "traceback": [
      "\u001b[0;31m---------------------------------------------------------------------------\u001b[0m",
      "\u001b[0;31mNameError\u001b[0m                                 Traceback (most recent call last)",
      "\u001b[0;32m<ipython-input-34-ec86b4a83812>\u001b[0m in \u001b[0;36m<module>\u001b[0;34m\u001b[0m\n\u001b[1;32m      4\u001b[0m \u001b[0;31m# Create four subplots (a 2x2 matrix of plots) with distribution plots\u001b[0m\u001b[0;34m\u001b[0m\u001b[0;34m\u001b[0m\u001b[0;34m\u001b[0m\u001b[0m\n\u001b[1;32m      5\u001b[0m \u001b[0mplt\u001b[0m\u001b[0;34m.\u001b[0m\u001b[0msubplot\u001b[0m\u001b[0;34m(\u001b[0m\u001b[0;36m221\u001b[0m\u001b[0;34m)\u001b[0m\u001b[0;34m\u001b[0m\u001b[0;34m\u001b[0m\u001b[0m\n\u001b[0;32m----> 6\u001b[0;31m \u001b[0mg1\u001b[0m \u001b[0;34m=\u001b[0m \u001b[0msns\u001b[0m\u001b[0;34m.\u001b[0m\u001b[0mdistplot\u001b[0m\u001b[0;34m(\u001b[0m\u001b[0mdf_yout\u001b[0m\u001b[0;34m[\u001b[0m\u001b[0;34m'views'\u001b[0m\u001b[0;34m]\u001b[0m\u001b[0;34m)\u001b[0m\u001b[0;34m\u001b[0m\u001b[0;34m\u001b[0m\u001b[0m\n\u001b[0m\u001b[1;32m      7\u001b[0m \u001b[0mg1\u001b[0m\u001b[0;34m.\u001b[0m\u001b[0mset_title\u001b[0m\u001b[0;34m(\u001b[0m\u001b[0;34m\"VIEWS DISTRIBUITION\"\u001b[0m\u001b[0;34m,\u001b[0m \u001b[0mfontsize\u001b[0m\u001b[0;34m=\u001b[0m\u001b[0;36m16\u001b[0m\u001b[0;34m)\u001b[0m\u001b[0;34m\u001b[0m\u001b[0;34m\u001b[0m\u001b[0m\n\u001b[1;32m      8\u001b[0m \u001b[0;34m\u001b[0m\u001b[0m\n",
      "\u001b[0;31mNameError\u001b[0m: name 'df_yout' is not defined"
     ]
    },
    {
     "data": {
      "image/png": "[encoded data removed]",
      "text/plain": [
       "<Figure size 864x432 with 1 Axes>"
      ]
     },
     "metadata": {
      "needs_background": "light"
     },
     "output_type": "display_data"
    }
   ],
   "source": [
    "# Create a new figure with a width of 12 and a height of 6\n",
    "plt.figure(figsize = (12,6))\n",
    "\n",
    "# Create four subplots (a 2x2 matrix of plots) with distribution plots\n",
    "plt.subplot(221)\n",
    "g1 = sns.distplot(df_yout['views'])\n",
    "g1.set_title(\"VIEWS DISTRIBUITION\", fontsize=16)\n",
    "\n",
    "plt.subplot(224)\n",
    "g2 = sns.distplot(df_yout['likes'],color='green')\n",
    "g2.set_title('LIKES DISTRIBUITION', fontsize=16)\n",
    "\n",
    "plt.subplot(223)\n",
    "g3 = sns.distplot(df_yout['dislikes'], color='r')\n",
    "g3.set_title(\"DISLIKES DISTRIBUITION\", fontsize=16)\n",
    "\n",
    "plt.subplot(222)\n",
    "g4 = sns.distplot(df_yout['comment_count'], color='k')\n",
    "g4.set_title(\"COMMENTS DISTRIBUITION\", fontsize=16)\n",
    "\n",
    "plt.subplots_adjust(wspace = 0.2, hspace = 0.4,top = 0.9)\n",
    "\n",
    "plt.show()"
   ]
  },
  {
   "cell_type": "markdown",
   "metadata": {
    "_cell_guid": "39346e35-b697-4d0c-a76e-b66f4a92a41e",
    "_uuid": "ecd2c542990e07e8921a96aaa236033448ba47f7"
   },
   "source": [
    "We can see that all the plots are very right skewed. This will have an effect on data visualizations later on. One way to correct for this is to apply a [log transformation](https://medium.com/@kyawsawhtoon/log-transformation-purpose-and-interpretation-9444b4b049c9)."
   ]
  },
  {
   "cell_type": "code",
   "execution_count": 35,
   "metadata": {},
   "outputs": [
    {
     "ename": "NameError",
     "evalue": "name 'df_yout' is not defined",
     "output_type": "error",
     "traceback": [
      "\u001b[0;31m---------------------------------------------------------------------------\u001b[0m",
      "\u001b[0;31mNameError\u001b[0m                                 Traceback (most recent call last)",
      "\u001b[0;32m<ipython-input-35-61f0faf5a153>\u001b[0m in \u001b[0;36m<module>\u001b[0;34m\u001b[0m\n\u001b[1;32m      1\u001b[0m \u001b[0;31m# Create new columns with transformed values using the Numpy log function.\u001b[0m\u001b[0;34m\u001b[0m\u001b[0;34m\u001b[0m\u001b[0;34m\u001b[0m\u001b[0m\n\u001b[0;32m----> 2\u001b[0;31m \u001b[0mdf_yout\u001b[0m\u001b[0;34m[\u001b[0m\u001b[0;34m'likes_log'\u001b[0m\u001b[0;34m]\u001b[0m \u001b[0;34m=\u001b[0m \u001b[0mnp\u001b[0m\u001b[0;34m.\u001b[0m\u001b[0mlog\u001b[0m\u001b[0;34m(\u001b[0m\u001b[0mdf_yout\u001b[0m\u001b[0;34m[\u001b[0m\u001b[0;34m'likes'\u001b[0m\u001b[0;34m]\u001b[0m \u001b[0;34m+\u001b[0m \u001b[0;36m1\u001b[0m\u001b[0;34m)\u001b[0m\u001b[0;34m\u001b[0m\u001b[0;34m\u001b[0m\u001b[0m\n\u001b[0m\u001b[1;32m      3\u001b[0m \u001b[0mdf_yout\u001b[0m\u001b[0;34m[\u001b[0m\u001b[0;34m'views_log'\u001b[0m\u001b[0;34m]\u001b[0m \u001b[0;34m=\u001b[0m \u001b[0mnp\u001b[0m\u001b[0;34m.\u001b[0m\u001b[0mlog\u001b[0m\u001b[0;34m(\u001b[0m\u001b[0mdf_yout\u001b[0m\u001b[0;34m[\u001b[0m\u001b[0;34m'views'\u001b[0m\u001b[0;34m]\u001b[0m \u001b[0;34m+\u001b[0m \u001b[0;36m1\u001b[0m\u001b[0;34m)\u001b[0m\u001b[0;34m\u001b[0m\u001b[0;34m\u001b[0m\u001b[0m\n\u001b[1;32m      4\u001b[0m \u001b[0mdf_yout\u001b[0m\u001b[0;34m[\u001b[0m\u001b[0;34m'dislikes_log'\u001b[0m\u001b[0;34m]\u001b[0m \u001b[0;34m=\u001b[0m \u001b[0mnp\u001b[0m\u001b[0;34m.\u001b[0m\u001b[0mlog\u001b[0m\u001b[0;34m(\u001b[0m\u001b[0mdf_yout\u001b[0m\u001b[0;34m[\u001b[0m\u001b[0;34m'dislikes'\u001b[0m\u001b[0;34m]\u001b[0m \u001b[0;34m+\u001b[0m \u001b[0;36m1\u001b[0m\u001b[0;34m)\u001b[0m\u001b[0;34m\u001b[0m\u001b[0;34m\u001b[0m\u001b[0m\n\u001b[1;32m      5\u001b[0m \u001b[0mdf_yout\u001b[0m\u001b[0;34m[\u001b[0m\u001b[0;34m'comment_log'\u001b[0m\u001b[0;34m]\u001b[0m \u001b[0;34m=\u001b[0m \u001b[0mnp\u001b[0m\u001b[0;34m.\u001b[0m\u001b[0mlog\u001b[0m\u001b[0;34m(\u001b[0m\u001b[0mdf_yout\u001b[0m\u001b[0;34m[\u001b[0m\u001b[0;34m'comment_count'\u001b[0m\u001b[0;34m]\u001b[0m \u001b[0;34m+\u001b[0m \u001b[0;36m1\u001b[0m\u001b[0;34m)\u001b[0m\u001b[0;34m\u001b[0m\u001b[0;34m\u001b[0m\u001b[0m\n",
      "\u001b[0;31mNameError\u001b[0m: name 'df_yout' is not defined"
     ]
    }
   ],
   "source": [
    "# Create new columns with transformed values using the Numpy log function.\n",
    "df_yout['likes_log'] = np.log(df_yout['likes'] + 1)\n",
    "df_yout['views_log'] = np.log(df_yout['views'] + 1)\n",
    "df_yout['dislikes_log'] = np.log(df_yout['dislikes'] + 1)\n",
    "df_yout['comment_log'] = np.log(df_yout['comment_count'] + 1)"
   ]
  },
  {
   "cell_type": "markdown",
   "metadata": {},
   "source": [
    "__Question:__ Why do we add 1 in each transformation?"
   ]
  },
  {
   "cell_type": "code",
   "execution_count": 36,
   "metadata": {
    "_cell_guid": "e60aa373-b941-4a8d-bebd-984667331a9e",
    "_uuid": "1d3ab5314e4b9744644f21f4cffc2112340e6ac9"
   },
   "outputs": [
    {
     "ename": "NameError",
     "evalue": "name 'df_yout' is not defined",
     "output_type": "error",
     "traceback": [
      "\u001b[0;31m---------------------------------------------------------------------------\u001b[0m",
      "\u001b[0;31mNameError\u001b[0m                                 Traceback (most recent call last)",
      "\u001b[0;32m<ipython-input-36-1603bc7ca3e6>\u001b[0m in \u001b[0;36m<module>\u001b[0;34m\u001b[0m\n\u001b[1;32m      3\u001b[0m \u001b[0;34m\u001b[0m\u001b[0m\n\u001b[1;32m      4\u001b[0m \u001b[0mplt\u001b[0m\u001b[0;34m.\u001b[0m\u001b[0msubplot\u001b[0m\u001b[0;34m(\u001b[0m\u001b[0;36m221\u001b[0m\u001b[0;34m)\u001b[0m\u001b[0;34m\u001b[0m\u001b[0;34m\u001b[0m\u001b[0m\n\u001b[0;32m----> 5\u001b[0;31m \u001b[0mg1\u001b[0m \u001b[0;34m=\u001b[0m \u001b[0msns\u001b[0m\u001b[0;34m.\u001b[0m\u001b[0mdistplot\u001b[0m\u001b[0;34m(\u001b[0m\u001b[0mdf_yout\u001b[0m\u001b[0;34m[\u001b[0m\u001b[0;34m'views_log'\u001b[0m\u001b[0;34m]\u001b[0m\u001b[0;34m)\u001b[0m\u001b[0;34m\u001b[0m\u001b[0;34m\u001b[0m\u001b[0m\n\u001b[0m\u001b[1;32m      6\u001b[0m \u001b[0mg1\u001b[0m\u001b[0;34m.\u001b[0m\u001b[0mset_title\u001b[0m\u001b[0;34m(\u001b[0m\u001b[0;34m\"VIEWS LOG DISTRIBUITION\"\u001b[0m\u001b[0;34m,\u001b[0m \u001b[0mfontsize\u001b[0m\u001b[0;34m=\u001b[0m\u001b[0;36m16\u001b[0m\u001b[0;34m)\u001b[0m\u001b[0;34m\u001b[0m\u001b[0;34m\u001b[0m\u001b[0m\n\u001b[1;32m      7\u001b[0m \u001b[0;34m\u001b[0m\u001b[0m\n",
      "\u001b[0;31mNameError\u001b[0m: name 'df_yout' is not defined"
     ]
    },
    {
     "data": {
      "image/png": "[encoded data removed]",
      "text/plain": [
       "<Figure size 864x432 with 1 Axes>"
      ]
     },
     "metadata": {
      "needs_background": "light"
     },
     "output_type": "display_data"
    }
   ],
   "source": [
    "# Create new distribution plots with transformed data\n",
    "plt.figure(figsize = (12,6))\n",
    "\n",
    "plt.subplot(221)\n",
    "g1 = sns.distplot(df_yout['views_log'])\n",
    "g1.set_title(\"VIEWS LOG DISTRIBUITION\", fontsize=16)\n",
    "\n",
    "plt.subplot(224)\n",
    "g2 = sns.distplot(df_yout['likes_log'],color='green')\n",
    "g2.set_title('LIKES LOG DISTRIBUITION', fontsize=16)\n",
    "\n",
    "plt.subplot(223)\n",
    "g3 = sns.distplot(df_yout['dislikes_log'], color='r')\n",
    "g3.set_title(\"DISLIKES LOG DISTRIBUITION\", fontsize=16)\n",
    "\n",
    "plt.subplot(222)\n",
    "g4 = sns.distplot(df_yout['comment_log'], color='k')\n",
    "g4.set_title(\"COMMENTS LOG DISTRIBUITION\", fontsize=16)\n",
    "\n",
    "plt.subplots_adjust(wspace = 0.2, hspace = 0.4,top = 0.9)\n",
    "\n",
    "plt.show()"
   ]
  },
  {
   "cell_type": "markdown",
   "metadata": {},
   "source": [
    "### Views by category\n",
    "\n",
    "Let's now plot the views by category using [Seaborn's boxplot](https://seaborn.pydata.org/generated/seaborn.boxplot.html) function. To see the effect of the log transformation, plot the data of the original views values in one subplot and the log transformed data in another subplot next to it.  \n"
   ]
  },
  {
   "cell_type": "code",
   "execution_count": 37,
   "metadata": {
    "_cell_guid": "bc2cafbb-117d-4888-91d1-728c49779c4b",
    "_uuid": "3d8566c4903027df72d335f0e1753877762dd15f"
   },
   "outputs": [],
   "source": [
    "### EXERCISE CELL ###\n",
    "\n",
    "# Plot data for original data in left subplot and log transformed data in right subplot\n",
    "#----put your code here----"
   ]
  },
  {
   "cell_type": "markdown",
   "metadata": {
    "_cell_guid": "2939e0d5-8ba9-4f59-94c2-37834b4ce220",
    "_uuid": "7643e5511617fe8a280305dfdb8c5daf1aa047df"
   },
   "source": [
    "### Likes by category\n",
    "\n",
    "Now do the same for the likes."
   ]
  },
  {
   "cell_type": "code",
   "execution_count": 38,
   "metadata": {
    "_cell_guid": "8d5d11bb-eeba-4615-9787-9163f090d5d0",
    "_uuid": "bfcb33bd057c3749b85d92baaf68b436714db798"
   },
   "outputs": [],
   "source": [
    "### EXERCISE CELL ###\n",
    "\n",
    "# Plot data for original data in left subplot and log transformed data in right subplot\n",
    "#----put your code here----"
   ]
  },
  {
   "cell_type": "markdown",
   "metadata": {},
   "source": [
    "### Dislikes by category</h3>\n",
    "\n",
    "Now do the same for the dislikes."
   ]
  },
  {
   "cell_type": "code",
   "execution_count": 39,
   "metadata": {
    "_cell_guid": "31eb1ce1-73df-4ecf-a83f-703d8c05c668",
    "_uuid": "513708f3e3e9e0b50325d2987c89dbeba29001c9"
   },
   "outputs": [],
   "source": [
    "### EXERCISE CELL ###\n",
    "\n",
    "# Plot data for original data in left subplot and log transformed data in right subplot\n",
    "#----put your code here----"
   ]
  },
  {
   "cell_type": "markdown",
   "metadata": {},
   "source": [
    "### Comments by category"
   ]
  },
  {
   "cell_type": "code",
   "execution_count": 40,
   "metadata": {
    "_cell_guid": "2444a85f-100e-4fa6-b5c1-f34c3b7a599e",
    "_uuid": "53c63dcb29f5806de29cc6b79e7ec0ef34ac2084"
   },
   "outputs": [],
   "source": [
    "### EXERCISE CELL ###\n",
    "\n",
    "# Plot data for original data in left subplot and log transformed data in right subplot\n",
    "#----put your code here----"
   ]
  },
  {
   "cell_type": "markdown",
   "metadata": {},
   "source": [
    "You can see that the log transformation helped to visualize some of the differences between categories which would be harder to observe in the original (skewed) data. For instance, it can be seen, that videos from the Movies category have more views and receive more likes than videos from the Shows category. If you observe well, you can also see that there are some similar trends in all four variables. To better observe these relations between variables, we can try to visualize the data using scatter plots."
   ]
  },
  {
   "cell_type": "markdown",
   "metadata": {},
   "source": [
    "### Scatter plots\n",
    "\n",
    "To see relations between variables, let's now use [Seaborn's scatterplot](http://seaborn.pydata.org/generated/seaborn.scatterplot.html) function. Prepare scatter plots for views vs. likes/dislikes/comments. To see the effect of the log transformation, plot the data of the original views values in one subplot and the log transformed data in another subplot next to it. If yo want all plots to fit in one figure, how would you organize the subplots?\n"
   ]
  },
  {
   "cell_type": "code",
   "execution_count": 41,
   "metadata": {},
   "outputs": [],
   "source": [
    "### EXERCISE CELL ###\n",
    "\n",
    "#----put your code here----"
   ]
  },
  {
   "cell_type": "markdown",
   "metadata": {},
   "source": [
    "We can see that indeed, likes, dislikes and views seem to be correlated with the views. The correlation seems to be a bit stronger for dislikes and a bit weaker for comments."
   ]
  },
  {
   "cell_type": "markdown",
   "metadata": {},
   "source": [
    "### Correlations between variables\n",
    "\n",
    "As a last exercise of this tutorial, we want to introduce correlation matrices. Pandas [corr function](https://pandas.pydata.org/pandas-docs/stable/reference/api/pandas.DataFrame.corr.html) allows you to easily calculate correlations between columns of a dataframe, with the possibility to specify the method of correlation (e.g. pearson, kendall etc.). However, we are not interested in correlations between all columns of our YouTube dataframe, but only the ones related to views, likes, dislikes and comments. So before you calculate the correlations, extract a subset of only these columns. Finally, calculate the correlations and visualize them using a Seaborn [heatmap](https://seaborn.pydata.org/generated/seaborn.heatmap.html)."
   ]
  },
  {
   "cell_type": "code",
   "execution_count": 42,
   "metadata": {},
   "outputs": [],
   "source": [
    "### EXERCISE CELL ###\n",
    "\n",
    "#----put your code here----\n"
   ]
  },
  {
   "cell_type": "markdown",
   "metadata": {},
   "source": [
    "The heatmap confirms our observations from the last section. We can see that the strongest correlations can be found between views and dislikes, while the correlation between comments and views is the weakest among all combinations (though still strongly correlated)."
   ]
  },
  {
   "cell_type": "markdown",
   "metadata": {},
   "source": [
    "## Summary\n",
    "---\n",
    "In this notebook, we have seen several important aspects of data handling. We have shown how data can be parsed from JSON files. We have illustrated how missing data can be deleted or imputed with reasonable values. We have shown how different representations can help you gain more insight into datasets, in order to apply appropriate data cleaning methods. Many ideas of the data cleaning procedure described in this notebook can be adapted to other projects. However, always keep in mind that each data set is different and it is crucial to gain as much knowledge about your data as best as possible in order to handle it appropriately. Finally, we have shown some examples of plots (histograms, boxplots, scatter plots and heatmaps) that can help you in exploratory data analysis. In this context, we have also introduced the log transformation as a way to make differences in right skewed data more visible."
   ]
  },
  {
   "cell_type": "code",
   "execution_count": null,
   "metadata": {},
   "outputs": [],
   "source": []
  }
 ],
 "metadata": {
  "kernelspec": {
   "display_name": "myenv",
   "language": "python",
   "name": "myenv"
  },
  "language_info": {
   "codemirror_mode": {
    "name": "ipython",
    "version": 3
   },
   "file_extension": ".py",
   "mimetype": "text/x-python",
   "name": "python",
   "nbconvert_exporter": "python",
   "pygments_lexer": "ipython3",
   "version": "3.6.9"
  }
 },
 "nbformat": 4,
 "nbformat_minor": 4
}
