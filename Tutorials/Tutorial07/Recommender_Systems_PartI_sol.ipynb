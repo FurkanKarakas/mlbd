{
 "cells": [
  {
   "cell_type": "markdown",
   "metadata": {
    "collapsed": true
   },
   "source": [
    "# Tutorial 7 - Recommender Systems Part I  "
   ]
  },
  {
   "cell_type": "markdown",
   "metadata": {},
   "source": [
    "Recommender systems are one of the most common type of predictive model that a person may encounter. They provide the basis for personalized services in several online platforms, such as Amazon, Spotify, and Youtube. There is a myriad of data preparation techniques, algorithms, and model evaluation methods. In this tutorial, we will see how to load and explore datasets with users' feedback and how to play with basic recommendation techniques, such as non-personalized approaches and collaborative filtering approaches. Finally, we will introduce simple evaluation settings for rating prediction tasks. A few other recommendation algorithms and more extensive evaluation settings will be covered in the next lecture and tutorial.  \n",
    "\n",
    "\n",
    "**Expected Tasks**\n",
    "\n",
    "- Follow the recommender systems basic showcase.\n",
    "- Solve a range of exercises throughout the notebook. \n",
    "\n",
    "**Learning Objectives**\n",
    "\n",
    "- Load and explore dataset with users' feedback. \n",
    "- Implement non-personalized recommendation techniques. \n",
    "- Play with a user-based collaborative filtering technique.\n",
    "- Play with an item-based collaborative filtering technique. \n",
    "- Play with an example matrix factorization technique, namely SVD.\n",
    "- Play with a simple evaluation setting for rating prediction tasks."
   ]
  },
  {
   "cell_type": "code",
   "execution_count": 1,
   "metadata": {},
   "outputs": [],
   "source": [
    "import matplotlib.pyplot as plt\n",
    "import seaborn as sns\n",
    "import sklearn as sk\n",
    "import pandas as pd\n",
    "import numpy as np\n",
    "import scipy as sc\n",
    "import math\n",
    "\n",
    "%matplotlib inline"
   ]
  },
  {
   "cell_type": "markdown",
   "metadata": {},
   "source": [
    "## The Movielens 1M data set\n",
    "---\n",
    "\n",
    "**Reference**: Harper, F. M., & Konstan, J. A. (2015). The Movielens Datasets: History and Context. ACM Transactions on Interactive Intelligent Systems (TIIS), 5(4), 1-19. [https://dl.acm.org/doi/10.1145/2827872](https://dl.acm.org/doi/10.1145/2827872). \n",
    "\n",
    "The MovieLens datasets, first released in 1998, describe people’s expressed preferences for movies. These preferences take the form of <user, item, rating, timestamp> tuples, each the result of a person expressing a preference (a 0–5 star rating) for a movie at a particular time. These preferences were entered by way of the MovieLens website, a recommender system that asks its users to give movie ratings in order to receive personalized movie recommendations. \n",
    "\n",
    "The MovieLens datasets are heavily downloaded and referenced in the research literature. This popularity is, to a certain degree, a reflection of the incredible rate of growth of personalization and recommendation research, in which datasets such as these have substantial value in exploring and validating ideas. The popularity might also be attributed to the flexibility of ratings data. Also, because movie preferences are highly subject to personal tastes, the movie domain is well suited to testing personalization technology. Finally, the popularity may reflect the perceived accessibility of movies as a content domain: movies are a common interest, making algorithmic output easy to discuss. \n",
    "\n",
    "In this tutorial, we will play with a small version of a dataset collected from the Movielens platform. Specifically, we will use the MovieLens 1M movie ratings dataset ([https://grouplens.org/datasets/movielens/1m/](https://grouplens.org/datasets/movielens/1m/)), with 1 million ratings from 6000 users on 4000 movies. The dataset includes information about **ratings**, **movies**, **users**. "
   ]
  },
  {
   "cell_type": "markdown",
   "metadata": {},
   "source": [
    "All **ratings** are contained in the file \"ratings.dat\" and are in the following format: user_id::item_id::rating::timestamp. \n",
    "- User IDs range between 1 and 6040. \n",
    "- Item IDs range between 1 and 3952.\n",
    "- Ratings are made on a 5-star scale (whole-star ratings only). \n",
    "- Timestamp is represented in seconds since the epoch as returned by time. \n",
    "- Each user has at least 20 ratings. "
   ]
  },
  {
   "cell_type": "code",
   "execution_count": 2,
   "metadata": {},
   "outputs": [],
   "source": [
    "ratings = pd.read_csv('./ml-1m/ratings.dat', sep='::', names=['user_id', 'item_id', 'rating', 'timestamp'], engine='python')"
   ]
  },
  {
   "cell_type": "code",
   "execution_count": 3,
   "metadata": {},
   "outputs": [
    {
     "data": {
      "text/html": [
       "<div>\n",
       "<style scoped>\n",
       "    .dataframe tbody tr th:only-of-type {\n",
       "        vertical-align: middle;\n",
       "    }\n",
       "\n",
       "    .dataframe tbody tr th {\n",
       "        vertical-align: top;\n",
       "    }\n",
       "\n",
       "    .dataframe thead th {\n",
       "        text-align: right;\n",
       "    }\n",
       "</style>\n",
       "<table border=\"1\" class=\"dataframe\">\n",
       "  <thead>\n",
       "    <tr style=\"text-align: right;\">\n",
       "      <th></th>\n",
       "      <th>user_id</th>\n",
       "      <th>item_id</th>\n",
       "      <th>rating</th>\n",
       "      <th>timestamp</th>\n",
       "    </tr>\n",
       "  </thead>\n",
       "  <tbody>\n",
       "    <tr>\n",
       "      <th>0</th>\n",
       "      <td>1</td>\n",
       "      <td>1193</td>\n",
       "      <td>5</td>\n",
       "      <td>978300760</td>\n",
       "    </tr>\n",
       "    <tr>\n",
       "      <th>1</th>\n",
       "      <td>1</td>\n",
       "      <td>661</td>\n",
       "      <td>3</td>\n",
       "      <td>978302109</td>\n",
       "    </tr>\n",
       "    <tr>\n",
       "      <th>2</th>\n",
       "      <td>1</td>\n",
       "      <td>914</td>\n",
       "      <td>3</td>\n",
       "      <td>978301968</td>\n",
       "    </tr>\n",
       "    <tr>\n",
       "      <th>3</th>\n",
       "      <td>1</td>\n",
       "      <td>3408</td>\n",
       "      <td>4</td>\n",
       "      <td>978300275</td>\n",
       "    </tr>\n",
       "    <tr>\n",
       "      <th>4</th>\n",
       "      <td>1</td>\n",
       "      <td>2355</td>\n",
       "      <td>5</td>\n",
       "      <td>978824291</td>\n",
       "    </tr>\n",
       "  </tbody>\n",
       "</table>\n",
       "</div>"
      ],
      "text/plain": [
       "   user_id  item_id  rating  timestamp\n",
       "0        1     1193       5  978300760\n",
       "1        1      661       3  978302109\n",
       "2        1      914       3  978301968\n",
       "3        1     3408       4  978300275\n",
       "4        1     2355       5  978824291"
      ]
     },
     "execution_count": 3,
     "metadata": {},
     "output_type": "execute_result"
    }
   ],
   "source": [
    "ratings.head()"
   ]
  },
  {
   "cell_type": "markdown",
   "metadata": {},
   "source": [
    "The **movies** information is in the file \"movies.dat\" and is in the following format: item_id::title::genres. \n",
    "\n",
    "- Titles are identical to titles provided by the IMDB (including year of release). \n",
    "- Genres are pipe-separated and are selected from the following genres:\n",
    "\t* Action\n",
    "\t* Adventure\n",
    "\t* Animation\n",
    "\t* Children's\n",
    "\t* Comedy\n",
    "\t* Crime\n",
    "\t* Documentary\n",
    "\t* Drama\n",
    "\t* Fantasy\n",
    "\t* Film-Noir\n",
    "\t* Horror\n",
    "\t* Musical\n",
    "\t* Mystery\n",
    "\t* Romance\n",
    "\t* Sci-Fi\n",
    "\t* Thriller\n",
    "\t* War\n",
    "\t* Western\n",
    "- Some MovieIDs do not correspond to a movie due to accidental duplicate entries and/or test entries. \n",
    "- Movies are mostly entered by hand, so errors and inconsistencies may exist. "
   ]
  },
  {
   "cell_type": "code",
   "execution_count": 4,
   "metadata": {},
   "outputs": [],
   "source": [
    "items = pd.read_csv('./ml-1m/movies.dat', sep='::', names=['item_id', 'title', 'genres'], engine='python')"
   ]
  },
  {
   "cell_type": "code",
   "execution_count": 5,
   "metadata": {},
   "outputs": [
    {
     "data": {
      "text/html": [
       "<div>\n",
       "<style scoped>\n",
       "    .dataframe tbody tr th:only-of-type {\n",
       "        vertical-align: middle;\n",
       "    }\n",
       "\n",
       "    .dataframe tbody tr th {\n",
       "        vertical-align: top;\n",
       "    }\n",
       "\n",
       "    .dataframe thead th {\n",
       "        text-align: right;\n",
       "    }\n",
       "</style>\n",
       "<table border=\"1\" class=\"dataframe\">\n",
       "  <thead>\n",
       "    <tr style=\"text-align: right;\">\n",
       "      <th></th>\n",
       "      <th>item_id</th>\n",
       "      <th>title</th>\n",
       "      <th>genres</th>\n",
       "    </tr>\n",
       "  </thead>\n",
       "  <tbody>\n",
       "    <tr>\n",
       "      <th>0</th>\n",
       "      <td>1</td>\n",
       "      <td>Toy Story (1995)</td>\n",
       "      <td>Animation|Children's|Comedy</td>\n",
       "    </tr>\n",
       "    <tr>\n",
       "      <th>1</th>\n",
       "      <td>2</td>\n",
       "      <td>Jumanji (1995)</td>\n",
       "      <td>Adventure|Children's|Fantasy</td>\n",
       "    </tr>\n",
       "    <tr>\n",
       "      <th>2</th>\n",
       "      <td>3</td>\n",
       "      <td>Grumpier Old Men (1995)</td>\n",
       "      <td>Comedy|Romance</td>\n",
       "    </tr>\n",
       "    <tr>\n",
       "      <th>3</th>\n",
       "      <td>4</td>\n",
       "      <td>Waiting to Exhale (1995)</td>\n",
       "      <td>Comedy|Drama</td>\n",
       "    </tr>\n",
       "    <tr>\n",
       "      <th>4</th>\n",
       "      <td>5</td>\n",
       "      <td>Father of the Bride Part II (1995)</td>\n",
       "      <td>Comedy</td>\n",
       "    </tr>\n",
       "  </tbody>\n",
       "</table>\n",
       "</div>"
      ],
      "text/plain": [
       "   item_id                               title                        genres\n",
       "0        1                    Toy Story (1995)   Animation|Children's|Comedy\n",
       "1        2                      Jumanji (1995)  Adventure|Children's|Fantasy\n",
       "2        3             Grumpier Old Men (1995)                Comedy|Romance\n",
       "3        4            Waiting to Exhale (1995)                  Comedy|Drama\n",
       "4        5  Father of the Bride Part II (1995)                        Comedy"
      ]
     },
     "execution_count": 5,
     "metadata": {},
     "output_type": "execute_result"
    }
   ],
   "source": [
    "items.head()"
   ]
  },
  {
   "cell_type": "markdown",
   "metadata": {},
   "source": [
    "The **user** information is in the file \"users.dat\" and is in the following format: user_id::gender::age::occupation::zip. All demographic information is provided voluntarily by the users and is not checked for accuracy.  Only users who have provided some demographic information are included in this data set.\n",
    "\n",
    "- Gender is denoted by a \"M\" for male and \"F\" for female. \n",
    "- Age is chosen from the following ranges:\n",
    "\t*  1:  \"Under 18\"\n",
    "\t* 18:  \"18-24\"\n",
    "\t* 25:  \"25-34\"\n",
    "\t* 35:  \"35-44\"\n",
    "\t* 45:  \"45-49\"\n",
    "\t* 50:  \"50-55\"\n",
    "\t* 56:  \"56+\"\n",
    "\n",
    "- Occupation is chosen from the following choices:\n",
    "\n",
    "\t*  0:  \"other\" or not specified\n",
    "\t*  1:  \"academic/educator\"\n",
    "\t*  2:  \"artist\"\n",
    "\t*  3:  \"clerical/admin\"\n",
    "\t*  4:  \"college/grad student\"\n",
    "\t*  5:  \"customer service\"\n",
    "\t*  6:  \"doctor/health care\"\n",
    "\t*  7:  \"executive/managerial\"\n",
    "\t*  8:  \"farmer\"\n",
    "\t*  9:  \"homemaker\"\n",
    "\t* 10:  \"K-12 student\"\n",
    "\t* 11:  \"lawyer\"\n",
    "\t* 12:  \"programmer\"\n",
    "\t* 13:  \"retired\"\n",
    "\t* 14:  \"sales/marketing\"\n",
    "\t* 15:  \"scientist\"\n",
    "\t* 16:  \"self-employed\"\n",
    "\t* 17:  \"technician/engineer\"\n",
    "\t* 18:  \"tradesman/craftsman\"\n",
    "\t* 19:  \"unemployed\"\n",
    "\t* 20:  \"writer\"\n"
   ]
  },
  {
   "cell_type": "code",
   "execution_count": 6,
   "metadata": {},
   "outputs": [],
   "source": [
    "users = pd.read_csv('./ml-1m/users.dat', sep='::', names=['user_id', 'gender', 'age', 'occupation', 'zip'], engine='python')"
   ]
  },
  {
   "cell_type": "code",
   "execution_count": 7,
   "metadata": {},
   "outputs": [
    {
     "data": {
      "text/html": [
       "<div>\n",
       "<style scoped>\n",
       "    .dataframe tbody tr th:only-of-type {\n",
       "        vertical-align: middle;\n",
       "    }\n",
       "\n",
       "    .dataframe tbody tr th {\n",
       "        vertical-align: top;\n",
       "    }\n",
       "\n",
       "    .dataframe thead th {\n",
       "        text-align: right;\n",
       "    }\n",
       "</style>\n",
       "<table border=\"1\" class=\"dataframe\">\n",
       "  <thead>\n",
       "    <tr style=\"text-align: right;\">\n",
       "      <th></th>\n",
       "      <th>user_id</th>\n",
       "      <th>gender</th>\n",
       "      <th>age</th>\n",
       "      <th>occupation</th>\n",
       "      <th>zip</th>\n",
       "    </tr>\n",
       "  </thead>\n",
       "  <tbody>\n",
       "    <tr>\n",
       "      <th>0</th>\n",
       "      <td>1</td>\n",
       "      <td>F</td>\n",
       "      <td>1</td>\n",
       "      <td>10</td>\n",
       "      <td>48067</td>\n",
       "    </tr>\n",
       "    <tr>\n",
       "      <th>1</th>\n",
       "      <td>2</td>\n",
       "      <td>M</td>\n",
       "      <td>56</td>\n",
       "      <td>16</td>\n",
       "      <td>70072</td>\n",
       "    </tr>\n",
       "    <tr>\n",
       "      <th>2</th>\n",
       "      <td>3</td>\n",
       "      <td>M</td>\n",
       "      <td>25</td>\n",
       "      <td>15</td>\n",
       "      <td>55117</td>\n",
       "    </tr>\n",
       "    <tr>\n",
       "      <th>3</th>\n",
       "      <td>4</td>\n",
       "      <td>M</td>\n",
       "      <td>45</td>\n",
       "      <td>7</td>\n",
       "      <td>02460</td>\n",
       "    </tr>\n",
       "    <tr>\n",
       "      <th>4</th>\n",
       "      <td>5</td>\n",
       "      <td>M</td>\n",
       "      <td>25</td>\n",
       "      <td>20</td>\n",
       "      <td>55455</td>\n",
       "    </tr>\n",
       "  </tbody>\n",
       "</table>\n",
       "</div>"
      ],
      "text/plain": [
       "   user_id gender  age  occupation    zip\n",
       "0        1      F    1          10  48067\n",
       "1        2      M   56          16  70072\n",
       "2        3      M   25          15  55117\n",
       "3        4      M   45           7  02460\n",
       "4        5      M   25          20  55455"
      ]
     },
     "execution_count": 7,
     "metadata": {},
     "output_type": "execute_result"
    }
   ],
   "source": [
    "users.head()"
   ]
  },
  {
   "cell_type": "markdown",
   "metadata": {},
   "source": [
    "## Preliminary exploration\n",
    "---\n",
    "\n",
    "A preliminary exploratory analysis can allow us to uncover the underlying structure of a data set and is important because it exposes trends, patterns, and relationships about the users' feedback that are not readily apparent. Due to the time constraints, in this tutorial, we cover only some basic explorative steps aimed at inspecting the distribution of ratings across users and items. We will provide you some hints on other aspects you can consider in your exploratory analysis and, based on the time during the tutorial or after the tutorial you can work on top of those hints.   "
   ]
  },
  {
   "cell_type": "markdown",
   "metadata": {},
   "source": [
    "Compute the total number of ratings, the number of unique users, and the number of unique items. "
   ]
  },
  {
   "cell_type": "code",
   "execution_count": 8,
   "metadata": {},
   "outputs": [
    {
     "data": {
      "text/plain": [
       "(1000209, 6040, 3706)"
      ]
     },
     "execution_count": 8,
     "metadata": {},
     "output_type": "execute_result"
    }
   ],
   "source": [
    "### EXERCISE CELL ###\n",
    "len(ratings), len(ratings['user_id'].unique()), len(ratings['item_id'].unique())"
   ]
  },
  {
   "cell_type": "markdown",
   "metadata": {},
   "source": [
    "Plot the distribution of ratings. "
   ]
  },
  {
   "cell_type": "code",
   "execution_count": 9,
   "metadata": {},
   "outputs": [
    {
     "data": {
      "image/png": "[encoded data removed]",
      "text/plain": [
       "<Figure size 432x288 with 1 Axes>"
      ]
     },
     "metadata": {
      "needs_background": "light"
     },
     "output_type": "display_data"
    }
   ],
   "source": [
    "### EXERCISE CELL ###\n",
    "plt.title('Rating distribution')\n",
    "ratings_dist = ratings.groupby('rating')['rating'].count()\n",
    "ratings_dist.plot(kind='bar')\n",
    "plt.xlabel('Rating score')\n",
    "plt.ylabel('#Instances')\n",
    "plt.ylim([0, 355000])\n",
    "plt.grid(axis='y')\n",
    "plt.tight_layout()\n",
    "plt.show()"
   ]
  },
  {
   "cell_type": "markdown",
   "metadata": {},
   "source": [
    "Plot the distribution of (i) the number of ratings per user and (ii) the number of ratings per item."
   ]
  },
  {
   "cell_type": "code",
   "execution_count": 10,
   "metadata": {},
   "outputs": [
    {
     "data": {
      "image/png": "[encoded data removed]",
      "text/plain": [
       "<Figure size 864x288 with 2 Axes>"
      ]
     },
     "metadata": {
      "needs_background": "light"
     },
     "output_type": "display_data"
    }
   ],
   "source": [
    "### EXERCISE CELL ###\n",
    "plt.figure(figsize=(12, 4))\n",
    "\n",
    "plt.subplot(1, 2, 1)\n",
    "plt.title('Ratings per user distribution')\n",
    "ratings_per_user = ratings.groupby('user_id')['rating'].count()\n",
    "ratings_per_user.hist()\n",
    "plt.ylim([0, 5000])\n",
    "plt.xlim([0, 3500])\n",
    "plt.xlabel('#Ratings')\n",
    "plt.ylabel('#Users')\n",
    "\n",
    "plt.subplot(1, 2, 2)\n",
    "plt.title('Ratings per item distribution')\n",
    "ratings_per_item = ratings.groupby('item_id')['rating'].count()\n",
    "ratings_per_item.hist()\n",
    "plt.ylim([0, 5000])\n",
    "plt.xlim([0, 3500])\n",
    "plt.xlabel('#Ratings')\n",
    "plt.ylabel('#Items')\n",
    "\n",
    "plt.tight_layout()\n",
    "plt.show()"
   ]
  },
  {
   "cell_type": "markdown",
   "metadata": {},
   "source": [
    "Plot the distribution of (i) the average rating per user and (ii) the average rating per item."
   ]
  },
  {
   "cell_type": "code",
   "execution_count": 11,
   "metadata": {},
   "outputs": [
    {
     "data": {
      "image/png": "[encoded data removed]",
      "text/plain": [
       "<Figure size 864x288 with 2 Axes>"
      ]
     },
     "metadata": {
      "needs_background": "light"
     },
     "output_type": "display_data"
    }
   ],
   "source": [
    "### EXERCISE CELL ###\n",
    "plt.figure(figsize=(12, 4))\n",
    "\n",
    "plt.subplot(1, 2, 1)\n",
    "plt.title('Avg rating per user distribution')\n",
    "ratings_per_user = ratings.groupby('user_id')['rating'].mean()\n",
    "ratings_per_user.hist()\n",
    "plt.xlim([1, 5])\n",
    "plt.ylim([0, 2250])\n",
    "plt.xlabel('Rating score')\n",
    "plt.ylabel('#Instances')\n",
    "\n",
    "plt.subplot(1, 2, 2)\n",
    "plt.title('Avg rating per item distribution')\n",
    "ratings_per_item = ratings.groupby('item_id')['rating'].mean()\n",
    "ratings_per_item.hist()\n",
    "plt.xlim([1, 5])\n",
    "plt.ylim([0, 2250])\n",
    "plt.xlabel('Rating score')\n",
    "plt.ylabel('#Instances')\n",
    "\n",
    "plt.tight_layout()\n",
    "plt.show()"
   ]
  },
  {
   "cell_type": "markdown",
   "metadata": {},
   "source": [
    "What can you observed from the above plots? Which other explorative tasks could be useful to get more insights on the data set?\n",
    "\n",
    "\n",
    "The above explorative plots represent just a few examples of the multitude analyses you can run to better know the data set at hand. We invite you to inspect any other possible explorative task that may be need and discuss it during the tutorial. \n",
    "\n",
    "Other explorations may involve the following aspects, for instance:\n",
    "- relationships between ratings distribution for specific segments of users or items (e.g., the average rating given by users across item genres);\n",
    "- relantionships between ratings and timestamps that can be useful to understand the extent to which the release of ratings changes across time;\n",
    "- and so on.... "
   ]
  },
  {
   "cell_type": "markdown",
   "metadata": {},
   "source": [
    "## Preliminary pre-processing\n",
    "\n",
    "Based on the findings of your exploratory analysis, you may need to pre-process the data set accordingly. For instance, from the above number of ratings per item distribution, it can be observed that there are a lot of items which have received only a few ratings. Recommendations for that items can become noisy, and we usually do not want to provide recommendations for items by relying on ratings provided by only a few users. Hence, we can filter only items which have received at minimum number of ratings. In the following cell, you can provide the code to filter only ratings for items that received at least $50$ ratings. "
   ]
  },
  {
   "cell_type": "code",
   "execution_count": 12,
   "metadata": {},
   "outputs": [
    {
     "data": {
      "text/plain": [
       "(977839, 6040, 2514)"
      ]
     },
     "execution_count": 12,
     "metadata": {},
     "output_type": "execute_result"
    }
   ],
   "source": [
    "### EXERCISE CELL ###\n",
    "ratings_per_item = ratings.groupby('item_id')['rating'].count()\n",
    "items_to_remove = ratings_per_item[ratings_per_item < 50]\n",
    "ratings = ratings[~ratings['item_id'].isin(items_to_remove.index)]\n",
    "\n",
    "len(ratings), len(ratings['user_id'].unique()), len(ratings['item_id'].unique())"
   ]
  },
  {
   "cell_type": "markdown",
   "metadata": {},
   "source": [
    "This is just an example of how your exploratory analysis may drive your decisions on the subsequent steps of the recommendation pipeline. We invite you to inspect any other possible pre-processing task that may be need and discuss it during the tutorial. \n",
    "\n",
    "Note that pre-processing tasks related to the evaluation of a recommender system (e.g., train-test splits) will be covered in the next week's tutorial, where we will delve into the evaluation methods and performance metrics used to assess the quality of recommendations provided to users. "
   ]
  },
  {
   "cell_type": "markdown",
   "metadata": {},
   "source": [
    "## Non-personalized recommendation\n",
    "---\n",
    "\n",
    "Non-personalized recommendations are usually where most platforms start because it is easy and does not require that you know anything specific about the users. Non-personalized recommendations are good because you can always show those, despite how little you know about the users. In same cases, it is said that non-personalized recommendations should only be shown until the platform knows enough about the user to show more personalized recommendations, but this is not generally true, given that people is usually interested in what is popular or appreciated by their peers, on average. Furthermore, it has been often proved that non-personalized recommender systems are good baselines (we will see this deeply in the next tutorial). Therefore, in this section, we will generate non-personalized recommendations according to same well-known indicators. "
   ]
  },
  {
   "cell_type": "markdown",
   "metadata": {},
   "source": [
    "Extend the items dataframe with the additional columns: average rating and number of received ratings."
   ]
  },
  {
   "cell_type": "code",
   "execution_count": 13,
   "metadata": {},
   "outputs": [
    {
     "data": {
      "text/html": [
       "<div>\n",
       "<style scoped>\n",
       "    .dataframe tbody tr th:only-of-type {\n",
       "        vertical-align: middle;\n",
       "    }\n",
       "\n",
       "    .dataframe tbody tr th {\n",
       "        vertical-align: top;\n",
       "    }\n",
       "\n",
       "    .dataframe thead th {\n",
       "        text-align: right;\n",
       "    }\n",
       "</style>\n",
       "<table border=\"1\" class=\"dataframe\">\n",
       "  <thead>\n",
       "    <tr style=\"text-align: right;\">\n",
       "      <th></th>\n",
       "      <th>item_id</th>\n",
       "      <th>title</th>\n",
       "      <th>genres</th>\n",
       "      <th>avg_rating</th>\n",
       "      <th>num_ratings</th>\n",
       "    </tr>\n",
       "  </thead>\n",
       "  <tbody>\n",
       "    <tr>\n",
       "      <th>0</th>\n",
       "      <td>1</td>\n",
       "      <td>Toy Story (1995)</td>\n",
       "      <td>Animation|Children's|Comedy</td>\n",
       "      <td>4.146846</td>\n",
       "      <td>2077</td>\n",
       "    </tr>\n",
       "    <tr>\n",
       "      <th>1</th>\n",
       "      <td>2</td>\n",
       "      <td>Jumanji (1995)</td>\n",
       "      <td>Adventure|Children's|Fantasy</td>\n",
       "      <td>3.201141</td>\n",
       "      <td>701</td>\n",
       "    </tr>\n",
       "    <tr>\n",
       "      <th>2</th>\n",
       "      <td>3</td>\n",
       "      <td>Grumpier Old Men (1995)</td>\n",
       "      <td>Comedy|Romance</td>\n",
       "      <td>3.016736</td>\n",
       "      <td>478</td>\n",
       "    </tr>\n",
       "    <tr>\n",
       "      <th>3</th>\n",
       "      <td>4</td>\n",
       "      <td>Waiting to Exhale (1995)</td>\n",
       "      <td>Comedy|Drama</td>\n",
       "      <td>2.729412</td>\n",
       "      <td>170</td>\n",
       "    </tr>\n",
       "    <tr>\n",
       "      <th>4</th>\n",
       "      <td>5</td>\n",
       "      <td>Father of the Bride Part II (1995)</td>\n",
       "      <td>Comedy</td>\n",
       "      <td>3.006757</td>\n",
       "      <td>296</td>\n",
       "    </tr>\n",
       "  </tbody>\n",
       "</table>\n",
       "</div>"
      ],
      "text/plain": [
       "   item_id                               title                        genres  \\\n",
       "0        1                    Toy Story (1995)   Animation|Children's|Comedy   \n",
       "1        2                      Jumanji (1995)  Adventure|Children's|Fantasy   \n",
       "2        3             Grumpier Old Men (1995)                Comedy|Romance   \n",
       "3        4            Waiting to Exhale (1995)                  Comedy|Drama   \n",
       "4        5  Father of the Bride Part II (1995)                        Comedy   \n",
       "\n",
       "   avg_rating  num_ratings  \n",
       "0    4.146846         2077  \n",
       "1    3.201141          701  \n",
       "2    3.016736          478  \n",
       "3    2.729412          170  \n",
       "4    3.006757          296  "
      ]
     },
     "execution_count": 13,
     "metadata": {},
     "output_type": "execute_result"
    }
   ],
   "source": [
    "### EXERCISE CELL ###\n",
    "\n",
    "# Create a dataframe with information about the average rating per item\n",
    "avg_ratings = ratings.groupby('item_id')['rating'].mean()\n",
    "avg_ratings.name = 'avg_rating'\n",
    "avg_ratings.head()\n",
    "\n",
    "# Create a dataframe with information about the number of received ratings per item\n",
    "num_ratings = ratings.groupby('item_id')['rating'].count()\n",
    "num_ratings.name = 'num_ratings'\n",
    "num_ratings.head()\n",
    "\n",
    "# Merge the two create dataframes with the original items dataframe\n",
    "items = items.merge(avg_ratings, left_on='item_id', right_index=True)\n",
    "items = items.merge(num_ratings, left_on='item_id', right_index=True)\n",
    "\n",
    "# Show the extended items dataframe\n",
    "items.head()"
   ]
  },
  {
   "cell_type": "markdown",
   "metadata": {},
   "source": [
    "Sort items by decreasing average rating and show the dataframe rows for the top 10 items with the highest average rating. "
   ]
  },
  {
   "cell_type": "code",
   "execution_count": 14,
   "metadata": {},
   "outputs": [
    {
     "data": {
      "text/html": [
       "<div>\n",
       "<style scoped>\n",
       "    .dataframe tbody tr th:only-of-type {\n",
       "        vertical-align: middle;\n",
       "    }\n",
       "\n",
       "    .dataframe tbody tr th {\n",
       "        vertical-align: top;\n",
       "    }\n",
       "\n",
       "    .dataframe thead th {\n",
       "        text-align: right;\n",
       "    }\n",
       "</style>\n",
       "<table border=\"1\" class=\"dataframe\">\n",
       "  <thead>\n",
       "    <tr style=\"text-align: right;\">\n",
       "      <th></th>\n",
       "      <th>item_id</th>\n",
       "      <th>title</th>\n",
       "      <th>genres</th>\n",
       "      <th>avg_rating</th>\n",
       "      <th>num_ratings</th>\n",
       "    </tr>\n",
       "  </thead>\n",
       "  <tbody>\n",
       "    <tr>\n",
       "      <th>2836</th>\n",
       "      <td>2905</td>\n",
       "      <td>Sanjuro (1962)</td>\n",
       "      <td>Action|Adventure</td>\n",
       "      <td>4.608696</td>\n",
       "      <td>69</td>\n",
       "    </tr>\n",
       "    <tr>\n",
       "      <th>1950</th>\n",
       "      <td>2019</td>\n",
       "      <td>Seven Samurai (The Magnificent Seven) (Shichin...</td>\n",
       "      <td>Action|Drama</td>\n",
       "      <td>4.560510</td>\n",
       "      <td>628</td>\n",
       "    </tr>\n",
       "    <tr>\n",
       "      <th>315</th>\n",
       "      <td>318</td>\n",
       "      <td>Shawshank Redemption, The (1994)</td>\n",
       "      <td>Drama</td>\n",
       "      <td>4.554558</td>\n",
       "      <td>2227</td>\n",
       "    </tr>\n",
       "    <tr>\n",
       "      <th>847</th>\n",
       "      <td>858</td>\n",
       "      <td>Godfather, The (1972)</td>\n",
       "      <td>Action|Crime|Drama</td>\n",
       "      <td>4.524966</td>\n",
       "      <td>2223</td>\n",
       "    </tr>\n",
       "    <tr>\n",
       "      <th>735</th>\n",
       "      <td>745</td>\n",
       "      <td>Close Shave, A (1995)</td>\n",
       "      <td>Animation|Comedy|Thriller</td>\n",
       "      <td>4.520548</td>\n",
       "      <td>657</td>\n",
       "    </tr>\n",
       "    <tr>\n",
       "      <th>49</th>\n",
       "      <td>50</td>\n",
       "      <td>Usual Suspects, The (1995)</td>\n",
       "      <td>Crime|Thriller</td>\n",
       "      <td>4.517106</td>\n",
       "      <td>1783</td>\n",
       "    </tr>\n",
       "    <tr>\n",
       "      <th>523</th>\n",
       "      <td>527</td>\n",
       "      <td>Schindler's List (1993)</td>\n",
       "      <td>Drama|War</td>\n",
       "      <td>4.510417</td>\n",
       "      <td>2304</td>\n",
       "    </tr>\n",
       "    <tr>\n",
       "      <th>1132</th>\n",
       "      <td>1148</td>\n",
       "      <td>Wrong Trousers, The (1993)</td>\n",
       "      <td>Animation|Comedy</td>\n",
       "      <td>4.507937</td>\n",
       "      <td>882</td>\n",
       "    </tr>\n",
       "    <tr>\n",
       "      <th>910</th>\n",
       "      <td>922</td>\n",
       "      <td>Sunset Blvd. (a.k.a. Sunset Boulevard) (1950)</td>\n",
       "      <td>Film-Noir</td>\n",
       "      <td>4.491489</td>\n",
       "      <td>470</td>\n",
       "    </tr>\n",
       "    <tr>\n",
       "      <th>1180</th>\n",
       "      <td>1198</td>\n",
       "      <td>Raiders of the Lost Ark (1981)</td>\n",
       "      <td>Action|Adventure</td>\n",
       "      <td>4.477725</td>\n",
       "      <td>2514</td>\n",
       "    </tr>\n",
       "  </tbody>\n",
       "</table>\n",
       "</div>"
      ],
      "text/plain": [
       "      item_id                                              title  \\\n",
       "2836     2905                                     Sanjuro (1962)   \n",
       "1950     2019  Seven Samurai (The Magnificent Seven) (Shichin...   \n",
       "315       318                   Shawshank Redemption, The (1994)   \n",
       "847       858                              Godfather, The (1972)   \n",
       "735       745                              Close Shave, A (1995)   \n",
       "49         50                         Usual Suspects, The (1995)   \n",
       "523       527                            Schindler's List (1993)   \n",
       "1132     1148                         Wrong Trousers, The (1993)   \n",
       "910       922      Sunset Blvd. (a.k.a. Sunset Boulevard) (1950)   \n",
       "1180     1198                     Raiders of the Lost Ark (1981)   \n",
       "\n",
       "                         genres  avg_rating  num_ratings  \n",
       "2836           Action|Adventure    4.608696           69  \n",
       "1950               Action|Drama    4.560510          628  \n",
       "315                       Drama    4.554558         2227  \n",
       "847          Action|Crime|Drama    4.524966         2223  \n",
       "735   Animation|Comedy|Thriller    4.520548          657  \n",
       "49               Crime|Thriller    4.517106         1783  \n",
       "523                   Drama|War    4.510417         2304  \n",
       "1132           Animation|Comedy    4.507937          882  \n",
       "910                   Film-Noir    4.491489          470  \n",
       "1180           Action|Adventure    4.477725         2514  "
      ]
     },
     "execution_count": 14,
     "metadata": {},
     "output_type": "execute_result"
    }
   ],
   "source": [
    "### EXERCISE CELL ###\n",
    "items.sort_values('avg_rating', ascending=False).head(10)"
   ]
  },
  {
   "cell_type": "markdown",
   "metadata": {},
   "source": [
    "Sort items by decreasing number of received ratings and show the dataframe rows for the top 10 items with the highest  number of received ratings. "
   ]
  },
  {
   "cell_type": "code",
   "execution_count": 15,
   "metadata": {},
   "outputs": [
    {
     "data": {
      "text/html": [
       "<div>\n",
       "<style scoped>\n",
       "    .dataframe tbody tr th:only-of-type {\n",
       "        vertical-align: middle;\n",
       "    }\n",
       "\n",
       "    .dataframe tbody tr th {\n",
       "        vertical-align: top;\n",
       "    }\n",
       "\n",
       "    .dataframe thead th {\n",
       "        text-align: right;\n",
       "    }\n",
       "</style>\n",
       "<table border=\"1\" class=\"dataframe\">\n",
       "  <thead>\n",
       "    <tr style=\"text-align: right;\">\n",
       "      <th></th>\n",
       "      <th>item_id</th>\n",
       "      <th>title</th>\n",
       "      <th>genres</th>\n",
       "      <th>avg_rating</th>\n",
       "      <th>num_ratings</th>\n",
       "    </tr>\n",
       "  </thead>\n",
       "  <tbody>\n",
       "    <tr>\n",
       "      <th>2789</th>\n",
       "      <td>2858</td>\n",
       "      <td>American Beauty (1999)</td>\n",
       "      <td>Comedy|Drama</td>\n",
       "      <td>4.317386</td>\n",
       "      <td>3428</td>\n",
       "    </tr>\n",
       "    <tr>\n",
       "      <th>257</th>\n",
       "      <td>260</td>\n",
       "      <td>Star Wars: Episode IV - A New Hope (1977)</td>\n",
       "      <td>Action|Adventure|Fantasy|Sci-Fi</td>\n",
       "      <td>4.453694</td>\n",
       "      <td>2991</td>\n",
       "    </tr>\n",
       "    <tr>\n",
       "      <th>1178</th>\n",
       "      <td>1196</td>\n",
       "      <td>Star Wars: Episode V - The Empire Strikes Back...</td>\n",
       "      <td>Action|Adventure|Drama|Sci-Fi|War</td>\n",
       "      <td>4.292977</td>\n",
       "      <td>2990</td>\n",
       "    </tr>\n",
       "    <tr>\n",
       "      <th>1192</th>\n",
       "      <td>1210</td>\n",
       "      <td>Star Wars: Episode VI - Return of the Jedi (1983)</td>\n",
       "      <td>Action|Adventure|Romance|Sci-Fi|War</td>\n",
       "      <td>4.022893</td>\n",
       "      <td>2883</td>\n",
       "    </tr>\n",
       "    <tr>\n",
       "      <th>476</th>\n",
       "      <td>480</td>\n",
       "      <td>Jurassic Park (1993)</td>\n",
       "      <td>Action|Adventure|Sci-Fi</td>\n",
       "      <td>3.763847</td>\n",
       "      <td>2672</td>\n",
       "    </tr>\n",
       "    <tr>\n",
       "      <th>1959</th>\n",
       "      <td>2028</td>\n",
       "      <td>Saving Private Ryan (1998)</td>\n",
       "      <td>Action|Drama|War</td>\n",
       "      <td>4.337354</td>\n",
       "      <td>2653</td>\n",
       "    </tr>\n",
       "    <tr>\n",
       "      <th>585</th>\n",
       "      <td>589</td>\n",
       "      <td>Terminator 2: Judgment Day (1991)</td>\n",
       "      <td>Action|Sci-Fi|Thriller</td>\n",
       "      <td>4.058513</td>\n",
       "      <td>2649</td>\n",
       "    </tr>\n",
       "    <tr>\n",
       "      <th>2502</th>\n",
       "      <td>2571</td>\n",
       "      <td>Matrix, The (1999)</td>\n",
       "      <td>Action|Sci-Fi|Thriller</td>\n",
       "      <td>4.315830</td>\n",
       "      <td>2590</td>\n",
       "    </tr>\n",
       "    <tr>\n",
       "      <th>1250</th>\n",
       "      <td>1270</td>\n",
       "      <td>Back to the Future (1985)</td>\n",
       "      <td>Comedy|Sci-Fi</td>\n",
       "      <td>3.990321</td>\n",
       "      <td>2583</td>\n",
       "    </tr>\n",
       "    <tr>\n",
       "      <th>589</th>\n",
       "      <td>593</td>\n",
       "      <td>Silence of the Lambs, The (1991)</td>\n",
       "      <td>Drama|Thriller</td>\n",
       "      <td>4.351823</td>\n",
       "      <td>2578</td>\n",
       "    </tr>\n",
       "  </tbody>\n",
       "</table>\n",
       "</div>"
      ],
      "text/plain": [
       "      item_id                                              title  \\\n",
       "2789     2858                             American Beauty (1999)   \n",
       "257       260          Star Wars: Episode IV - A New Hope (1977)   \n",
       "1178     1196  Star Wars: Episode V - The Empire Strikes Back...   \n",
       "1192     1210  Star Wars: Episode VI - Return of the Jedi (1983)   \n",
       "476       480                               Jurassic Park (1993)   \n",
       "1959     2028                         Saving Private Ryan (1998)   \n",
       "585       589                  Terminator 2: Judgment Day (1991)   \n",
       "2502     2571                                 Matrix, The (1999)   \n",
       "1250     1270                          Back to the Future (1985)   \n",
       "589       593                   Silence of the Lambs, The (1991)   \n",
       "\n",
       "                                   genres  avg_rating  num_ratings  \n",
       "2789                         Comedy|Drama    4.317386         3428  \n",
       "257       Action|Adventure|Fantasy|Sci-Fi    4.453694         2991  \n",
       "1178    Action|Adventure|Drama|Sci-Fi|War    4.292977         2990  \n",
       "1192  Action|Adventure|Romance|Sci-Fi|War    4.022893         2883  \n",
       "476               Action|Adventure|Sci-Fi    3.763847         2672  \n",
       "1959                     Action|Drama|War    4.337354         2653  \n",
       "585                Action|Sci-Fi|Thriller    4.058513         2649  \n",
       "2502               Action|Sci-Fi|Thriller    4.315830         2590  \n",
       "1250                        Comedy|Sci-Fi    3.990321         2583  \n",
       "589                        Drama|Thriller    4.351823         2578  "
      ]
     },
     "execution_count": 15,
     "metadata": {},
     "output_type": "execute_result"
    }
   ],
   "source": [
    "### EXERCISE CELL ###\n",
    "items.sort_values('num_ratings', ascending=False).head(10)"
   ]
  },
  {
   "cell_type": "markdown",
   "metadata": {},
   "source": [
    "Another common non-personalized recommendation approach is based on the time the item is released, that is the year the movie has been released, in our data set. Therefore, we can show a list with the 10 most recent items, by sorting items according to the release date that is included in the movie title. To this end, we can first extent the items dataframe with a column entitled \"release_date\" and then appropriately sort the resulting dataframe according to this column. "
   ]
  },
  {
   "cell_type": "code",
   "execution_count": 16,
   "metadata": {},
   "outputs": [
    {
     "data": {
      "text/html": [
       "<div>\n",
       "<style scoped>\n",
       "    .dataframe tbody tr th:only-of-type {\n",
       "        vertical-align: middle;\n",
       "    }\n",
       "\n",
       "    .dataframe tbody tr th {\n",
       "        vertical-align: top;\n",
       "    }\n",
       "\n",
       "    .dataframe thead th {\n",
       "        text-align: right;\n",
       "    }\n",
       "</style>\n",
       "<table border=\"1\" class=\"dataframe\">\n",
       "  <thead>\n",
       "    <tr style=\"text-align: right;\">\n",
       "      <th></th>\n",
       "      <th>item_id</th>\n",
       "      <th>title</th>\n",
       "      <th>genres</th>\n",
       "      <th>avg_rating</th>\n",
       "      <th>num_ratings</th>\n",
       "      <th>release_date</th>\n",
       "    </tr>\n",
       "  </thead>\n",
       "  <tbody>\n",
       "    <tr>\n",
       "      <th>3882</th>\n",
       "      <td>3952</td>\n",
       "      <td>Contender, The (2000)</td>\n",
       "      <td>Drama|Thriller</td>\n",
       "      <td>3.780928</td>\n",
       "      <td>388</td>\n",
       "      <td>2000</td>\n",
       "    </tr>\n",
       "    <tr>\n",
       "      <th>3682</th>\n",
       "      <td>3751</td>\n",
       "      <td>Chicken Run (2000)</td>\n",
       "      <td>Animation|Children's|Comedy</td>\n",
       "      <td>3.879609</td>\n",
       "      <td>1329</td>\n",
       "      <td>2000</td>\n",
       "    </tr>\n",
       "    <tr>\n",
       "      <th>3446</th>\n",
       "      <td>3515</td>\n",
       "      <td>Me Myself I (2000)</td>\n",
       "      <td>Comedy</td>\n",
       "      <td>3.187500</td>\n",
       "      <td>192</td>\n",
       "      <td>2000</td>\n",
       "    </tr>\n",
       "    <tr>\n",
       "      <th>3465</th>\n",
       "      <td>3534</td>\n",
       "      <td>28 Days (2000)</td>\n",
       "      <td>Comedy</td>\n",
       "      <td>3.065347</td>\n",
       "      <td>505</td>\n",
       "      <td>2000</td>\n",
       "    </tr>\n",
       "    <tr>\n",
       "      <th>3466</th>\n",
       "      <td>3535</td>\n",
       "      <td>American Psycho (2000)</td>\n",
       "      <td>Comedy|Horror|Thriller</td>\n",
       "      <td>3.219048</td>\n",
       "      <td>630</td>\n",
       "      <td>2000</td>\n",
       "    </tr>\n",
       "    <tr>\n",
       "      <th>3467</th>\n",
       "      <td>3536</td>\n",
       "      <td>Keeping the Faith (2000)</td>\n",
       "      <td>Comedy|Romance</td>\n",
       "      <td>3.748466</td>\n",
       "      <td>489</td>\n",
       "      <td>2000</td>\n",
       "    </tr>\n",
       "    <tr>\n",
       "      <th>3485</th>\n",
       "      <td>3554</td>\n",
       "      <td>Love and Basketball (2000)</td>\n",
       "      <td>Drama|Romance</td>\n",
       "      <td>3.453782</td>\n",
       "      <td>119</td>\n",
       "      <td>2000</td>\n",
       "    </tr>\n",
       "    <tr>\n",
       "      <th>3486</th>\n",
       "      <td>3555</td>\n",
       "      <td>U-571 (2000)</td>\n",
       "      <td>Action|Thriller</td>\n",
       "      <td>3.539648</td>\n",
       "      <td>908</td>\n",
       "      <td>2000</td>\n",
       "    </tr>\n",
       "    <tr>\n",
       "      <th>3495</th>\n",
       "      <td>3564</td>\n",
       "      <td>Flintstones in Viva Rock Vegas, The (2000)</td>\n",
       "      <td>Children's|Comedy</td>\n",
       "      <td>1.804688</td>\n",
       "      <td>128</td>\n",
       "      <td>2000</td>\n",
       "    </tr>\n",
       "    <tr>\n",
       "      <th>3496</th>\n",
       "      <td>3565</td>\n",
       "      <td>Where the Heart Is (2000)</td>\n",
       "      <td>Comedy|Drama</td>\n",
       "      <td>3.267148</td>\n",
       "      <td>277</td>\n",
       "      <td>2000</td>\n",
       "    </tr>\n",
       "  </tbody>\n",
       "</table>\n",
       "</div>"
      ],
      "text/plain": [
       "      item_id                                       title  \\\n",
       "3882     3952                       Contender, The (2000)   \n",
       "3682     3751                          Chicken Run (2000)   \n",
       "3446     3515                          Me Myself I (2000)   \n",
       "3465     3534                              28 Days (2000)   \n",
       "3466     3535                      American Psycho (2000)   \n",
       "3467     3536                    Keeping the Faith (2000)   \n",
       "3485     3554                  Love and Basketball (2000)   \n",
       "3486     3555                                U-571 (2000)   \n",
       "3495     3564  Flintstones in Viva Rock Vegas, The (2000)   \n",
       "3496     3565                   Where the Heart Is (2000)   \n",
       "\n",
       "                           genres  avg_rating  num_ratings  release_date  \n",
       "3882               Drama|Thriller    3.780928          388          2000  \n",
       "3682  Animation|Children's|Comedy    3.879609         1329          2000  \n",
       "3446                       Comedy    3.187500          192          2000  \n",
       "3465                       Comedy    3.065347          505          2000  \n",
       "3466       Comedy|Horror|Thriller    3.219048          630          2000  \n",
       "3467               Comedy|Romance    3.748466          489          2000  \n",
       "3485                Drama|Romance    3.453782          119          2000  \n",
       "3486              Action|Thriller    3.539648          908          2000  \n",
       "3495            Children's|Comedy    1.804688          128          2000  \n",
       "3496                 Comedy|Drama    3.267148          277          2000  "
      ]
     },
     "execution_count": 16,
     "metadata": {},
     "output_type": "execute_result"
    }
   ],
   "source": [
    "### EXERCISE CELL ###\n",
    "items['release_date'] = items['title'].apply(lambda x: int(x.split('(')[-1][:4]))\n",
    "items.sort_values('release_date', ascending=False).head(10)"
   ]
  },
  {
   "cell_type": "markdown",
   "metadata": {},
   "source": [
    "Which other non-personalized approaches could you apply to this data set? How do they relate with the recommendation domain? We invite you to think about this aspect during the tutorial and, during or after the tutorial, you could extend this part with additional non-personalized approaches. We invite you to think, inspect, and discuss this aspect during the tutorial. \n",
    "\n",
    "What we provided above represents just a few examples of non-personalized approaches you could consider. Other approaches may consider the following indicators, for instance:\n",
    "- create a list of most popular items (i.e., with the highest number of received ratings) for each genre;\n",
    "- create a list with the most popular items in the last period of time (e.g., the last year);\n",
    "- and so on.... "
   ]
  },
  {
   "cell_type": "markdown",
   "metadata": {},
   "source": [
    "## Personalized recommendation\n",
    "\n",
    "Personalized recommendations are often part of a platform personalization strategy wherein listof suggested items are dynamically populated to a user on a webpage, app, or email based on data such as customer attributes, browsing behavior, or situational context. In this tutorial, we will provide personalized recommendations according to the explicit feedback (ratings) provided by each user to movies. \n",
    "\n",
    "\n",
    "To experiment with different algorithms, we will rely on [Surprise](http://surpriselib.com/), a Python scikit for building and analyzing recommender systems that deal with explicit rating data. The Surprise code is available on [Github](https://github.com/NicolasHug/Surprise), so you could easily inspect how each algorithm has been implemented in detail. While it is in maintainance mode, it represents one of the simplest packages to adopt to start working with baseline algorithms, and it can be still used to run experiments on baseline algorithms you can compare against your recommendation strategy (in a possible class project). One of the main features is that it provides an interface similar to that in scikit-learn.   \n",
    "\n",
    "From the documentation, we report here some of the key components of the library:\n",
    "\n",
    "- Give users perfect control over their experiments. To this end, a strong emphasis is laid on documentation, which we have tried to make as clear and precise as possible by pointing out every detail of the algorithms.\n",
    "- Alleviate the pain of Dataset handling. Users can use both built-in datasets (Movielens, Jester), and their own custom datasets.\n",
    "- Provide various ready-to-use prediction algorithms such as baseline algorithms, neighborhood methods, matrix factorization-based ( SVD, PMF, SVD++, NMF), and many others. Also, various similarity measures (cosine, MSD, pearson…) are built-in.\n",
    "- Make it easy to implement new algorithm ideas.\n",
    "- Provide tools to evaluate, analyse and compare the algorithms’ performance. Cross-validation procedures can be run very easily using powerful CV iterators (inspired by scikit-learn excellent tools), as well as exhaustive search over a set of parameters.\n",
    "\n",
    "Please, consider that there are many other Python packages for recommendation, such as [LensKit](https://lenskit.org/), [Elliot](https://github.com/sisinflab/elliot), [LightFM](https://github.com/lyst/lightfm), [TensorRec](https://github.com/jfkirk/tensorrec), and [TensorflowRecommender](https://www.tensorflow.org/recommenders). "
   ]
  },
  {
   "cell_type": "markdown",
   "metadata": {},
   "source": [
    "### Package installation"
   ]
  },
  {
   "cell_type": "markdown",
   "metadata": {},
   "source": [
    "First, we install the Surprise package.  "
   ]
  },
  {
   "cell_type": "code",
   "execution_count": 17,
   "metadata": {},
   "outputs": [
    {
     "name": "stdout",
     "output_type": "stream",
     "text": [
      "Requirement already satisfied: surprise in c:\\users\\mirko\\appdata\\local\\programs\\python\\python36\\lib\\site-packages (0.1)\n",
      "Requirement already satisfied: scikit-surprise in c:\\users\\mirko\\appdata\\local\\programs\\python\\python36\\lib\\site-packages (from surprise) (1.1.1)\n",
      "Requirement already satisfied: joblib>=0.11 in c:\\users\\mirko\\appdata\\local\\programs\\python\\python36\\lib\\site-packages (from scikit-surprise->surprise) (0.17.0)\n",
      "Requirement already satisfied: six>=1.10.0 in c:\\users\\mirko\\appdata\\local\\programs\\python\\python36\\lib\\site-packages (from scikit-surprise->surprise) (1.15.0)\n",
      "Requirement already satisfied: scipy>=1.0.0 in c:\\users\\mirko\\appdata\\local\\programs\\python\\python36\\lib\\site-packages (from scikit-surprise->surprise) (1.5.2)\n",
      "Requirement already satisfied: numpy>=1.11.2 in c:\\users\\mirko\\appdata\\local\\programs\\python\\python36\\lib\\site-packages (from scikit-surprise->surprise) (1.19.2)\n",
      "Note: you may need to restart the kernel to use updated packages.\n"
     ]
    },
    {
     "name": "stderr",
     "output_type": "stream",
     "text": [
      "You are using pip version 18.1, however version 21.0.1 is available.\n",
      "You should consider upgrading via the 'python -m pip install --upgrade pip' command.\n"
     ]
    }
   ],
   "source": [
    "%pip install surprise "
   ]
  },
  {
   "cell_type": "markdown",
   "metadata": {},
   "source": [
    "### Data loading\n",
    "\n",
    "Given that we have already load a dataframe with our ratings, we need to properly initialize a Surprise's dataset object by using the method <code>Dataset.load_from_df</code>. This method takes as an input a dataframe with three columns (user_id, item_id, and rating, in that order) and a Reader object which defines the rating scale. "
   ]
  },
  {
   "cell_type": "code",
   "execution_count": 18,
   "metadata": {},
   "outputs": [],
   "source": [
    "from surprise import Dataset, Reader\n",
    "\n",
    "data = Dataset.load_from_df(ratings[['user_id', 'item_id', 'rating']], Reader(rating_scale=(1, 5)))"
   ]
  },
  {
   "cell_type": "markdown",
   "metadata": {},
   "source": [
    "Note that Surprise also includes pre-defined routines to download and load well-known datasets, such as other versions of the Movielens dataset, e.g., <code>data = Dataset.load_builtin('ml-100k')</code> to load the Movielens 100k data set. Please, find more information in the [Dataset](https://surprise.readthedocs.io/en/stable/dataset.html) module description. "
   ]
  },
  {
   "cell_type": "markdown",
   "metadata": {},
   "source": [
    "### Data splitting\n",
    "\n",
    "Often, we are interested in training our recommendation model on a portion of the data set and testing on another unseen portion of the data set. In this tutorial, we apply a train_test_split() strategy to sample a trainset and a testset with given sizes. We will also see how to run a cross-validation evaluation method in brief. Please, note that both the evaluation methods (train_test_split and cross-validation) implemented in Surprise randomly split ratings in training and test sets (folds). While this has been extensively done in the literature, there are other splitting strategies that allow us to have evaluation scenarios better connected with the usage of the recommendation model in the real-world. We will cover these additional splitting strategies in the next lecture and lab session. "
   ]
  },
  {
   "cell_type": "code",
   "execution_count": 19,
   "metadata": {},
   "outputs": [],
   "source": [
    "from surprise.model_selection import train_test_split\n",
    "trainset, testset = train_test_split(data, test_size=.25)"
   ]
  },
  {
   "cell_type": "markdown",
   "metadata": {},
   "source": [
    "### Model initialization\n",
    "\n",
    "Once you have loaded and splitted your data, it is time to decide the recommendation algorithm you want to use according to the analytical dimensions we have seen in last lecture. In this tutorial, we will just consider the memory-based collaborative filtering approaches (user-based and item-based) and the Singular Value Decomposition (SVD) approach covered in last lecture. "
   ]
  },
  {
   "cell_type": "markdown",
   "metadata": {},
   "source": [
    "#### Memory-based approaches\n",
    "\n",
    "Collaborative filtering is an approach for making automatic predictions (filtering) about the interests of a user by collecting the **preferences from many users** (collaborative). This can be especially relevant for the end-users, since these recommendations are derived from their and **other’s user-interactions** with the platform and can help them make a relevant selection of all items. The underlying assumptions of a collaborative filtering approach is that “if person A has the same opinion as person B on an item, A is more likely to have B’s opinion on a different item than a randomly chosen person”. It has proven its usefulness in systems implemented by Netflix, Spotify, Amazon and the like.\n",
    "\n",
    "Specifically, in the lecture, we have covered two strategies:\n",
    "- In a user-based collaborative filtering approach, for a user U, with a set of similar users determined based on rating vectors consisting of given item ratings, the rating for an item I, which hasn’t been rated, is found by picking out N users from the similarity list who have rated the item I and calculating the rating based on these N ratings.\n",
    "- In a item-based collaborative filtering approach, for an item I, with a set of similar items determined based on rating vectors consisting of received user ratings, the rating by a user U, who hasn’t rated it, is found by picking out N items from the similarity list that have been rated by U and calculating the rating based on these N ratings.\n",
    "\n",
    "These two strategies are implemented in Surprise via the [KNNs](https://surprise.readthedocs.io/en/stable/knn_inspired.html#k-nn-inspired-algorithms) object. An important parameter for these k-NN-based algorithms in Surprise is <code>sim_options</code>, which describes options for similarity calculation. Using sim_options, you can set how similarity is calculated, such as similarity metrics. Specifically:\n",
    "- With <code>'user_based'=True</code>, you could implement a user-based approach; with <code>'user_based'=False</code> an item-based approach is implemented.\n",
    "- With the key <code>'name'</code>, you can set the similarity/distance measure for the corresponding approach. The default setting is using the Mean Squared Difference (<code>MSD</code>). However, we have seen how Pearson Correlation (<code>pearson</code>) can be used in case of a user-based approach and cosine similarity (<code>cosine</code>) or its variants can be used for an item-based approach.  \n",
    "\n",
    "Another important parameter is represented by <code>k</code> (int), i.e., the maximum number of neighbors to take into account for aggregation. Default is 40."
   ]
  },
  {
   "cell_type": "code",
   "execution_count": 20,
   "metadata": {},
   "outputs": [],
   "source": [
    "from surprise import KNNBasic\n",
    "\n",
    "sim_options = {'name': 'pearson', 'user_based': 'True'}\n",
    "userknn_basic = KNNBasic(k=10, sim_options = sim_options) # user-based collaborative filtering"
   ]
  },
  {
   "cell_type": "code",
   "execution_count": 21,
   "metadata": {},
   "outputs": [],
   "source": [
    "sim_options = {'name': 'cosine', 'user_based': 'False'}\n",
    "itemknn_basic = KNNBasic(k=10, sim_options = sim_options) # item-based collaborative filtering"
   ]
  },
  {
   "cell_type": "markdown",
   "metadata": {},
   "source": [
    "The above approaches do not take into account the mean ratings of each user in the prediction formula. As we have seen in the lecture, taking into account the mean ratings of each user is important to ensure that noisy patterns in the ratings do not negatively influence the predictions. To consider mean ratings of each user, you should use the Surprise's <code>KNNWithMeans</code> object. More information on the formulas and the parameters can be found [here](https://surprise.readthedocs.io/en/stable/knn_inspired.html#surprise.prediction_algorithms.knns.KNNWithMeans).   "
   ]
  },
  {
   "cell_type": "code",
   "execution_count": 22,
   "metadata": {},
   "outputs": [],
   "source": [
    "from surprise import KNNWithMeans\n",
    "\n",
    "sim_options = {'name': 'pearson', 'user_based': 'True'}\n",
    "userknn_means = KNNWithMeans(k=10, sim_options = sim_options) # user-based collaborative filtering, mean ratings "
   ]
  },
  {
   "cell_type": "code",
   "execution_count": 23,
   "metadata": {},
   "outputs": [],
   "source": [
    "sim_options = {'name': 'cosine', 'user_based': 'False'}\n",
    "itemknn_means = KNNWithMeans(k=10, sim_options = sim_options) # item-based collaborative filtering, mean ratings "
   ]
  },
  {
   "cell_type": "markdown",
   "metadata": {},
   "source": [
    "In the lecture, we have also seen how to include a baseline rating estimate. To implement this aspect in Surprise, you should use the Surprise's <code>KNNBaseline</code> object. More information on the formulas and the parameters can be found [here](https://surprise.readthedocs.io/en/stable/knn_inspired.html#surprise.prediction_algorithms.knns.KNNBaseline).   "
   ]
  },
  {
   "cell_type": "code",
   "execution_count": 24,
   "metadata": {},
   "outputs": [],
   "source": [
    "from surprise import KNNBaseline\n",
    "\n",
    "sim_options = {'name': 'pearson', 'user_based': 'True'}\n",
    "bsl_options = {'method': 'sgd'}\n",
    "userknn_base = KNNBaseline(k=10, sim_options = sim_options, bsl_options = bsl_options) # user-based collaborative filtering, baseline rating "
   ]
  },
  {
   "cell_type": "code",
   "execution_count": 25,
   "metadata": {},
   "outputs": [],
   "source": [
    "sim_options = {'name': 'cosine', 'user_based': 'False'}\n",
    "itemknn_base = KNNBaseline(k=10, sim_options = sim_options, bsl_options = bsl_options) # item-based collaborative filtering, baseline rating"
   ]
  },
  {
   "cell_type": "markdown",
   "metadata": {},
   "source": [
    "#### Model-based approaches\n",
    "\n",
    "Given that often the rating matrix is mostly empty, **reducing dimensions** can improve the performance of the algorithm in terms of both space and time. This lead use to approaches which involve a step to reduce or compress the large but sparse user-item matrix. Matrix factorization can be seen as **breaking down a large matrix** into a **product of smaller ones**. This is similar to the factorization of integers, where 12 can be written as 6 x 2 or 4 x 3. In the case of matrices, a matrix A with dimensions m x n can be reduced to a product of two matrices X and Y with dimensions m x p and p x n respectively (in matrix multiplication, a matrix X can be multiplied by Y only if the number of columns in X is equal to the number of rows in Y. Therefore the two reduced matrices have a common dimension p). The reduced matrices actually represent the users and items individually. The m rows in the first matrix represent the m users, and the p columns tell you about the features or characteristics of the users. The same goes for the item matrix with n items and p characteristics. \n",
    "\n",
    "One of the popular algorithms to factorize a matrix is the **Singular Value Decomposition (SVD)** algorithm. Collaborative Filtering can be formulated by approximating a matrix $R$ by using singular value decomposition. The winning team at the Netflix Prize competition used SVD matrix factorization models to produce product recommendations. \n",
    "\n",
    "The general equation can be expressed as $R = U \\Sigma V^T$\n",
    "\n",
    "Given $m x n$ matrix $R$:\n",
    "- $U$ is an ($m x r$) orthogonal matrix. \n",
    "- $\\Sigma$ is an ($r x r$) diagonal matrix with non-negative real numbers on the diagonal. \n",
    "- $V^T$ is an ($r x n$) orthogonal matrix. \n",
    "\n",
    "Elements on the diagonal in $\\Sigma$ are known as singular values of $R$. Matrix $R$ can be factorized to $U$, $\\Sigma$ and $V$. The $U$ matrix represents the feature vectors corresponding to the users in the hidden feature space and the $V$ matrix represents the feature vectors corresponding to the items in the hidden feature space. The predictions can be made by taking product of $U$, $\\Sigma$ and $V^T$.\n",
    "\n",
    "The Surprise package includes an object named <code>SVD</code> which implements this approach. Specifically, among the main parameters taken by the SVD object, the following ones are included:\n",
    "- n_factors: the number of factors. Default is 100.\n",
    "- n_epochs: the number of iteration of the SGD procedure. Default is 20.\n",
    "- biased (bool): whether to use baselines (or biases) estimations. Default is True.\n",
    "\n",
    "Please, find more information about SVD and other matrix factorization approaches [here](https://surprise.readthedocs.io/en/stable/matrix_factorization.html). "
   ]
  },
  {
   "cell_type": "code",
   "execution_count": 26,
   "metadata": {},
   "outputs": [],
   "source": [
    "from surprise import SVD\n",
    "svd = SVD(n_factors=10)"
   ]
  },
  {
   "cell_type": "markdown",
   "metadata": {},
   "source": [
    "Carelessly addressing only the relatively few known entries is highly prone to overfitting. SVD can be very slow and computationally expensive. More recent work minimizes the squared error by applying alternating least square or stochastic gradient descent and uses regularization terms to prevent overfitting, as we will see in the following lecture and lab session. "
   ]
  },
  {
   "cell_type": "markdown",
   "metadata": {},
   "source": [
    "### Model fitting\n",
    "\n",
    "Now, we are ready to fit our model. Similarly to scikit-learn, we need to call the method <code>fit</code> on the model object. We will fit the mode with the training data previously prepared, namely <code>trainset</code>. "
   ]
  },
  {
   "cell_type": "code",
   "execution_count": 27,
   "metadata": {},
   "outputs": [
    {
     "name": "stdout",
     "output_type": "stream",
     "text": [
      "Wall time: 18 s\n"
     ]
    },
    {
     "data": {
      "text/plain": [
       "<surprise.prediction_algorithms.matrix_factorization.SVD at 0x236832fa0b8>"
      ]
     },
     "execution_count": 27,
     "metadata": {},
     "output_type": "execute_result"
    }
   ],
   "source": [
    "%time svd.fit(trainset)"
   ]
  },
  {
   "cell_type": "markdown",
   "metadata": {},
   "source": [
    "### Rating prediction\n",
    "\n",
    "Once we have fitted our model, we can predict the ratings on the test set <code>testset</code>. To get predictions on the full test set, Surprise requirs you to use the <code>test</code> method. "
   ]
  },
  {
   "cell_type": "code",
   "execution_count": 28,
   "metadata": {},
   "outputs": [
    {
     "name": "stdout",
     "output_type": "stream",
     "text": [
      "Wall time: 2.89 s\n"
     ]
    }
   ],
   "source": [
    "%time predictions = svd.test(testset)"
   ]
  },
  {
   "cell_type": "markdown",
   "metadata": {},
   "source": [
    "We show the first five predictions."
   ]
  },
  {
   "cell_type": "code",
   "execution_count": 29,
   "metadata": {},
   "outputs": [
    {
     "data": {
      "text/plain": [
       "[Prediction(uid=563, iid=2010, r_ui=3.0, est=3.643971810026659, details={'was_impossible': False}),\n",
       " Prediction(uid=4014, iid=1374, r_ui=5.0, est=4.656177677492348, details={'was_impossible': False}),\n",
       " Prediction(uid=23, iid=3000, r_ui=4.0, est=3.729322752234926, details={'was_impossible': False}),\n",
       " Prediction(uid=238, iid=1096, r_ui=5.0, est=3.8583972036164518, details={'was_impossible': False}),\n",
       " Prediction(uid=3108, iid=2145, r_ui=3.0, est=3.345707028742338, details={'was_impossible': False})]"
      ]
     },
     "execution_count": 29,
     "metadata": {},
     "output_type": "execute_result"
    }
   ],
   "source": [
    "predictions[:5]"
   ]
  },
  {
   "cell_type": "markdown",
   "metadata": {},
   "source": [
    "The above predictions are sorted according to the testset. This is confirmed by showing the first five interactions in the test set.  "
   ]
  },
  {
   "cell_type": "code",
   "execution_count": 30,
   "metadata": {},
   "outputs": [
    {
     "data": {
      "text/plain": [
       "[(563, 2010, 3.0),\n",
       " (4014, 1374, 5.0),\n",
       " (23, 3000, 4.0),\n",
       " (238, 1096, 5.0),\n",
       " (3108, 2145, 3.0)]"
      ]
     },
     "execution_count": 30,
     "metadata": {},
     "output_type": "execute_result"
    }
   ],
   "source": [
    "testset[:5]"
   ]
  },
  {
   "cell_type": "markdown",
   "metadata": {},
   "source": [
    "While we will use built-in Surprise's functions to compte errors in terms of Root Mean Squared Error (RMSE), you could easily convert the above predictions into a list and use the scikit-learn metrics or any other custom error metric outside Surprise.  "
   ]
  },
  {
   "cell_type": "markdown",
   "metadata": {},
   "source": [
    "Finally, to the the prediction for a specific user-item pair, you could use the <code>predict</code> method. "
   ]
  },
  {
   "cell_type": "code",
   "execution_count": 31,
   "metadata": {},
   "outputs": [
    {
     "name": "stdout",
     "output_type": "stream",
     "text": [
      "user: 196        item: 302        r_ui = 4.00   est = 3.70   {'was_impossible': False}\n"
     ]
    }
   ],
   "source": [
    "uid = 196  # target user id\n",
    "iid = 302  # target item id\n",
    "\n",
    "# get a prediction for specific users and items.\n",
    "pred = svd.predict(uid, iid, r_ui=4, verbose=True)"
   ]
  },
  {
   "cell_type": "markdown",
   "metadata": {},
   "source": [
    "### Model evaluation\n",
    "\n",
    "Finally, you could use the <code>predictions</code> object returned by the test method in order to assess the accuracy of the model under consideration. Surprise includes MAE, MSE, and RMSE by default. If you need to compute any other metric, you should transform the predictions in a list or numpy array and compute the metric score outside Surprise.   "
   ]
  },
  {
   "cell_type": "code",
   "execution_count": 32,
   "metadata": {},
   "outputs": [
    {
     "name": "stdout",
     "output_type": "stream",
     "text": [
      "RMSE: 0.8748\n"
     ]
    },
    {
     "data": {
      "text/plain": [
       "0.874829672400887"
      ]
     },
     "execution_count": 32,
     "metadata": {},
     "output_type": "execute_result"
    }
   ],
   "source": [
    "from surprise import accuracy\n",
    "accuracy.rmse(predictions, verbose=True)"
   ]
  },
  {
   "cell_type": "markdown",
   "metadata": {},
   "source": [
    "### Cross validation\n",
    "\n",
    "The Surprise's <code>cross_validate()</code> function runs a cross-validation procedure according to the cv argument, and computes some accuracy measures, as similarly done by scikit-learn. We are here using a classical 10-fold cross-validation, but fancier iterators can be used (see [here](https://surprise.readthedocs.io/en/stable/model_selection.html#cross-validation-iterators-api)). Please, note again that both the cross-validation implemented in Surprise randomly split ratings in training and test folds. While this has been extensively done in the literature, there are other splitting strategies that allow us to have evaluation scenarios better connected with the usage of the recommendation model in the real-world. We will cover these additional splitting strategies in the next lecture and lab session."
   ]
  },
  {
   "cell_type": "code",
   "execution_count": 33,
   "metadata": {},
   "outputs": [
    {
     "name": "stdout",
     "output_type": "stream",
     "text": [
      "Evaluating RMSE of algorithm SVD on 5 split(s).\n",
      "\n",
      "                  Fold 1  Fold 2  Fold 3  Fold 4  Fold 5  Mean    Std     \n",
      "RMSE (testset)    0.8712  0.8711  0.8708  0.8697  0.8716  0.8709  0.0006  \n",
      "Fit time          19.47   32.42   21.93   23.13   22.03   23.80   4.48    \n",
      "Test time         2.75    2.59    2.73    2.47    3.09    2.73    0.21    \n",
      "Wall time: 2min 25s\n"
     ]
    }
   ],
   "source": [
    "from surprise.model_selection import cross_validate\n",
    "svd = SVD(n_factors=10)\n",
    "%time cv_results = cross_validate(svd, data, measures=['RMSE'], cv=5, verbose=True)"
   ]
  },
  {
   "cell_type": "markdown",
   "metadata": {},
   "source": [
    "The method returns the following results:"
   ]
  },
  {
   "cell_type": "code",
   "execution_count": 34,
   "metadata": {},
   "outputs": [
    {
     "data": {
      "text/plain": [
       "{'test_rmse': array([0.87121252, 0.87109773, 0.87082988, 0.86968273, 0.87157795]),\n",
       " 'fit_time': (19.47050380706787,\n",
       "  32.42223501205444,\n",
       "  21.9284508228302,\n",
       "  23.12898898124695,\n",
       "  22.03060817718506),\n",
       " 'test_time': (2.751086473464966,\n",
       "  2.5918989181518555,\n",
       "  2.7267227172851562,\n",
       "  2.474750280380249,\n",
       "  3.092585325241089)}"
      ]
     },
     "execution_count": 34,
     "metadata": {},
     "output_type": "execute_result"
    }
   ],
   "source": [
    "cv_results"
   ]
  },
  {
   "cell_type": "markdown",
   "metadata": {},
   "source": [
    "## Closing Exercises"
   ]
  },
  {
   "cell_type": "markdown",
   "metadata": {},
   "source": [
    "### Exercise #1\n",
    "\n",
    "Evaluate three models under a 5-fold cross-validation and compute RMSE as evaluation metric. Then, report the RMSE scores across folds for each model using error bars or box plots. Specifically, you need to consider three SVD models with the following three values of n_factors: 5, 10, 15. In this tutorial, we just propose these small n_factors values due to the time constraints, but you would need to test across a more extensive range in other contexts.  "
   ]
  },
  {
   "cell_type": "code",
   "execution_count": 35,
   "metadata": {},
   "outputs": [
    {
     "name": "stdout",
     "output_type": "stream",
     "text": [
      "Computing for 5 factors\n",
      "Wall time: 2min 14s\n",
      "Computing for 10 factors\n",
      "Wall time: 2min 19s\n",
      "Computing for 15 factors\n",
      "Wall time: 2min 26s\n"
     ]
    }
   ],
   "source": [
    "### EXERCISE CELL ###\n",
    "measures=['RMSE']\n",
    "verbose=False\n",
    "cv = 5\n",
    "\n",
    "metrics = {}\n",
    "for n_factors in [5, 10, 15]:\n",
    "    print('Computing for {} factors'.format(n_factors))\n",
    "    svd = SVD(n_factors=n_factors)\n",
    "    %time cv_results = cross_validate(svd, data, measures=measures, cv=cv, verbose=verbose)\n",
    "    metrics['SVD-' + str(n_factors)] = cv_results['test_rmse']"
   ]
  },
  {
   "cell_type": "code",
   "execution_count": 36,
   "metadata": {},
   "outputs": [
    {
     "data": {
      "text/plain": [
       "{'SVD-5': array([0.87426745, 0.87955235, 0.87516712, 0.88087102, 0.87638815]),\n",
       " 'SVD-10': array([0.86859944, 0.87197671, 0.87630904, 0.87110372, 0.87330927]),\n",
       " 'SVD-15': array([0.86771341, 0.87079246, 0.87098911, 0.86852473, 0.87126992])}"
      ]
     },
     "execution_count": 36,
     "metadata": {},
     "output_type": "execute_result"
    }
   ],
   "source": [
    "metrics"
   ]
  },
  {
   "cell_type": "code",
   "execution_count": 37,
   "metadata": {},
   "outputs": [
    {
     "data": {
      "image/png": "[encoded data removed]",
      "text/plain": [
       "<Figure size 1080x360 with 1 Axes>"
      ]
     },
     "metadata": {
      "needs_background": "light"
     },
     "output_type": "display_data"
    }
   ],
   "source": [
    "plt.figure(figsize=(15, 5))\n",
    "\n",
    "# Compute means, standard deviations, and labels\n",
    "means, yerrs, labels = [], [], []\n",
    "for model, model_scores in metrics.items():\n",
    "    means.append(np.mean(model_scores))\n",
    "    yerrs.append(np.std(model_scores))\n",
    "    labels.append(model)\n",
    "\n",
    "# Plot values\n",
    "x_pos = np.arange(len(labels))\n",
    "plt.bar(x_pos, means, yerr=yerrs, align='center', alpha=0.5, ecolor='black', capsize=10)\n",
    "\n",
    "# Make decorations\n",
    "plt.xticks(x_pos, labels)\n",
    "plt.ylabel('RMSE')\n",
    "plt.ylim(.8, .9)\n",
    "\n",
    "plt.tight_layout()\n",
    "plt.show()"
   ]
  },
  {
   "cell_type": "markdown",
   "metadata": {},
   "source": [
    "### Exercise #2\n",
    "\n",
    "Evaluate three models under a train-test split (with a test size of .20) and compute RMSE as evaluation metric. Then, print the RMSE score for each model (assumption due to time constraints). Specifically, you need to consider the following models:\n",
    "- A basic item-based collaborative filtering approach (KNNBasic, cosine, k=15).\n",
    "- An item-based collaborative filtering approach which takes into account the mean rating per user (KNNWithMeans, cosine, k=15).\n",
    "- An item-based collaborative filtering approach which takes into account the baseline rating estimate (KNNBaseline, cosine, k=15, method='sgd')"
   ]
  },
  {
   "cell_type": "code",
   "execution_count": 38,
   "metadata": {},
   "outputs": [
    {
     "name": "stdout",
     "output_type": "stream",
     "text": [
      "Computing the cosine similarity matrix...\n",
      "Done computing similarity matrix.\n",
      "Model=<class 'surprise.prediction_algorithms.knns.KNNBasic'> RMSE=0.9923756586148448\n",
      "Computing the cosine similarity matrix...\n",
      "Done computing similarity matrix.\n",
      "Model=<class 'surprise.prediction_algorithms.knns.KNNWithMeans'> RMSE=0.9590556853886992\n",
      "Estimating biases using sgd...\n",
      "Computing the cosine similarity matrix...\n",
      "Done computing similarity matrix.\n",
      "Model=<class 'surprise.prediction_algorithms.knns.KNNBaseline'> RMSE=0.9157976352582142\n"
     ]
    }
   ],
   "source": [
    "### EXERCISE CELL ###\n",
    "sim_options = {'name': 'cosine', 'user_based': 'False'}\n",
    "bsl_options = {'method': 'sgd'}\n",
    "k=15\n",
    "\n",
    "trainset, testset = train_test_split(data, test_size=.20)\n",
    "\n",
    "for model_type in [KNNBasic, KNNWithMeans, KNNBaseline]:\n",
    "    model = model_type(k=k, sim_options=sim_options, bsl_options=bsl_options) # user-based collaborative filtering\n",
    "    model.fit(trainset)\n",
    "    predictions = model.test(testset)\n",
    "    rmse_score = accuracy.rmse(predictions, verbose=False)\n",
    "    print('Model={} RMSE={}'.format(model_type, rmse_score))"
   ]
  },
  {
   "cell_type": "markdown",
   "metadata": {},
   "source": [
    "Once you finish these exercises, during or after the tutorial, you could move on the following experiments, as examples:\n",
    "- Compare performance across item-based and user-based approaches. \n",
    "- Compare performance among user-based (item-based) approaches that use different similarity metrics. \n",
    "- Replicate this type of analysis on another data set (e.g., Movielens 100k or another recommendation data set).\n",
    "- ... and more"
   ]
  },
  {
   "cell_type": "markdown",
   "metadata": {},
   "source": [
    "## Summary\n",
    "---\n",
    "\n",
    "In this tutorial, we have presented a gentle introduction to explicit feedback data and basic recommendation algorithms. First, we loaded and preliminarily explored the Movielens 1M dataset. Then, we played with a user-based and an item-based collaborative filtering algorithm. Finally, we have seen how to play with a matrix factorization strategy based on a singular value decomposition. The performance of these three algorithms has been evaluated on example evaluation settings. Next week, we will cover other recommendation algorithms, and we will present a more extensive variety of performance metrics and evaluation methods. We will also see how to generate a top k list of recommend items, going beyond rating prediction.    "
   ]
  },
  {
   "cell_type": "code",
   "execution_count": null,
   "metadata": {},
   "outputs": [],
   "source": []
  }
 ],
 "metadata": {
  "kernelspec": {
   "display_name": "Python 3",
   "language": "python",
   "name": "python3"
  },
  "language_info": {
   "codemirror_mode": {
    "name": "ipython",
    "version": 3
   },
   "file_extension": ".py",
   "mimetype": "text/x-python",
   "name": "python",
   "nbconvert_exporter": "python",
   "pygments_lexer": "ipython3",
   "version": "3.6.8"
  }
 },
 "nbformat": 4,
 "nbformat_minor": 1
}
