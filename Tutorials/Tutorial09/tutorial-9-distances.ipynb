{
 "cells": [
  {
   "cell_type": "markdown",
   "id": "burning-channels",
   "metadata": {},
   "source": [
    "# Tutorial 9 - Time series\n",
    "\n",
    "In lecture 9 (Advanced Structure Discovery), we studied different distance and similarity measures and explored the challenges of time-series data. \n",
    "For handling time series data, we covered five strategies including: aggregating features over time, using fixed time intervals, and Dynamic Time Warping.\n",
    "\n",
    "In this tutorial, you will get hands-on experience on the first three strategies covered in class to handle time-series data and discover structures in the data. \n",
    "\n",
    "**Learning Objectives**\n",
    "\n",
    "- Comparing three strategies to handle time-series data: aggregating features over time, using fixed time intervals, and Dynamic Time Warping.\n",
    "- Clustering time-series data to identify different student patterns.\n",
    "- Exploring the hyperparameters of DTW and Spectral Clustering."
   ]
  },
  {
   "cell_type": "code",
   "execution_count": null,
   "id": "connected-logan",
   "metadata": {
    "deletable": false,
    "nbgrader": {
     "cell_type": "code",
     "checksum": "bb1bc4b215d31809a68bd97614b86ace",
     "grade": true,
     "grade_id": "cell-9b3eaed5f4d22b0d",
     "locked": false,
     "points": 0,
     "schema_version": 3,
     "solution": true,
     "task": false
    }
   },
   "outputs": [],
   "source": [
    "# Add imports here\n",
    "import numpy as np\n",
    "import pandas as pd \n",
    "\n",
    "# YOUR CODE HERE\n",
    "raise NotImplementedError()\n",
    "\n",
    "from tutorial08 import get_heuristics_spectral\n",
    "%load_ext autoreload\n",
    "%autoreload 2\n",
    "\n",
    "SEED = 111"
   ]
  },
  {
   "cell_type": "markdown",
   "id": "identified-clearance",
   "metadata": {},
   "source": [
    "# 0. Dataset\n",
    "---\n",
    "In this tutorial, we will explore different distance metrics to cluster students based on their learning patterns. We are mainly interested in exploring **procrastination**.\n",
    "\n",
    "For this purpose, we will cluster the data of 30 high-school students and their usage of an academic learning platform. The dataset has the number of hours per biweek of the year that each student spent on the platform. \n",
    "\n",
    "The dataset contains the following columns:\n",
    "- **student id:** unique student identifier\n",
    "- **biweek of the year:** number of the biweek of the school year. biweek 0 means the first two weeks of the September\n",
    "- **hours:** number of hours the student spent on the platform for that particular biweek\n",
    "- **student type:** expert tagging of student behavior where (1) is procrastinators, (2) regular students, and (3) precrastinators. Given that this feature we would normally not have, we will not use it until the last exercise.\n",
    "\n",
    "The data is in the file `'hours_biweek_students.csv'`"
   ]
  },
  {
   "cell_type": "code",
   "execution_count": null,
   "id": "concrete-instrument",
   "metadata": {},
   "outputs": [],
   "source": [
    "df = pd.read_csv('data/hours_biweek_students.csv')\n",
    "df.head()"
   ]
  },
  {
   "cell_type": "markdown",
   "id": "infectious-poison",
   "metadata": {},
   "source": [
    "# 1. Data Preparation\n",
    "---\n",
    "\n",
    "The first step is to extract the time series per student. Your task is to reshape the DataFrame into an array of shape (students, biweeks).\n",
    "\n",
    "In the array, each row must represent one student and each column the number of hours the student used the educational platform per bi-week of the year.\n",
    "\n",
    "In other words, the data should be aggregated by student (rows) and by biweeks (columns).\n",
    "The column 1 (`data[0,:]`, should be the number of hours the students used the platform in the first biweek of the school year. Whereas the first row (`data[:,0]`) should be all the observations for the first student.  \n",
    "Finally, `data[i,j]` must have the number of hours for student `i` on biweek `j`."
   ]
  },
  {
   "cell_type": "code",
   "execution_count": null,
   "id": "suited-cigarette",
   "metadata": {
    "deletable": false,
    "nbgrader": {
     "cell_type": "code",
     "checksum": "0f477043673d6d9ea6beb009c14e64c9",
     "grade": true,
     "grade_id": "cell-771f47c5acbae886",
     "locked": false,
     "points": 0,
     "schema_version": 3,
     "solution": true,
     "task": false
    }
   },
   "outputs": [],
   "source": [
    "def get_time_series(df):\n",
    "    \"\"\"\n",
    "    reshapes DataFrame from long to wide and returns an np.array\n",
    "    :param df: pd.DataFrame with data in long format\n",
    "    :return: np.array with reshaped data\n",
    "    \"\"\"\n",
    "    # YOUR CODE HERE\n",
    "    raise NotImplementedError()\n",
    "    return data\n",
    "\n",
    "\n",
    "data = get_time_series(df)\n",
    "data.shape"
   ]
  },
  {
   "cell_type": "markdown",
   "id": "funny-generation",
   "metadata": {},
   "source": [
    "# 2. Data Visualization\n",
    "---\n",
    "\n",
    "Let's see how the students' time-series look like. \n",
    "Complete the function `plot_students` and plot the time-series of the 30 students in whichever way you think is most informative.\n",
    "\n",
    "Can you visually identify some possible clusters or patterns from the plots?"
   ]
  },
  {
   "cell_type": "code",
   "execution_count": null,
   "id": "dominican-hamburg",
   "metadata": {
    "deletable": false,
    "nbgrader": {
     "cell_type": "code",
     "checksum": "0974a4e54b30bd1bcb9a36063bc77bff",
     "grade": true,
     "grade_id": "cell-13df41596fe9776e",
     "locked": false,
     "points": 0,
     "schema_version": 3,
     "solution": true,
     "task": false
    }
   },
   "outputs": [],
   "source": [
    "def plot_students(data):\n",
    "    \"\"\"\n",
    "    Plot the students time-series\n",
    "    :param data: np.array with students' time-series\n",
    "    :return: \n",
    "    \"\"\"\n",
    "    # YOUR CODE HERE\n",
    "    raise NotImplementedError()\n",
    "\n",
    "\n",
    "plot_students(data)"
   ]
  },
  {
   "cell_type": "markdown",
   "id": "stainless-entertainment",
   "metadata": {},
   "source": [
    "# 3. Data aggregation\n",
    "---\n",
    "\n",
    "## 3.1 Aggregate data\n",
    "The first method we will explore is aggregating features over time. We will first compute the value of the feature over the whole time series (average, maximum, range) and visualize the distribution for all students.\n",
    "\n",
    "**Hint**: You can visualize the distribution with a histogram. \n",
    "\n",
    "Can you visually identify some clusters?"
   ]
  },
  {
   "cell_type": "code",
   "execution_count": null,
   "id": "african-conducting",
   "metadata": {
    "deletable": false,
    "nbgrader": {
     "cell_type": "code",
     "checksum": "9d45ba9a7fd740c126b2874eb6c6b601",
     "grade": true,
     "grade_id": "cell-972e0eaae8f4f44b",
     "locked": false,
     "points": 0,
     "schema_version": 3,
     "solution": true,
     "task": false
    }
   },
   "outputs": [],
   "source": [
    "# YOUR CODE HERE\n",
    "raise NotImplementedError()"
   ]
  },
  {
   "cell_type": "markdown",
   "id": "blocked-bumper",
   "metadata": {},
   "source": [
    "## 3.2 Compute affinity matrix\n",
    "Building on top of the last tutorial, we will cluster the data using Spectral Clustering.\n",
    "Recall that one of the first steps for Spectral Clustering is to build an affinity matrix. \n",
    "During tutorial 8, we computed the affinity/similarity matrix by computing a graph of the nearest neighbors.\n",
    "\n",
    "As seen in lecture 9, there are other distances and similarity measures that can be used depending on the problem. Your task is to generate matrix `S` containing the simiñarity matrix for the aggregated data. \n",
    "\n",
    "\n",
    "**Hint**:\n",
    "In class, we explored in detail the Gaussian Kernel with Euclidean distance that takes into account the local neighborhood.\n",
    "\n",
    "$$\n",
    "S(x, y)=e^{-\\frac{\\|x-y\\|_{2}^{2}}{2 \\sigma^{2}}}\n",
    "$$\n",
    "\n",
    "where $ \\sigma $ is a hyperparameter that should be tuned, for now, we can give it a value of 1. We will explore this hyperparameter in detail in 5.6.\n"
   ]
  },
  {
   "cell_type": "code",
   "execution_count": null,
   "id": "understood-iceland",
   "metadata": {
    "deletable": false,
    "nbgrader": {
     "cell_type": "code",
     "checksum": "e6472543786cb2efe4cefb77f81f82a1",
     "grade": true,
     "grade_id": "cell-6049fc84d5271d21",
     "locked": false,
     "points": 0,
     "schema_version": 3,
     "solution": true,
     "task": false
    }
   },
   "outputs": [],
   "source": [
    "# YOUR CODE HERE\n",
    "raise NotImplementedError()"
   ]
  },
  {
   "cell_type": "markdown",
   "id": "coupled-wiring",
   "metadata": {},
   "source": [
    "## 3.3 Cluster affinity matrix\n",
    "Building on top of last tutorial, we will cluster the data using Spectral Clustering.\n",
    "\n",
    "Your task is to adapt last tutorial's function `spectral_clustering` to accept the precomputed affinity matrix as input.  \n",
    "\n",
    "**Hint** You can use an extra parameter indicating the type of affinity\n"
   ]
  },
  {
   "cell_type": "code",
   "execution_count": null,
   "id": "quality-contributor",
   "metadata": {
    "deletable": false,
    "nbgrader": {
     "cell_type": "code",
     "checksum": "f09a561e75743198b87929676bbc8f7b",
     "grade": true,
     "grade_id": "cell-df2244b943492cef",
     "locked": false,
     "points": 0,
     "schema_version": 3,
     "solution": true,
     "task": false
    }
   },
   "outputs": [],
   "source": [
    "def spectral_clustering(X, n_clusters, affinity = 'nearest_neighbors'):\n",
    "    \"\"\"\n",
    "    Spectral clustering\n",
    "    :param X: np array of data points or affinity matrix\n",
    "    :param n_clusters: number of clusters\n",
    "    :param affinity: str indicating the type of input\n",
    "    :return: tuple (kmeans, proj_X, eigenvals_sorted)\n",
    "        WHERE\n",
    "        kmeans scikit learn clustering object\n",
    "        proj_X is np array of transformed data points\n",
    "        eigenvals_sorted is np array with ordered eigenvalues \n",
    "        \n",
    "    \"\"\"\n",
    "    # YOUR CODE HERE\n",
    "    raise NotImplementedError()\n",
    "    return kmeans, proj_X, eigenvals_sorted\n"
   ]
  },
  {
   "cell_type": "markdown",
   "id": "dangerous-night",
   "metadata": {},
   "source": [
    "## 3.4 Optimal number of clusters\n",
    "\n",
    "You may re-use the function `get_heuristics_spectral` from tutorial 8 to select the optimal number of clusters.\n",
    "\n",
    "What is the optimal number of clusters?\n",
    "\n",
    "**Hint:** The function is in the file `tutorial08.py`\n"
   ]
  },
  {
   "cell_type": "code",
   "execution_count": null,
   "id": "african-eligibility",
   "metadata": {
    "deletable": false,
    "nbgrader": {
     "cell_type": "code",
     "checksum": "df634afb1243e492614c4a744e17f44f",
     "grade": true,
     "grade_id": "cell-57d350932f159703",
     "locked": false,
     "points": 0,
     "schema_version": 3,
     "solution": true,
     "task": false
    }
   },
   "outputs": [],
   "source": [
    "# YOUR CODE HERE\n",
    "raise NotImplementedError()"
   ]
  },
  {
   "cell_type": "markdown",
   "id": "turkish-brick",
   "metadata": {},
   "source": [
    "## 3.5 Visualize the clusters\n",
    "\n",
    "Using the optimal number of clusters from 3.4 , visualize the different time-series of students belonging to each cluster. \n",
    "\n",
    "What can you say about each cluster? Were the clusters correctly identified?"
   ]
  },
  {
   "cell_type": "code",
   "execution_count": null,
   "id": "growing-socket",
   "metadata": {
    "deletable": false,
    "nbgrader": {
     "cell_type": "code",
     "checksum": "3b09ec70e92c157cc3ae5645a1e3decc",
     "grade": true,
     "grade_id": "cell-cb22e71ce5cc0a4c",
     "locked": false,
     "points": 0,
     "schema_version": 3,
     "solution": true,
     "task": false
    }
   },
   "outputs": [],
   "source": [
    "def view_clusters(data, labels):\n",
    "    \"\"\"\n",
    "    visualize the different time-series of students belonging to each cluster. \n",
    "    :param data: np.array with students' time-series\n",
    "    :param labels: np.array predicted labels from clustering model\n",
    "    :return: \n",
    "    \"\"\"\n",
    "    # YOUR CODE HERE\n",
    "    raise NotImplementedError()\n",
    "        \n",
    "kmeans, proj_X, eigenvals_sorted = spectral_clustering(S, 3, affinity='precomputed')\n",
    "labels = kmeans.labels_\n",
    "view_clusters(data, labels)"
   ]
  },
  {
   "cell_type": "markdown",
   "id": "hired-difficulty",
   "metadata": {},
   "source": [
    "# 4. Using fixed time intervals\n",
    "\n",
    "The second strategy covered in class was using fixed time intervals. We can use standard distance measures once we have feature vectors with the same length for every student.\n",
    "\n",
    "## 4.1 Compute distance matrix\n",
    "\n",
    "We first need to compute the distance matrix of the feature vectors (data matrix) with an appropriate distance metric. The data matrix computed in (1) already contains the feature vectors of the same length. Your task is to calculate the pairwise distances between the vectors (rows of data matrix) and build a distance matrix with the resulting distances.\n",
    "\n",
    "**Hint**: If we are interested in capturing the different shapes, we can first compute the unit vectors (dividing each vector by its norm). "
   ]
  },
  {
   "cell_type": "code",
   "execution_count": null,
   "id": "green-dutch",
   "metadata": {
    "deletable": false,
    "nbgrader": {
     "cell_type": "code",
     "checksum": "e80bbe6e63c70170f3452a440fbc5a59",
     "grade": true,
     "grade_id": "cell-c293e40afdda82ec",
     "locked": false,
     "points": 0,
     "schema_version": 3,
     "solution": true,
     "task": false
    }
   },
   "outputs": [],
   "source": [
    "def get_distance_matrix(X, metric='euclidean'):\n",
    "    \"\"\"\n",
    "    calculates distance matrix given a metric\n",
    "    :param X: np.array with students' time-series\n",
    "    :param metric: str distance metric to compute\n",
    "    :return: np.array with distance matrix\n",
    "    \"\"\"\n",
    "    # YOUR CODE HERE\n",
    "    raise NotImplementedError()\n",
    "    return distance_matrix\n",
    "\n",
    "\n",
    "D = get_distance_matrix(data)"
   ]
  },
  {
   "cell_type": "markdown",
   "id": "brazilian-painting",
   "metadata": {},
   "source": [
    "## 4.2 Compute affinity matrix\n",
    "Similar to what we did in (3.2), we can compute the affinity matrix from the distance matrix by applying a Gaussian kernel. "
   ]
  },
  {
   "cell_type": "code",
   "execution_count": null,
   "id": "portuguese-reply",
   "metadata": {
    "deletable": false,
    "nbgrader": {
     "cell_type": "code",
     "checksum": "17924277f3b35648c889a19287ca52e7",
     "grade": true,
     "grade_id": "cell-dd92fce769463a1c",
     "locked": false,
     "points": 0,
     "schema_version": 3,
     "solution": true,
     "task": false
    }
   },
   "outputs": [],
   "source": [
    "def get_affinity_matrix(D, gamma=1):\n",
    "    \"\"\"\n",
    "    calculates affinity matrix from distance matrix\n",
    "    :param D: np.array distance matrix\n",
    "    :param gamma: float coefficient for Gaussian Kernel\n",
    "    :return:\n",
    "    \"\"\"\n",
    "    # YOUR CODE HERE\n",
    "    raise NotImplementedError()\n",
    "    return S\n",
    "\n",
    "\n",
    "S = get_affinity_matrix(D)"
   ]
  },
  {
   "cell_type": "markdown",
   "id": "about-thread",
   "metadata": {},
   "source": [
    "## 4.3 Optimal number of clusters\n",
    "\n",
    "What is the optimal number of clusters? How does this differ from the results from the aggregated feature?\n",
    "Is there more agreement or less between the different metrics?\n"
   ]
  },
  {
   "cell_type": "code",
   "execution_count": null,
   "id": "suspended-gentleman",
   "metadata": {
    "deletable": false,
    "nbgrader": {
     "cell_type": "code",
     "checksum": "f2275bce77c6c771ff12fdd3e390d3d1",
     "grade": true,
     "grade_id": "cell-b8e852ea44d94523",
     "locked": false,
     "points": 0,
     "schema_version": 3,
     "solution": true,
     "task": false
    }
   },
   "outputs": [],
   "source": [
    "# YOUR CODE HERE\n",
    "raise NotImplementedError()"
   ]
  },
  {
   "cell_type": "markdown",
   "id": "proof-assurance",
   "metadata": {},
   "source": [
    "\n",
    "## 4.4 Visualize the clusters\n",
    "\n",
    "Using the optimal number of clusters from 4.3, visualize the different time-series of students belonging to each cluster. \n",
    "\n",
    "What can you say about each cluster? Were the clusters correctly identified? How are the results different from the clusters found with the aggregated data?\n",
    "\n",
    "**Hint** re-use your functions"
   ]
  },
  {
   "cell_type": "code",
   "execution_count": null,
   "id": "announced-condition",
   "metadata": {
    "deletable": false,
    "nbgrader": {
     "cell_type": "code",
     "checksum": "02ebb7115c9807983656c433c3be38ff",
     "grade": true,
     "grade_id": "cell-b64077a6e186f27b",
     "locked": false,
     "points": 0,
     "schema_version": 3,
     "solution": true,
     "task": false
    }
   },
   "outputs": [],
   "source": [
    "# YOUR CODE HERE\n",
    "raise NotImplementedError()"
   ]
  },
  {
   "cell_type": "markdown",
   "id": "deadly-objective",
   "metadata": {},
   "source": [
    "# 5. Dynamic Time Warping\n",
    "---\n",
    "\n",
    "Dynamic Time Warping is useful when we want to compute the distance between two time series that vary in speed. It works by finding the optimal alignment between two time-series. \n",
    "\n",
    "Let's see how it can be applied to this example."
   ]
  },
  {
   "cell_type": "markdown",
   "id": "coastal-sculpture",
   "metadata": {},
   "source": [
    "## 5.1 Compute distance matrix\n",
    "\n",
    "Modify the function `get_distance_matrix` to calculate the distance matrix using DTW.\n",
    "\n",
    "**Hint**: You can use libraries like fastdtw or tslearn.\n",
    "\n",
    "**Challenge**: Implement DTW with numpy following the lecture slides.\n"
   ]
  },
  {
   "cell_type": "code",
   "execution_count": null,
   "id": "electoral-patch",
   "metadata": {
    "deletable": false,
    "nbgrader": {
     "cell_type": "code",
     "checksum": "ac208bb840dc2609972b961c0dfe742f",
     "grade": true,
     "grade_id": "cell-448af1bbd0a93588",
     "locked": false,
     "points": 0,
     "schema_version": 3,
     "solution": true,
     "task": false
    }
   },
   "outputs": [],
   "source": [
    "def get_distance_matrix(X, metric='euclidean', window=2):\n",
    "    \"\"\"\n",
    "    calculates distance matrix given a metric\n",
    "    :param X: np.array with students' time-series\n",
    "    :param metric: str distance metric to compute\n",
    "    :param window: int for DTW\n",
    "    :return: np.array with distance matrix\n",
    "    \"\"\"\n",
    "    # YOUR CODE HERE\n",
    "    raise NotImplementedError()\n",
    "    return distance_matrix\n",
    "\n",
    "\n",
    "D = get_distance_matrix(data, metric='dtw', window=6)"
   ]
  },
  {
   "cell_type": "markdown",
   "id": "serious-section",
   "metadata": {},
   "source": [
    "## 5.2 Compute affinity matrix\n",
    "\n",
    "**Hint** re-use your functions"
   ]
  },
  {
   "cell_type": "code",
   "execution_count": null,
   "id": "cooperative-software",
   "metadata": {
    "deletable": false,
    "nbgrader": {
     "cell_type": "code",
     "checksum": "987f4dc61284d1d5b8901e14778f8d5b",
     "grade": true,
     "grade_id": "cell-3b2ebdcfc4f16387",
     "locked": false,
     "points": 0,
     "schema_version": 3,
     "solution": true,
     "task": false
    }
   },
   "outputs": [],
   "source": [
    "# YOUR CODE HERE\n",
    "raise NotImplementedError()"
   ]
  },
  {
   "cell_type": "markdown",
   "id": "vulnerable-egyptian",
   "metadata": {},
   "source": [
    "## 5.3 Optimal number of clusters\n",
    "\n",
    "What is the optimal number of clusters? How does this differ from the results of (3) and (4)?\n",
    "\n",
    "Is there more agreement or less between the different metrics?\n",
    "\n",
    "**Hint** re-use your functions"
   ]
  },
  {
   "cell_type": "code",
   "execution_count": null,
   "id": "particular-history",
   "metadata": {
    "deletable": false,
    "nbgrader": {
     "cell_type": "code",
     "checksum": "7137b7d99bc85a5773be61de8b4189f2",
     "grade": true,
     "grade_id": "cell-aea107e7d7e73042",
     "locked": false,
     "points": 0,
     "schema_version": 3,
     "solution": true,
     "task": false
    }
   },
   "outputs": [],
   "source": [
    "# YOUR CODE HERE\n",
    "raise NotImplementedError()"
   ]
  },
  {
   "cell_type": "markdown",
   "id": "exposed-conducting",
   "metadata": {},
   "source": [
    "## 5.4 Visualize the clusters\n",
    "\n",
    "Using the optimal number of clusters from (5.3), visualize the different time-series of students belonging to each cluster. \n",
    "\n",
    "What can you say about each cluster? Were the clusters correctly identified? How are the results different from the clusters found in (3) and (4)?\n",
    "\n",
    "**Hint** re-use your functions"
   ]
  },
  {
   "cell_type": "code",
   "execution_count": null,
   "id": "prime-uruguay",
   "metadata": {
    "deletable": false,
    "nbgrader": {
     "cell_type": "code",
     "checksum": "89f06eeaefbbb8246c6f462b80049640",
     "grade": true,
     "grade_id": "cell-fb07027d7f4f6d32",
     "locked": false,
     "points": 0,
     "schema_version": 3,
     "solution": true,
     "task": false
    }
   },
   "outputs": [],
   "source": [
    "# YOUR CODE HERE\n",
    "raise NotImplementedError()"
   ]
  },
  {
   "cell_type": "markdown",
   "id": "indirect-syndication",
   "metadata": {},
   "source": [
    "## 5.5 Window size\n",
    "\n",
    "As seen during the lecture, sometimes we are interested in constraining the mapping. \n",
    "\n",
    "How do the results vary when changing the window size?\n",
    "\n",
    "Which window size makes more sense?\n",
    "\n",
    "What happens when the window is very small? What happens when the window is very large?"
   ]
  },
  {
   "cell_type": "code",
   "execution_count": null,
   "id": "developed-coffee",
   "metadata": {},
   "outputs": [],
   "source": [
    "D = get_distance_matrix(data, metric = 'dtw', window = 0)\n",
    "S = get_affinity_matrix(D)\n",
    "kmeans, proj_X, eigenvals_sorted = spectral_clustering(S, 3 , affinity = 'precomputed')\n",
    "labels = kmeans.labels_\n",
    "view_clusters(data, labels)"
   ]
  },
  {
   "cell_type": "markdown",
   "id": "harmful-sellers",
   "metadata": {},
   "source": [
    "## 5.6 Gamma and window size\n",
    "Up until now, we have used the data in a completely unsupervised way. \n",
    "For this last exercise, we are going to use the expert tagging to understand the effect of the window size and the parameter gamma. "
   ]
  },
  {
   "cell_type": "markdown",
   "id": "strong-inspection",
   "metadata": {},
   "source": [
    "### 5.6.1 Get the student types\n",
    "\n",
    "Using the column student_type from the original DataFrame (df), obtain the student type for each student.\n",
    "\n",
    "We will compare this labels to the ones generated by the model. "
   ]
  },
  {
   "cell_type": "code",
   "execution_count": null,
   "id": "recovered-webcam",
   "metadata": {
    "deletable": false,
    "nbgrader": {
     "cell_type": "code",
     "checksum": "48992f5abcb2d0f8ee4e837aa57cbf56",
     "grade": true,
     "grade_id": "cell-7fcba88fad0f2cc4",
     "locked": false,
     "points": 0,
     "schema_version": 3,
     "solution": true,
     "task": false
    }
   },
   "outputs": [],
   "source": [
    "def get_student_types(df):\n",
    "    \"\"\"\n",
    "    recovers student type for all students\n",
    "    :param df: pd.DataFrame with data in long format\n",
    "    :return: np.array shaped (number of students,) with student types\n",
    "    \"\"\"\n",
    "    # YOUR CODE HERE\n",
    "    raise NotImplementedError()\n",
    "    return students_types\n",
    "\n",
    "\n",
    "students_types = get_student_types(df)"
   ]
  },
  {
   "cell_type": "markdown",
   "id": "technological-portuguese",
   "metadata": {},
   "source": [
    "### 5.6.2 Supervised metrics\n",
    "\n",
    "In rare ocasions, the real cluster labels are known and it is possible to measure the similarity of the predicted labels and the real labels. \n",
    "\n",
    "One of this metrics is the Rand Index. The adjusted Rand Index has a value of 0 for random labelling and 1 for identical labelling. \n"
   ]
  },
  {
   "cell_type": "code",
   "execution_count": null,
   "id": "collectible-sister",
   "metadata": {},
   "outputs": [],
   "source": [
    "score = adjusted_rand_score(labels, students_types)\n",
    "score"
   ]
  },
  {
   "cell_type": "markdown",
   "id": "elect-daily",
   "metadata": {},
   "source": [
    "### 5.6.3 Explore different window sizes and values for gamma \n",
    "How does the performance (adjusted Rand Index) vary?\n",
    "What conclusions can you draw?\n",
    "What can you infer about the role of the gamma parameter? "
   ]
  },
  {
   "cell_type": "code",
   "execution_count": null,
   "id": "swedish-excerpt",
   "metadata": {
    "deletable": false,
    "nbgrader": {
     "cell_type": "code",
     "checksum": "d9aeee166cf81eb1ec936d675fe9dcac",
     "grade": true,
     "grade_id": "cell-36990f0445b53279",
     "locked": false,
     "points": 0,
     "schema_version": 3,
     "solution": true,
     "task": false
    }
   },
   "outputs": [],
   "source": [
    "# YOUR CODE HERE\n",
    "raise NotImplementedError()"
   ]
  },
  {
   "cell_type": "markdown",
   "id": "exceptional-train",
   "metadata": {},
   "source": [
    "# 6. Summary \n",
    "\n",
    "In this tutorial, you used three strategies to handle time-series data (aggregating features over time, using fixed time intervals, and Dynamic Time Warping). With these strategies, you clustered time-series to identify meaningful student patterns and explored the hyperparameters of DTW and Spectral Clustering.\n",
    "\n",
    "**Lab discussion** \n",
    "What are the limitations of each strategy?"
   ]
  },
  {
   "cell_type": "markdown",
   "id": "innovative-vegetable",
   "metadata": {},
   "source": [
    "# Bonus Challenge\n",
    "\n",
    "Replicate the analysis for `bonus_challenge.csv`. What other challenges do you encounter?\n"
   ]
  }
 ],
 "metadata": {
  "kernelspec": {
   "display_name": "Python 3",
   "language": "python",
   "name": "python3"
  },
  "language_info": {
   "codemirror_mode": {
    "name": "ipython",
    "version": 3
   },
   "file_extension": ".py",
   "mimetype": "text/x-python",
   "name": "python",
   "nbconvert_exporter": "python",
   "pygments_lexer": "ipython3",
   "version": "3.9.1"
  }
 },
 "nbformat": 4,
 "nbformat_minor": 5
}
