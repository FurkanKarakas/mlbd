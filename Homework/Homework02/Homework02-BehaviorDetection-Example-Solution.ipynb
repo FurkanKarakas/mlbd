{
 "cells": [
  {
   "cell_type": "markdown",
   "metadata": {},
   "source": [
    "#  Homework 02: Behavior Detection\n",
    "\n",
    "## Introduction\n",
    "\n",
    "Computer environments such as those based on educational games, interactive simulations, and educational platforms are providing more and more data, which can enable a personalized adaptation of the environment itself. For instance, this data can be used to train models able to detect the extent to which students are using the educational platform properly and react accordingly. Empowering platforms with these models can serve as a means for adaptive interventions that are of paramount importance to ensure no student is left behind.      \n",
    "\n",
    "The goal of this homework is to build a **behavior detector**, namely a classifier. Specifically, you are asked to build a detector able to classify the extent to which the students are off-task, i.e., whether students are performing interactions that are not related to the classroom's objectives. To this end, we will use a public data set which is stored in <code>ca1‐dataset.csv</code> in a CSV format. The dataset includes features at the grain size of all the actions that occurred during 20-second field observations for a student (so one student can occur in more than one record of the dataset). An example feature associated with one record of the dataset is the number of wrong actions made by the corresponding student in the last 20 seconds (more details on the features will be provided later). In addition to features, each record includes the \"OffTask\" label (Y or N), which is the target we ask you to predict, based on the values of the features. \n",
    "\n",
    "Specifically, in this homework, we will ask you to:\n",
    "1. **Part 1: 15 Points** Explore the dataset and select up to **5** features from those in the CSV file that you think are the most predictive of the off-task label.\n",
    "2. **Part 2: 25 Points** Design, fit, and interpret a Regression model for off-task prediction, based on the features you selected. \n",
    "3. **Part 3: 20 Points** Design, fit, and interpret a Decision Tree classifier for off-task prediction, based on the features you selected, and investigate the impact of one hyper-parameter on the final results you obtain. \n",
    "3. **Part 4: 20 Points** Design, fit, and interpret a Random Forest classifier for off-task prediction, based on the features you selected, investigate the impact of one hyper-parameter on the final results you obtain, and compare your findings with those you obtained with a single decision tree.\n",
    "4. **Part 5: 20 Points** Conduct feature engineering to improve the features in the original data set, using the data in a second more fine-grained dataset we will provide to you. Specifically, you will be asked to create at least **5** new features that cannot be created using just the original data set, add the new features to the original data set, and see what impact they have on the Random Forest classifier. \n",
    "\n",
    "## Submission \n",
    "\n",
    "The homework is due **Mar 16, 2021, 23:59 CET**. The notebook must be pushed to your GitHub classroom repository. We will only grade the code cells with the heading `#### GRADED CELL ####`\n",
    "and Markdown cells with the text \"YOUR ANSWER HERE\"\n",
    "\n",
    "If you have any questions, feel free to use the Q&A forum in Moodle. \n",
    "\n",
    "## Instructions \n",
    "\n",
    "1. **DO NOT** delete or modify the test cells. Some of them are empty because the test cases are hidden and will be used for grading.\n",
    "2. Be sure to remove all implementation reminders: `raise NotImplementedError()`\n",
    "3. Before the final submission, make sure everything runs as expected. First, **restart the kernel** (in the menubar, select Kernel$\\rightarrow$Restart) and then **run all cells** (in the menubar, select Cell$\\rightarrow$Run All).\n",
    "4. We are using nbgrader to test some answers. Please do not modify cells begin with `# TEST CELL, DONT MODIFY.` In test blocks, there might be some visible test cases to help you check your answer. But please notice that there are some hidden test cases. \n",
    "\n",
    "**Make sure you fill in any place that says `YOUR CODE HERE` or \"YOUR ANSWER HERE\"**\n",
    "\n",
    "5. You are allowed to use all libraries and methods.\n",
    "\n",
    "\n",
    "\n"
   ]
  },
  {
   "cell_type": "markdown",
   "metadata": {},
   "source": [
    "## About the data\n",
    "\n",
    "Our target is to identify that one specific behavior for students. A detailed description of features is given below. The features are related to the information on how the students interact with the system for individual actions. \n",
    "\n",
    "The description of the features for the individual raw actions in <code>ca1‐dataset.csv</code> is provided below. \n",
    "\n",
    "\n",
    "In the description, each line in the raw data set is associated with some interaction widget in the educational software which are denoted by \"Cell\". In addition, \"Production\" is the skill that the students are expected to learn. \n",
    "\n",
    "| Name                   | Description                         |\n",
    "| ---------------------- | ------------------------------------------------------------ |\n",
    "|   Avgright| Average of true feature (1 if the action is right, 0 otherwise) during observations|\n",
    "|\tAvgbug| Average of the bug feature (1 if there is a bug, 0 otherwise) during observations|\n",
    "|\tAvgpchange| Average number of changes of knowledege estimate during observations|\n",
    "|\tAvgtime| Average number of time spent during observations|\n",
    "|\tAvgtimeSDnormed| Average the (time taken – avg(cell) / SD(cell) for the last action of observations (SD is a function)|\n",
    "|\tAvgtimelast3SDnormed| Average of the (time taken – avg(cell) / SD(cell) for the last 3 action of observations (SD is a function)|\n",
    "|\tAvgtimelast5SDnormed| Average of the (time taken – avg(cell) / SD(cell) for the last 5 action of observations (SD is a function)|\n",
    "|\tAvgnotright| Average number of not right actions during observations|\n",
    "|\tAvghowmanywrong-up| Average number of total number of actions where this production was wrong|\n",
    "|\tAvgwrongpct-up| Average number of (total number of actions where this production was wrong, not just first attempt)/( number of steps where skill encountered so far (inclusive of current))|\n",
    "|\tAvgtimeperact-up| Average of timeperact-up feature (Total time so far on all actions involving this production, for all problems)|\n",
    "|\tAvgPrev3Count-up| Average count of involving in the same interface widget for the last 3 actions, during observations|\n",
    "|\tAvgPrev5Count-up| Average count of involving in the same interface widget for the last 5 actions, during observations|\n",
    "|\tAvgrecent5wrong| Average number of wrong actions in the last 5 actions|\n",
    "|\tAvgmanywrong-up| Average of the total number of wrong actions up to the current action|\n",
    "|\tUnique-id| ID of the aggregated observation (one observation aggregates interactions within a 20 second timeframe)|\n",
    "|\tnamea| ID of the student|\n",
    "|\tOffTask| Classification target |\n",
    "\n",
    "**The data set is available in the folder data**. \n"
   ]
  },
  {
   "cell_type": "code",
   "execution_count": 232,
   "metadata": {
    "deletable": false,
    "nbgrader": {
     "cell_type": "code",
     "checksum": "055d6505ba7897f19d1ebc0b68cc7b7e",
     "grade": true,
     "grade_id": "0-0",
     "locked": false,
     "points": 0,
     "schema_version": 3,
     "solution": true,
     "task": false
    }
   },
   "outputs": [],
   "source": [
    "#### PACKAGE IMPORTS ####\n",
    "\n",
    "# Your libraries here\n",
    "# Run this cell first to import all required packages. Do not make any imports elsewhere in the notebook\n",
    "\n",
    "# YOUR CODE HERE\n",
    "import pandas as pd\n",
    "import numpy as np\n",
    "import seaborn as sns\n",
    "import matplotlib.pyplot as plt\n",
    "from sklearn.model_selection import train_test_split\n",
    "from sklearn.preprocessing import RobustScaler, MinMaxScaler\n",
    "import statsmodels.api as sm\n",
    "from sklearn import tree\n",
    "from sklearn.ensemble import RandomForestClassifier\n",
    "\n",
    "%matplotlib inline"
   ]
  },
  {
   "cell_type": "markdown",
   "metadata": {},
   "source": [
    "## **0 Load the data set**\n",
    "---"
   ]
  },
  {
   "cell_type": "code",
   "execution_count": 233,
   "metadata": {},
   "outputs": [
    {
     "name": "stdout",
     "output_type": "stream",
     "text": [
      "length of the dataframe: 763\n",
      "first rows of the dataframe:\n",
      "\n"
     ]
    },
    {
     "data": {
      "text/html": [
       "<div>\n",
       "<style scoped>\n",
       "    .dataframe tbody tr th:only-of-type {\n",
       "        vertical-align: middle;\n",
       "    }\n",
       "\n",
       "    .dataframe tbody tr th {\n",
       "        vertical-align: top;\n",
       "    }\n",
       "\n",
       "    .dataframe thead th {\n",
       "        text-align: right;\n",
       "    }\n",
       "</style>\n",
       "<table border=\"1\" class=\"dataframe\">\n",
       "  <thead>\n",
       "    <tr style=\"text-align: right;\">\n",
       "      <th></th>\n",
       "      <th>Unique-id</th>\n",
       "      <th>namea</th>\n",
       "      <th>OffTask</th>\n",
       "      <th>Avgright</th>\n",
       "      <th>Avgbug</th>\n",
       "      <th>Avgpchange</th>\n",
       "      <th>Avgtime</th>\n",
       "      <th>AvgtimeSDnormed</th>\n",
       "      <th>Avgtimelast3SDnormed</th>\n",
       "      <th>Avgtimelast5SDnormed</th>\n",
       "      <th>Avgnotright</th>\n",
       "      <th>Avghowmanywrong-up</th>\n",
       "      <th>Avgwrongpct-up</th>\n",
       "      <th>Avgtimeperact-up</th>\n",
       "      <th>AvgPrev3Count-up</th>\n",
       "      <th>AvgPrev5Count-up</th>\n",
       "      <th>Avg recent5wrong</th>\n",
       "      <th>Avgmanywrong-up</th>\n",
       "    </tr>\n",
       "  </thead>\n",
       "  <tbody>\n",
       "    <tr>\n",
       "      <th>0</th>\n",
       "      <td>awagner-closeloop-ins_h1zaz4-03.30.2011_at_13:...</td>\n",
       "      <td>stuZgy46jl</td>\n",
       "      <td>N</td>\n",
       "      <td>1.000000</td>\n",
       "      <td>0.0</td>\n",
       "      <td>0.0</td>\n",
       "      <td>12.000000</td>\n",
       "      <td>0.446098</td>\n",
       "      <td>0.288201</td>\n",
       "      <td>0.454262</td>\n",
       "      <td>0.000000</td>\n",
       "      <td>0.000000</td>\n",
       "      <td>0.000000</td>\n",
       "      <td>12.000000</td>\n",
       "      <td>0.0</td>\n",
       "      <td>0.0</td>\n",
       "      <td>1.0</td>\n",
       "      <td>0.0</td>\n",
       "    </tr>\n",
       "    <tr>\n",
       "      <th>1</th>\n",
       "      <td>awagner-closeloop-ins_h1zaz4-03.30.2011_at_13:...</td>\n",
       "      <td>stuZ77be0l</td>\n",
       "      <td>N</td>\n",
       "      <td>1.000000</td>\n",
       "      <td>0.0</td>\n",
       "      <td>0.0</td>\n",
       "      <td>7.500000</td>\n",
       "      <td>-0.260956</td>\n",
       "      <td>-0.774506</td>\n",
       "      <td>0.000000</td>\n",
       "      <td>0.000000</td>\n",
       "      <td>0.000000</td>\n",
       "      <td>0.000000</td>\n",
       "      <td>8.750000</td>\n",
       "      <td>0.0</td>\n",
       "      <td>0.0</td>\n",
       "      <td>0.0</td>\n",
       "      <td>0.0</td>\n",
       "    </tr>\n",
       "    <tr>\n",
       "      <th>2</th>\n",
       "      <td>awagner-closeloop-ins_h1zaz4-03.30.2011_at_13:...</td>\n",
       "      <td>stuZ5lp7k7</td>\n",
       "      <td>N</td>\n",
       "      <td>1.000000</td>\n",
       "      <td>0.0</td>\n",
       "      <td>0.0</td>\n",
       "      <td>25.333333</td>\n",
       "      <td>0.301574</td>\n",
       "      <td>-1.529301</td>\n",
       "      <td>-0.508076</td>\n",
       "      <td>0.000000</td>\n",
       "      <td>0.000000</td>\n",
       "      <td>0.000000</td>\n",
       "      <td>26.083333</td>\n",
       "      <td>0.0</td>\n",
       "      <td>0.0</td>\n",
       "      <td>1.0</td>\n",
       "      <td>0.0</td>\n",
       "    </tr>\n",
       "    <tr>\n",
       "      <th>3</th>\n",
       "      <td>awagner-closeloop-ins_h1zaz4-03.30.2011_at_13:...</td>\n",
       "      <td>stuZ9idg5l</td>\n",
       "      <td>N</td>\n",
       "      <td>0.833333</td>\n",
       "      <td>0.0</td>\n",
       "      <td>0.0</td>\n",
       "      <td>3.500000</td>\n",
       "      <td>-0.554844</td>\n",
       "      <td>-1.366454</td>\n",
       "      <td>-2.018076</td>\n",
       "      <td>0.166667</td>\n",
       "      <td>0.166667</td>\n",
       "      <td>0.166667</td>\n",
       "      <td>4.902778</td>\n",
       "      <td>0.0</td>\n",
       "      <td>0.0</td>\n",
       "      <td>0.0</td>\n",
       "      <td>0.0</td>\n",
       "    </tr>\n",
       "    <tr>\n",
       "      <th>4</th>\n",
       "      <td>awagner-closeloop-ins_h1zaz4-03.30.2011_at_13:...</td>\n",
       "      <td>stuZ4lil98</td>\n",
       "      <td>N</td>\n",
       "      <td>1.000000</td>\n",
       "      <td>0.0</td>\n",
       "      <td>0.0</td>\n",
       "      <td>5.250000</td>\n",
       "      <td>-0.525770</td>\n",
       "      <td>-1.829775</td>\n",
       "      <td>-2.621184</td>\n",
       "      <td>0.000000</td>\n",
       "      <td>0.000000</td>\n",
       "      <td>0.000000</td>\n",
       "      <td>5.875000</td>\n",
       "      <td>0.0</td>\n",
       "      <td>0.0</td>\n",
       "      <td>0.0</td>\n",
       "      <td>0.0</td>\n",
       "    </tr>\n",
       "  </tbody>\n",
       "</table>\n",
       "</div>"
      ],
      "text/plain": [
       "                                           Unique-id       namea OffTask  \\\n",
       "0  awagner-closeloop-ins_h1zaz4-03.30.2011_at_13:...  stuZgy46jl       N   \n",
       "1  awagner-closeloop-ins_h1zaz4-03.30.2011_at_13:...  stuZ77be0l       N   \n",
       "2  awagner-closeloop-ins_h1zaz4-03.30.2011_at_13:...  stuZ5lp7k7       N   \n",
       "3  awagner-closeloop-ins_h1zaz4-03.30.2011_at_13:...  stuZ9idg5l       N   \n",
       "4  awagner-closeloop-ins_h1zaz4-03.30.2011_at_13:...  stuZ4lil98       N   \n",
       "\n",
       "   Avgright  Avgbug  Avgpchange    Avgtime  AvgtimeSDnormed  \\\n",
       "0  1.000000     0.0         0.0  12.000000         0.446098   \n",
       "1  1.000000     0.0         0.0   7.500000        -0.260956   \n",
       "2  1.000000     0.0         0.0  25.333333         0.301574   \n",
       "3  0.833333     0.0         0.0   3.500000        -0.554844   \n",
       "4  1.000000     0.0         0.0   5.250000        -0.525770   \n",
       "\n",
       "   Avgtimelast3SDnormed  Avgtimelast5SDnormed  Avgnotright  \\\n",
       "0              0.288201              0.454262     0.000000   \n",
       "1             -0.774506              0.000000     0.000000   \n",
       "2             -1.529301             -0.508076     0.000000   \n",
       "3             -1.366454             -2.018076     0.166667   \n",
       "4             -1.829775             -2.621184     0.000000   \n",
       "\n",
       "   Avghowmanywrong-up  Avgwrongpct-up  Avgtimeperact-up  AvgPrev3Count-up  \\\n",
       "0            0.000000        0.000000         12.000000               0.0   \n",
       "1            0.000000        0.000000          8.750000               0.0   \n",
       "2            0.000000        0.000000         26.083333               0.0   \n",
       "3            0.166667        0.166667          4.902778               0.0   \n",
       "4            0.000000        0.000000          5.875000               0.0   \n",
       "\n",
       "   AvgPrev5Count-up  Avg recent5wrong  Avgmanywrong-up  \n",
       "0               0.0               1.0              0.0  \n",
       "1               0.0               0.0              0.0  \n",
       "2               0.0               1.0              0.0  \n",
       "3               0.0               0.0              0.0  \n",
       "4               0.0               0.0              0.0  "
      ]
     },
     "execution_count": 233,
     "metadata": {},
     "output_type": "execute_result"
    }
   ],
   "source": [
    "df = pd.read_csv(\"./data/ca1-dataset.csv\")\n",
    "\n",
    "# Let's see how the dataframe looks like\n",
    "print(\"length of the dataframe:\", len(df))\n",
    "print(\"first rows of the dataframe:\\n\")\n",
    "df.head()"
   ]
  },
  {
   "cell_type": "markdown",
   "metadata": {},
   "source": [
    "<a id=\"section1\"></a>\n",
    "## 1 Preprocess the data\n",
    "----\n",
    "\n",
    "In this section, your goal is to understand the data and select 5 meaningful features that will be used in the later sections to predict the off-task behavior.   \n",
    "\n",
    "Specifically, you should:\n",
    "\n",
    "1. Select 5 features from the original dataset that are meaningful for the off-task prediciton task.  \n",
    "2. Justify your decision: How did you select the five features? Add visualizations (from your Exploratory Data Analysis) to support your answer. \n",
    "3. Create a function that splits the data set into X (the five features you selected) and y (target variable) and gives appropriate format to the target variable. \n",
    "4. Justify your decision: Which proportion of the data set will be used to validate the models. Why? \n",
    "5. Finally, do any other necessary preprocessing steps.\n",
    "6. Justify the changes done to the data "
   ]
  },
  {
   "cell_type": "markdown",
   "metadata": {},
   "source": [
    "<a id=\"section1.1\"></a>\n",
    "### 1.1 \n",
    "\n",
    "List 5 features from the original dataset that are meaningful for the off-task prediciton task.  "
   ]
  },
  {
   "cell_type": "markdown",
   "metadata": {},
   "source": [
    "<font color='green'>For this subtask, several solutions are possible. However, what is more important, is that the choice of the 5 features are resonably justified in the next subtask.</font> "
   ]
  },
  {
   "cell_type": "code",
   "execution_count": 234,
   "metadata": {
    "deletable": false,
    "nbgrader": {
     "cell_type": "code",
     "checksum": "c2dee323de98624e19cc19637700a3d8",
     "grade": true,
     "grade_id": "1-1",
     "locked": false,
     "points": 5,
     "schema_version": 3,
     "solution": true,
     "task": false
    }
   },
   "outputs": [],
   "source": [
    "#### GRADED CELL ####\n",
    "### 1.1\n",
    "\n",
    "# YOUR CODE HERE\n",
    "meaningful_features = [\"Avgright\", \"Avgtimelast3SDnormed\", \"Avgwrongpct-up\", \"Avgbug\", \"Avg recent5wrong\"] # list of column names"
   ]
  },
  {
   "cell_type": "code",
   "execution_count": 235,
   "metadata": {},
   "outputs": [
    {
     "data": {
      "text/html": [
       "<div>\n",
       "<style scoped>\n",
       "    .dataframe tbody tr th:only-of-type {\n",
       "        vertical-align: middle;\n",
       "    }\n",
       "\n",
       "    .dataframe tbody tr th {\n",
       "        vertical-align: top;\n",
       "    }\n",
       "\n",
       "    .dataframe thead th {\n",
       "        text-align: right;\n",
       "    }\n",
       "</style>\n",
       "<table border=\"1\" class=\"dataframe\">\n",
       "  <thead>\n",
       "    <tr style=\"text-align: right;\">\n",
       "      <th></th>\n",
       "      <th>Avgright</th>\n",
       "      <th>Avgtimelast3SDnormed</th>\n",
       "      <th>Avgwrongpct-up</th>\n",
       "      <th>Avgbug</th>\n",
       "      <th>Avg recent5wrong</th>\n",
       "      <th>OffTask</th>\n",
       "    </tr>\n",
       "  </thead>\n",
       "  <tbody>\n",
       "    <tr>\n",
       "      <th>0</th>\n",
       "      <td>1.000000</td>\n",
       "      <td>0.288201</td>\n",
       "      <td>0.000000</td>\n",
       "      <td>0.0</td>\n",
       "      <td>1.0</td>\n",
       "      <td>N</td>\n",
       "    </tr>\n",
       "    <tr>\n",
       "      <th>1</th>\n",
       "      <td>1.000000</td>\n",
       "      <td>-0.774506</td>\n",
       "      <td>0.000000</td>\n",
       "      <td>0.0</td>\n",
       "      <td>0.0</td>\n",
       "      <td>N</td>\n",
       "    </tr>\n",
       "    <tr>\n",
       "      <th>2</th>\n",
       "      <td>1.000000</td>\n",
       "      <td>-1.529301</td>\n",
       "      <td>0.000000</td>\n",
       "      <td>0.0</td>\n",
       "      <td>1.0</td>\n",
       "      <td>N</td>\n",
       "    </tr>\n",
       "    <tr>\n",
       "      <th>3</th>\n",
       "      <td>0.833333</td>\n",
       "      <td>-1.366454</td>\n",
       "      <td>0.166667</td>\n",
       "      <td>0.0</td>\n",
       "      <td>0.0</td>\n",
       "      <td>N</td>\n",
       "    </tr>\n",
       "    <tr>\n",
       "      <th>4</th>\n",
       "      <td>1.000000</td>\n",
       "      <td>-1.829775</td>\n",
       "      <td>0.000000</td>\n",
       "      <td>0.0</td>\n",
       "      <td>0.0</td>\n",
       "      <td>N</td>\n",
       "    </tr>\n",
       "  </tbody>\n",
       "</table>\n",
       "</div>"
      ],
      "text/plain": [
       "   Avgright  Avgtimelast3SDnormed  Avgwrongpct-up  Avgbug  Avg recent5wrong  \\\n",
       "0  1.000000              0.288201        0.000000     0.0               1.0   \n",
       "1  1.000000             -0.774506        0.000000     0.0               0.0   \n",
       "2  1.000000             -1.529301        0.000000     0.0               1.0   \n",
       "3  0.833333             -1.366454        0.166667     0.0               0.0   \n",
       "4  1.000000             -1.829775        0.000000     0.0               0.0   \n",
       "\n",
       "  OffTask  \n",
       "0       N  \n",
       "1       N  \n",
       "2       N  \n",
       "3       N  \n",
       "4       N  "
      ]
     },
     "execution_count": 235,
     "metadata": {},
     "output_type": "execute_result"
    }
   ],
   "source": [
    "df_five = df[meaningful_features + ['OffTask']]\n",
    "df_five_id = df[['Unique-id']]\n",
    "df_five.head()"
   ]
  },
  {
   "cell_type": "markdown",
   "metadata": {},
   "source": [
    "### 1.2\n",
    "Justify your decisions. How did you select the five features? Add visualizations to support your answer. "
   ]
  },
  {
   "cell_type": "markdown",
   "metadata": {
    "deletable": false,
    "nbgrader": {
     "cell_type": "markdown",
     "checksum": "dc4092486e467435f7ca2ac42f0ef563",
     "grade": true,
     "grade_id": "1-2",
     "locked": false,
     "points": 5,
     "schema_version": 3,
     "solution": true,
     "task": false
    }
   },
   "source": [
    "<font color='green'> As emphasized in the the desciption of this subtask, it is essential that the choice of the 5 features is reasonably <b>justified</b> and <b>supported by visualizations.</b></font> \n",
    "\n",
    "<font color='green'> To approach this task, you could do a supervised or an unsupervised feature selection. Supervised methods will take into account the relation of the features with the target variable (in our case OffTask). For this purpose, you could try to look at features that show some correlations with the target variable. In the following, we will however, illustrate an unsupervised approach, in which we will not specifically look at the relationships of the potential features with the target variable. A good way to start, would be to do some exploratory data analysis, to get a feeling about the data set at hand. As shown in previous tutorials, one useful way to visualize data is to use histograms. Below we show examples of histograms that visualize the distribution of the different features by their binary OffTask values (\"Y\" or \"N\"). From the histograms it can be seen that the data set is highly unbalanced, with a much larger proportion of data labeled with \"N\" for the OffTask variable. Noticing this is crucial so that the results from the subsequent parts of this homework can be interpreted appropriately. Moreover, the histograms allow us to analyze which features might be informative for the classification task. For instance, a feature like `Avgmanywrong-up` may not be a good choice, since the distributions for both labels are similar and moreover, concentrated around the same values. It should be however, acknowledged that for this particular data set it can be also challenging to observe clear differences in the distributions for the other features. </font> \n",
    "\n",
    "<font color='green'> To complement the histograms, another useful analysis could be to look at the correlations between the features. The second figure displays a correlation heat map as introduced in the last homework (HW1). This graph allows us to see whether some features are strongly correlated among them. For instance, `Avgtimelast3SDnormed` and `Avgtimelast5SDnormed` are strongly correlated (0.9), as well as `Avgright` and `Avgnotright` (-1.0). These pairs therefore seem to contain redudant information and it would not make sense to select them together. As a matter of fact, the latter pair are actually the exact opposites, which explains the perfect negative correlation.</font> \n",
    "\n",
    "<font color='green'> Based on the above presented considerations, one reasonable selection of features would be e.g. `Avgright, Avgtimelast3SDnormed, Avgwrongpct-up, Avgbug, Avg recent5wrong`.</font> \n"
   ]
  },
  {
   "cell_type": "code",
   "execution_count": 236,
   "metadata": {},
   "outputs": [
    {
     "data": {
      "image/png": "[encoded data removed]",
      "text/plain": [
       "<Figure size 1800x1440 with 16 Axes>"
      ]
     },
     "metadata": {
      "needs_background": "light"
     },
     "output_type": "display_data"
    }
   ],
   "source": [
    "# visualize the distribution of features\n",
    "df_features = df.drop(columns=['Unique-id', 'namea']) # drop non-features\n",
    "\n",
    "fig, ax = plt.subplots(4,4, figsize=(25,20)) # create subplots\n",
    "fig.tight_layout() # adjust plotting layout\n",
    "for i, column_name in enumerate(df_features.columns):\n",
    "    if column_name == \"OffTask\":\n",
    "        sns.histplot(data=df_features, x=column_name, ax=ax[i//4,i%4]) # visualize counts for both OffTask levels\n",
    "    else:\n",
    "        sns.histplot(data=df_features, x=column_name, ax=ax[i//4,i%4], stat=\"probability\") # visualize distribution of each feature seperated by OffTask level\n"
   ]
  },
  {
   "cell_type": "code",
   "execution_count": 237,
   "metadata": {},
   "outputs": [
    {
     "data": {
      "text/plain": [
       "<matplotlib.axes._subplots.AxesSubplot at 0x7f55dc93e3c8>"
      ]
     },
     "execution_count": 237,
     "metadata": {},
     "output_type": "execute_result"
    },
    {
     "data": {
      "image/png": "[encoded data removed]",
      "text/plain": [
       "<Figure size 1080x864 with 2 Axes>"
      ]
     },
     "metadata": {
      "needs_background": "light"
     },
     "output_type": "display_data"
    }
   ],
   "source": [
    "# visualize the correlation between features (including target)\n",
    "\n",
    "df_visualize = pd.concat([df, pd.get_dummies(df['OffTask'])], axis=1) # change OffTask label into indicator variables\n",
    "\n",
    "fig, ax = plt.subplots(figsize=(15,12)) # create sublots\n",
    "plt.title(\"Correlation Heat Map\") # set the fig title\n",
    "mask = np.triu(df_visualize.corr()) # create upper triangle of an array\n",
    "\n",
    "sns.heatmap(df_visualize.corr(), annot = True, ax=ax, mask=mask, cmap= 'coolwarm', linewidths=.5) # visualize"
   ]
  },
  {
   "cell_type": "markdown",
   "metadata": {},
   "source": [
    "### 1.3\n",
    "\n",
    "Create a function that splits the data set into training and validation set. The target variable (y) is off-task."
   ]
  },
  {
   "cell_type": "markdown",
   "metadata": {},
   "source": [
    "<font color='green'> This is a pure implementation task, that basically asks for the correct use of scikit-learn's train_test_split() function. </font> "
   ]
  },
  {
   "cell_type": "code",
   "execution_count": 238,
   "metadata": {
    "deletable": false,
    "nbgrader": {
     "cell_type": "code",
     "checksum": "129e490bd776b0bb584fc1e4a1043553",
     "grade": true,
     "grade_id": "1-3",
     "locked": false,
     "points": 5,
     "schema_version": 3,
     "solution": true,
     "task": false
    }
   },
   "outputs": [],
   "source": [
    "#### GRADED CELL ####\n",
    "### 1.3\n",
    "def split_data(df):\n",
    "    \"\"\"\n",
    "    Splits data into X_train, X_val, y_train, y_val. \n",
    "    \n",
    "    20% of the data should be randomly assigned to the validation set. \n",
    "    \n",
    "    Parameters\n",
    "    ----------\n",
    "    df : DataFrame with the five selected features \n",
    "    \n",
    "    Returns:\n",
    "    -------\n",
    "    X_train: DataFrame with features (training set) \n",
    "    X_val: DataFrame with features (validation set)\n",
    "    y_train: np.array with target variable (training set) (Should take values 0,1)\n",
    "    y_val: np.array with target variable (validation set) (Should take values 0,1)\n",
    "                \n",
    "    \"\"\"\n",
    "    # YOUR CODE HERE\n",
    "    X = df.drop('OffTask', axis=1) # drop target\n",
    "    y = (df.OffTask == 'Y').astype(int) # convert into 0 and 1\n",
    "    X_train, X_val, y_train, y_val = train_test_split(X, y, test_size=0.2, random_state=0) # split train and validation data set\n",
    "    # Note: you can also manually split the dataset \n",
    "    \n",
    "    #y = df[\"OffTask\"].replace(\"N\", 0).replace(\"Y\", 1)\n",
    "    #X_train, X_val, y_train, y_val = train_test_split(df.drop([\"OffTask\"], axis=1), y, \n",
    "    #                                                  test_size=0.2, random_state=0)\n",
    "    #X_train = pd.DataFrame(X_train, columns = df.drop(\"OffTask\", axis=1).columns)\n",
    "    #X_val = pd.DataFrame(X_val, columns = X_train.columns)\n",
    "\n",
    "    return X_train, X_val, y_train, y_val"
   ]
  },
  {
   "cell_type": "code",
   "execution_count": 239,
   "metadata": {},
   "outputs": [],
   "source": [
    "X_train, X_val, y_train, y_val = split_data(df_five)"
   ]
  },
  {
   "cell_type": "markdown",
   "metadata": {},
   "source": [
    "### 1.4 - 1.6"
   ]
  },
  {
   "cell_type": "markdown",
   "metadata": {},
   "source": [
    "<font color='green'> These subtasks were mentioned in the initial task decription, but did not have specific exercise cells in the notebooks. Therefore, no points were deducted if the questions were not addressed. </font> \n",
    "\n",
    "<font color='green'> <b>Splitting the data into train and test sets:</b> A common approach is to split into 80% training data and 20% test data. If you are interested in knowing why these numbers were chosen, check out the [Pareto principle](https://en.wikipedia.org/wiki/Pareto_principle). However, depending on your data set, also other splits are possible, e.g. scikit-learn's train_test_split function uses by default a 75/25 split, also 70/30 splits are used quite often.</font> \n",
    "\n",
    "<font color='green'> <b>Other preprocessing steps:</b> As presented in the previous homework and tutorials, before using the data to train your models, it is advisable to analyze whether some data cleaning is necessary. We will not go into the details here, especially, because for this data set no major data cleaning is needed. However, one preprocessing step we may consider, is to perform a rescaling of the features. From the histograms we can observe that the features have very different ranges of values. Therefore, features with larger ranges may have stronger influences on our models. We can also see that the features do not follow gaussian distributions and often have some outliers. We therefore, decide to scale the data using scikit-learn's RobustScaler(). We learn the scaler from the training data, and then apply it to both the training and test data, following the idea that the test data should always represent some \"unseen\" data. Anything that is learned (including the scaler), should be learned from the training data. </font> "
   ]
  },
  {
   "cell_type": "code",
   "execution_count": 240,
   "metadata": {},
   "outputs": [],
   "source": [
    "cols = X_train.columns\n",
    "scaler = RobustScaler().fit(X_train)\n",
    "X_train = pd.DataFrame(scaler.transform(X_train), columns=cols)\n",
    "X_val = pd.DataFrame(scaler.transform(X_val), columns=cols)"
   ]
  },
  {
   "cell_type": "markdown",
   "metadata": {},
   "source": [
    "<a id=\"section2\"></a>\n",
    "## 2 Regression model\n",
    "---\n",
    "\n",
    "As seen in class, different link functions can be used in Generalized Linear Models.\n",
    "\n",
    "Select the appropriate link function to understand the relationship between OffTask (target label) and the previously selected features. \n",
    "\n",
    "In this exercise, you should:\n",
    "1. Create a regression model to explain the variable `OffTask` using the previously selected features.  \n",
    "2. Calculate accuracy of the model's predictions using the validation set. \n",
    "3. Interpret and explain the coeficients. Which features are significant? Did the model successfully describe the data? How do you know?  \n",
    "4. What changes could you do to improve the accuracy of the model (with the same type of regression model)?\n",
    "5. Implement your suggestions and re-run the model.\n",
    "6. Do you observe any change in the accuracy? Discuss your results"
   ]
  },
  {
   "cell_type": "markdown",
   "metadata": {},
   "source": [
    "### 2.1\n",
    "Create a generalized linear regression model to explain the variable `OffTask`"
   ]
  },
  {
   "cell_type": "markdown",
   "metadata": {},
   "source": [
    "<font color='green'> This is a pure implementation task, that basically asks for the correct use of statmodels' GLM() function. Note that it is important to specify the appropriate distribution family (sm.families.Binomial) as well as the seed for the random_state (can be any integer). The latter is important for you to always get the same results when rerunning the simulation. </font> "
   ]
  },
  {
   "cell_type": "code",
   "execution_count": 241,
   "metadata": {
    "deletable": false,
    "nbgrader": {
     "cell_type": "code",
     "checksum": "e99dd6d1e6d6701d59d36b3e816a227e",
     "grade": true,
     "grade_id": "2-1",
     "locked": false,
     "points": 3,
     "schema_version": 3,
     "solution": true,
     "task": false
    }
   },
   "outputs": [],
   "source": [
    "#### GRADED CELL ####\n",
    "### 2.1\n",
    "def build_regression(X_train, y_train):\n",
    "    \"\"\"\n",
    "    Splits data into X and y\n",
    "\n",
    "    Parameters\n",
    "    ----------\n",
    "    X_train: DataFrame with features (training set) \n",
    "    y_train: np.array with target variable (training set) \n",
    "\n",
    "    Returns:\n",
    "    -------\n",
    "    summary: detailed regression output\n",
    "             including coefficients and p-values associated\n",
    "    \"\"\"\n",
    "    # YOUR CODE HERE\n",
    "    clf = sm.GLM(y_train, X_train.values, family=sm.families.Binomial(), random_state=0).fit() # create a GLM model and train\n",
    "    summary = clf.summary() # get summary\n",
    "    \n",
    "    return clf, summary"
   ]
  },
  {
   "cell_type": "code",
   "execution_count": 242,
   "metadata": {},
   "outputs": [
    {
     "data": {
      "text/html": [
       "<table class=\"simpletable\">\n",
       "<caption>Generalized Linear Model Regression Results</caption>\n",
       "<tr>\n",
       "  <th>Dep. Variable:</th>        <td>OffTask</td>     <th>  No. Observations:  </th>  <td>   610</td> \n",
       "</tr>\n",
       "<tr>\n",
       "  <th>Model:</th>                  <td>GLM</td>       <th>  Df Residuals:      </th>  <td>   605</td> \n",
       "</tr>\n",
       "<tr>\n",
       "  <th>Model Family:</th>        <td>Binomial</td>     <th>  Df Model:          </th>  <td>     4</td> \n",
       "</tr>\n",
       "<tr>\n",
       "  <th>Link Function:</th>         <td>logit</td>      <th>  Scale:             </th> <td>  1.0000</td>\n",
       "</tr>\n",
       "<tr>\n",
       "  <th>Method:</th>                <td>IRLS</td>       <th>  Log-Likelihood:    </th> <td> -303.79</td>\n",
       "</tr>\n",
       "<tr>\n",
       "  <th>Date:</th>            <td>Wed, 24 Mar 2021</td> <th>  Deviance:          </th> <td>  607.58</td>\n",
       "</tr>\n",
       "<tr>\n",
       "  <th>Time:</th>                <td>00:34:48</td>     <th>  Pearson chi2:      </th> <td>1.21e+03</td>\n",
       "</tr>\n",
       "<tr>\n",
       "  <th>No. Iterations:</th>          <td>8</td>        <th>                     </th>     <td> </td>   \n",
       "</tr>\n",
       "<tr>\n",
       "  <th>Covariance Type:</th>     <td>nonrobust</td>    <th>                     </th>     <td> </td>   \n",
       "</tr>\n",
       "</table>\n",
       "<table class=\"simpletable\">\n",
       "<tr>\n",
       "   <td></td>     <th>coef</th>     <th>std err</th>      <th>z</th>      <th>P>|z|</th>  <th>[0.025</th>    <th>0.975]</th>  \n",
       "</tr>\n",
       "<tr>\n",
       "  <th>x1</th> <td>    1.6955</td> <td>    0.296</td> <td>    5.729</td> <td> 0.000</td> <td>    1.115</td> <td>    2.276</td>\n",
       "</tr>\n",
       "<tr>\n",
       "  <th>x2</th> <td>   -0.0538</td> <td>    0.057</td> <td>   -0.943</td> <td> 0.346</td> <td>   -0.166</td> <td>    0.058</td>\n",
       "</tr>\n",
       "<tr>\n",
       "  <th>x3</th> <td>   -0.2001</td> <td>    0.137</td> <td>   -1.462</td> <td> 0.144</td> <td>   -0.468</td> <td>    0.068</td>\n",
       "</tr>\n",
       "<tr>\n",
       "  <th>x4</th> <td>   -5.0193</td> <td>    2.570</td> <td>   -1.953</td> <td> 0.051</td> <td>  -10.057</td> <td>    0.019</td>\n",
       "</tr>\n",
       "<tr>\n",
       "  <th>x5</th> <td>    0.5696</td> <td>    0.186</td> <td>    3.056</td> <td> 0.002</td> <td>    0.204</td> <td>    0.935</td>\n",
       "</tr>\n",
       "</table>"
      ],
      "text/plain": [
       "<class 'statsmodels.iolib.summary.Summary'>\n",
       "\"\"\"\n",
       "                 Generalized Linear Model Regression Results                  \n",
       "==============================================================================\n",
       "Dep. Variable:                OffTask   No. Observations:                  610\n",
       "Model:                            GLM   Df Residuals:                      605\n",
       "Model Family:                Binomial   Df Model:                            4\n",
       "Link Function:                  logit   Scale:                          1.0000\n",
       "Method:                          IRLS   Log-Likelihood:                -303.79\n",
       "Date:                Wed, 24 Mar 2021   Deviance:                       607.58\n",
       "Time:                        00:34:48   Pearson chi2:                 1.21e+03\n",
       "No. Iterations:                     8                                         \n",
       "Covariance Type:            nonrobust                                         \n",
       "==============================================================================\n",
       "                 coef    std err          z      P>|z|      [0.025      0.975]\n",
       "------------------------------------------------------------------------------\n",
       "x1             1.6955      0.296      5.729      0.000       1.115       2.276\n",
       "x2            -0.0538      0.057     -0.943      0.346      -0.166       0.058\n",
       "x3            -0.2001      0.137     -1.462      0.144      -0.468       0.068\n",
       "x4            -5.0193      2.570     -1.953      0.051     -10.057       0.019\n",
       "x5             0.5696      0.186      3.056      0.002       0.204       0.935\n",
       "==============================================================================\n",
       "\"\"\""
      ]
     },
     "execution_count": 242,
     "metadata": {},
     "output_type": "execute_result"
    }
   ],
   "source": [
    "reg, summary = build_regression(X_train, y_train)\n",
    "summary"
   ]
  },
  {
   "cell_type": "markdown",
   "metadata": {},
   "source": [
    "### 2.2 \n",
    "\n",
    "Calculate the accuracy. Given the classifier `clf`, features `X_val` and labels `y_val`, calculate the prediction accuracy. "
   ]
  },
  {
   "cell_type": "markdown",
   "metadata": {},
   "source": [
    "<font color='green'> Also this is a pure implementation task, that basically asks for the correct use of scikit-learns predict() function and the correct calculation of the prediction accuracy. </font> "
   ]
  },
  {
   "cell_type": "code",
   "execution_count": 243,
   "metadata": {
    "deletable": false,
    "nbgrader": {
     "cell_type": "code",
     "checksum": "3b7c89cff15a0d6ae39f7869f0576b79",
     "grade": true,
     "grade_id": "2-2",
     "locked": false,
     "points": 2,
     "schema_version": 3,
     "solution": true,
     "task": false
    }
   },
   "outputs": [],
   "source": [
    "#### GRADED CELL ####\n",
    "### 2.2\n",
    "def calculate_accuracy(clf, X_val, y_val):\n",
    "    \"\"\"\n",
    "    Calculates accuracy (percentage of validation samples \n",
    "    that are correctly classified) for linear regression\n",
    "\n",
    "    Parameters\n",
    "    ----------\n",
    "    clr: previously trained classifier\n",
    "    X_val: DataFrame with features (validation set)\n",
    "    y_val: np.array with target variable (validation set)\n",
    "    \n",
    "    Returns:\n",
    "    -------\n",
    "    accuracy: float \n",
    "                \n",
    "    \"\"\"\n",
    "    # YOUR CODE HERE\n",
    "    y_pred = clf.predict(X_val) # predict on validation data set\n",
    "    accuracy = sum((y_pred > 0.5).to_numpy() == y_val.to_numpy())/len(y_val) # calculate accuracy\n",
    "    \n",
    "    return accuracy"
   ]
  },
  {
   "cell_type": "code",
   "execution_count": 244,
   "metadata": {},
   "outputs": [
    {
     "data": {
      "text/plain": [
       "('validation score of regression:', 0.6928104575163399)"
      ]
     },
     "execution_count": 244,
     "metadata": {},
     "output_type": "execute_result"
    }
   ],
   "source": [
    "\"validation score of regression:\", calculate_accuracy(reg, X_val, y_val)"
   ]
  },
  {
   "cell_type": "markdown",
   "metadata": {},
   "source": [
    "### 2.3\n",
    "Interpret and explain the coeficients. Which features are significant? Did the model successfully describe the data? How do you know? "
   ]
  },
  {
   "cell_type": "markdown",
   "metadata": {
    "deletable": false,
    "nbgrader": {
     "cell_type": "markdown",
     "checksum": "63c78cb2b4e8cecd2ee41801648e516c",
     "grade": true,
     "grade_id": "2-3",
     "locked": false,
     "points": 5,
     "schema_version": 3,
     "solution": true,
     "task": false
    }
   },
   "source": [
    "<font color='green'><b> Interpret and explain the coeficients. </b></font> \n",
    "\n",
    "<font color='green'> This question can be answered by looking at the `coef` column of the model summary. The coefficients describe describes the relationship between the preidctors (the five features) and the response variable (i.e. the target `OffTask`). Higher values indicate a stronger influence of the input variable on the output variable in the trained model. In our example we can, for instance, observe that x4 (`Avgbug`) has a large (negative) coefficient (-5.02). </font> \n",
    "\n",
    "<font color='green'><b> Which features are significant? </b></font> \n",
    "\n",
    "<font color='green'> Indeed, it is not enough to only look at the model coefficients of each model, to determine whether a feature is significant in predicting the dependent variable. To decide whether a feature is significant, you should analyze the p-values in the `P>|z|` column of the summary table. Depending on the siginificance level you choose (a common choice is e.g. alpha = 0.05), you can then decide which features are predicitive. The p-value for each term tests the null hypothesis that the coefficient is equal to zero (no effect). A p-value below the significance level indicates that you can reject the null hypothesis. In other words, a predictor that has a low p-value is likely to be a meaningful addition to your model because changes in the predictor's value are related to changes in the response variable. Conversely, a larger (insignificant) p-value suggests that changes in the predictor are not associated with changes in the response. In the present example, this is only the case for x1 (`Avgright`) and x5 (`Avg recent5wrong`). With p = 0.051, x4 (`Avgbug`) is close to be statistically significant. We can then decide whether it is still a feature we want to consider as predictive for our model. </font>\n",
    "\n",
    "<font color='green'><b> Did the model successfully describe the data? How do you know? </b></font> \n",
    "\n",
    "<font color='green'> To answer this question, it is not enough to report high accuracy values achieved with the model. One should also look at potential baseline models, against which the performance of the model can be tested. Two very simple choices could be a random classifier distinguishing between the two levels of `OffTask` with an accuracy of 0.5, as well as a majority class classifier. Since the data set is very unbalanced, the latter would already yield an accuracy of 146/153 = 0.954 for the test data set, as shown below. Furthermore, to evaluate the model's performance in more detail and understand whether a specific class is predicted better or worse, we could also look at the proportions of true/false positives/negatives, as shown below. </font> "
   ]
  },
  {
   "cell_type": "code",
   "execution_count": 245,
   "metadata": {},
   "outputs": [
    {
     "name": "stdout",
     "output_type": "stream",
     "text": [
      "ratio of majority category of samples: 0.954248366013072\n",
      "true_positive: 0.14285714285714285\n",
      "true_negative: 0.7191780821917808\n",
      "false_positive: 0.2808219178082192\n",
      "false_negative: 0.8571428571428571\n"
     ]
    }
   ],
   "source": [
    "# ratio of majority category of samples in the validation dataset\n",
    "print(\"ratio of majority category of samples:\", sum(1-y_val)/len(y_val))\n",
    "\n",
    "# calculate true positive, false positive, true negative, false positive\n",
    "y_pred = reg.predict(X_val)\n",
    "true_positive = sum(np.logical_and((y_pred > 0.5).to_numpy(), y_val.to_numpy()))/sum(y_val.to_numpy())\n",
    "true_negative = sum(np.logical_and((y_pred < 0.5).to_numpy(), (1-y_val.to_numpy())))/sum((1-y_val.to_numpy()))\n",
    "false_positive = sum(np.logical_and((y_pred > 0.5).to_numpy(), (1-y_val.to_numpy())))/sum((1-y_val.to_numpy()))\n",
    "false_negative = sum(np.logical_and((y_pred < 0.5).to_numpy(), y_val.to_numpy()))/sum(y_val.to_numpy())\n",
    "\n",
    "print(\"true_positive:\", true_positive)\n",
    "print(\"true_negative:\", true_negative)\n",
    "print(\"false_positive:\", false_positive)\n",
    "print(\"false_negative:\", false_negative)\n",
    "\n"
   ]
  },
  {
   "cell_type": "markdown",
   "metadata": {},
   "source": [
    "### 2.4\n",
    "What changes could you do to improve the accuracy of the model (with the same type of regression model)?\n",
    "Explain and justify your decisions."
   ]
  },
  {
   "cell_type": "markdown",
   "metadata": {
    "deletable": false,
    "nbgrader": {
     "cell_type": "markdown",
     "checksum": "d3223e4eb50c298353999b9debfdc25a",
     "grade": true,
     "grade_id": "2-4",
     "locked": false,
     "points": 5,
     "schema_version": 3,
     "solution": true,
     "task": false
    }
   },
   "source": [
    "<font color='green'> For this subtask, multiple solutions are possible. One very straight forward approach would be to extend the feature set with more features. For this purpose, we could for instance select other features from our initial set. However, in the following we introduce another approach, called [data augmentation](https://en.wikipedia.org/wiki/Data_augmentation). Following this approach could help us in better training our regression model. Another approach could be to experiment with different ways of scaling the features (not implemented here). </font> \n",
    "\n",
    "<font color='green'> Another, more sophisticated, but also computationally heavier approach is [Best Subset Selection](https://quantifyinghealth.com/best-subset-selection/) (not implemented here). In this approach, you run the model multiple times with different numbers and combinations of predictors. Based on a predefined quality metric (e.g. predicition error, BIC, AIC), you can then decide which is the \"best\" subset of features to use with the model. However, this approach can be computationally heavy, especially when you have a large number of features, and it could also result in overfitting. </font> "
   ]
  },
  {
   "cell_type": "markdown",
   "metadata": {},
   "source": [
    "### 2.5 \n",
    "\n",
    "Implement your suggestions and re-run the model. "
   ]
  },
  {
   "cell_type": "code",
   "execution_count": 246,
   "metadata": {
    "deletable": false,
    "nbgrader": {
     "cell_type": "code",
     "checksum": "2d54e1546637e7fb7fee485b27d22354",
     "grade": true,
     "grade_id": "2-5",
     "locked": false,
     "points": 5,
     "schema_version": 3,
     "solution": true,
     "task": false
    }
   },
   "outputs": [
    {
     "name": "stdout",
     "output_type": "stream",
     "text": [
      "validation score of regression: 0.8104575163398693\n"
     ]
    }
   ],
   "source": [
    "# Data augmentation\n",
    "\n",
    "X_train_square = pd.concat([X_train, X_train**2], axis=1) # append with square\n",
    "X_val_square = pd.concat([X_val, X_val**2], axis=1) # append with square\n",
    "\n",
    "reg, summary = build_regression(X_train_square, y_train) # build regression model\n",
    "\n",
    "print(\"validation score of regression:\", calculate_accuracy(reg, X_val_square, y_val))"
   ]
  },
  {
   "cell_type": "markdown",
   "metadata": {},
   "source": [
    "### 2.6\n",
    "Do you observe any change in the accuracy? Discuss your results"
   ]
  },
  {
   "cell_type": "markdown",
   "metadata": {
    "deletable": false,
    "nbgrader": {
     "cell_type": "markdown",
     "checksum": "1c9aaac7fa106cc693deb0f1ed56ac13",
     "grade": true,
     "grade_id": "2-6",
     "locked": false,
     "points": 5,
     "schema_version": 3,
     "solution": true,
     "task": false
    }
   },
   "source": [
    "<font color='green'> With only adding more features through data augmentation, the accuracy improved from 0.69 to 0.81. However, this result should be interpreted with the possibility that the model could now overfit to the data set. </font> "
   ]
  },
  {
   "cell_type": "markdown",
   "metadata": {},
   "source": [
    "<a id=\"section3\"></a>\n",
    "## 3 Decision Tree\n",
    "---\n",
    "\n",
    "As mentioned during the lecture, decision trees are a classification model with a tree-like structure. In the following questions, you should:\n",
    "\n",
    "1. Train a decision tree with the original 5 features selected in question 1.1. Return the names of the three most important features.  \n",
    "2. Interpret the decision tree and feature importances based on the provided visualization.  \n",
    "3. Play with the maximum depth hyper-parameter. \n",
    "4. Interpret your results. \n",
    "\n"
   ]
  },
  {
   "cell_type": "markdown",
   "metadata": {},
   "source": [
    "### 3.1\n",
    "Train a decision tree with the original 5 features selected in question 1.1. Return the names of the three most important features.  "
   ]
  },
  {
   "cell_type": "markdown",
   "metadata": {},
   "source": [
    "<font color='green'> This is again a pure implementation task, that requires the correct use of scikit-learn's DecisionTreeClassifier and the feature_importances_ function. </font> "
   ]
  },
  {
   "cell_type": "code",
   "execution_count": 247,
   "metadata": {
    "deletable": false,
    "nbgrader": {
     "cell_type": "code",
     "checksum": "8d1ca18eabddc7f943ed02dcc465f4f1",
     "grade": true,
     "grade_id": "3-1",
     "locked": false,
     "points": 5,
     "schema_version": 3,
     "solution": true,
     "task": false
    }
   },
   "outputs": [],
   "source": [
    "#### GRADED CELL ####\n",
    "### 3.1\n",
    "def build_decision_tree(X_train, y_train, max_depth=3):\n",
    "    \"\"\"\n",
    "    Train a decision tree classifier.\n",
    "    1. Create a decision tree classifier given max_depth\n",
    "    2. Train the classifier\n",
    "    3. Get the importance of features\n",
    "    \n",
    "    Parameters\n",
    "    ----------\n",
    "    X_train: DataFrame with the 5 selected features (training set) \n",
    "    y_train: np.array with target variable (training set)\n",
    "    max_depth : maximum depth of the decision tree\n",
    " \n",
    "    \n",
    "    Returns:\n",
    "    -------\n",
    "    clf: decision tree classifier\n",
    "    feature_importance: list of the names of the 3 most important of features\n",
    "                        ordered by feature importance\n",
    "\n",
    "    \"\"\"\n",
    "    # YOUR CODE HERE\n",
    "    clf = tree.DecisionTreeClassifier(max_depth=max_depth, random_state=0).fit(X_train, y_train) # create a Decision Tree and train\n",
    "    feature_importances = clf.feature_importances_ # get feature importance\n",
    "    \n",
    "    return clf, feature_importances"
   ]
  },
  {
   "cell_type": "code",
   "execution_count": 248,
   "metadata": {},
   "outputs": [],
   "source": [
    " clf, feature_importance = build_decision_tree(X_train, y_train) # train the model using training data"
   ]
  },
  {
   "cell_type": "code",
   "execution_count": 249,
   "metadata": {},
   "outputs": [
    {
     "name": "stdout",
     "output_type": "stream",
     "text": [
      "validation score of decision tree: 0.954248366013072\n",
      "most important features: [0.         0.80065231 0.         0.         0.19934769]\n"
     ]
    }
   ],
   "source": [
    "print(\"validation score of decision tree:\", clf.score(X_val, y_val))\n",
    "print(\"most important features:\", feature_importance)"
   ]
  },
  {
   "cell_type": "markdown",
   "metadata": {},
   "source": [
    "Now we can visualize the decision tree"
   ]
  },
  {
   "cell_type": "code",
   "execution_count": 250,
   "metadata": {},
   "outputs": [
    {
     "data": {
      "image/png": "[encoded data removed]",
      "text/plain": [
       "<Figure size 1440x720 with 1 Axes>"
      ]
     },
     "metadata": {
      "needs_background": "light"
     },
     "output_type": "display_data"
    }
   ],
   "source": [
    "plt.figure(figsize=(20,10))\n",
    "tree.plot_tree(clf);"
   ]
  },
  {
   "cell_type": "markdown",
   "metadata": {},
   "source": [
    "### 3.2 \n",
    "\n",
    "Interpret the decision tree and feature importances based on the provided visualization. \n"
   ]
  },
  {
   "cell_type": "markdown",
   "metadata": {
    "deletable": false,
    "nbgrader": {
     "cell_type": "markdown",
     "checksum": "c7fcef180af1b5bf14ffa7b98473644f",
     "grade": true,
     "grade_id": "3-2",
     "locked": false,
     "points": 5,
     "schema_version": 3,
     "solution": true,
     "task": false
    }
   },
   "source": [
    "<font color='green'> From the feature_importance array, as well as the plot it can be seen that using the decision tree, there are only two features that are predictive of the response variable OffTask. These features are the ones that have non-zero importance in the array. They are feature x[1] and feature x[4] (Avgtimelast3SDnormed and Avg recent5wrong). The plot visualizes that they are the only features used in the decision tree for classification.  </font> \n",
    "\n"
   ]
  },
  {
   "cell_type": "markdown",
   "metadata": {},
   "source": [
    "### 3.3 \n",
    "\n",
    "Play with the maximum depth hyper-parameter. \n",
    "\n",
    "You might have noticed that there is an max_depth hyper-parameter in the Decision Tree classifier. \n",
    "Which max_depth parameter leads to the highest validation score?\n",
    "\n",
    "Plot the accuracy with the varying depths (choose an appropriate range). "
   ]
  },
  {
   "cell_type": "markdown",
   "metadata": {},
   "source": [
    "<font color='green'> This is again a pure implementation task, in which you need to calculate and plot the accuracy for varying values of the max_depth hyper-parameter. </font> "
   ]
  },
  {
   "cell_type": "code",
   "execution_count": 251,
   "metadata": {
    "deletable": false,
    "nbgrader": {
     "cell_type": "code",
     "checksum": "cb2c0991e1bd7d65bfe5419caf89e060",
     "grade": true,
     "grade_id": "3-3",
     "locked": false,
     "points": 5,
     "schema_version": 3,
     "solution": true,
     "task": false
    }
   },
   "outputs": [],
   "source": [
    "#### GRADED CELL ####\n",
    "### 3.3\n",
    "def explore_max_depth(X_train, X_val, y_train, y_val):\n",
    "    \"\"\"\n",
    "    Explore the max depth parameter\n",
    "    1. Get the accuracy score of the decision tree classifier at different depths\n",
    "    2. Plot the accuracy at different depths\n",
    "    \n",
    "    Parameters\n",
    "    ----------\n",
    "    X_train: DataFrame with features (training set) \n",
    "    X_val: DataFrame with features (validation set)\n",
    "    y_train: np.array with target variable (training set) \n",
    "    y_val: np.array with target variable (validation set)\n",
    "    \n",
    "    \n",
    "    Returns:\n",
    "    -------\n",
    "    None\n",
    "\n",
    "    \"\"\"\n",
    "    \n",
    "    # YOUR CODE HERE\n",
    "    result_train = []\n",
    "    result_test = []\n",
    "    for i in range(1,10):\n",
    "        clf, _ = (build_decision_tree(X_train, y_train, max_depth=i)) # train different models\n",
    "        result_train.append(clf.score(X_train, y_train)) # calcuate accuracy for training setz\n",
    "        result_test.append(clf.score(X_val, y_val)) # calcuate accuracy for test set\n",
    "\n",
    "    # visualization\n",
    "    plt.plot(range(1,10), result_train, label=\"train accuracy\") \n",
    "    plt.plot(range(1,10), result_test, label=\"test accuracy\") \n",
    "    plt.xlabel(\"max depth\")\n",
    "    plt.ylabel(\"score\")\n",
    "    plt.xticks(range(1,10))\n",
    "    plt.legend()\n",
    "    plt.show()\n",
    "    "
   ]
  },
  {
   "cell_type": "code",
   "execution_count": 252,
   "metadata": {},
   "outputs": [
    {
     "data": {
      "image/png": "[encoded data removed]",
      "text/plain": [
       "<Figure size 432x288 with 1 Axes>"
      ]
     },
     "metadata": {
      "needs_background": "light"
     },
     "output_type": "display_data"
    }
   ],
   "source": [
    "explore_max_depth(X_train, X_val, y_train, y_val)"
   ]
  },
  {
   "cell_type": "markdown",
   "metadata": {},
   "source": [
    "### 3.4 \n",
    "\n",
    "Interpret your results. Which max_depth do you think is the best? "
   ]
  },
  {
   "cell_type": "markdown",
   "metadata": {
    "deletable": false,
    "nbgrader": {
     "cell_type": "markdown",
     "checksum": "6815039f4b2f7dab443391364a49f47a",
     "grade": true,
     "grade_id": "3-4",
     "locked": false,
     "points": 5,
     "schema_version": 3,
     "solution": true,
     "task": false
    }
   },
   "source": [
    "<font color='green'> Above we have plotted the accuracies for the decision tree for varying max_depth parameter and for both training and test sets. We can see that the accuracy with the training data increases with more depth in the decision tree, most probably due to overfitting. More interestingly, we can observe that for the test data, the accuracy of the decision tree does not change for max_depth values between 1 and 5. For values larger than 5, the accuracy even drops. Therefore, for this example it seems like choosing a max_depth of 1 would be the best choice, since it allows the model to achieve the highest performance with the smallest number of layers. </font> "
   ]
  },
  {
   "cell_type": "markdown",
   "metadata": {},
   "source": [
    "<a id=\"section4\"></a>\n",
    "## 4 Random Forest\n",
    "---\n",
    "\n",
    "In this section, you will explore another classifier: the Random Forest classifier. As mentioned during the lecture, the Random Forest classifier combines the output of multiple decision trees in order to generate the final output.\n",
    "\n",
    "You should:\n",
    "\n",
    "1. Train a Random Forest with the original 5 features selected in question 1.1. Return the names of the three most important features.  \n",
    "2. Interpret your results.\n",
    "3. Compare the results from the three models\n",
    "4. Play with the Random Forest hyper-parameters. \n",
    "5. Interpret your results. "
   ]
  },
  {
   "cell_type": "markdown",
   "metadata": {},
   "source": [
    "### 4.1\n",
    "Train a Random Forest with the original 5 features selected in question 1.1. Return the names of the three most important features.  "
   ]
  },
  {
   "cell_type": "markdown",
   "metadata": {},
   "source": [
    "<font color='green'> This is again a pure implementation task, that requires the correct use of scikit-learn's RandomForestClassifier and the feature_importances_ function. </font> "
   ]
  },
  {
   "cell_type": "code",
   "execution_count": 253,
   "metadata": {
    "deletable": false,
    "nbgrader": {
     "cell_type": "code",
     "checksum": "f050d25a60d7b9f785a6ec954839e8a4",
     "grade": true,
     "grade_id": "4-1",
     "locked": false,
     "points": 3,
     "schema_version": 3,
     "solution": true,
     "task": false
    }
   },
   "outputs": [],
   "source": [
    "#### GRADED CELL ####\n",
    "### 4.1\n",
    "def build_random_forest(X_train, y_train, n_estimators=10):\n",
    "    \"\"\"\n",
    "    Train a Random Forest classifier.\n",
    "    1. Create a Random Forest classifier given max_depth\n",
    "    2. Train the classifier \n",
    "    3. Extract the feature importance\n",
    "    \n",
    "    Parameters\n",
    "    ----------\n",
    "    X_train: DataFrame with features (training set) \n",
    "    y_train: np.array with target variable (training set)  \n",
    "    n_estimators : the number of estimator in the random forest classifier\n",
    "    \n",
    "    \n",
    "    Returns:\n",
    "    -------\n",
    "    clf: random forest classifier\n",
    "    feature_importance: list of the names of the 3 most important of features\n",
    "                        ordered by feature importance\n",
    "    \"\"\"\n",
    "    # YOUR CODE HERE\n",
    "    clf = RandomForestClassifier(n_estimators, random_state = 0) # create a Random Forest\n",
    "    clf.fit(X_train, y_train) # train\n",
    "    feature_importance = clf.feature_importances_ # get feature importance\n",
    "    \n",
    "    return clf, feature_importance"
   ]
  },
  {
   "cell_type": "code",
   "execution_count": 254,
   "metadata": {},
   "outputs": [
    {
     "name": "stdout",
     "output_type": "stream",
     "text": [
      "validation score of random forest: 0.9411764705882353\n",
      "most important features: [0.04334565 0.75063164 0.05775567 0.00549829 0.14276875]\n"
     ]
    }
   ],
   "source": [
    "clf, feature_importance = build_random_forest(X_train, y_train) \n",
    "\n",
    "print(\"validation score of random forest:\", clf.score(X_val, y_val))\n",
    "print(\"most important features:\", feature_importance)"
   ]
  },
  {
   "cell_type": "markdown",
   "metadata": {},
   "source": [
    "### 4.2 \n",
    "\n",
    "Interpret your results. How do the top three features from the RF differ from the top features from the DT? \n"
   ]
  },
  {
   "cell_type": "markdown",
   "metadata": {
    "deletable": false,
    "nbgrader": {
     "cell_type": "markdown",
     "checksum": "78d8b41bde8ae3c513cd54b9a15c18b0",
     "grade": true,
     "grade_id": "4-2",
     "locked": false,
     "points": 5,
     "schema_version": 3,
     "solution": true,
     "task": false
    }
   },
   "source": [
    "<font color='green'> From the feature_importance array, it can be observed that the two most important features are still x[1] and x[4] (Avgtimelast3SDnormed and Avg recent5wrong) like in the decision tree from the previous task. However, in the random forest also the other features gained a bit more in importance. This comes from the fact that random forest combines the results of multiple decision trees (in this example 10). </font> "
   ]
  },
  {
   "cell_type": "markdown",
   "metadata": {},
   "source": [
    "### 4.3 \n",
    "\n",
    "Compare and discuss the results of three models (Regression, Decision Tree and Random Forest)"
   ]
  },
  {
   "cell_type": "markdown",
   "metadata": {
    "deletable": false,
    "nbgrader": {
     "cell_type": "markdown",
     "checksum": "47666a751937374d41261cc0986ac14e",
     "grade": true,
     "grade_id": "4-3",
     "locked": false,
     "points": 5,
     "schema_version": 3,
     "solution": true,
     "task": false
    }
   },
   "source": [
    "<font color='green'> From the results obtained with the different classifiers we could observe that the regression model showed the lowest performance in terms of accuracy (0.69). However, it should be noted that this result was obtained after applying the RobustScaler. Removing the RobustScaler or instead using a MinMaxScaler would yield in a accuracy similar to the other two approaches (0.95). This example shows how scaling can have a stong influence on the outcomes of the model. For this data set, it seems like the use of the RobustScaler reduces the information from our selected features and is therefore not appropriate. The decision tree on the other hand, yields a good performance in terms of accuracy (0.95) even for small values of max_depth. A great advantage of this approach is the interpretability of the results, that can be visualized and easily understood by human examination. Extending the decision tree to a random forest with multiple estimators slightly reduced accuracy (0.94), but on the other hand should increase robustness and avoid overfitting. It should be noted that all the results should be interpreted with the knowledge in mind that the data set is highly unbalanced and that a majority class classifier would yield a similar performance (0.95). It is therefore possible, that all three approaches may be biased to predicting the \"N\" class of OffTask. </font> "
   ]
  },
  {
   "cell_type": "markdown",
   "metadata": {},
   "source": [
    "### 4.4\n",
    "\n",
    "\n",
    "As we have seen in the lecture and in the tutotial, there are multiple hyper-parameters that can be tuned in the Random Forest classifier (number of estimators, maximum depth, function to measure the quality of a split,  minimum number of samples required to be at a leaf node, minimum weighted fraction of the sum total of weights etc)\n",
    "\n",
    "Pick only **one** hyper-parameter and explore the changes in accuracy as you vary the values. \n",
    "\n",
    "Plot the accuracy with the varying values for the hyper-parameter you selected (choose an appropriate range). \n"
   ]
  },
  {
   "cell_type": "markdown",
   "metadata": {},
   "source": [
    "<font color='green'> This is again a pure implementation task, in which you can decide whch hyper-parameter you want to vary. In this example we will illustrate the effect of the number of estimators. </font> "
   ]
  },
  {
   "cell_type": "code",
   "execution_count": 255,
   "metadata": {
    "deletable": false,
    "nbgrader": {
     "cell_type": "code",
     "checksum": "7db757a384d971af0a7364f77ee6ce8b",
     "grade": true,
     "grade_id": "4-4",
     "locked": false,
     "points": 2,
     "schema_version": 3,
     "solution": true,
     "task": false
    }
   },
   "outputs": [],
   "source": [
    "#### GRADED CELL ####\n",
    "### 4.4\n",
    "def explore_hyperparameter(X_train, X_val, y_train, y_val):\n",
    "    \"\"\"\n",
    "    Explore ONE chosen hyperparameter\n",
    "    1. Get the accuracy score of Random Forest classifier \n",
    "        with varying values of ONE hyperparameter\n",
    "    2. Plot the accuracy at different values \n",
    "    \n",
    "    Parameters\n",
    "    ----------\n",
    "    X_train: DataFrame with features (training set) \n",
    "    X_val: DataFrame with features (validation set)\n",
    "    y_train: np.array with target variable (training set) \n",
    "    y_val: np.array with target variable (validation set)\n",
    "    \n",
    "    \n",
    "    Returns:\n",
    "    -------\n",
    "    None\n",
    "\n",
    "    \"\"\"\n",
    "    # YOUR CODE HERE\n",
    "    result = []\n",
    "    for i in range(1,100, 5):\n",
    "        clf, _ = (build_random_forest(X_train, y_train, n_estimators=i)) # create model and train\n",
    "        result.append(clf.score(X_val, y_val)) # get accuracy\n",
    "    \n",
    "    # visualization\n",
    "    plt.plot(range(1,100, 5), result)\n",
    "    plt.xlabel(\"num of estimator\")\n",
    "    plt.ylabel(\"score\")\n",
    "    plt.xticks(range(1,100,10))\n",
    "    plt.show()"
   ]
  },
  {
   "cell_type": "code",
   "execution_count": 256,
   "metadata": {},
   "outputs": [
    {
     "data": {
      "image/png": "[encoded data removed]",
      "text/plain": [
       "<Figure size 432x288 with 1 Axes>"
      ]
     },
     "metadata": {
      "needs_background": "light"
     },
     "output_type": "display_data"
    }
   ],
   "source": [
    "explore_hyperparameter(X_train, X_val, y_train, y_val)"
   ]
  },
  {
   "cell_type": "markdown",
   "metadata": {},
   "source": [
    "### 4.5 \n",
    "\n",
    "Interpret your results. Justify your choice of hyper-parameter. What effect does the hyper-parameter selected have on the model? In this case, which is the optimal value? Why? "
   ]
  },
  {
   "cell_type": "markdown",
   "metadata": {
    "deletable": false,
    "nbgrader": {
     "cell_type": "markdown",
     "checksum": "29d8aa793b328daff0255503427217da",
     "grade": true,
     "grade_id": "4-5",
     "locked": false,
     "points": 5,
     "schema_version": 3,
     "solution": true,
     "task": false
    }
   },
   "source": [
    "<font color='green'> From the above plot we can observe that the accuracy of the random forest increases with the number of estimators. The increase is steeper in the beginning and then settles at around 41 estimators. However, whether this is the optimal value to choose depends also on the computational power available and the accuracy desired. If efficiency is a factor, one could for instance, consider to choose 6 estimators which results in a accuracy of 0.94 with reasonable computational effort. </font> "
   ]
  },
  {
   "cell_type": "markdown",
   "metadata": {},
   "source": [
    "\n",
    "## 5 Creative extension\n",
    "---\n",
    "\n",
    "In this last part, we will ask you to be creative and extend the set of five features you are using. \n",
    "\n",
    "1. Conduct feature engineering to create at least 5 new features that cannot be created using just the original data set. Add the new features to the original data set. \n",
    "2. Train a Random Forest classifier with the extended set of features. \n",
    "3. Interpret your results. "
   ]
  },
  {
   "cell_type": "markdown",
   "metadata": {},
   "source": [
    "The goal of this last part is to build a better behavior detector (classifier), using the features you selected in the part part as well as new features you will create based on the new data we are providing now to youfor this question. \n",
    "\n",
    "In the first part, you have used the dataset stored in <code>ca1‐dataset.csv</code> in a CSV format, this data set has already been aggregated by `UniqueID`. Now, you will need to play also with the dataset stored in <code>ca2‐dataset.csv</code>, in a CSV format as well.\n",
    "\n",
    "These two datasets represent the same data set, but at two different grain‐sizes. Specifically, the new data (<code>ca2‐dataset.csv</code>) represents individual raw student actions within educational software, while the previous data set (<code>ca1‐dataset.csv</code>) is at the grain size of all the actions that occurred during 20 second field observations by students. Note that the individual raw student actions are labeled with the same UniqueID labels as the observations are (each `UniqueID` corresponds to a single field observation). In this question, you must conduct feature engineering to improve the features in the original data set, using the data in the new data set. You must create at least **five** new features that cannot be created using just the original data set, and add the new features to the set of features you have selected in the first part of the homework. \n",
    "\n",
    "#### About the individual raw student actions dataset\n",
    "\n",
    "Our target is to identify that one specific behavioral for students. The detailed description of features are given as below. The features are related to the information how the student interacting with the system for individual actions. \n",
    "\n",
    "The description of the features for the individual raw actions in  <code>ca2‐dataset.csv</code> is provided below. \n",
    "\n",
    "\n",
    "| Name                   | Description                         |\n",
    "| ---------------------- | ------------------------------------------------------------ |\n",
    "| right| 1 if the action is right, 0 otherwise|\n",
    "|\tbug| 1 if there is a bug, 0 otherwise|\n",
    "|\tpknow-1| Knowledge estimation before the action|\n",
    "|\tPknow-2| Knowledge estimation after the action |\n",
    "|\tpchange| 1 if the knowledge estimation changes, 0 otherwise|\n",
    "|\ttime| Time spent in seconds|\n",
    "|\ttimeSDnormed| For last action, (time taken – avg(cell)  / SD(cell) (SD is a function)|\n",
    "|\ttimelast3SDnormed| For last 3 action, (time taken – avg(cell)  / SD(cell) (SD is a function)|\n",
    "|\ttimelast5SDnormed| For last 5 action, (time taken – avg(cell)  / SD(cell) (SD is a function)|\n",
    "|\tnotright| 1 if the action is not right, 0 otherwise|\n",
    "|\thowmanywrong-up| How many of the actions are wrong up to the current action|\n",
    "|\twrongpct-up| (total number of wrong actions)/( number of steps where skill encountered so far)|\n",
    "|\ttimeperact-up| Total time so far on all actions involving this production, for all problems|\n",
    "|\tPrev3Count-up| Count of, for each of last 3 actions, how many involved the same interface widget|\n",
    "|\tPrev5Count-up| Count of, for each of last 5 actions, how many involved the same interface widget|\n",
    "|\t recent5wrong| Of the last 5 actions, how many were wrong|\n",
    "|\tmanywrong-up | Total number of actions where this production was wrong up to the current action|\n",
    "|\tUnique-id| ID of the aggregated observation (one observation aggregates interactions within a 20 second timeframe)|\n",
    "\n",
    "\n",
    "**Please note that pknow-1 and pknow-2 only exist in second data set**\n",
    "\n",
    "**The data set is available in the folder data**. "
   ]
  },
  {
   "cell_type": "code",
   "execution_count": 257,
   "metadata": {},
   "outputs": [
    {
     "name": "stdout",
     "output_type": "stream",
     "text": [
      "length of the dataframe: 763\n",
      "first rows of the dataframe:\n",
      "\n"
     ]
    },
    {
     "data": {
      "text/html": [
       "<div>\n",
       "<style scoped>\n",
       "    .dataframe tbody tr th:only-of-type {\n",
       "        vertical-align: middle;\n",
       "    }\n",
       "\n",
       "    .dataframe tbody tr th {\n",
       "        vertical-align: top;\n",
       "    }\n",
       "\n",
       "    .dataframe thead th {\n",
       "        text-align: right;\n",
       "    }\n",
       "</style>\n",
       "<table border=\"1\" class=\"dataframe\">\n",
       "  <thead>\n",
       "    <tr style=\"text-align: right;\">\n",
       "      <th></th>\n",
       "      <th>Row</th>\n",
       "      <th>lesson</th>\n",
       "      <th>namea</th>\n",
       "      <th>prod</th>\n",
       "      <th>cell</th>\n",
       "      <th>right</th>\n",
       "      <th>bug</th>\n",
       "      <th>pknow-1</th>\n",
       "      <th>Pknow-2</th>\n",
       "      <th>pchange</th>\n",
       "      <th>...</th>\n",
       "      <th>notright</th>\n",
       "      <th>howmanywrong-up</th>\n",
       "      <th>wrongpct-up</th>\n",
       "      <th>timeperact-up</th>\n",
       "      <th>Prev3Count-up</th>\n",
       "      <th>Prev5Count-up</th>\n",
       "      <th>recent5wrong</th>\n",
       "      <th>manywrong-up</th>\n",
       "      <th>Behaviour</th>\n",
       "      <th>Unique-id</th>\n",
       "    </tr>\n",
       "  </thead>\n",
       "  <tbody>\n",
       "    <tr>\n",
       "      <th>0</th>\n",
       "      <td>1353</td>\n",
       "      <td>CTA1Z12ZRAH</td>\n",
       "      <td>stuZ3ilopc</td>\n",
       "      <td>Skill135</td>\n",
       "      <td>R1C1</td>\n",
       "      <td>1</td>\n",
       "      <td>0</td>\n",
       "      <td>0.888287</td>\n",
       "      <td>0.888287</td>\n",
       "      <td>0</td>\n",
       "      <td>...</td>\n",
       "      <td>0</td>\n",
       "      <td>0</td>\n",
       "      <td>0</td>\n",
       "      <td>26.0</td>\n",
       "      <td>0</td>\n",
       "      <td>0</td>\n",
       "      <td>0</td>\n",
       "      <td>0</td>\n",
       "      <td>ON TASK</td>\n",
       "      <td>awagner-closeloop-ins_iellyr-03.30.2011_at_12:...</td>\n",
       "    </tr>\n",
       "    <tr>\n",
       "      <th>1</th>\n",
       "      <td>1392</td>\n",
       "      <td>CTA1Z12ZRAH</td>\n",
       "      <td>stuZ3ilopc</td>\n",
       "      <td>Skill84</td>\n",
       "      <td>Series1AddCurve</td>\n",
       "      <td>1</td>\n",
       "      <td>0</td>\n",
       "      <td>-1.000000</td>\n",
       "      <td>0.206074</td>\n",
       "      <td>1</td>\n",
       "      <td>...</td>\n",
       "      <td>0</td>\n",
       "      <td>1</td>\n",
       "      <td>0</td>\n",
       "      <td>7.0</td>\n",
       "      <td>1</td>\n",
       "      <td>1</td>\n",
       "      <td>2</td>\n",
       "      <td>0</td>\n",
       "      <td>ON TASK</td>\n",
       "      <td>awagner-closeloop-ins_iellyr-03.30.2011_at_12:...</td>\n",
       "    </tr>\n",
       "    <tr>\n",
       "      <th>2</th>\n",
       "      <td>1393</td>\n",
       "      <td>CTA1Z12ZRAH</td>\n",
       "      <td>stuZ3ilopc</td>\n",
       "      <td>Skill124</td>\n",
       "      <td>Series2Label</td>\n",
       "      <td>1</td>\n",
       "      <td>0</td>\n",
       "      <td>0.888287</td>\n",
       "      <td>0.888287</td>\n",
       "      <td>0</td>\n",
       "      <td>...</td>\n",
       "      <td>0</td>\n",
       "      <td>0</td>\n",
       "      <td>0</td>\n",
       "      <td>11.5</td>\n",
       "      <td>0</td>\n",
       "      <td>0</td>\n",
       "      <td>2</td>\n",
       "      <td>0</td>\n",
       "      <td>ON TASK</td>\n",
       "      <td>awagner-closeloop-ins_iellyr-03.30.2011_at_12:...</td>\n",
       "    </tr>\n",
       "    <tr>\n",
       "      <th>3</th>\n",
       "      <td>1426</td>\n",
       "      <td>CTA1Z12ZRAH</td>\n",
       "      <td>stuZ3ilopc</td>\n",
       "      <td>Skill24</td>\n",
       "      <td>N265013xstrategic</td>\n",
       "      <td>1</td>\n",
       "      <td>0</td>\n",
       "      <td>0.999899</td>\n",
       "      <td>0.999899</td>\n",
       "      <td>0</td>\n",
       "      <td>...</td>\n",
       "      <td>0</td>\n",
       "      <td>0</td>\n",
       "      <td>0</td>\n",
       "      <td>6.0</td>\n",
       "      <td>0</td>\n",
       "      <td>0</td>\n",
       "      <td>1</td>\n",
       "      <td>0</td>\n",
       "      <td>ON TASK</td>\n",
       "      <td>awagner-closeloop-ins_iellyr-03.30.2011_at_12:...</td>\n",
       "    </tr>\n",
       "    <tr>\n",
       "      <th>4</th>\n",
       "      <td>1427</td>\n",
       "      <td>CTA1Z12ZRAH</td>\n",
       "      <td>stuZ3ilopc</td>\n",
       "      <td>Skill115</td>\n",
       "      <td>R4C1</td>\n",
       "      <td>0</td>\n",
       "      <td>0</td>\n",
       "      <td>0.909316</td>\n",
       "      <td>0.909316</td>\n",
       "      <td>0</td>\n",
       "      <td>...</td>\n",
       "      <td>1</td>\n",
       "      <td>1</td>\n",
       "      <td>1</td>\n",
       "      <td>14.5</td>\n",
       "      <td>0</td>\n",
       "      <td>0</td>\n",
       "      <td>1</td>\n",
       "      <td>0</td>\n",
       "      <td>ON TASK</td>\n",
       "      <td>awagner-closeloop-ins_iellyr-03.30.2011_at_12:...</td>\n",
       "    </tr>\n",
       "  </tbody>\n",
       "</table>\n",
       "<p>5 rows × 24 columns</p>\n",
       "</div>"
      ],
      "text/plain": [
       "    Row       lesson       namea      prod               cell  right  bug  \\\n",
       "0  1353  CTA1Z12ZRAH  stuZ3ilopc  Skill135               R1C1      1    0   \n",
       "1  1392  CTA1Z12ZRAH  stuZ3ilopc   Skill84    Series1AddCurve      1    0   \n",
       "2  1393  CTA1Z12ZRAH  stuZ3ilopc  Skill124       Series2Label      1    0   \n",
       "3  1426  CTA1Z12ZRAH  stuZ3ilopc   Skill24  N265013xstrategic      1    0   \n",
       "4  1427  CTA1Z12ZRAH  stuZ3ilopc  Skill115               R4C1      0    0   \n",
       "\n",
       "    pknow-1   Pknow-2  pchange  ...  notright  howmanywrong-up  wrongpct-up  \\\n",
       "0  0.888287  0.888287        0  ...         0                0            0   \n",
       "1 -1.000000  0.206074        1  ...         0                1            0   \n",
       "2  0.888287  0.888287        0  ...         0                0            0   \n",
       "3  0.999899  0.999899        0  ...         0                0            0   \n",
       "4  0.909316  0.909316        0  ...         1                1            1   \n",
       "\n",
       "   timeperact-up  Prev3Count-up  Prev5Count-up   recent5wrong  manywrong-up  \\\n",
       "0           26.0              0              0              0             0   \n",
       "1            7.0              1              1              2             0   \n",
       "2           11.5              0              0              2             0   \n",
       "3            6.0              0              0              1             0   \n",
       "4           14.5              0              0              1             0   \n",
       "\n",
       "   Behaviour                                          Unique-id  \n",
       "0    ON TASK  awagner-closeloop-ins_iellyr-03.30.2011_at_12:...  \n",
       "1    ON TASK  awagner-closeloop-ins_iellyr-03.30.2011_at_12:...  \n",
       "2    ON TASK  awagner-closeloop-ins_iellyr-03.30.2011_at_12:...  \n",
       "3    ON TASK  awagner-closeloop-ins_iellyr-03.30.2011_at_12:...  \n",
       "4    ON TASK  awagner-closeloop-ins_iellyr-03.30.2011_at_12:...  \n",
       "\n",
       "[5 rows x 24 columns]"
      ]
     },
     "execution_count": 257,
     "metadata": {},
     "output_type": "execute_result"
    }
   ],
   "source": [
    "# Read the second dataset\n",
    "df_raw = pd.read_csv(\"./data/ca2-dataset.csv\")\n",
    "\n",
    "# Let's see how the dataframe looks like\n",
    "print(\"length of the dataframe:\", len(df))\n",
    "print(\"first rows of the dataframe:\\n\")\n",
    "df_raw.head()"
   ]
  },
  {
   "cell_type": "markdown",
   "metadata": {},
   "source": [
    "You should note that the features stated in <code>ca1‐dataset.csv</code> were obtained by conducting feature engineering in <code>ca2‐dataset.csv</code>. To make it clearer, we provide you with an example. Let's consider the 55th row in the original dataset:"
   ]
  },
  {
   "cell_type": "code",
   "execution_count": 258,
   "metadata": {},
   "outputs": [
    {
     "data": {
      "text/plain": [
       "Unique-id               awagner-closeloop-ins_h1zaz4-03.30.2011_at_13:...\n",
       "namea                                                          stuZ4lil98\n",
       "OffTask                                                                 N\n",
       "Avgright                                                         0.666667\n",
       "Avgbug                                                           0.333333\n",
       "Avgpchange                                                       0.666667\n",
       "Avgtime                                                                 6\n",
       "AvgtimeSDnormed                                                 -0.346226\n",
       "Avgtimelast3SDnormed                                            -0.562899\n",
       "Avgtimelast5SDnormed                                             -1.55797\n",
       "Avgnotright                                                      0.333333\n",
       "Avghowmanywrong-up                                                7.33333\n",
       "Avgwrongpct-up                                                    2.33333\n",
       "Avgtimeperact-up                                                  10.8987\n",
       "AvgPrev3Count-up                                                 0.666667\n",
       "AvgPrev5Count-up                                                        2\n",
       "Avg recent5wrong                                                 0.666667\n",
       "Avgmanywrong-up                                                         0\n",
       "Name: 52, dtype: object"
      ]
     },
     "execution_count": 258,
     "metadata": {},
     "output_type": "execute_result"
    }
   ],
   "source": [
    "df.loc[52]"
   ]
  },
  {
   "cell_type": "markdown",
   "metadata": {},
   "source": [
    "This row has been obtained by computing the average of each column for the rows between 55 and 58 in the dataset <code>ca2‐dataset.csv</code>. Specifically, in the second dataset, **we group by the column Unique-id** to group all the rows recorded in the same 20 seconds of interactions. Then, we select the group with Unique-id equal to the one of the row above in the original dataset. \n",
    "\n"
   ]
  },
  {
   "cell_type": "code",
   "execution_count": 259,
   "metadata": {},
   "outputs": [
    {
     "data": {
      "text/html": [
       "<div>\n",
       "<style scoped>\n",
       "    .dataframe tbody tr th:only-of-type {\n",
       "        vertical-align: middle;\n",
       "    }\n",
       "\n",
       "    .dataframe tbody tr th {\n",
       "        vertical-align: top;\n",
       "    }\n",
       "\n",
       "    .dataframe thead th {\n",
       "        text-align: right;\n",
       "    }\n",
       "</style>\n",
       "<table border=\"1\" class=\"dataframe\">\n",
       "  <thead>\n",
       "    <tr style=\"text-align: right;\">\n",
       "      <th></th>\n",
       "      <th>Unique-id</th>\n",
       "      <th>Row</th>\n",
       "      <th>right</th>\n",
       "      <th>bug</th>\n",
       "      <th>pknow-1</th>\n",
       "      <th>Pknow-2</th>\n",
       "      <th>pchange</th>\n",
       "      <th>time</th>\n",
       "      <th>timeSDnormed</th>\n",
       "      <th>timelast3SDnormed</th>\n",
       "      <th>timelast5SDnormed</th>\n",
       "      <th>notright</th>\n",
       "      <th>howmanywrong-up</th>\n",
       "      <th>wrongpct-up</th>\n",
       "      <th>timeperact-up</th>\n",
       "      <th>Prev3Count-up</th>\n",
       "      <th>Prev5Count-up</th>\n",
       "      <th>recent5wrong</th>\n",
       "      <th>manywrong-up</th>\n",
       "    </tr>\n",
       "  </thead>\n",
       "  <tbody>\n",
       "    <tr>\n",
       "      <th>52</th>\n",
       "      <td>awagner-closeloop-ins_h1zaz4-03.30.2011_at_13:...</td>\n",
       "      <td>2734.0</td>\n",
       "      <td>0.666667</td>\n",
       "      <td>0.333333</td>\n",
       "      <td>-0.333333</td>\n",
       "      <td>0.999995</td>\n",
       "      <td>0.666667</td>\n",
       "      <td>6.0</td>\n",
       "      <td>-0.346226</td>\n",
       "      <td>-0.562899</td>\n",
       "      <td>-1.557974</td>\n",
       "      <td>0.333333</td>\n",
       "      <td>7.333333</td>\n",
       "      <td>2.333333</td>\n",
       "      <td>10.898693</td>\n",
       "      <td>0.666667</td>\n",
       "      <td>2.0</td>\n",
       "      <td>0.666667</td>\n",
       "      <td>0.0</td>\n",
       "    </tr>\n",
       "  </tbody>\n",
       "</table>\n",
       "</div>"
      ],
      "text/plain": [
       "                                            Unique-id     Row     right  \\\n",
       "52  awagner-closeloop-ins_h1zaz4-03.30.2011_at_13:...  2734.0  0.666667   \n",
       "\n",
       "         bug   pknow-1   Pknow-2   pchange  time  timeSDnormed  \\\n",
       "52  0.333333 -0.333333  0.999995  0.666667   6.0     -0.346226   \n",
       "\n",
       "    timelast3SDnormed  timelast5SDnormed  notright  howmanywrong-up  \\\n",
       "52          -0.562899          -1.557974  0.333333         7.333333   \n",
       "\n",
       "    wrongpct-up  timeperact-up  Prev3Count-up  Prev5Count-up   recent5wrong  \\\n",
       "52     2.333333      10.898693       0.666667            2.0       0.666667   \n",
       "\n",
       "    manywrong-up  \n",
       "52           0.0  "
      ]
     },
     "execution_count": 259,
     "metadata": {},
     "output_type": "execute_result"
    }
   ],
   "source": [
    "groups = df_raw.groupby(by='Unique-id', as_index=False).mean()\n",
    "groups[groups['Unique-id'] == df.loc[52]['Unique-id']]"
   ]
  },
  {
   "cell_type": "markdown",
   "metadata": {},
   "source": [
    "It can be observed that the Avgright in <code>df.iloc[52]</code> is the same we obtained by group data in the second dataset and picking the corresponding `Unique-id`. The same observation applies to the other columns. "
   ]
  },
  {
   "cell_type": "markdown",
   "metadata": {},
   "source": [
    "### 5.1 \n",
    "Create at least 5 new features from df_raw "
   ]
  },
  {
   "cell_type": "markdown",
   "metadata": {
    "deletable": false,
    "nbgrader": {
     "cell_type": "code",
     "checksum": "0ed91aaf2da67e771553d6590350873f",
     "grade": true,
     "grade_id": "5-1",
     "locked": false,
     "points": 10,
     "schema_version": 3,
     "solution": true,
     "task": false
    }
   },
   "source": [
    "<font color='green'> In this subtask a lot of different solutions are possible. Below we present five examples of possible new features. </font> "
   ]
  },
  {
   "cell_type": "code",
   "execution_count": 260,
   "metadata": {
    "deletable": false,
    "nbgrader": {
     "cell_type": "code",
     "checksum": "0ed91aaf2da67e771553d6590350873f",
     "grade": true,
     "grade_id": "5-1",
     "locked": false,
     "points": 10,
     "schema_version": 3,
     "solution": true,
     "task": false
    }
   },
   "outputs": [],
   "source": [
    "#### GRADED CELL ####\n",
    "### 5.1\n",
    "def extend_features(df_five, df_raw, df_five_id = None):\n",
    "    \"\"\"\n",
    "    Create at least 5 new features from df_raw \n",
    "    \n",
    "    Parameters\n",
    "    ----------\n",
    "    df_five : DataFrame with processed data (5 features)\n",
    "    df_raw:   DataFrame with raw data\n",
    "    df_five_id: (optional) DataFrame with Unique-ids from df_five \n",
    "    \n",
    "    Returns:\n",
    "    -------\n",
    "    df_ext_five: DataFrame with extended features \n",
    "        (the five you selected in the first part + \n",
    "        the five you create here + the target off-task label)\n",
    "\n",
    "    \"\"\"\n",
    "    # YOUR CODE HERE\n",
    "    \n",
    "    \n",
    "    # Feature 1: Average knowledge before action \n",
    "    feat_avgpknow1 = df_raw.groupby(\"Unique-id\")[\"pknow-1\"].mean()\n",
    "    \n",
    "    # Feature 2: Average knowledge after action \n",
    "    feat_avgpknow2 = df_raw.groupby(\"Unique-id\")[\"Pknow-2\"].mean()\n",
    "    \n",
    "    # Feature 3: Average knowledge gain  \n",
    "    df_raw['Avgknowgain'] = df_raw['Pknow-2'] - df_raw['pknow-1']\n",
    "    feat_avgknowgain = df_raw.groupby(\"Unique-id\")[\"Avgknowgain\"].mean()\n",
    "\n",
    "    # Feature 4: Percentage of total correct answers\n",
    "    feat_perright = df_raw.groupby(\"Unique-id\")[\"right\"].sum() / df_raw.groupby(\"Unique-id\")[\"right\"].count()\n",
    "\n",
    "    # Feature 5: Total time spent by student\n",
    "    feat_totaltime = df_raw.groupby(\"Unique-id\")[\"timeperact-up\"].max()\n",
    "    \n",
    "    \n",
    "    df_ext_five = df_five\n",
    "    df_ext_five[\"avgpknow1\"] = feat_avgpknow1.values\n",
    "    df_ext_five[\"avgpknow2\"] = feat_avgpknow2.values\n",
    "    df_ext_five[\"avgknowgain\"] = feat_avgknowgain.values\n",
    "    df_ext_five[\"perright\"] = feat_perright.values\n",
    "    df_ext_five[\"totaltime\"] = feat_totaltime.values    \n",
    "    \n",
    "    return df_ext_five"
   ]
  },
  {
   "cell_type": "code",
   "execution_count": 261,
   "metadata": {},
   "outputs": [
    {
     "name": "stderr",
     "output_type": "stream",
     "text": [
      "/usr/local/lib/python3.6/dist-packages/ipykernel_launcher.py:41: SettingWithCopyWarning: \n",
      "A value is trying to be set on a copy of a slice from a DataFrame.\n",
      "Try using .loc[row_indexer,col_indexer] = value instead\n",
      "\n",
      "See the caveats in the documentation: https://pandas.pydata.org/pandas-docs/stable/user_guide/indexing.html#returning-a-view-versus-a-copy\n",
      "/usr/local/lib/python3.6/dist-packages/ipykernel_launcher.py:42: SettingWithCopyWarning: \n",
      "A value is trying to be set on a copy of a slice from a DataFrame.\n",
      "Try using .loc[row_indexer,col_indexer] = value instead\n",
      "\n",
      "See the caveats in the documentation: https://pandas.pydata.org/pandas-docs/stable/user_guide/indexing.html#returning-a-view-versus-a-copy\n",
      "/usr/local/lib/python3.6/dist-packages/ipykernel_launcher.py:43: SettingWithCopyWarning: \n",
      "A value is trying to be set on a copy of a slice from a DataFrame.\n",
      "Try using .loc[row_indexer,col_indexer] = value instead\n",
      "\n",
      "See the caveats in the documentation: https://pandas.pydata.org/pandas-docs/stable/user_guide/indexing.html#returning-a-view-versus-a-copy\n",
      "/usr/local/lib/python3.6/dist-packages/ipykernel_launcher.py:44: SettingWithCopyWarning: \n",
      "A value is trying to be set on a copy of a slice from a DataFrame.\n",
      "Try using .loc[row_indexer,col_indexer] = value instead\n",
      "\n",
      "See the caveats in the documentation: https://pandas.pydata.org/pandas-docs/stable/user_guide/indexing.html#returning-a-view-versus-a-copy\n",
      "/usr/local/lib/python3.6/dist-packages/ipykernel_launcher.py:45: SettingWithCopyWarning: \n",
      "A value is trying to be set on a copy of a slice from a DataFrame.\n",
      "Try using .loc[row_indexer,col_indexer] = value instead\n",
      "\n",
      "See the caveats in the documentation: https://pandas.pydata.org/pandas-docs/stable/user_guide/indexing.html#returning-a-view-versus-a-copy\n"
     ]
    }
   ],
   "source": [
    "df_ext_five = extend_features(df_five,  df_raw, df_five_id)\n",
    "X_train, X_val, y_train, y_val = split_data(df_ext_five)"
   ]
  },
  {
   "cell_type": "markdown",
   "metadata": {},
   "source": [
    "### 5.2\n",
    "\n",
    "Use the previously created `build_random_forest` function to train the models with the extended DataFrame. Print out the accuracy. "
   ]
  },
  {
   "cell_type": "code",
   "execution_count": 262,
   "metadata": {
    "deletable": false,
    "nbgrader": {
     "cell_type": "code",
     "checksum": "28a2b4176e197f26fbd848dbbe7f2059",
     "grade": true,
     "grade_id": "5-2",
     "locked": false,
     "points": 5,
     "schema_version": 3,
     "solution": true,
     "task": false
    }
   },
   "outputs": [
    {
     "name": "stdout",
     "output_type": "stream",
     "text": [
      "validation score of random forest: 0.954248366013072\n",
      "feature importance: [0.01666042 0.37261055 0.02789176 0.00838068 0.05254269 0.08330912\n",
      " 0.11376476 0.02832412 0.01987106 0.27664485]\n"
     ]
    }
   ],
   "source": [
    "# YOUR CODE HERE\n",
    "clf, feature_importance = build_random_forest(X_train, y_train) # build a classifier\n",
    "print(\"validation score of random forest:\", clf.score(X_val, y_val))\n",
    "print(\"feature importance:\", feature_importance)"
   ]
  },
  {
   "cell_type": "markdown",
   "metadata": {},
   "source": [
    "\n",
    "### 5.3\n",
    "\n",
    "Interpret and compare your results. Did the new features improve the score? Write down your intuition about the possible reasons."
   ]
  },
  {
   "cell_type": "code",
   "execution_count": 263,
   "metadata": {},
   "outputs": [
    {
     "data": {
      "text/html": [
       "<div>\n",
       "<style scoped>\n",
       "    .dataframe tbody tr th:only-of-type {\n",
       "        vertical-align: middle;\n",
       "    }\n",
       "\n",
       "    .dataframe tbody tr th {\n",
       "        vertical-align: top;\n",
       "    }\n",
       "\n",
       "    .dataframe thead th {\n",
       "        text-align: right;\n",
       "    }\n",
       "</style>\n",
       "<table border=\"1\" class=\"dataframe\">\n",
       "  <thead>\n",
       "    <tr style=\"text-align: right;\">\n",
       "      <th></th>\n",
       "      <th>names</th>\n",
       "      <th>importance</th>\n",
       "    </tr>\n",
       "  </thead>\n",
       "  <tbody>\n",
       "    <tr>\n",
       "      <th>1</th>\n",
       "      <td>Avgtimelast3SDnormed</td>\n",
       "      <td>0.372611</td>\n",
       "    </tr>\n",
       "    <tr>\n",
       "      <th>9</th>\n",
       "      <td>totaltime</td>\n",
       "      <td>0.276645</td>\n",
       "    </tr>\n",
       "    <tr>\n",
       "      <th>6</th>\n",
       "      <td>avgpknow2</td>\n",
       "      <td>0.113765</td>\n",
       "    </tr>\n",
       "    <tr>\n",
       "      <th>5</th>\n",
       "      <td>avgpknow1</td>\n",
       "      <td>0.083309</td>\n",
       "    </tr>\n",
       "    <tr>\n",
       "      <th>4</th>\n",
       "      <td>Avg recent5wrong</td>\n",
       "      <td>0.052543</td>\n",
       "    </tr>\n",
       "    <tr>\n",
       "      <th>7</th>\n",
       "      <td>avgknowgain</td>\n",
       "      <td>0.028324</td>\n",
       "    </tr>\n",
       "    <tr>\n",
       "      <th>2</th>\n",
       "      <td>Avgwrongpct-up</td>\n",
       "      <td>0.027892</td>\n",
       "    </tr>\n",
       "    <tr>\n",
       "      <th>8</th>\n",
       "      <td>perright</td>\n",
       "      <td>0.019871</td>\n",
       "    </tr>\n",
       "    <tr>\n",
       "      <th>0</th>\n",
       "      <td>Avgright</td>\n",
       "      <td>0.016660</td>\n",
       "    </tr>\n",
       "    <tr>\n",
       "      <th>3</th>\n",
       "      <td>Avgbug</td>\n",
       "      <td>0.008381</td>\n",
       "    </tr>\n",
       "  </tbody>\n",
       "</table>\n",
       "</div>"
      ],
      "text/plain": [
       "                  names  importance\n",
       "1  Avgtimelast3SDnormed    0.372611\n",
       "9             totaltime    0.276645\n",
       "6             avgpknow2    0.113765\n",
       "5             avgpknow1    0.083309\n",
       "4      Avg recent5wrong    0.052543\n",
       "7           avgknowgain    0.028324\n",
       "2        Avgwrongpct-up    0.027892\n",
       "8              perright    0.019871\n",
       "0              Avgright    0.016660\n",
       "3                Avgbug    0.008381"
      ]
     },
     "execution_count": 263,
     "metadata": {},
     "output_type": "execute_result"
    }
   ],
   "source": [
    "pd.DataFrame({'names': X_train.columns,'importance': clf.feature_importances_}).sort_values('importance', ascending=False)"
   ]
  },
  {
   "cell_type": "markdown",
   "metadata": {
    "deletable": false,
    "nbgrader": {
     "cell_type": "markdown",
     "checksum": "0ce8d199e5945749a0f3f1b15c52f7d3",
     "grade": true,
     "grade_id": "5-3",
     "locked": false,
     "points": 5,
     "schema_version": 3,
     "solution": true,
     "task": false
    }
   },
   "source": [
    "<font color='green'> It can be seen that adding the new features improved the accuracy of the random forest classifier from previously 0.94 to now 0.95. The influence of the new features can also be observed from the feature importance vector: three of them, `totaltime`, `avgpknow2` and `avgpknow1` are know among the four most impotant predictors in the random forest model. While the five presented features only represent examples, it is clear that the creation of new features can always be improved. [Feature engineering](https://en.wikipedia.org/wiki/Feature_engineering) is an essential part in machine learning projects and often, domain knowledge can help to create more meaningful features. </font> "
   ]
  }
 ],
 "metadata": {
  "kernelspec": {
   "display_name": "myenv",
   "language": "python",
   "name": "myenv"
  },
  "language_info": {
   "codemirror_mode": {
    "name": "ipython",
    "version": 3
   },
   "file_extension": ".py",
   "mimetype": "text/x-python",
   "name": "python",
   "nbconvert_exporter": "python",
   "pygments_lexer": "ipython3",
   "version": "3.6.9"
  }
 },
 "nbformat": 4,
 "nbformat_minor": 4
}
