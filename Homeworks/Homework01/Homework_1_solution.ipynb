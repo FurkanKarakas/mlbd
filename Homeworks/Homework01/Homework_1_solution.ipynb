{
 "cells": [
  {
   "cell_type": "markdown",
   "metadata": {
    "id": "06qRY9zr-k1g"
   },
   "source": [
    "# **Homework 1: Data Handling**\n",
    "---\n",
    "\n",
    "## Introduction\n",
    "\n",
    "In this homework, you will apply different data exploration, cleaning, and visualization techniques. It is very important to take some time to understand the data. \n",
    "\n",
    "The homework is due **Mar 09, 2021 23:59 CET**. The notebook must be pushed to your GitHub classroom repository. We will only grade the code cells with the heading `#### GRADED CELL ####`\n",
    "and Markdown cells with the text \"YOUR ANSWER HERE\"\n",
    "\n",
    "If you have any questions, feel free to use the Q&A forum in Moodle. \n",
    "\n",
    "## Instructions \n",
    "\n",
    "1. **DO NOT** delete or modify the test cells. Some of them are empty because the test cases are hidden and will be used for grading.\n",
    "2. Be sure to remove all implementation reminders: \n",
    "```\n",
    "raise NotImplementedError()\n",
    "```\n",
    "3. Before the final submission, make sure everything runs as expected. First, **restart the kernel** (in the menubar, select Kernel$\\rightarrow$Restart) and then **run all cells** (in the menubar, select Cell$\\rightarrow$Run All).\n",
    "\n",
    "**Make sure you fill in any place that says `YOUR CODE HERE` or \"YOUR ANSWER HERE\"**\n",
    "\n",
    "## Required exercises\n",
    "\n",
    "| Section | Part                                           | Required Task                    | Points \n",
    "|---------|:-                                             |:-                                     | :-:    \n",
    "| 1       | [Data Exploration](#section1)                  | get_feature_stats    |  10   \n",
    "| 1       | [Data Exploration](#section1)                  | Justification    |  5  \n",
    "| 1       | [Data Exploration](#section1)                  | plot_features     |  10 \n",
    "| 1       | [Data Exploration](#section1)                  | Interpretation     |  5\n",
    "| 2       | [Data Cleaning](#section2)     | handle_missing_values         |  20  \n",
    "| 2       | [Data Cleaning](#section2)     | Justification         |  5    \n",
    "| 2       | [Data Cleaning](#section2)     | handle_inconsistent_data         |  20 \n",
    "| 2       | [Data Cleaning](#section2)     | Justification         |  5   \n",
    "| 3       | [Visualization](#section3) | plot_correlation |  5  \n",
    "| 3       | [Visualization](#section3) | Interpretation |  5    \n",
    "| 3       | [Visualization](#section3) | plot_grades |  5   \n",
    "| 3       | [Visualization](#section3) | Interpretation |  5   \n",
    "|         | Total Points                                   |                                       | 100    \n"
   ]
  },
  {
   "cell_type": "markdown",
   "metadata": {
    "id": "c66oKMZeUKJH"
   },
   "source": [
    "## **About the data** \n",
    "---\n",
    "The data set consists of 116,658 observations and 10 columns. It contains data of fifth-grade students, including their Math final exam grade.\n",
    "\n",
    "* Student ID: identifies uniquely every student. **Note that no two students have the same ID.** \n",
    "* Gender\n",
    "* School group: **There are only three groups school groups (A, B and C)**\n",
    "* Effort regulation (effort)\n",
    "* Family stress-level (stress)\n",
    "* Help-seeking behavior (feedback)\n",
    "* Regularity patterns of a student throughout the course (regularity)\n",
    "* Critical-thinking skills (critical)\n",
    "* Duration in minutes to solve final Math exam (minutes). **Should be numerical.**\n",
    "* Final Math exam grade (grade) \n",
    "\n",
    "\n",
    "**The data set is available in the folder data**"
   ]
  },
  {
   "cell_type": "code",
   "execution_count": 41,
   "metadata": {
    "colab": {
     "base_uri": "https://localhost:8080/"
    },
    "executionInfo": {
     "elapsed": 542,
     "status": "ok",
     "timestamp": 1614372519067,
     "user": {
      "displayName": "Paola Mejia",
      "photoUrl": "",
      "userId": "15451997563084296260"
     },
     "user_tz": -60
    },
    "id": "8fiPzOYRCh1X",
    "nbgrader": {
     "grade": true,
     "grade_id": "0-0",
     "locked": false,
     "points": 0,
     "schema_version": 3,
     "solution": true,
     "task": false
    },
    "outputId": "722b368a-d3c9-4e41-998c-cf62d6200c81"
   },
   "outputs": [],
   "source": [
    "# Your libraries here\n",
    "import re\n",
    "import math\n",
    "import numpy as np\n",
    "import pandas as pd\n",
    "import seaborn as sns\n",
    "import matplotlib.pyplot as plt\n",
    "# tells matplotlib to embed plots within the notebook\n",
    "%matplotlib inline\n"
   ]
  },
  {
   "cell_type": "markdown",
   "metadata": {
    "id": "0J0u6puC8QsZ"
   },
   "source": [
    "## **0 Load the data**\n",
    "---"
   ]
  },
  {
   "cell_type": "code",
   "execution_count": 60,
   "metadata": {
    "colab": {
     "base_uri": "https://localhost:8080/"
    },
    "executionInfo": {
     "elapsed": 566,
     "status": "ok",
     "timestamp": 1614372510379,
     "user": {
      "displayName": "Paola Mejia",
      "photoUrl": "",
      "userId": "15451997563084296260"
     },
     "user_tz": -60
    },
    "id": "CZP6kdJxPJ5p",
    "nbgrader": {
     "grade": true,
     "grade_id": "0-1",
     "locked": false,
     "points": 0,
     "schema_version": 3,
     "solution": true,
     "task": false
    },
    "outputId": "993b9d74-d624-44a3-abc6-508c046373bf"
   },
   "outputs": [],
   "source": [
    "### 0.1\n",
    "df = pd.read_csv(\"./data/school_performance.csv\", index_col=0)"
   ]
  },
  {
   "cell_type": "code",
   "execution_count": 61,
   "metadata": {},
   "outputs": [
    {
     "name": "stdout",
     "output_type": "stream",
     "text": [
      "length of the dataframe: 116658\n",
      "first rows of the dataframe:\n",
      "\n"
     ]
    },
    {
     "data": {
      "text/html": [
       "<div>\n",
       "<style scoped>\n",
       "    .dataframe tbody tr th:only-of-type {\n",
       "        vertical-align: middle;\n",
       "    }\n",
       "\n",
       "    .dataframe tbody tr th {\n",
       "        vertical-align: top;\n",
       "    }\n",
       "\n",
       "    .dataframe thead th {\n",
       "        text-align: right;\n",
       "    }\n",
       "</style>\n",
       "<table border=\"1\" class=\"dataframe\">\n",
       "  <thead>\n",
       "    <tr style=\"text-align: right;\">\n",
       "      <th></th>\n",
       "      <th>gender</th>\n",
       "      <th>school_group</th>\n",
       "      <th>effort</th>\n",
       "      <th>stress</th>\n",
       "      <th>feedback</th>\n",
       "      <th>regularity</th>\n",
       "      <th>critical</th>\n",
       "      <th>minutes</th>\n",
       "      <th>grade</th>\n",
       "    </tr>\n",
       "    <tr>\n",
       "      <th>student_id</th>\n",
       "      <th></th>\n",
       "      <th></th>\n",
       "      <th></th>\n",
       "      <th></th>\n",
       "      <th></th>\n",
       "      <th></th>\n",
       "      <th></th>\n",
       "      <th></th>\n",
       "      <th></th>\n",
       "    </tr>\n",
       "  </thead>\n",
       "  <tbody>\n",
       "    <tr>\n",
       "      <th>20404.0</th>\n",
       "      <td>male</td>\n",
       "      <td>99</td>\n",
       "      <td>5.997184</td>\n",
       "      <td>7.692678</td>\n",
       "      <td>24.722538</td>\n",
       "      <td>99.000000</td>\n",
       "      <td>2.01733</td>\n",
       "      <td>20.0</td>\n",
       "      <td>99.00</td>\n",
       "    </tr>\n",
       "    <tr>\n",
       "      <th>26683.0</th>\n",
       "      <td>female</td>\n",
       "      <td>99</td>\n",
       "      <td>6.017588</td>\n",
       "      <td>8.848776</td>\n",
       "      <td>99.000000</td>\n",
       "      <td>99.000000</td>\n",
       "      <td>99.00000</td>\n",
       "      <td>30.0</td>\n",
       "      <td>3.93</td>\n",
       "    </tr>\n",
       "    <tr>\n",
       "      <th>32954.0</th>\n",
       "      <td>99</td>\n",
       "      <td>99</td>\n",
       "      <td>6.070632</td>\n",
       "      <td>6.704850</td>\n",
       "      <td>24.448975</td>\n",
       "      <td>7.218109</td>\n",
       "      <td>99.00000</td>\n",
       "      <td>99</td>\n",
       "      <td>3.67</td>\n",
       "    </tr>\n",
       "    <tr>\n",
       "      <th>42595.0</th>\n",
       "      <td>99</td>\n",
       "      <td>99</td>\n",
       "      <td>5.996371</td>\n",
       "      <td>99.000000</td>\n",
       "      <td>99.000000</td>\n",
       "      <td>5.578566</td>\n",
       "      <td>1.02639</td>\n",
       "      <td>21.0</td>\n",
       "      <td>99.00</td>\n",
       "    </tr>\n",
       "    <tr>\n",
       "      <th>28603.0</th>\n",
       "      <td>male</td>\n",
       "      <td>99</td>\n",
       "      <td>99.000000</td>\n",
       "      <td>6.780604</td>\n",
       "      <td>99.000000</td>\n",
       "      <td>99.000000</td>\n",
       "      <td>99.00000</td>\n",
       "      <td>99</td>\n",
       "      <td>2.86</td>\n",
       "    </tr>\n",
       "  </tbody>\n",
       "</table>\n",
       "</div>"
      ],
      "text/plain": [
       "            gender school_group     effort     stress   feedback  regularity  \\\n",
       "student_id                                                                     \n",
       "20404.0       male           99   5.997184   7.692678  24.722538   99.000000   \n",
       "26683.0     female           99   6.017588   8.848776  99.000000   99.000000   \n",
       "32954.0         99           99   6.070632   6.704850  24.448975    7.218109   \n",
       "42595.0         99           99   5.996371  99.000000  99.000000    5.578566   \n",
       "28603.0       male           99  99.000000   6.780604  99.000000   99.000000   \n",
       "\n",
       "            critical minutes  grade  \n",
       "student_id                           \n",
       "20404.0      2.01733    20.0  99.00  \n",
       "26683.0     99.00000    30.0   3.93  \n",
       "32954.0     99.00000      99   3.67  \n",
       "42595.0      1.02639    21.0  99.00  \n",
       "28603.0     99.00000      99   2.86  "
      ]
     },
     "execution_count": 61,
     "metadata": {},
     "output_type": "execute_result"
    }
   ],
   "source": [
    "# Let's see how the dataframe looks like\n",
    "print(\"length of the dataframe:\", len(df))\n",
    "print(\"first rows of the dataframe:\\n\")\n",
    "df.head()"
   ]
  },
  {
   "cell_type": "code",
   "execution_count": 62,
   "metadata": {
    "executionInfo": {
     "elapsed": 490,
     "status": "ok",
     "timestamp": 1614372512839,
     "user": {
      "displayName": "Paola Mejia",
      "photoUrl": "",
      "userId": "15451997563084296260"
     },
     "user_tz": -60
    },
    "id": "YAv3-SQfGGAj",
    "nbgrader": {
     "grade": true,
     "grade_id": "0-1-1",
     "locked": true,
     "points": 0,
     "schema_version": 3,
     "solution": false,
     "task": false
    }
   },
   "outputs": [],
   "source": [
    "# TEST CELL, DONT MODIFY\n",
    "assert len(df) == 116658"
   ]
  },
  {
   "cell_type": "markdown",
   "metadata": {
    "id": "vblWzJFWWIux"
   },
   "source": [
    "<a id=\"section1\"></a>\n",
    "## **1 Data Exploration** \n",
    "---\n",
    "\n",
    "As mentioned in class, it is good practice to report the percentage of missing values per feature together with the features' descriptive statistics. \n",
    "\n",
    "In order to understand the data better, in this exercise, you should:\n",
    "\n",
    "1. Create a function that takes as input a DataFrame and returns a DataFrame with meaningful descriptive statistics and the percentage of missing values for numerical and categorical (object type) features. The process of data cleaning requires multiple iterations of data exploration. This function should be helpful for the later data cleaning exercises. \n",
    "\n",
    "2. Justify the choice of each descriptive statistic. What does each say about the data? Can you identify some irregularities? \n",
    "\n",
    "3. In a single figure, choose an appropriate type of graph for each feature and plot each feature individually.  \n",
    "\n",
    "4. Explain your observations. How are the features distributed (poisson, exponential, gaussian, etc)? Can you visually identify any outliers?\n",
    "\n"
   ]
  },
  {
   "cell_type": "markdown",
   "metadata": {},
   "source": [
    "### 1.1 \n",
    "Create a function that takes as input a DataFrame and returns meaningful descriptive statistics and the percentage of missing values for numerical and categorical (object type) features.\n",
    "\n"
   ]
  },
  {
   "cell_type": "code",
   "execution_count": 63,
   "metadata": {
    "executionInfo": {
     "elapsed": 491,
     "status": "ok",
     "timestamp": 1614372524619,
     "user": {
      "displayName": "Paola Mejia",
      "photoUrl": "",
      "userId": "15451997563084296260"
     },
     "user_tz": -60
    },
    "id": "kqJhQLO2WS7o",
    "nbgrader": {
     "grade": false,
     "grade_id": "1-1",
     "locked": false,
     "schema_version": 3,
     "solution": true,
     "task": false
    }
   },
   "outputs": [],
   "source": [
    "#### GRADED CELL ####\n",
    "### 1.1\n",
    "def get_feature_stats(df):\n",
    "    \"\"\"\n",
    "    Obtains descriptive statistics for all features and percentage of missing \n",
    "    values\n",
    "    \n",
    "    Parameters\n",
    "    ----------\n",
    "    df : DataFrame\n",
    "         Containing all data\n",
    "\n",
    "    Returns\n",
    "    -------\n",
    "    stats : DataFrame\n",
    "            Containing the statistics for all features.\n",
    "    \"\"\"\n",
    "    ### BEGIN SOLUTION\n",
    "    stats = df.describe(include= 'all')\n",
    "    stats = stats.loc[['mean', 'std', '50%', 'unique', 'top', 'freq']]\n",
    "    percentage = df.isnull().sum(axis = 0)*100 / len(df)\n",
    "    stats.loc['missing_values'] = np.array(percentage)\n",
    "    ### END SOLUTION\n",
    "    return stats"
   ]
  },
  {
   "cell_type": "code",
   "execution_count": 64,
   "metadata": {
    "colab": {
     "base_uri": "https://localhost:8080/",
     "height": 283
    },
    "executionInfo": {
     "elapsed": 752,
     "status": "ok",
     "timestamp": 1614372525085,
     "user": {
      "displayName": "Paola Mejia",
      "photoUrl": "",
      "userId": "15451997563084296260"
     },
     "user_tz": -60
    },
    "id": "hTPtmvbQe74z",
    "outputId": "079274b7-4cf2-4598-9fe8-779d961b8480"
   },
   "outputs": [
    {
     "data": {
      "text/html": [
       "<div>\n",
       "<style scoped>\n",
       "    .dataframe tbody tr th:only-of-type {\n",
       "        vertical-align: middle;\n",
       "    }\n",
       "\n",
       "    .dataframe tbody tr th {\n",
       "        vertical-align: top;\n",
       "    }\n",
       "\n",
       "    .dataframe thead th {\n",
       "        text-align: right;\n",
       "    }\n",
       "</style>\n",
       "<table border=\"1\" class=\"dataframe\">\n",
       "  <thead>\n",
       "    <tr style=\"text-align: right;\">\n",
       "      <th></th>\n",
       "      <th>gender</th>\n",
       "      <th>school_group</th>\n",
       "      <th>effort</th>\n",
       "      <th>stress</th>\n",
       "      <th>feedback</th>\n",
       "      <th>regularity</th>\n",
       "      <th>critical</th>\n",
       "      <th>minutes</th>\n",
       "      <th>grade</th>\n",
       "    </tr>\n",
       "  </thead>\n",
       "  <tbody>\n",
       "    <tr>\n",
       "      <th>mean</th>\n",
       "      <td>NaN</td>\n",
       "      <td>NaN</td>\n",
       "      <td>52.489220</td>\n",
       "      <td>53.286495</td>\n",
       "      <td>57.247058</td>\n",
       "      <td>52.929855</td>\n",
       "      <td>50.165142</td>\n",
       "      <td>NaN</td>\n",
       "      <td>51.268639</td>\n",
       "    </tr>\n",
       "    <tr>\n",
       "      <th>std</th>\n",
       "      <td>NaN</td>\n",
       "      <td>NaN</td>\n",
       "      <td>46.510992</td>\n",
       "      <td>45.726888</td>\n",
       "      <td>42.073605</td>\n",
       "      <td>46.095884</td>\n",
       "      <td>48.855643</td>\n",
       "      <td>NaN</td>\n",
       "      <td>47.732656</td>\n",
       "    </tr>\n",
       "    <tr>\n",
       "      <th>50%</th>\n",
       "      <td>NaN</td>\n",
       "      <td>NaN</td>\n",
       "      <td>52.548300</td>\n",
       "      <td>57.699956</td>\n",
       "      <td>84.696590</td>\n",
       "      <td>78.691904</td>\n",
       "      <td>53.980298</td>\n",
       "      <td>NaN</td>\n",
       "      <td>52.775000</td>\n",
       "    </tr>\n",
       "    <tr>\n",
       "      <th>unique</th>\n",
       "      <td>3</td>\n",
       "      <td>8</td>\n",
       "      <td>NaN</td>\n",
       "      <td>NaN</td>\n",
       "      <td>NaN</td>\n",
       "      <td>NaN</td>\n",
       "      <td>NaN</td>\n",
       "      <td>50</td>\n",
       "      <td>NaN</td>\n",
       "    </tr>\n",
       "    <tr>\n",
       "      <th>top</th>\n",
       "      <td>99</td>\n",
       "      <td>99</td>\n",
       "      <td>NaN</td>\n",
       "      <td>NaN</td>\n",
       "      <td>NaN</td>\n",
       "      <td>NaN</td>\n",
       "      <td>NaN</td>\n",
       "      <td>99</td>\n",
       "      <td>NaN</td>\n",
       "    </tr>\n",
       "    <tr>\n",
       "      <th>freq</th>\n",
       "      <td>58329</td>\n",
       "      <td>58329</td>\n",
       "      <td>NaN</td>\n",
       "      <td>NaN</td>\n",
       "      <td>NaN</td>\n",
       "      <td>NaN</td>\n",
       "      <td>NaN</td>\n",
       "      <td>58329</td>\n",
       "      <td>NaN</td>\n",
       "    </tr>\n",
       "    <tr>\n",
       "      <th>missing_values</th>\n",
       "      <td>0.0</td>\n",
       "      <td>0.0</td>\n",
       "      <td>0.000000</td>\n",
       "      <td>0.000000</td>\n",
       "      <td>0.000000</td>\n",
       "      <td>0.000000</td>\n",
       "      <td>0.000000</td>\n",
       "      <td>0.0</td>\n",
       "      <td>0.000000</td>\n",
       "    </tr>\n",
       "  </tbody>\n",
       "</table>\n",
       "</div>"
      ],
      "text/plain": [
       "               gender school_group     effort     stress   feedback  \\\n",
       "mean              NaN          NaN  52.489220  53.286495  57.247058   \n",
       "std               NaN          NaN  46.510992  45.726888  42.073605   \n",
       "50%               NaN          NaN  52.548300  57.699956  84.696590   \n",
       "unique              3            8        NaN        NaN        NaN   \n",
       "top                99           99        NaN        NaN        NaN   \n",
       "freq            58329        58329        NaN        NaN        NaN   \n",
       "missing_values    0.0          0.0   0.000000   0.000000   0.000000   \n",
       "\n",
       "                regularity   critical minutes      grade  \n",
       "mean             52.929855  50.165142     NaN  51.268639  \n",
       "std              46.095884  48.855643     NaN  47.732656  \n",
       "50%              78.691904  53.980298     NaN  52.775000  \n",
       "unique                 NaN        NaN      50        NaN  \n",
       "top                    NaN        NaN      99        NaN  \n",
       "freq                   NaN        NaN   58329        NaN  \n",
       "missing_values    0.000000   0.000000     0.0   0.000000  "
      ]
     },
     "execution_count": 64,
     "metadata": {},
     "output_type": "execute_result"
    }
   ],
   "source": [
    "stats = get_feature_stats(df)\n",
    "stats"
   ]
  },
  {
   "cell_type": "markdown",
   "metadata": {},
   "source": [
    "### 1.2\n",
    "Justify the choice of each descriptive statistic. What do they say about the data? Can you identify some irregularities? \n",
    "\n",
    "**OPEN QUESTION**"
   ]
  },
  {
   "cell_type": "markdown",
   "metadata": {},
   "source": [
    "### 1.3\n",
    "In a single figure, choose an appropriate type of graph for each feature and plot each feature individually."
   ]
  },
  {
   "cell_type": "code",
   "execution_count": 67,
   "metadata": {
    "nbgrader": {
     "grade": true,
     "grade_id": "1-3",
     "locked": false,
     "points": 10,
     "schema_version": 3,
     "solution": true,
     "task": false
    }
   },
   "outputs": [],
   "source": [
    "#### GRADED CELL ####\n",
    "### 1.3\n",
    "\n",
    "def plot_features(df):\n",
    "    \"\"\"\n",
    "    Plots all features individually in the same figure\n",
    "    \n",
    "    Parameters\n",
    "    ----------\n",
    "    df : DataFrame\n",
    "         Containing all data\n",
    "         \n",
    "    Hint\n",
    "    ------\n",
    "    To have multiple plots in a single figure see pyplot.figure\n",
    "\n",
    "    \"\"\"    \n",
    "    continuous_cols = list(df._get_numeric_data().columns)\n",
    "    categorical_cols = list(set(df.columns) - set(continuous_cols))\n",
    "    fig, axes = plt.subplots(3, 3, figsize=(15,10))\n",
    "    for i, col in enumerate(df.columns):\n",
    "        ax = axes[i // 3, i % 3]\n",
    "        data = df[~df[col].isna()]\n",
    "        if col in continuous_cols:\n",
    "            sns.histplot(data=data[col], bins=50, ax=ax) #Filter out nan values in the features\n",
    "        elif col in categorical_cols:\n",
    "            sns.countplot(data=data, x=col, ax=ax)\n",
    "        else:\n",
    "            print(col)\n",
    "    fig.tight_layout()\n",
    "    plt.show()\n"
   ]
  },
  {
   "cell_type": "code",
   "execution_count": 68,
   "metadata": {},
   "outputs": [
    {
     "data": {
      "image/png": "[encoded data removed]",
      "text/plain": [
       "<Figure size 1080x720 with 9 Axes>"
      ]
     },
     "metadata": {
      "needs_background": "light"
     },
     "output_type": "display_data"
    }
   ],
   "source": [
    "sample = df.sample(n=1000)\n",
    "plot_features(sample)"
   ]
  },
  {
   "cell_type": "markdown",
   "metadata": {},
   "source": [
    "### 1.4\n",
    "Explain your observations. How are the features distributed (poisson, exponential, gaussian, etc)? Can you visually identify outliers? \n",
    "\n",
    "\n",
    "**OPEN QUESTION**"
   ]
  },
  {
   "cell_type": "markdown",
   "metadata": {
    "id": "Q7_JzCy1-k14"
   },
   "source": [
    "<a id=\"section2\"></a>\n",
    "## **2 Data Cleaning** \n",
    "---\n",
    "\n",
    "Using your findings from the previous section, carefully continue to explore the data set and do the following:\n",
    "\n",
    "1. Create a function to handle the missing values\n",
    "2. Justify your decisions to treat the missing values\n",
    "3. Create a function to handle the inconsistent data\n",
    "4. Justify your decisions to treat the inconsistent data\n"
   ]
  },
  {
   "cell_type": "markdown",
   "metadata": {},
   "source": [
    "### 2.1\n",
    "Create a function to handle the missing values"
   ]
  },
  {
   "cell_type": "code",
   "execution_count": 69,
   "metadata": {
    "id": "5u1VBI7-fFwT",
    "nbgrader": {
     "grade": true,
     "grade_id": "2-1",
     "locked": false,
     "points": 10,
     "schema_version": 3,
     "solution": true,
     "task": false
    }
   },
   "outputs": [],
   "source": [
    "#### GRADED CELL ####\n",
    "### 2.1\n",
    "def handle_missing_values(df):\n",
    "    \"\"\"\n",
    "    Identifies and removes all missing values\n",
    "\n",
    "    Parameters\n",
    "    ----------\n",
    "    df : DataFrame\n",
    "      Containing missing values\n",
    "\n",
    "    Returns\n",
    "    -------\n",
    "    df : DataFrame\n",
    "      Without missing values\n",
    "\n",
    "    Hint:\n",
    "    -----\n",
    "    Try to understand the pattern in the missing values    \n",
    "    \"\"\"\n",
    "    ### BEGIN SOLUTION \n",
    "    df = df.replace(99, np.nan)\n",
    "    df = df.replace('99', np.nan)\n",
    "    df = df.groupby(['student_id']).first()\n",
    "    ### END SOLUTION\n",
    "    return df\n"
   ]
  },
  {
   "cell_type": "code",
   "execution_count": 72,
   "metadata": {
    "colab": {
     "base_uri": "https://localhost:8080/"
    },
    "executionInfo": {
     "elapsed": 2724,
     "status": "ok",
     "timestamp": 1614268885493,
     "user": {
      "displayName": "Paola Mejia",
      "photoUrl": "",
      "userId": "15451997563084296260"
     },
     "user_tz": -60
    },
    "id": "V7tT2gePD9kp",
    "outputId": "855a51b7-a29c-4eb0-bdc8-733c69426aee"
   },
   "outputs": [
    {
     "name": "stdout",
     "output_type": "stream",
     "text": [
      "length of the dataframe: 58329\n"
     ]
    },
    {
     "data": {
      "text/html": [
       "<div>\n",
       "<style scoped>\n",
       "    .dataframe tbody tr th:only-of-type {\n",
       "        vertical-align: middle;\n",
       "    }\n",
       "\n",
       "    .dataframe tbody tr th {\n",
       "        vertical-align: top;\n",
       "    }\n",
       "\n",
       "    .dataframe thead th {\n",
       "        text-align: right;\n",
       "    }\n",
       "</style>\n",
       "<table border=\"1\" class=\"dataframe\">\n",
       "  <thead>\n",
       "    <tr style=\"text-align: right;\">\n",
       "      <th></th>\n",
       "      <th>gender</th>\n",
       "      <th>school_group</th>\n",
       "      <th>effort</th>\n",
       "      <th>stress</th>\n",
       "      <th>feedback</th>\n",
       "      <th>regularity</th>\n",
       "      <th>critical</th>\n",
       "      <th>minutes</th>\n",
       "      <th>grade</th>\n",
       "    </tr>\n",
       "    <tr>\n",
       "      <th>student_id</th>\n",
       "      <th></th>\n",
       "      <th></th>\n",
       "      <th></th>\n",
       "      <th></th>\n",
       "      <th></th>\n",
       "      <th></th>\n",
       "      <th></th>\n",
       "      <th></th>\n",
       "      <th></th>\n",
       "    </tr>\n",
       "  </thead>\n",
       "  <tbody>\n",
       "    <tr>\n",
       "      <th>1.0</th>\n",
       "      <td>female</td>\n",
       "      <td>A</td>\n",
       "      <td>5.974496</td>\n",
       "      <td>9.688888</td>\n",
       "      <td>24.563935</td>\n",
       "      <td>6.639488</td>\n",
       "      <td>-1.795853</td>\n",
       "      <td>1 hr</td>\n",
       "      <td>3.41</td>\n",
       "    </tr>\n",
       "    <tr>\n",
       "      <th>2.0</th>\n",
       "      <td>male</td>\n",
       "      <td>a</td>\n",
       "      <td>5.982265</td>\n",
       "      <td>9.788799</td>\n",
       "      <td>18.722110</td>\n",
       "      <td>5.705770</td>\n",
       "      <td>0.952679</td>\n",
       "      <td>2hrs</td>\n",
       "      <td>2.66</td>\n",
       "    </tr>\n",
       "    <tr>\n",
       "      <th>3.0</th>\n",
       "      <td>male</td>\n",
       "      <td>cc</td>\n",
       "      <td>6.011487</td>\n",
       "      <td>7.847762</td>\n",
       "      <td>15.577682</td>\n",
       "      <td>5.821650</td>\n",
       "      <td>2.913822</td>\n",
       "      <td>2 hours</td>\n",
       "      <td>3.80</td>\n",
       "    </tr>\n",
       "    <tr>\n",
       "      <th>4.0</th>\n",
       "      <td>female</td>\n",
       "      <td>b</td>\n",
       "      <td>5.838975</td>\n",
       "      <td>6.155117</td>\n",
       "      <td>18.597183</td>\n",
       "      <td>5.137559</td>\n",
       "      <td>2.481461</td>\n",
       "      <td>30 min</td>\n",
       "      <td>3.53</td>\n",
       "    </tr>\n",
       "    <tr>\n",
       "      <th>5.0</th>\n",
       "      <td>female</td>\n",
       "      <td>cc</td>\n",
       "      <td>6.013486</td>\n",
       "      <td>6.848094</td>\n",
       "      <td>12.498195</td>\n",
       "      <td>6.447001</td>\n",
       "      <td>2.015520</td>\n",
       "      <td>45 min</td>\n",
       "      <td>3.88</td>\n",
       "    </tr>\n",
       "  </tbody>\n",
       "</table>\n",
       "</div>"
      ],
      "text/plain": [
       "            gender school_group    effort    stress   feedback  regularity  \\\n",
       "student_id                                                                   \n",
       "1.0         female            A  5.974496  9.688888  24.563935    6.639488   \n",
       "2.0           male            a  5.982265  9.788799  18.722110    5.705770   \n",
       "3.0           male           cc  6.011487  7.847762  15.577682    5.821650   \n",
       "4.0         female            b  5.838975  6.155117  18.597183    5.137559   \n",
       "5.0         female           cc  6.013486  6.848094  12.498195    6.447001   \n",
       "\n",
       "            critical  minutes  grade  \n",
       "student_id                            \n",
       "1.0        -1.795853     1 hr   3.41  \n",
       "2.0         0.952679     2hrs   2.66  \n",
       "3.0         2.913822  2 hours   3.80  \n",
       "4.0         2.481461   30 min   3.53  \n",
       "5.0         2.015520   45 min   3.88  "
      ]
     },
     "execution_count": 72,
     "metadata": {},
     "output_type": "execute_result"
    }
   ],
   "source": [
    "df = handle_missing_values(df)\n",
    "print(\"length of the dataframe:\", len(df))\n",
    "df.head()"
   ]
  },
  {
   "cell_type": "code",
   "execution_count": 73,
   "metadata": {
    "id": "hl-Q-yTmHeh6"
   },
   "outputs": [
    {
     "data": {
      "text/html": [
       "<div>\n",
       "<style scoped>\n",
       "    .dataframe tbody tr th:only-of-type {\n",
       "        vertical-align: middle;\n",
       "    }\n",
       "\n",
       "    .dataframe tbody tr th {\n",
       "        vertical-align: top;\n",
       "    }\n",
       "\n",
       "    .dataframe thead th {\n",
       "        text-align: right;\n",
       "    }\n",
       "</style>\n",
       "<table border=\"1\" class=\"dataframe\">\n",
       "  <thead>\n",
       "    <tr style=\"text-align: right;\">\n",
       "      <th></th>\n",
       "      <th>gender</th>\n",
       "      <th>school_group</th>\n",
       "      <th>effort</th>\n",
       "      <th>stress</th>\n",
       "      <th>feedback</th>\n",
       "      <th>regularity</th>\n",
       "      <th>critical</th>\n",
       "      <th>minutes</th>\n",
       "      <th>grade</th>\n",
       "    </tr>\n",
       "  </thead>\n",
       "  <tbody>\n",
       "    <tr>\n",
       "      <th>mean</th>\n",
       "      <td>NaN</td>\n",
       "      <td>NaN</td>\n",
       "      <td>5.978440</td>\n",
       "      <td>7.572990</td>\n",
       "      <td>15.494115</td>\n",
       "      <td>6.859709</td>\n",
       "      <td>1.330283</td>\n",
       "      <td>NaN</td>\n",
       "      <td>3.537279</td>\n",
       "    </tr>\n",
       "    <tr>\n",
       "      <th>std</th>\n",
       "      <td>NaN</td>\n",
       "      <td>NaN</td>\n",
       "      <td>0.048722</td>\n",
       "      <td>1.552971</td>\n",
       "      <td>7.330119</td>\n",
       "      <td>2.169821</td>\n",
       "      <td>2.005023</td>\n",
       "      <td>NaN</td>\n",
       "      <td>0.456478</td>\n",
       "    </tr>\n",
       "    <tr>\n",
       "      <th>50%</th>\n",
       "      <td>NaN</td>\n",
       "      <td>NaN</td>\n",
       "      <td>5.985351</td>\n",
       "      <td>7.401787</td>\n",
       "      <td>12.843072</td>\n",
       "      <td>6.227957</td>\n",
       "      <td>1.372255</td>\n",
       "      <td>NaN</td>\n",
       "      <td>3.600000</td>\n",
       "    </tr>\n",
       "    <tr>\n",
       "      <th>unique</th>\n",
       "      <td>2</td>\n",
       "      <td>7</td>\n",
       "      <td>NaN</td>\n",
       "      <td>NaN</td>\n",
       "      <td>NaN</td>\n",
       "      <td>NaN</td>\n",
       "      <td>NaN</td>\n",
       "      <td>49</td>\n",
       "      <td>NaN</td>\n",
       "    </tr>\n",
       "    <tr>\n",
       "      <th>top</th>\n",
       "      <td>female</td>\n",
       "      <td>b</td>\n",
       "      <td>NaN</td>\n",
       "      <td>NaN</td>\n",
       "      <td>NaN</td>\n",
       "      <td>NaN</td>\n",
       "      <td>NaN</td>\n",
       "      <td>30.0</td>\n",
       "      <td>NaN</td>\n",
       "    </tr>\n",
       "    <tr>\n",
       "      <th>freq</th>\n",
       "      <td>29295</td>\n",
       "      <td>8414</td>\n",
       "      <td>NaN</td>\n",
       "      <td>NaN</td>\n",
       "      <td>NaN</td>\n",
       "      <td>NaN</td>\n",
       "      <td>NaN</td>\n",
       "      <td>1740</td>\n",
       "      <td>NaN</td>\n",
       "    </tr>\n",
       "    <tr>\n",
       "      <th>missing_values</th>\n",
       "      <td>0.0</td>\n",
       "      <td>0.0</td>\n",
       "      <td>0.000000</td>\n",
       "      <td>0.000000</td>\n",
       "      <td>0.000000</td>\n",
       "      <td>0.000000</td>\n",
       "      <td>0.000000</td>\n",
       "      <td>0.0</td>\n",
       "      <td>0.000000</td>\n",
       "    </tr>\n",
       "  </tbody>\n",
       "</table>\n",
       "</div>"
      ],
      "text/plain": [
       "                gender school_group    effort    stress   feedback  \\\n",
       "mean               NaN          NaN  5.978440  7.572990  15.494115   \n",
       "std                NaN          NaN  0.048722  1.552971   7.330119   \n",
       "50%                NaN          NaN  5.985351  7.401787  12.843072   \n",
       "unique               2            7       NaN       NaN        NaN   \n",
       "top             female            b       NaN       NaN        NaN   \n",
       "freq             29295         8414       NaN       NaN        NaN   \n",
       "missing_values     0.0          0.0  0.000000  0.000000   0.000000   \n",
       "\n",
       "                regularity  critical minutes     grade  \n",
       "mean              6.859709  1.330283     NaN  3.537279  \n",
       "std               2.169821  2.005023     NaN  0.456478  \n",
       "50%               6.227957  1.372255     NaN  3.600000  \n",
       "unique                 NaN       NaN      49       NaN  \n",
       "top                    NaN       NaN    30.0       NaN  \n",
       "freq                   NaN       NaN    1740       NaN  \n",
       "missing_values    0.000000  0.000000     0.0  0.000000  "
      ]
     },
     "execution_count": 73,
     "metadata": {},
     "output_type": "execute_result"
    }
   ],
   "source": [
    "# take a look at the new dataframe stats and compare it with the original\n",
    "get_feature_stats(df)"
   ]
  },
  {
   "cell_type": "markdown",
   "metadata": {},
   "source": [
    "### 2.2 \n",
    "Justify your decisions to treat the missing values. Are there missing values? If so, how are the missing values encoded? Why are there missing values? Is there a pattern in the values missing?\n",
    "\n",
    "\n",
    "**OPEN QUESTION**"
   ]
  },
  {
   "cell_type": "markdown",
   "metadata": {},
   "source": [
    "### 2.3 \n",
    "Create a function to handle the inconsistent data"
   ]
  },
  {
   "cell_type": "code",
   "execution_count": 75,
   "metadata": {
    "id": "axniAWlNfMmr",
    "nbgrader": {
     "grade": true,
     "grade_id": "2-3",
     "locked": false,
     "points": 0,
     "schema_version": 3,
     "solution": true,
     "task": false
    }
   },
   "outputs": [],
   "source": [
    "#### GRADED CELL ####\n",
    "### 2.3\n",
    "def handle_inconsistent_data(df):\n",
    "    \"\"\"\n",
    "    Identifies features with inconsistent data types and transforms features\n",
    "    to the correct data type (numerical, object). \n",
    "\n",
    "    Parameters\n",
    "    ----------\n",
    "    df : DataFrame\n",
    "      Containing inconsistent data\n",
    "\n",
    "    Returns\n",
    "    -------\n",
    "    df : DataFrame\n",
    "       With consistent data. All columns must be either numerical or categorical\n",
    "\n",
    "    Hint:\n",
    "    -----\n",
    "    Don't forget to convert the features into the correct data type \n",
    "    \"\"\"\n",
    "    ### BEGIN SOLUTION\n",
    "    mapping_time = {'1 hr': 60, '2hrs': 120, '2 hours': 120, '30 min': 30, '45 min': 45, '60 minutes': 60, '1.5 hours':90 }\n",
    "    mapping_group = {'a':'A', 'b':'B', 'c':'C', 'aa': 'A', 'Bb':'B', 'cc':'C'}\n",
    "\n",
    "    df = df.replace({'minutes': mapping_time, 'school_group': mapping_group})\n",
    "    df['minutes'] = pd.to_numeric(df['minutes'])\n",
    "    ### END SOLUTION\n",
    "    return df"
   ]
  },
  {
   "cell_type": "code",
   "execution_count": 76,
   "metadata": {
    "colab": {
     "base_uri": "https://localhost:8080/"
    },
    "executionInfo": {
     "elapsed": 2715,
     "status": "ok",
     "timestamp": 1614268885495,
     "user": {
      "displayName": "Paola Mejia",
      "photoUrl": "",
      "userId": "15451997563084296260"
     },
     "user_tz": -60
    },
    "id": "BH11lf3lEgJH",
    "outputId": "0bfe02bc-8e5e-4da6-9986-68b50c4090bb"
   },
   "outputs": [
    {
     "name": "stdout",
     "output_type": "stream",
     "text": [
      "58329\n",
      "            gender school_group    effort    stress   feedback  regularity  \\\n",
      "student_id                                                                   \n",
      "1.0         female            A  5.974496  9.688888  24.563935    6.639488   \n",
      "2.0           male            A  5.982265  9.788799  18.722110    5.705770   \n",
      "3.0           male            C  6.011487  7.847762  15.577682    5.821650   \n",
      "4.0         female            B  5.838975  6.155117  18.597183    5.137559   \n",
      "5.0         female            C  6.013486  6.848094  12.498195    6.447001   \n",
      "\n",
      "            critical  minutes  grade  \n",
      "student_id                            \n",
      "1.0        -1.795853     60.0   3.41  \n",
      "2.0         0.952679    120.0   2.66  \n",
      "3.0         2.913822    120.0   3.80  \n",
      "4.0         2.481461     30.0   3.53  \n",
      "5.0         2.015520     45.0   3.88  \n",
      "                gender school_group    effort    stress   feedback  \\\n",
      "mean               NaN          NaN  5.978440  7.572990  15.494115   \n",
      "std                NaN          NaN  0.048722  1.552971   7.330119   \n",
      "50%                NaN          NaN  5.985351  7.401787  12.843072   \n",
      "unique               2            3       NaN       NaN        NaN   \n",
      "top             female            B       NaN       NaN        NaN   \n",
      "freq             29295        25007       NaN       NaN        NaN   \n",
      "missing_values     0.0          0.0  0.000000  0.000000   0.000000   \n",
      "\n",
      "                regularity  critical    minutes     grade  \n",
      "mean              6.859709  1.330283  36.041300  3.537279  \n",
      "std               2.169821  2.005023  10.183264  0.456478  \n",
      "50%               6.227957  1.372255  36.000000  3.600000  \n",
      "unique                 NaN       NaN        NaN       NaN  \n",
      "top                    NaN       NaN        NaN       NaN  \n",
      "freq                   NaN       NaN        NaN       NaN  \n",
      "missing_values    0.000000  0.000000   0.000000  0.000000  \n"
     ]
    }
   ],
   "source": [
    "df = handle_inconsistent_data(df)\n",
    "print(len(df))\n",
    "print(df.head())\n",
    "print(get_feature_stats(df))"
   ]
  },
  {
   "cell_type": "markdown",
   "metadata": {},
   "source": [
    "### 2.4 \n",
    "Justify your decisions to treat the inconsistent data. Were there columns with inconsistent data types? How did you identify them? \n",
    "\n",
    "**OPEN QUESTION**\n",
    " "
   ]
  },
  {
   "cell_type": "markdown",
   "metadata": {
    "id": "TvwYZorE-k1_"
   },
   "source": [
    "<a id=\"section3\"></a>\n",
    "## **3 Visualization** \n",
    "---\n",
    "\n",
    "After cleaning the data, we can try to understand or extract insights from it. To do so, in this last section, you will do the following:\n",
    "1. Create a function to show the relationship between numerical features.\n",
    "2. Interpret your findings. What is correlation useful for? What insights can you get from it? \n",
    "3. Select an appropriate type of graph to explore the relationship between grade, school group, and any other meaningful feature\n",
    "4. Interpret your findings. What are some factors that seem to influence the grade of the students? Which features do not seem to affect the outcome?\n"
   ]
  },
  {
   "cell_type": "markdown",
   "metadata": {},
   "source": [
    "### 3.1 \n",
    "Create a function to show the linear correlation between features.\n",
    "\n",
    "\n",
    "**OPEN QUESTION**"
   ]
  },
  {
   "cell_type": "code",
   "execution_count": 77,
   "metadata": {
    "id": "5jCz5LCWGrsD",
    "nbgrader": {
     "grade": true,
     "grade_id": "3-1",
     "locked": false,
     "points": 5,
     "schema_version": 3,
     "solution": true,
     "task": false
    }
   },
   "outputs": [],
   "source": [
    "#### GRADED CELL ####\n",
    "### 3.1\n",
    "import seaborn as sns\n",
    "def plot_correlation(df):\n",
    "    \"\"\"\n",
    "    Builds upper triangular heatmap with pearson correlation between numerical variables\n",
    "\n",
    "    Instructions\n",
    "    ------------\n",
    "    The plot must have:\n",
    "    - An appropiate title\n",
    "    - Only upper triangular elements\n",
    "    - Annotated values of correlation coefficients rounded to three significant \n",
    "    figures\n",
    "    - Negative correlation must be blue and possitive correlation red. \n",
    "\n",
    "    Parameters\n",
    "    ----------\n",
    "    df : DataFrame with data\n",
    "\n",
    "\n",
    "    \"\"\"\n",
    "    ### BEGIN SOLUTION\n",
    "    corr = np.round(df.corr(method='pearson'), 3)\n",
    "    mask = np.tril(corr)\n",
    "    ax = plt.axes()\n",
    "    heatmap = sns.heatmap(corr, annot=True, mask=mask, cmap='RdBu_r')\n",
    "    ax.set_title('Correlation between variables')\n",
    "    plt.show() \n",
    "    ### END SOLUTION\n"
   ]
  },
  {
   "cell_type": "code",
   "execution_count": 78,
   "metadata": {
    "colab": {
     "base_uri": "https://localhost:8080/",
     "height": 320
    },
    "executionInfo": {
     "elapsed": 7321,
     "status": "ok",
     "timestamp": 1614268890140,
     "user": {
      "displayName": "Paola Mejia",
      "photoUrl": "",
      "userId": "15451997563084296260"
     },
     "user_tz": -60
    },
    "id": "pERN5ZoUHsqL",
    "outputId": "e0de54b8-fb62-4c95-9e73-f7ca4199430d"
   },
   "outputs": [
    {
     "data": {
      "image/png": "[encoded data removed]",
      "text/plain": [
       "<Figure size 432x288 with 2 Axes>"
      ]
     },
     "metadata": {
      "needs_background": "light"
     },
     "output_type": "display_data"
    }
   ],
   "source": [
    "plot_correlation(df)"
   ]
  },
  {
   "cell_type": "markdown",
   "metadata": {},
   "source": [
    "### 3.2\n",
    "Interpret your findings. What is correlation useful for? What insights can you get from it? \n",
    "\n",
    "**OPEN QUESTION**"
   ]
  },
  {
   "cell_type": "markdown",
   "metadata": {},
   "source": [
    "### 3.3\n",
    "Select an appropriate type of graph to explore the relationship between grade, school group, and any other meaningful feature.\n"
   ]
  },
  {
   "cell_type": "code",
   "execution_count": 20,
   "metadata": {
    "id": "w5PdLlLRGvKY",
    "nbgrader": {
     "grade": true,
     "grade_id": "3-4",
     "locked": false,
     "points": 5,
     "schema_version": 3,
     "solution": true,
     "task": false
    }
   },
   "outputs": [],
   "source": [
    "#### GRADED CELL ####\n",
    "### 3.3\n",
    "def plot_grades(df):\n",
    "    \"\"\"\n",
    "    Visualizes the relationship between grade,  school group and other meaningful\n",
    "    feature\n",
    "\n",
    "    Parameters\n",
    "    ----------\n",
    "    df : DataFrame with data\n",
    "\n",
    "    \"\"\"\n",
    "    ### BEGIN SOLUTION\n",
    "    sns.jointplot(data = df, y = 'grade', x = 'regularity', hue = 'school_group')\n",
    "    ### END SOLUTION"
   ]
  },
  {
   "cell_type": "code",
   "execution_count": 21,
   "metadata": {
    "colab": {
     "base_uri": "https://localhost:8080/",
     "height": 459
    },
    "executionInfo": {
     "elapsed": 5820,
     "status": "ok",
     "timestamp": 1614268938276,
     "user": {
      "displayName": "Paola Mejia",
      "photoUrl": "",
      "userId": "15451997563084296260"
     },
     "user_tz": -60
    },
    "id": "359sJQ_8tqER",
    "outputId": "3be3ee76-a8db-4721-a78d-6b0a58161884"
   },
   "outputs": [
    {
     "data": {
      "image/png": "[encoded data removed]",
      "text/plain": [
       "<Figure size 432x432 with 3 Axes>"
      ]
     },
     "metadata": {
      "needs_background": "light"
     },
     "output_type": "display_data"
    }
   ],
   "source": [
    "plot_grades(df)"
   ]
  },
  {
   "cell_type": "markdown",
   "metadata": {},
   "source": [
    "### 3.4\n",
    "Interpret your findings. What are some factors that seem to influence the grade of the students? Which features do not seem to affect the outcome?\n",
    "\n",
    "**OPEN QUESTION**"
   ]
  }
 ],
 "metadata": {
  "celltoolbar": "Create Assignment",
  "colab": {
   "collapsed_sections": [],
   "name": "SecondDraft-Solution01-DataHandling.ipynb",
   "provenance": [
    {
     "file_id": "1mRFFrJF4dE9fELL-s3BxXH-9k8oZoJZi",
     "timestamp": 1614369628317
    },
    {
     "file_id": "1m7X1IqccOW_2p-daNXCIckJaldNH8MeD",
     "timestamp": 1614270374389
    },
    {
     "file_id": "1Y0ZrVKYMUXFoQliKv7-8XrYIpTWw7R63",
     "timestamp": 1613748083326
    },
    {
     "file_id": "11iSt5dKbG-iVOF9RIaQJfFVxeiH10EhN",
     "timestamp": 1613682613431
    }
   ],
   "toc_visible": true
  },
  "kernelspec": {
   "display_name": "Python 3",
   "language": "python",
   "name": "python3"
  },
  "language_info": {
   "codemirror_mode": {
    "name": "ipython",
    "version": 3
   },
   "file_extension": ".py",
   "mimetype": "text/x-python",
   "name": "python",
   "nbconvert_exporter": "python",
   "pygments_lexer": "ipython3",
   "version": "3.9.1"
  }
 },
 "nbformat": 4,
 "nbformat_minor": 1
}
